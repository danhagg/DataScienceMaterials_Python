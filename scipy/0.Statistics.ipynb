{
 "cells": [
  {
   "cell_type": "code",
   "execution_count": 1,
   "metadata": {
    "scrolled": true
   },
   "outputs": [
    {
     "data": {
      "text/html": [
       "<div>\n",
       "<style>\n",
       "    .dataframe thead tr:only-child th {\n",
       "        text-align: right;\n",
       "    }\n",
       "\n",
       "    .dataframe thead th {\n",
       "        text-align: left;\n",
       "    }\n",
       "\n",
       "    .dataframe tbody tr th {\n",
       "        vertical-align: top;\n",
       "    }\n",
       "</style>\n",
       "<table border=\"1\" class=\"dataframe\">\n",
       "  <thead>\n",
       "    <tr style=\"text-align: right;\">\n",
       "      <th></th>\n",
       "      <th>W</th>\n",
       "      <th>X</th>\n",
       "      <th>Y</th>\n",
       "      <th>Z</th>\n",
       "    </tr>\n",
       "  </thead>\n",
       "  <tbody>\n",
       "    <tr>\n",
       "      <th>A</th>\n",
       "      <td>2.706850</td>\n",
       "      <td>0.628133</td>\n",
       "      <td>0.907969</td>\n",
       "      <td>0.503826</td>\n",
       "    </tr>\n",
       "    <tr>\n",
       "      <th>B</th>\n",
       "      <td>0.651118</td>\n",
       "      <td>-0.319318</td>\n",
       "      <td>-0.848077</td>\n",
       "      <td>0.605965</td>\n",
       "    </tr>\n",
       "    <tr>\n",
       "      <th>C</th>\n",
       "      <td>-2.018168</td>\n",
       "      <td>0.740122</td>\n",
       "      <td>0.528813</td>\n",
       "      <td>-0.589001</td>\n",
       "    </tr>\n",
       "    <tr>\n",
       "      <th>D</th>\n",
       "      <td>0.188695</td>\n",
       "      <td>-0.758872</td>\n",
       "      <td>-0.933237</td>\n",
       "      <td>0.955057</td>\n",
       "    </tr>\n",
       "    <tr>\n",
       "      <th>E</th>\n",
       "      <td>0.190794</td>\n",
       "      <td>1.978757</td>\n",
       "      <td>2.605967</td>\n",
       "      <td>0.683509</td>\n",
       "    </tr>\n",
       "  </tbody>\n",
       "</table>\n",
       "</div>"
      ],
      "text/plain": [
       "          W         X         Y         Z\n",
       "A  2.706850  0.628133  0.907969  0.503826\n",
       "B  0.651118 -0.319318 -0.848077  0.605965\n",
       "C -2.018168  0.740122  0.528813 -0.589001\n",
       "D  0.188695 -0.758872 -0.933237  0.955057\n",
       "E  0.190794  1.978757  2.605967  0.683509"
      ]
     },
     "execution_count": 1,
     "metadata": {},
     "output_type": "execute_result"
    }
   ],
   "source": [
    "# pd.Series(data=None, index=None, dtype=None, name=None, copy=False, fastpath=False)\n",
    "import numpy as np\n",
    "import pandas as pd\n",
    "from numpy.random import randn\n",
    "np.random.seed(101)\n",
    "\n",
    "df = pd.DataFrame(randn(5,4), ['A', 'B', 'C', 'D', 'E'], ['W', 'X', 'Y', 'Z'])\n",
    "df"
   ]
  },
  {
   "cell_type": "code",
   "execution_count": 2,
   "metadata": {},
   "outputs": [
    {
     "name": "stdout",
     "output_type": "stream",
     "text": [
      "-0.8480769834036315\n",
      "\n",
      "          Y\n",
      "B -0.848077\n"
     ]
    }
   ],
   "source": [
    "print(df.loc['B','Y'])\n",
    "print()\n",
    "print(df.iloc[[1],[2]])"
   ]
  },
  {
   "cell_type": "code",
   "execution_count": 3,
   "metadata": {},
   "outputs": [
    {
     "data": {
      "text/plain": [
       "B   -0.319318\n",
       "D   -0.758872\n",
       "Name: X, dtype: float64"
      ]
     },
     "execution_count": 3,
     "metadata": {},
     "output_type": "execute_result"
    }
   ],
   "source": [
    "# Give me the 'X' column where \n",
    "# any 'W' value is greater than 0 and 'Y' less than 0\n",
    "# & or |\n",
    "df[(df['W']>0) & (df['Y']<0)]['X']"
   ]
  },
  {
   "cell_type": "code",
   "execution_count": 4,
   "metadata": {
    "scrolled": true
   },
   "outputs": [
    {
     "data": {
      "text/html": [
       "<div>\n",
       "<style>\n",
       "    .dataframe thead tr:only-child th {\n",
       "        text-align: right;\n",
       "    }\n",
       "\n",
       "    .dataframe thead th {\n",
       "        text-align: left;\n",
       "    }\n",
       "\n",
       "    .dataframe tbody tr th {\n",
       "        vertical-align: top;\n",
       "    }\n",
       "</style>\n",
       "<table border=\"1\" class=\"dataframe\">\n",
       "  <thead>\n",
       "    <tr style=\"text-align: right;\">\n",
       "      <th></th>\n",
       "      <th>W</th>\n",
       "      <th>X</th>\n",
       "      <th>Y</th>\n",
       "      <th>Z</th>\n",
       "    </tr>\n",
       "    <tr>\n",
       "      <th>States</th>\n",
       "      <th></th>\n",
       "      <th></th>\n",
       "      <th></th>\n",
       "      <th></th>\n",
       "    </tr>\n",
       "  </thead>\n",
       "  <tbody>\n",
       "    <tr>\n",
       "      <th>CA</th>\n",
       "      <td>2.706850</td>\n",
       "      <td>0.628133</td>\n",
       "      <td>0.907969</td>\n",
       "      <td>0.503826</td>\n",
       "    </tr>\n",
       "    <tr>\n",
       "      <th>NY</th>\n",
       "      <td>0.651118</td>\n",
       "      <td>-0.319318</td>\n",
       "      <td>-0.848077</td>\n",
       "      <td>0.605965</td>\n",
       "    </tr>\n",
       "    <tr>\n",
       "      <th>OR</th>\n",
       "      <td>-2.018168</td>\n",
       "      <td>0.740122</td>\n",
       "      <td>0.528813</td>\n",
       "      <td>-0.589001</td>\n",
       "    </tr>\n",
       "    <tr>\n",
       "      <th>WY</th>\n",
       "      <td>0.188695</td>\n",
       "      <td>-0.758872</td>\n",
       "      <td>-0.933237</td>\n",
       "      <td>0.955057</td>\n",
       "    </tr>\n",
       "    <tr>\n",
       "      <th>CO</th>\n",
       "      <td>0.190794</td>\n",
       "      <td>1.978757</td>\n",
       "      <td>2.605967</td>\n",
       "      <td>0.683509</td>\n",
       "    </tr>\n",
       "  </tbody>\n",
       "</table>\n",
       "</div>"
      ],
      "text/plain": [
       "               W         X         Y         Z\n",
       "States                                        \n",
       "CA      2.706850  0.628133  0.907969  0.503826\n",
       "NY      0.651118 -0.319318 -0.848077  0.605965\n",
       "OR     -2.018168  0.740122  0.528813 -0.589001\n",
       "WY      0.188695 -0.758872 -0.933237  0.955057\n",
       "CO      0.190794  1.978757  2.605967  0.683509"
      ]
     },
     "execution_count": 4,
     "metadata": {},
     "output_type": "execute_result"
    }
   ],
   "source": [
    "newind = 'CA NY OR WY CO'.split()\n",
    "df['States'] = newind\n",
    "# would need to add \"inplace=True\" to make permanent\n",
    "df.set_index('States')"
   ]
  },
  {
   "cell_type": "code",
   "execution_count": 5,
   "metadata": {
    "scrolled": true
   },
   "outputs": [
    {
     "data": {
      "text/html": [
       "<div>\n",
       "<style>\n",
       "    .dataframe thead tr:only-child th {\n",
       "        text-align: right;\n",
       "    }\n",
       "\n",
       "    .dataframe thead th {\n",
       "        text-align: left;\n",
       "    }\n",
       "\n",
       "    .dataframe tbody tr th {\n",
       "        vertical-align: top;\n",
       "    }\n",
       "</style>\n",
       "<table border=\"1\" class=\"dataframe\">\n",
       "  <thead>\n",
       "    <tr style=\"text-align: right;\">\n",
       "      <th></th>\n",
       "      <th>A</th>\n",
       "      <th>B</th>\n",
       "      <th>C</th>\n",
       "    </tr>\n",
       "  </thead>\n",
       "  <tbody>\n",
       "    <tr>\n",
       "      <th>0</th>\n",
       "      <td>1.0</td>\n",
       "      <td>5.0</td>\n",
       "      <td>1</td>\n",
       "    </tr>\n",
       "    <tr>\n",
       "      <th>1</th>\n",
       "      <td>2.0</td>\n",
       "      <td>NaN</td>\n",
       "      <td>2</td>\n",
       "    </tr>\n",
       "    <tr>\n",
       "      <th>2</th>\n",
       "      <td>NaN</td>\n",
       "      <td>NaN</td>\n",
       "      <td>3</td>\n",
       "    </tr>\n",
       "  </tbody>\n",
       "</table>\n",
       "</div>"
      ],
      "text/plain": [
       "     A    B  C\n",
       "0  1.0  5.0  1\n",
       "1  2.0  NaN  2\n",
       "2  NaN  NaN  3"
      ]
     },
     "execution_count": 5,
     "metadata": {},
     "output_type": "execute_result"
    }
   ],
   "source": [
    "# Make df from dict\n",
    "d = {'A':[1,2,np.nan], 'B':[5,np.nan,np.nan],'C':[1,2,3]}\n",
    "df1 = pd.DataFrame(d)\n",
    "df1"
   ]
  },
  {
   "cell_type": "code",
   "execution_count": 6,
   "metadata": {
    "scrolled": true
   },
   "outputs": [],
   "source": [
    "# df1.dropna(axis=1)\n",
    "# df1.fillna(value='X')"
   ]
  },
  {
   "cell_type": "code",
   "execution_count": 7,
   "metadata": {},
   "outputs": [
    {
     "data": {
      "text/plain": [
       "0    2.0\n",
       "1    4.0\n",
       "2    NaN\n",
       "Name: A, dtype: float64"
      ]
     },
     "execution_count": 7,
     "metadata": {},
     "output_type": "execute_result"
    }
   ],
   "source": [
    "def times2(x):\n",
    "    return x*2\n",
    "\n",
    "df1['A'].apply(times2)"
   ]
  },
  {
   "cell_type": "code",
   "execution_count": 8,
   "metadata": {
    "scrolled": true
   },
   "outputs": [
    {
     "data": {
      "text/html": [
       "<div>\n",
       "<style>\n",
       "    .dataframe thead tr:only-child th {\n",
       "        text-align: right;\n",
       "    }\n",
       "\n",
       "    .dataframe thead th {\n",
       "        text-align: left;\n",
       "    }\n",
       "\n",
       "    .dataframe tbody tr th {\n",
       "        vertical-align: top;\n",
       "    }\n",
       "</style>\n",
       "<table border=\"1\" class=\"dataframe\">\n",
       "  <thead>\n",
       "    <tr style=\"text-align: right;\">\n",
       "      <th></th>\n",
       "      <th>A</th>\n",
       "      <th>B</th>\n",
       "      <th>C</th>\n",
       "    </tr>\n",
       "  </thead>\n",
       "  <tbody>\n",
       "    <tr>\n",
       "      <th>1</th>\n",
       "      <td>2.0</td>\n",
       "      <td>NaN</td>\n",
       "      <td>2</td>\n",
       "    </tr>\n",
       "    <tr>\n",
       "      <th>0</th>\n",
       "      <td>1.0</td>\n",
       "      <td>5.0</td>\n",
       "      <td>1</td>\n",
       "    </tr>\n",
       "    <tr>\n",
       "      <th>2</th>\n",
       "      <td>NaN</td>\n",
       "      <td>NaN</td>\n",
       "      <td>3</td>\n",
       "    </tr>\n",
       "  </tbody>\n",
       "</table>\n",
       "</div>"
      ],
      "text/plain": [
       "     A    B  C\n",
       "1  2.0  NaN  2\n",
       "0  1.0  5.0  1\n",
       "2  NaN  NaN  3"
      ]
     },
     "execution_count": 8,
     "metadata": {},
     "output_type": "execute_result"
    }
   ],
   "source": [
    "df1.sort_values('A',ascending=False)"
   ]
  },
  {
   "cell_type": "markdown",
   "metadata": {},
   "source": [
    "# Normal distributions in Scipy\n",
    "\n",
    "##### scipy.stats.norm = < scipy.stats._continuous_distns.norm_gen object at 0x4502f32c >\n",
    "\n",
    "A normal continuous random variable.\n",
    "\n",
    "The location (loc) keyword specifies the mean. The scale (scale) keyword specifies the standard deviation.\n",
    "\n",
    "As an instance of the rv_continuous class, norm object inherits from it a collection of generic methods (see below for the full list), and completes them with details specific for this particular distribution.\n",
    "\n",
    "The probability density function for norm is:\n",
    "\n",
    "$ norm.pdf(x) = exp(-x**2/2)/sqrt(2*pi) $\n",
    "\n",
    "The probability density above is defined in the “standardized” form. To shift and/or scale the distribution use the loc and scale parameters. Specifically, norm.pdf(x, loc, scale) is identically equivalent to norm.pdf(y) / scale with y = (x - loc) / scale.\n",
    "\n",
    "##### Methods\n",
    "\n",
    "pdf(x, loc=0, scale=1) Probability density function.\n",
    "\n",
    "logpdf(x, loc=0, scale=1)\tLog of the probability density function.\n",
    "\n",
    "cdf(x, loc=0, scale=1)\tCumulative density function.\n",
    "\n",
    "logcdf(x, loc=0, scale=1)\tLog of the cumulative density function.\n",
    "\n",
    "ppf(q, loc=0, scale=1)\tPercent point function (inverse of cdf — percentiles).\n",
    "\n",
    "stats(loc=0, scale=1, moments='mv')\tMean(‘m’), variance(‘v’), skew(‘s’), and/or kurtosis(‘k’).\n",
    "\n",
    "median(loc=0, scale=1)\tMedian of the distribution.\n",
    "\n",
    "mean(loc=0, scale=1)\tMean of the distribution.\n",
    "\n",
    "var(loc=0, scale=1)\tVariance of the distribution.\n",
    "\n",
    "std(loc=0, scale=1)\tStandard deviation of the distribution.\n",
    "\n",
    "interval(alpha, loc=0, scale=1)\tEndpoints of the range that contains alpha percent of the distribution"
   ]
  },
  {
   "cell_type": "code",
   "execution_count": 9,
   "metadata": {},
   "outputs": [
    {
     "data": {
      "text/html": [
       "<div>\n",
       "<style>\n",
       "    .dataframe thead tr:only-child th {\n",
       "        text-align: right;\n",
       "    }\n",
       "\n",
       "    .dataframe thead th {\n",
       "        text-align: left;\n",
       "    }\n",
       "\n",
       "    .dataframe tbody tr th {\n",
       "        vertical-align: top;\n",
       "    }\n",
       "</style>\n",
       "<table border=\"1\" class=\"dataframe\">\n",
       "  <thead>\n",
       "    <tr style=\"text-align: right;\">\n",
       "      <th></th>\n",
       "      <th>Date</th>\n",
       "      <th>AMZN</th>\n",
       "      <th>DUK</th>\n",
       "      <th>KO</th>\n",
       "    </tr>\n",
       "  </thead>\n",
       "  <tbody>\n",
       "    <tr>\n",
       "      <th>0</th>\n",
       "      <td>2007-01-03</td>\n",
       "      <td>38.700001</td>\n",
       "      <td>34.971017</td>\n",
       "      <td>17.874906</td>\n",
       "    </tr>\n",
       "    <tr>\n",
       "      <th>1</th>\n",
       "      <td>2007-01-04</td>\n",
       "      <td>38.900002</td>\n",
       "      <td>35.044103</td>\n",
       "      <td>17.882263</td>\n",
       "    </tr>\n",
       "    <tr>\n",
       "      <th>2</th>\n",
       "      <td>2007-01-05</td>\n",
       "      <td>38.369999</td>\n",
       "      <td>34.240172</td>\n",
       "      <td>17.757161</td>\n",
       "    </tr>\n",
       "    <tr>\n",
       "      <th>3</th>\n",
       "      <td>2007-01-08</td>\n",
       "      <td>37.500000</td>\n",
       "      <td>34.294985</td>\n",
       "      <td>17.871225</td>\n",
       "    </tr>\n",
       "    <tr>\n",
       "      <th>4</th>\n",
       "      <td>2007-01-09</td>\n",
       "      <td>37.779999</td>\n",
       "      <td>34.130544</td>\n",
       "      <td>17.885944</td>\n",
       "    </tr>\n",
       "  </tbody>\n",
       "</table>\n",
       "</div>"
      ],
      "text/plain": [
       "        Date       AMZN        DUK         KO\n",
       "0 2007-01-03  38.700001  34.971017  17.874906\n",
       "1 2007-01-04  38.900002  35.044103  17.882263\n",
       "2 2007-01-05  38.369999  34.240172  17.757161\n",
       "3 2007-01-08  37.500000  34.294985  17.871225\n",
       "4 2007-01-09  37.779999  34.130544  17.885944"
      ]
     },
     "execution_count": 9,
     "metadata": {},
     "output_type": "execute_result"
    }
   ],
   "source": [
    "import numpy as np\n",
    "import pandas as pd\n",
    "import scipy as sp\n",
    "from scipy import stats\n",
    "from matplotlib import pyplot as plt\n",
    "\n",
    "data = pd.read_excel('AMZN-DUK-KO.xlsx')\n",
    "data.head()"
   ]
  },
  {
   "cell_type": "code",
   "execution_count": 10,
   "metadata": {},
   "outputs": [
    {
     "name": "stdout",
     "output_type": "stream",
     "text": [
      "Date    datetime64[ns]\n",
      "AMZN           float64\n",
      "DUK            float64\n",
      "KO             float64\n",
      "dtype: object\n",
      "              AMZN          DUK           KO\n",
      "count  2519.000000  2519.000000  2519.000000\n",
      "mean    259.103248    50.628416    29.679229\n",
      "std     199.473289    15.755612     8.395471\n",
      "min      35.029999    24.091136    14.697541\n",
      "25%      89.005001    35.729814    21.749812\n",
      "50%     205.440002    50.130517    29.235258\n",
      "75%     333.059998    63.998470    37.285204\n",
      "max     844.359985    84.442059    45.368681\n"
     ]
    }
   ],
   "source": [
    "print(data.dtypes)\n",
    "print(data.describe())"
   ]
  },
  {
   "cell_type": "code",
   "execution_count": 11,
   "metadata": {},
   "outputs": [
    {
     "data": {
      "image/png": "[encoded data removed]",
      "text/plain": [
       "<matplotlib.figure.Figure at 0x11377c4e0>"
      ]
     },
     "metadata": {},
     "output_type": "display_data"
    }
   ],
   "source": [
    "x = data.AMZN\n",
    "y = data.DUK\n",
    "z = data.KO\n",
    "\n",
    "plt.hist(x, 50, normed=1, facecolor='g', alpha=0.75)\n",
    "\n",
    "plt.xlabel('Price')\n",
    "plt.ylabel('Probability')\n",
    "plt.title('Histogram of IQ')\n",
    "plt.text(60, .025, r'$\\mu=259,\\ \\sigma=199$')\n",
    "plt.axis([0, 1000, 0, 0.03])\n",
    "plt.grid(True)\n",
    "plt.show()"
   ]
  },
  {
   "cell_type": "code",
   "execution_count": 12,
   "metadata": {},
   "outputs": [
    {
     "name": "stdout",
     "output_type": "stream",
     "text": [
      "Mean : 259.103248\n",
      "Variance : 39773.797148\n",
      "Std. deviation : 199.433691\n"
     ]
    }
   ],
   "source": [
    "# Calculate mean, variance and std with Numpy/Scipy functions\n",
    "\n",
    "print(\"Mean : {0:8.6f}\".format(sp.mean(x)))\n",
    "\n",
    "print(\"Variance : {0:8.6f}\".format(sp.var(x)))\n",
    "\n",
    "print(\"Std. deviation : {0:8.6f}\".format(sp.std(x)))"
   ]
  },
  {
   "cell_type": "code",
   "execution_count": 13,
   "metadata": {},
   "outputs": [
    {
     "data": {
      "image/png": "[encoded data removed]",
      "text/plain": [
       "<matplotlib.figure.Figure at 0x11378c630>"
      ]
     },
     "metadata": {},
     "output_type": "display_data"
    }
   ],
   "source": [
    "plt.hist(x, 50, cumulative=True)\n",
    "plt.show()"
   ]
  },
  {
   "cell_type": "code",
   "execution_count": 14,
   "metadata": {
    "scrolled": true
   },
   "outputs": [
    {
     "data": {
      "text/plain": [
       "(0.8632957935333252, 2.3331619431008204e-42)"
      ]
     },
     "execution_count": 14,
     "metadata": {},
     "output_type": "execute_result"
    }
   ],
   "source": [
    "stats.shapiro(x)"
   ]
  },
  {
   "cell_type": "code",
   "execution_count": 15,
   "metadata": {},
   "outputs": [
    {
     "data": {
      "text/plain": [
       "array([-1.1051455 , -1.10414266, -1.1068002 , -1.11116254, -1.10975857,\n",
       "       -1.1129175 , -1.11166395, -1.1076526 , -1.10534607, -1.10925714])"
      ]
     },
     "execution_count": 15,
     "metadata": {},
     "output_type": "execute_result"
    }
   ],
   "source": [
    "a = sp.stats.zscore(x, axis=0, ddof=0)\n",
    "len(a)\n",
    "a[:10]"
   ]
  },
  {
   "cell_type": "code",
   "execution_count": 16,
   "metadata": {},
   "outputs": [
    {
     "data": {
      "text/plain": [
       "Ttest_indResult(statistic=52.29166109065594, pvalue=0.0)"
      ]
     },
     "execution_count": 16,
     "metadata": {},
     "output_type": "execute_result"
    }
   ],
   "source": [
    "sp.stats.ttest_ind(data['AMZN'], data['DUK'])"
   ]
  },
  {
   "cell_type": "code",
   "execution_count": 17,
   "metadata": {
    "scrolled": true
   },
   "outputs": [
    {
     "data": {
      "text/plain": [
       "<matplotlib.axes._subplots.AxesSubplot at 0x1149a5f98>"
      ]
     },
     "execution_count": 17,
     "metadata": {},
     "output_type": "execute_result"
    },
    {
     "data": {
      "image/png": "[encoded data removed]",
      "text/plain": [
       "<matplotlib.figure.Figure at 0x114939a20>"
      ]
     },
     "metadata": {},
     "output_type": "display_data"
    }
   ],
   "source": [
    "%matplotlib inline\n",
    "\n",
    "color = dict(boxes='DarkGreen', whiskers='DarkOrange', medians='DarkBlue', caps='Gray')\n",
    "\n",
    "data.plot(kind='box', color=color, sym='r+')\n",
    "#data.plot(kind='box')"
   ]
  },
  {
   "cell_type": "code",
   "execution_count": 18,
   "metadata": {
    "scrolled": true
   },
   "outputs": [
    {
     "data": {
      "text/html": [
       "<div>\n",
       "<style>\n",
       "    .dataframe thead tr:only-child th {\n",
       "        text-align: right;\n",
       "    }\n",
       "\n",
       "    .dataframe thead th {\n",
       "        text-align: left;\n",
       "    }\n",
       "\n",
       "    .dataframe tbody tr th {\n",
       "        vertical-align: top;\n",
       "    }\n",
       "</style>\n",
       "<table border=\"1\" class=\"dataframe\">\n",
       "  <thead>\n",
       "    <tr style=\"text-align: right;\">\n",
       "      <th></th>\n",
       "      <th>AMZN</th>\n",
       "      <th>DUK</th>\n",
       "      <th>KO</th>\n",
       "    </tr>\n",
       "    <tr>\n",
       "      <th>Date</th>\n",
       "      <th></th>\n",
       "      <th></th>\n",
       "      <th></th>\n",
       "    </tr>\n",
       "  </thead>\n",
       "  <tbody>\n",
       "    <tr>\n",
       "      <th>2007-01-03</th>\n",
       "      <td>38.700001</td>\n",
       "      <td>34.971017</td>\n",
       "      <td>17.874906</td>\n",
       "    </tr>\n",
       "    <tr>\n",
       "      <th>2007-01-04</th>\n",
       "      <td>38.900002</td>\n",
       "      <td>35.044103</td>\n",
       "      <td>17.882263</td>\n",
       "    </tr>\n",
       "    <tr>\n",
       "      <th>2007-01-05</th>\n",
       "      <td>38.369999</td>\n",
       "      <td>34.240172</td>\n",
       "      <td>17.757161</td>\n",
       "    </tr>\n",
       "    <tr>\n",
       "      <th>2007-01-08</th>\n",
       "      <td>37.500000</td>\n",
       "      <td>34.294985</td>\n",
       "      <td>17.871225</td>\n",
       "    </tr>\n",
       "    <tr>\n",
       "      <th>2007-01-09</th>\n",
       "      <td>37.779999</td>\n",
       "      <td>34.130544</td>\n",
       "      <td>17.885944</td>\n",
       "    </tr>\n",
       "  </tbody>\n",
       "</table>\n",
       "</div>"
      ],
      "text/plain": [
       "                 AMZN        DUK         KO\n",
       "Date                                       \n",
       "2007-01-03  38.700001  34.971017  17.874906\n",
       "2007-01-04  38.900002  35.044103  17.882263\n",
       "2007-01-05  38.369999  34.240172  17.757161\n",
       "2007-01-08  37.500000  34.294985  17.871225\n",
       "2007-01-09  37.779999  34.130544  17.885944"
      ]
     },
     "execution_count": 18,
     "metadata": {},
     "output_type": "execute_result"
    }
   ],
   "source": [
    "df = pd.read_excel('AMZN-DUK-KO.xlsx', index_col='Date')\n",
    "df.head()"
   ]
  },
  {
   "cell_type": "code",
   "execution_count": 34,
   "metadata": {
    "scrolled": false
   },
   "outputs": [
    {
     "data": {
      "text/plain": [
       "<matplotlib.axes._subplots.AxesSubplot at 0x115494208>"
      ]
     },
     "execution_count": 34,
     "metadata": {},
     "output_type": "execute_result"
    },
    {
     "data": {
      "image/png": "[encoded data removed]",
      "text/plain": [
       "<matplotlib.figure.Figure at 0x105fc0d30>"
      ]
     },
     "metadata": {},
     "output_type": "display_data"
    }
   ],
   "source": [
    "data.plot(kind='line', x='Date', y=['AMZN', 'DUK', 'KO'])"
   ]
  },
  {
   "cell_type": "markdown",
   "metadata": {},
   "source": [
    "# Parametric\n",
    "\n",
    "##### Paire ttest\n",
    "stats.ttest_rel(a, b, axis=0, nan_policy='propagate')\n",
    "\n",
    "##### Students ttest\n",
    "stats.ttest_ind(a, b, axis=0, equal_var=True, nan_policy='propagate')\n",
    "\n",
    "##### Welch's ttest\n",
    "stats.ttest_ind(a, b, axis=0, equal_var=False, nan_policy='propagate')"
   ]
  },
  {
   "cell_type": "markdown",
   "metadata": {},
   "source": [
    "# Non-parametric\n",
    "##### Wilcoxon Signed Rank Test\n",
    "stats.wilcoxon(x, y=None, zero_method='wilcox', correction=False)\n",
    "\n",
    "##### Mann-Whitney U\n",
    "stats.mannwhitneyu(x, y, use_continuity=True, alternative=None)\n",
    "\n",
    "##### Wilcoxon Rank Sum\n",
    "stats.ranksums(x, y)¶"
   ]
  },
  {
   "cell_type": "markdown",
   "metadata": {},
   "source": [
    "# Parametric (multiple groups)\n",
    "##### One way ANOVA\n",
    "stats.f_oneway(*args)\n",
    "\n",
    "##### Kruskal Wallis H-test for independent samples\n",
    "stats.kruskal(args, *kwargs)"
   ]
  },
  {
   "cell_type": "markdown",
   "metadata": {},
   "source": [
    "# Non-parametric multiple groups\n",
    "\n",
    "##### Friedman\n",
    "stats.friedmanchisquare(*args)\n",
    "\n",
    "##### Kruskal Wallis H test for independent samples\n",
    "stats.kruskal(args, *kwargs)"
   ]
  },
  {
   "cell_type": "markdown",
   "metadata": {},
   "source": [
    "# Categorical data\n",
    "##### Chi-Square Test \n",
    "stats.chisquare(f_obs, f_exp=None, ddof=0, axis=0)\n",
    "\n",
    "##### Fisher's Exact Test\n",
    "stats.fisher_exact(table, alternative='two-sided')\n",
    "\n",
    "##### McNemar Test\n",
    "stats.chi2contingency(observed, correction=True, lambda=None)"
   ]
  },
  {
   "cell_type": "markdown",
   "metadata": {},
   "source": [
    "# Correlation\n",
    "\n",
    "##### Pearson's correlation\n",
    "stats.pearsonr(x, y)\n",
    "\n",
    "##### Normalised Cross-Correlation - Cross-correlate two N-dimensional arrays.\n",
    "scipy.signal.correlate(in1, in2, mode='full', method='auto')\n",
    "\n",
    "##### FFT\n",
    "numpy.fft.fft(a, n=None, axis=-1, norm=None)"
   ]
  },
  {
   "cell_type": "markdown",
   "metadata": {},
   "source": [
    "# Linear Regression\n",
    "\n",
    "stats.linregress(x, y=None)"
   ]
  },
  {
   "cell_type": "markdown",
   "metadata": {},
   "source": [
    "# scipy.stats functions\n",
    "describe(a[, axis, ddof, bias, nan_policy])\tCompute several descriptive statistics of the passed array.\n",
    "\n",
    "kurtosis(a[, axis, fisher, bias, nan_policy])\tCompute the kurtosis (Fisher or Pearson) of a dataset.\n",
    "\n",
    "kurtosistest(a[, axis, nan_policy])\tTest whether a dataset has normal kurtosis.\n",
    "\n",
    "mode(a[, axis, nan_policy])\tReturn an array of the modal (most common) value in the passed array.\n",
    "\n",
    "normaltest(a[, axis, nan_policy])\tTest whether a sample differs from a normal distribution.\n",
    "\n",
    "skew(a[, axis, bias, nan_policy])\tCompute the skewness of a data set.\n",
    "\n",
    "skewtest(a[, axis, nan_policy])\tTest whether the skew is different from the normal distribution.\n",
    "\n",
    "\n",
    "variation(a[, axis, nan_policy])\tCompute the coefficient of variation, the ratio of the biased standard deviation to the mean.\n",
    "\n",
    "cumfreq(a[, numbins, defaultreallimits, weights])\tReturn a cumulative frequency histogram, using the histogram function.\n",
    "\n",
    "itemfreq(a)\tReturn a 2-D array of item frequencies.\n",
    "\n",
    "relfreq(a[, numbins, defaultreallimits, weights])\tReturn a relative frequency histogram, using the histogram function.\n",
    "\n",
    "binned_statistic(x, values[, statistic, ...])\tCompute a binned statistic for one or more sets of data.\n",
    "\n",
    "sem(a[, axis, ddof, nan_policy])\tCalculate the standard error of the mean (or standard error of measurement) of the values in the input array.\n",
    "\n",
    "zmap(scores, compare[, axis, ddof])\tCalculate the relative z-scores.\n",
    "\n",
    "zscore(a[, axis, ddof])\tCalculate the z score of each value in the sample, relative to the sample mean and standard deviation.\n",
    "\n",
    "iqr(x[, axis, rng, scale, nan_policy, ...])\tCompute the interquartile range of the data along the specified axis.\n",
    "\n",
    "f_oneway(*args)\tPerforms a 1-way ANOVA.\n",
    "\n",
    "pearsonr(x, y)\tCalculate a Pearson correlation coefficient and the p-value for testing non-correlation.\n",
    "\n",
    "spearmanr(a[, b, axis, nan_policy])\tCalculate a Spearman rank-order correlation coefficient and the p-value to test for non-correlation.\n",
    "\n",
    "linregress(x[, y])\tCalculate a linear least-squares regression for two sets of measurements.\n",
    "\n",
    "ttest_ind(a, b[, axis, equal_var, nan_policy])\tCalculate the T-test for the means of two independent samples of scores.\n",
    "\n",
    "ttest_rel(a, b[, axis, nan_policy])\tCalculate the T-test on TWO RELATED samples of scores, a and b.\n",
    "\n",
    "kstest(rvs, cdf[, args, N, alternative, mode])\tPerform the Kolmogorov-Smirnov test for goodness of fit.\n",
    "\n",
    "chisquare(f_obs[, f_exp, ddof, axis])\tCalculate a one-way chi square test.\n",
    "\n",
    "power_divergence(f_obs[, f_exp, ddof, axis, ...])\tCressie-Read power divergence statistic and goodness of fit test.\n",
    "\n",
    "ks_2samp(data1, data2)\tCompute the Kolmogorov-Smirnov statistic on 2 samples.\n",
    "\n",
    "mannwhitneyu(x, y[, use_continuity, alternative])\tCompute the Mann-Whitney rank test on samples x and y.\n",
    "\n",
    "tiecorrect(rankvals)\tTie correction factor for ties in the Mann-Whitney U and Kruskal-Wallis H tests.\n",
    "\n",
    "rankdata(a[, method])\tAssign ranks to data, dealing with ties appropriately.\n",
    "\n",
    "ranksums(x, y)\tCompute the Wilcoxon rank-sum statistic for two samples.\n",
    "\n",
    "wilcoxon(x[, y, zero_method, correction])\tCalculate the Wilcoxon signed-rank test.\n",
    "\n",
    "kruskal(*args, \\**kwargs)\tCompute the Kruskal-Wallis H-test for independent samples\n",
    "\n",
    "friedmanchisquare(*args)\tCompute the Friedman test for repeated measurements\n",
    "\n",
    "shapiro(x)\tPerform the Shapiro-Wilk test for normality."
   ]
  },
  {
   "cell_type": "code",
   "execution_count": null,
   "metadata": {},
   "outputs": [],
   "source": []
  }
 ],
 "metadata": {
  "kernelspec": {
   "display_name": "Python 3",
   "language": "python",
   "name": "python3"
  },
  "language_info": {
   "codemirror_mode": {
    "name": "ipython",
    "version": 3
   },
   "file_extension": ".py",
   "mimetype": "text/x-python",
   "name": "python",
   "nbconvert_exporter": "python",
   "pygments_lexer": "ipython3",
   "version": "3.6.2"
  }
 },
 "nbformat": 4,
 "nbformat_minor": 2
}
