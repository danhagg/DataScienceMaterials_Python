{
 "cells": [
  {
   "cell_type": "markdown",
   "metadata": {},
   "source": [
    "<img src=\"which_test.gif\"/>"
   ]
  },
  {
   "cell_type": "markdown",
   "metadata": {},
   "source": [
    "<img src=\"which_test.jpg\"/>"
   ]
  },
  {
   "cell_type": "markdown",
   "metadata": {},
   "source": [
    "# Friedman (paired - non para)\n",
    "\n",
    "$ H_0 : M_1 = M_2 = ... = M_k $\n",
    "\n",
    "$ H_1 $: At least one equality is violated\n",
    "\n",
    "The procedure involves ranking each row (or block) together, then considering the values of ranks by columns.\n",
    "\n",
    "# $ X_r^2 = \\frac{12}{bk(k+1)} \\sum_{j=1}^K {{R_j}^2} - 3b(k+1) $\n",
    "\n",
    "<img src=\"fried.png\">\n",
    "\n",
    "With 3 groups and 9 blocks $ b =9, k = 3 $\n",
    "\n",
    "We the rank, in blocks, across the data based upon magnitude to yield the following.\n",
    "\n",
    "We also sum the columns.\n",
    "\n",
    "<img src=\"friedman.png\">\n",
    "\n",
    "We can now plug the figures into our equation\n",
    "\n",
    "# $ X_r^2 = \\frac{12}{bk(k+1)} \\sum_{j=1}^K {{R_j}^2} - 3b(k+1) $\n",
    "\n",
    "# $ X_r^2 = \\frac{12}{(9)(3)(4)}(19.5^2 + 9^2 + 25.5^2) - (3)(9)(4) $\n",
    "\n",
    "# $ = 15.5 $\n",
    "\n",
    "Our $ ChiSquare_{CRIT} $ has $ df : k - 1 = 2 $. This value for $ ChiSquare_{CRIT} $ is 5.991.\n",
    "\n",
    "As $ X_r^2 > ChiSquare_{CRIT} $ we reject $ H_0 $"
   ]
  },
  {
   "cell_type": "code",
   "execution_count": 1,
   "metadata": {},
   "outputs": [
    {
     "data": {
      "text/html": [
       "<iframe width=\"560\" height=\"315\" src=\"https://www.youtube.com/embed/T9klHQk8s2A\" frameborder=\"0\" gesture=\"media\" allow=\"encrypted-media\" allowfullscreen></iframe>"
      ],
      "text/plain": [
       "<IPython.core.display.HTML object>"
      ]
     },
     "execution_count": 1,
     "metadata": {},
     "output_type": "execute_result"
    }
   ],
   "source": [
    "from IPython.display import HTML\n",
    "HTML('<iframe width=\"560\" height=\"315\" src=\"https://www.youtube.com/embed/T9klHQk8s2A\" frameborder=\"0\" gesture=\"media\" allow=\"encrypted-media\" allowfullscreen></iframe>')"
   ]
  },
  {
   "cell_type": "markdown",
   "metadata": {},
   "source": [
    "# Friedman in Scipy\n",
    "\n",
    "scipy.stats.friedmanchisquare(*args)\n",
    "\n",
    "Computes the Friedman test for repeated measurements\n",
    "\n",
    "The Friedman test tests the null hypothesis that repeated measurements of the same individuals have the same distribution. It is often used to test for consistency among measurements obtained in different ways. For example, if two measurement techniques are used on the same set of individuals, the Friedman test can be used to determine if the two measurement techniques are consistent.\n",
    "\n",
    "- Parameters: \n",
    "    - measurements1, measurements2, measurements3... : array_like\n",
    "        - Arrays of measurements. All of the arrays must have the same number of elements. At least 3 sets of measurements must be given.\n",
    "\n",
    "- Returns: \n",
    "    - friedman chi-square statistic : float\n",
    "        - the test statistic, correcting for ties\n",
    "    - p-value : float\n",
    "        - the associated p-value assuming that the test statistic has a chi squared distribution\n",
    "        \n",
    "Due to the assumption that the test statistic has a chi squared distribution, the p-value is only reliable for n > 10 and more than 6 repeated measurements."
   ]
  },
  {
   "cell_type": "markdown",
   "metadata": {},
   "source": [
    "# Kruskal-Wallis H test (non-para-unpaired)\n",
    "\n",
    "non-para version of ANOVA, ordinal, ratings etc or not not normally distributed\n",
    "\n",
    "$ H_0 $: The three probability distributions are the same\n",
    "\n",
    "$ H_1 $: The three probability distributions are not the same\n",
    "\n",
    "# $ H = \\frac{12}{n(n+1)} \\sum \\frac{{R_i}^2}{n_i} - 3(n+1) $\n",
    "\n",
    "$n$ = total number values across all groups\n",
    "\n",
    "$R_i$ the Ranks for each numbers of groups\n",
    "\n",
    "$n_i$ the number of values in each group\n",
    "\n",
    "##### Step 1\n",
    "# $ H = \\frac{12}{n(n+1)}$\n",
    "\n",
    "##### Step 2\n",
    "# $ \\sum \\frac{{R_i}^2}{n_i} $\n",
    "Pool and rank all data. Sum the ranks in each group, square them, and divide by number of values in that group... add to next groups data.\n",
    "\n",
    "##### Step 3\n",
    "$ - 3(n+1) $\n",
    "\n",
    "##### Step 4\n",
    "This yields a $ H_{STAT} $.\n",
    "\n",
    "The $dF = n - 1$.\n",
    "\n",
    "We then use a $ ChiSquare_{CRIT} $\n",
    "\n",
    "If $ H_{STAT} > ChiSquare_{CRIT} $ we reject $ H_0 $"
   ]
  },
  {
   "cell_type": "code",
   "execution_count": 1,
   "metadata": {},
   "outputs": [
    {
     "data": {
      "text/html": [
       "<iframe width=\"560\" height=\"315\" src=\"https://www.youtube.com/embed/q1D4Di1KWLc\" frameborder=\"0\" gesture=\"media\" allow=\"encrypted-media\" allowfullscreen></iframe>"
      ],
      "text/plain": [
       "<IPython.core.display.HTML object>"
      ]
     },
     "execution_count": 1,
     "metadata": {},
     "output_type": "execute_result"
    }
   ],
   "source": [
    "from IPython.display import HTML\n",
    "HTML('<iframe width=\"560\" height=\"315\" src=\"https://www.youtube.com/embed/q1D4Di1KWLc\" frameborder=\"0\" gesture=\"media\" allow=\"encrypted-media\" allowfullscreen></iframe>')"
   ]
  },
  {
   "cell_type": "markdown",
   "metadata": {},
   "source": [
    "# Kruskal-Wallis H test in Scipy\n",
    "\n",
    "##### scipy.stats.kruskal(*args, **kwargs)\n",
    "\n",
    "Compute the Kruskal-Wallis H-test for independent samples\n",
    "\n",
    "The Kruskal-Wallis H-test tests the null hypothesis that the population median of all of the groups are equal. It is a non-parametric version of ANOVA. The test works on 2 or more independent samples, which may have different sizes. Note that rejecting the null hypothesis does not indicate which of the groups differs. Post-hoc comparisons between groups are required to determine which groups are different.\n",
    "\n",
    "- Parameters:\t\n",
    "    - sample1, sample2, ... : array_like\n",
    "        - Two or more arrays with the sample measurements can be given as arguments.\n",
    "    - nan_policy : {‘propagate’, ‘raise’, ‘omit’}, optional\n",
    "        - Defines how to handle when input contains nan. ‘propagate’ returns nan, ‘raise’ throws an error, ‘omit’ performs the calculations ignoring nan values. Default is ‘propagate’.\n",
    "\n",
    "- Returns:\t\n",
    "    - statistic : float\n",
    "        - The Kruskal-Wallis H statistic, corrected for ties\n",
    "    - pvalue : float\n",
    "        - The p-value for the test using the assumption that H has a chi square distribution\n",
    "        \n",
    "Due to the assumption that H has a chi square distribution, the number of samples in each group must not be too small. A typical rule is that each sample must have at least 5 measurements."
   ]
  },
  {
   "cell_type": "code",
   "execution_count": 3,
   "metadata": {},
   "outputs": [
    {
     "data": {
      "text/plain": [
       "KruskalResult(statistic=7.0, pvalue=0.030197383422318501)"
      ]
     },
     "execution_count": 3,
     "metadata": {},
     "output_type": "execute_result"
    }
   ],
   "source": [
    "import scipy.stats as stats\n",
    "x = [1, 1, 1]\n",
    "y = [2, 2, 2]\n",
    "z = [2, 2]\n",
    "\n",
    "stats.kruskal(x, y, z)"
   ]
  }
 ],
 "metadata": {
  "kernelspec": {
   "display_name": "Python 3",
   "language": "python",
   "name": "python3"
  },
  "language_info": {
   "codemirror_mode": {
    "name": "ipython",
    "version": 3
   },
   "file_extension": ".py",
   "mimetype": "text/x-python",
   "name": "python",
   "nbconvert_exporter": "python",
   "pygments_lexer": "ipython3",
   "version": "3.6.2"
  }
 },
 "nbformat": 4,
 "nbformat_minor": 2
}
