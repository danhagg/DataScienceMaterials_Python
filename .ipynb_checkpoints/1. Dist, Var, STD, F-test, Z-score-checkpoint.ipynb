{
 "cells": [
  {
   "cell_type": "code",
   "execution_count": 1,
   "metadata": {},
   "outputs": [],
   "source": [
    "import scipy as sp\n",
    "import numpy as np\n",
    "from scipy import stats\n",
    "import numpy as np\n",
    "import matplotlib as mpl\n",
    "from matplotlib import pyplot as plt"
   ]
  },
  {
   "cell_type": "code",
   "execution_count": 2,
   "metadata": {
    "scrolled": true
   },
   "outputs": [
    {
     "data": {
      "image/png": "[encoded data removed]",
      "text/plain": [
       "<matplotlib.figure.Figure at 0x104ab7b00>"
      ]
     },
     "metadata": {},
     "output_type": "display_data"
    }
   ],
   "source": [
    "# Fixing random state for reproducibility\n",
    "np.random.seed(19680801)\n",
    "\n",
    "mu, sigma = 100, 15\n",
    "x = mu + sigma * np.random.randn(10000)\n",
    "\n",
    "# the histogram of the data\n",
    "n, bins, patches = plt.hist(x, 50, normed=1, facecolor='g', alpha=0.75)\n",
    "\n",
    "\n",
    "plt.xlabel('Smarts')\n",
    "plt.ylabel('Probability')\n",
    "plt.title('Histogram of IQ')\n",
    "plt.text(60, .025, r'$\\mu=100,\\ \\sigma=15$')\n",
    "plt.axis([40, 160, 0, 0.03])\n",
    "plt.grid(True)\n",
    "plt.show()"
   ]
  },
  {
   "cell_type": "markdown",
   "metadata": {},
   "source": [
    "### Test for normal distribution\n",
    "The Gaussian equation is:\n",
    "\n",
    "$ f(x \\; | \\; \\mu, \\sigma^2) = \\frac{1}{\\sqrt{2\\pi\\sigma^2} } \\; e^{ -\\frac{(x-\\mu)^2}{2\\sigma^2} } $\n",
    "\n",
    "$\\mu$ is the *mean*\n",
    "\n",
    "$\\sigma$ is the *standard deviation*\n",
    "\n",
    "$\\sigma^2$ is the *variance*"
   ]
  },
  {
   "cell_type": "code",
   "execution_count": 45,
   "metadata": {},
   "outputs": [
    {
     "ename": "SyntaxError",
     "evalue": "invalid syntax (<ipython-input-45-2527e54b131a>, line 1)",
     "output_type": "error",
     "traceback": [
      "\u001b[0;36m  File \u001b[0;32m\"<ipython-input-45-2527e54b131a>\"\u001b[0;36m, line \u001b[0;32m1\u001b[0m\n\u001b[0;31m    cdf ppf pdf\u001b[0m\n\u001b[0m          ^\u001b[0m\n\u001b[0;31mSyntaxError\u001b[0m\u001b[0;31m:\u001b[0m invalid syntax\n"
     ]
    }
   ],
   "source": [
    "cdf ppf pdf"
   ]
  },
  {
   "cell_type": "markdown",
   "metadata": {},
   "source": [
    "### Chebyshev distribution\n",
    "<img src=\"chebyshev.jpg\" alt=\"Drawing\" style=\"width: 400px;\"/>"
   ]
  },
  {
   "cell_type": "markdown",
   "metadata": {},
   "source": [
    "### Cumulative Distribution Frequency"
   ]
  },
  {
   "cell_type": "code",
   "execution_count": 6,
   "metadata": {},
   "outputs": [
    {
     "data": {
      "image/png": "[encoded data removed]",
      "text/plain": [
       "<matplotlib.figure.Figure at 0x108715208>"
      ]
     },
     "metadata": {},
     "output_type": "display_data"
    }
   ],
   "source": [
    "def norm_cdf(mean=0.0, std=1.0):\n",
    "    # 50 numbers between -3σ and 3σ\n",
    "    x = sp.linspace(-3*std, 3*std, 50)\n",
    "    # CDF at these values\n",
    "    y = stats.norm.cdf(x, loc=mean, scale=std)\n",
    "\n",
    "    plt.plot(x,y, color=\"black\")\n",
    "    plt.xlabel(\"Variate\")\n",
    "    plt.ylabel(\"Cumulative Probability\")\n",
    "    plt.title(\"CDF for Gaussian of mean = {0} & std. deviation = {1}\".format(\n",
    "               mean, std))\n",
    "    plt.draw()\n",
    "    plt.show()\n",
    "    \n",
    "norm_cdf()"
   ]
  },
  {
   "cell_type": "markdown",
   "metadata": {},
   "source": [
    "### Test for normality\n",
    "This function tests the null hypothesis that a sample comes from a normal distribution. It is based on D’Agostino and Pearson’s test that combines skew and kurtosis to produce an omnibus test of normality.\n",
    "stats.mstats.normaltest(x, axis=0)"
   ]
  },
  {
   "cell_type": "code",
   "execution_count": 28,
   "metadata": {},
   "outputs": [
    {
     "data": {
      "text/plain": [
       "NormaltestResult(statistic=0.72833524847068865, pvalue=0.69477472389968509)"
      ]
     },
     "execution_count": 28,
     "metadata": {},
     "output_type": "execute_result"
    }
   ],
   "source": [
    "stats.mstats.normaltest(x)"
   ]
  },
  {
   "cell_type": "markdown",
   "metadata": {},
   "source": [
    "### Shapiro-Wilkes test\n",
    "\n",
    "The Shapiro-Wilk test tests the null hypothesis that the data was drawn from a normal distribution.\n",
    "\n",
    "Parameters:\t\n",
    "- x : array_like\n",
    "    Array of sample data.\n",
    "    \n",
    "Returns:\t\n",
    "- W : float\n",
    "    The test statistic.\n",
    "- p-value : float\n",
    "    The p-value for the hypothesis test.\n",
    "\n",
    "Rejecting or disproving the null hypothesis—and thus concluding that there are grounds for believing that there is a relationship between two phenomena (e.g. that a potential treatment has a measurable effect)—is a central task in the modern practice of science; the field of statistics gives precise criteria for rejecting a null hypothesis"
   ]
  },
  {
   "cell_type": "code",
   "execution_count": 41,
   "metadata": {
    "scrolled": true
   },
   "outputs": [
    {
     "name": "stderr",
     "output_type": "stream",
     "text": [
      "/Library/Frameworks/Python.framework/Versions/3.6/lib/python3.6/site-packages/scipy/stats/morestats.py:1326: UserWarning:\n",
      "\n",
      "p-value may not be accurate for N > 5000.\n",
      "\n"
     ]
    },
    {
     "data": {
      "text/plain": [
       "(0.9997925758361816, 0.4654909074306488)"
      ]
     },
     "execution_count": 41,
     "metadata": {},
     "output_type": "execute_result"
    }
   ],
   "source": [
    "stats.shapiro(x)"
   ]
  },
  {
   "cell_type": "markdown",
   "metadata": {},
   "source": [
    "# Variance, standard deviation"
   ]
  },
  {
   "cell_type": "code",
   "execution_count": 3,
   "metadata": {
    "scrolled": false
   },
   "outputs": [
    {
     "data": {
      "text/html": [
       "<iframe width=\"560\" height=\"315\" src=\"https://www.youtube.com/embed/JM94I5q84hc\" frameborder=\"0\" gesture=\"media\" allow=\"encrypted-media\" allowfullscreen></iframe>"
      ],
      "text/plain": [
       "<IPython.core.display.HTML object>"
      ]
     },
     "execution_count": 3,
     "metadata": {},
     "output_type": "execute_result"
    }
   ],
   "source": [
    "from IPython.display import HTML\n",
    "HTML('<iframe width=\"560\" height=\"315\" src=\"https://www.youtube.com/embed/JM94I5q84hc\" frameborder=\"0\" gesture=\"media\" allow=\"encrypted-media\" allowfullscreen></iframe>')"
   ]
  },
  {
   "cell_type": "markdown",
   "metadata": {},
   "source": [
    "### Sample Variance\n",
    "\n",
    "$ s^2 = {\\frac{\\sum_{i=1}^N (x_i - \\overline{x})^2}{N-1} } $\n",
    "\n",
    "- Calculate the mean. \n",
    "- Subtract each value from the mean.\n",
    "- Square all those values\n",
    "- Sum them all\n",
    "- Divide by N - 1"
   ]
  },
  {
   "cell_type": "markdown",
   "metadata": {},
   "source": [
    "### Standard Deviation\n",
    "The scatter from the mean\n",
    "\n",
    "$ s = \\sqrt{\\frac{\\sum_{i=1}^N (x_i - \\overline{x})^2}{N-1} } $\n",
    "- Calculate the mean. \n",
    "- Subtract each value from the mean.\n",
    "- Square all those values\n",
    "- Sum them all\n",
    "- Divide by N - 1\n",
    "- Square root the number"
   ]
  },
  {
   "cell_type": "code",
   "execution_count": 3,
   "metadata": {},
   "outputs": [
    {
     "name": "stdout",
     "output_type": "stream",
     "text": [
      "Mean : 99.796823\n",
      "Variance : 219.666156\n",
      "Std. deviation : 14.821139\n"
     ]
    }
   ],
   "source": [
    "# Calculate mean, variance and std with Numpy/Scipy methods\n",
    "\n",
    "print(\"Mean : {0:8.6f}\".format(x.mean()))\n",
    "\n",
    "print(\"Variance : {0:8.6f}\".format(x.var()))\n",
    "\n",
    "print(\"Std. deviation : {0:8.6f}\".format(x.std()))"
   ]
  },
  {
   "cell_type": "code",
   "execution_count": 4,
   "metadata": {},
   "outputs": [
    {
     "name": "stdout",
     "output_type": "stream",
     "text": [
      "Mean : 99.796823\n",
      "Variance : 219.666156\n",
      "Std. deviation : 14.821139\n"
     ]
    }
   ],
   "source": [
    "# Calculate mean, variance and std with Numpy/Scipy functions\n",
    "\n",
    "print(\"Mean : {0:8.6f}\".format(sp.mean(x)))\n",
    "\n",
    "print(\"Variance : {0:8.6f}\".format(sp.var(x)))\n",
    "\n",
    "print(\"Std. deviation : {0:8.6f}\".format(sp.std(x)))"
   ]
  },
  {
   "cell_type": "markdown",
   "metadata": {},
   "source": [
    "### F-test"
   ]
  },
  {
   "cell_type": "code",
   "execution_count": 2,
   "metadata": {},
   "outputs": [
    {
     "data": {
      "text/html": [
       "<iframe width=\"560\" height=\"315\" src=\"https://www.youtube.com/embed/-ukqBN5sQSI\" frameborder=\"0\" gesture=\"media\" allow=\"encrypted-media\" allowfullscreen></iframe>"
      ],
      "text/plain": [
       "<IPython.core.display.HTML object>"
      ]
     },
     "execution_count": 2,
     "metadata": {},
     "output_type": "execute_result"
    }
   ],
   "source": [
    "from IPython.display import HTML\n",
    "HTML('<iframe width=\"560\" height=\"315\" src=\"https://www.youtube.com/embed/-ukqBN5sQSI\" frameborder=\"0\" gesture=\"media\" allow=\"encrypted-media\" allowfullscreen></iframe>')"
   ]
  },
  {
   "cell_type": "markdown",
   "metadata": {},
   "source": [
    "### the F-test is the ratio between the two variances \n",
    "Perform prior to unpaired ttest to see whether the groups are equal or unequal variance\n",
    "\n",
    "It can be calculated by dividing the larger variance by the smaller variance.\n",
    "\n",
    "$ F = \\frac{S_X^2}{S_Y^2} $\n",
    "\n",
    "Along with the degrees of freedom (dF) for each sample, a lookup in an F-distribution table for *Fcrit* tells us whether the samples vary similarly. \n",
    "\n",
    "If F < Fcrit then the variance is equal."
   ]
  },
  {
   "cell_type": "markdown",
   "metadata": {},
   "source": [
    "<img src=\"which_test.gif\"/>"
   ]
  },
  {
   "cell_type": "markdown",
   "metadata": {},
   "source": [
    "In Python we perform an F-test\n",
    "\n",
    "https://docs.scipy.org/doc/scipy/reference/generated/scipy.stats.f.html"
   ]
  },
  {
   "cell_type": "markdown",
   "metadata": {},
   "source": [
    "### z-score\n",
    "$ z = {x- \\mu \\over \\sigma} $"
   ]
  },
  {
   "cell_type": "markdown",
   "metadata": {},
   "source": [
    "##### scipy.stats.zscore(a, axis=0, ddof=0)\n",
    "\n",
    "Calculate the z score of each value in the sample, relative to the sample mean and standard deviation.\n",
    "\n",
    "Parameters:\t\n",
    "- a : array_like (An array like object containing the sample data.)\n",
    "\n",
    "- axis : int or None, optional (Axis along which to operate. Default is 0. If None, compute over the whole array a.)\n",
    "\n",
    "- ddof : int, optional (Degrees of freedom correction in the calculation of the standard deviation. Default is 0.)\n",
    "\n",
    "Returns:\t\n",
    "- zscore : array_like\n",
    "\n",
    "The z-scores, standardized by mean and standard deviation of input array a."
   ]
  },
  {
   "cell_type": "code",
   "execution_count": 6,
   "metadata": {},
   "outputs": [
    {
     "data": {
      "text/plain": [
       "array([-1.5, -1. , -0.5,  0. ,  0.5,  1. ,  1.5])"
      ]
     },
     "execution_count": 6,
     "metadata": {},
     "output_type": "execute_result"
    }
   ],
   "source": [
    "import numpy as np\n",
    "from scipy import stats\n",
    "\n",
    "a = np.array([1,2,3,4,5,6, 7])\n",
    "\n",
    "stats.zscore(a)"
   ]
  },
  {
   "cell_type": "code",
   "execution_count": null,
   "metadata": {},
   "outputs": [],
   "source": []
  }
 ],
 "metadata": {
  "kernelspec": {
   "display_name": "Python 3",
   "language": "python",
   "name": "python3"
  },
  "language_info": {
   "codemirror_mode": {
    "name": "ipython",
    "version": 3
   },
   "file_extension": ".py",
   "mimetype": "text/x-python",
   "name": "python",
   "nbconvert_exporter": "python",
   "pygments_lexer": "ipython3",
   "version": "3.6.2"
  }
 },
 "nbformat": 4,
 "nbformat_minor": 2
}
