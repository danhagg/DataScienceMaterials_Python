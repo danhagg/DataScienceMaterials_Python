{
 "cells": [
  {
   "cell_type": "code",
   "execution_count": 11,
   "metadata": {},
   "outputs": [],
   "source": [
    "import numpy as np\n",
    "import pandas as pd\n",
    "from pandas_datareader import data\n",
    "import matplotlib.pyplot as plt\n",
    "import seaborn as sns\n",
    "from bokeh.plotting import show, output_notebook, figure\n",
    "\n",
    "%matplotlib inline"
   ]
  },
  {
   "cell_type": "markdown",
   "metadata": {},
   "source": [
    "# Import some datasets"
   ]
  },
  {
   "cell_type": "code",
   "execution_count": 6,
   "metadata": {},
   "outputs": [],
   "source": [
    "fortune = pd.read_csv(\"pandas/udemy_material/fortune1000.csv\", index_col =\"Rank\")\n",
    "sector = fortune.groupby(\"Sector\")"
   ]
  },
  {
   "cell_type": "code",
   "execution_count": 9,
   "metadata": {},
   "outputs": [
    {
     "data": {
      "text/html": [
       "<div>\n",
       "<style>\n",
       "    .dataframe thead tr:only-child th {\n",
       "        text-align: right;\n",
       "    }\n",
       "\n",
       "    .dataframe thead th {\n",
       "        text-align: left;\n",
       "    }\n",
       "\n",
       "    .dataframe tbody tr th {\n",
       "        vertical-align: top;\n",
       "    }\n",
       "</style>\n",
       "<table border=\"1\" class=\"dataframe\">\n",
       "  <thead>\n",
       "    <tr style=\"text-align: right;\">\n",
       "      <th></th>\n",
       "      <th>Revenue</th>\n",
       "      <th>Profits</th>\n",
       "      <th>Employees</th>\n",
       "    </tr>\n",
       "    <tr>\n",
       "      <th>Sector</th>\n",
       "      <th></th>\n",
       "      <th></th>\n",
       "      <th></th>\n",
       "    </tr>\n",
       "  </thead>\n",
       "  <tbody>\n",
       "    <tr>\n",
       "      <th>Aerospace &amp; Defense</th>\n",
       "      <td>357940</td>\n",
       "      <td>28742</td>\n",
       "      <td>968057</td>\n",
       "    </tr>\n",
       "    <tr>\n",
       "      <th>Apparel</th>\n",
       "      <td>95968</td>\n",
       "      <td>8236</td>\n",
       "      <td>346397</td>\n",
       "    </tr>\n",
       "    <tr>\n",
       "      <th>Business Services</th>\n",
       "      <td>272195</td>\n",
       "      <td>28227</td>\n",
       "      <td>1361050</td>\n",
       "    </tr>\n",
       "    <tr>\n",
       "      <th>Chemicals</th>\n",
       "      <td>243897</td>\n",
       "      <td>22628</td>\n",
       "      <td>463651</td>\n",
       "    </tr>\n",
       "    <tr>\n",
       "      <th>Energy</th>\n",
       "      <td>1517809</td>\n",
       "      <td>-73447</td>\n",
       "      <td>1188927</td>\n",
       "    </tr>\n",
       "    <tr>\n",
       "      <th>Engineering &amp; Construction</th>\n",
       "      <td>153983</td>\n",
       "      <td>5304</td>\n",
       "      <td>406708</td>\n",
       "    </tr>\n",
       "    <tr>\n",
       "      <th>Financials</th>\n",
       "      <td>2217159</td>\n",
       "      <td>260209</td>\n",
       "      <td>3359948</td>\n",
       "    </tr>\n",
       "    <tr>\n",
       "      <th>Food and Drug Stores</th>\n",
       "      <td>483769</td>\n",
       "      <td>16759</td>\n",
       "      <td>1395398</td>\n",
       "    </tr>\n",
       "    <tr>\n",
       "      <th>Food, Beverages &amp; Tobacco</th>\n",
       "      <td>555967</td>\n",
       "      <td>51417</td>\n",
       "      <td>1211632</td>\n",
       "    </tr>\n",
       "    <tr>\n",
       "      <th>Health Care</th>\n",
       "      <td>1614707</td>\n",
       "      <td>106114</td>\n",
       "      <td>2678289</td>\n",
       "    </tr>\n",
       "    <tr>\n",
       "      <th>Hotels, Resturants &amp; Leisure</th>\n",
       "      <td>169546</td>\n",
       "      <td>20697</td>\n",
       "      <td>2484245</td>\n",
       "    </tr>\n",
       "    <tr>\n",
       "      <th>Household Products</th>\n",
       "      <td>234737</td>\n",
       "      <td>14428</td>\n",
       "      <td>646038</td>\n",
       "    </tr>\n",
       "    <tr>\n",
       "      <th>Industrials</th>\n",
       "      <td>497581</td>\n",
       "      <td>20764</td>\n",
       "      <td>1545229</td>\n",
       "    </tr>\n",
       "    <tr>\n",
       "      <th>Materials</th>\n",
       "      <td>259145</td>\n",
       "      <td>4428</td>\n",
       "      <td>638123</td>\n",
       "    </tr>\n",
       "    <tr>\n",
       "      <th>Media</th>\n",
       "      <td>220764</td>\n",
       "      <td>24347</td>\n",
       "      <td>550314</td>\n",
       "    </tr>\n",
       "    <tr>\n",
       "      <th>Motor Vehicles &amp; Parts</th>\n",
       "      <td>482540</td>\n",
       "      <td>25898</td>\n",
       "      <td>1082560</td>\n",
       "    </tr>\n",
       "    <tr>\n",
       "      <th>Retailing</th>\n",
       "      <td>1465076</td>\n",
       "      <td>47830</td>\n",
       "      <td>6227629</td>\n",
       "    </tr>\n",
       "    <tr>\n",
       "      <th>Technology</th>\n",
       "      <td>1377600</td>\n",
       "      <td>180473</td>\n",
       "      <td>3578949</td>\n",
       "    </tr>\n",
       "    <tr>\n",
       "      <th>Telecommunications</th>\n",
       "      <td>461834</td>\n",
       "      <td>48637</td>\n",
       "      <td>832468</td>\n",
       "    </tr>\n",
       "    <tr>\n",
       "      <th>Transportation</th>\n",
       "      <td>408508</td>\n",
       "      <td>44169</td>\n",
       "      <td>1536793</td>\n",
       "    </tr>\n",
       "    <tr>\n",
       "      <th>Wholesalers</th>\n",
       "      <td>444800</td>\n",
       "      <td>8233</td>\n",
       "      <td>525597</td>\n",
       "    </tr>\n",
       "  </tbody>\n",
       "</table>\n",
       "</div>"
      ],
      "text/plain": [
       "                              Revenue  Profits  Employees\n",
       "Sector                                                   \n",
       "Aerospace & Defense            357940    28742     968057\n",
       "Apparel                         95968     8236     346397\n",
       "Business Services              272195    28227    1361050\n",
       "Chemicals                      243897    22628     463651\n",
       "Energy                        1517809   -73447    1188927\n",
       "Engineering & Construction     153983     5304     406708\n",
       "Financials                    2217159   260209    3359948\n",
       "Food and Drug Stores           483769    16759    1395398\n",
       "Food, Beverages & Tobacco      555967    51417    1211632\n",
       "Health Care                   1614707   106114    2678289\n",
       "Hotels, Resturants & Leisure   169546    20697    2484245\n",
       "Household Products             234737    14428     646038\n",
       "Industrials                    497581    20764    1545229\n",
       "Materials                      259145     4428     638123\n",
       "Media                          220764    24347     550314\n",
       "Motor Vehicles & Parts         482540    25898    1082560\n",
       "Retailing                     1465076    47830    6227629\n",
       "Technology                    1377600   180473    3578949\n",
       "Telecommunications             461834    48637     832468\n",
       "Transportation                 408508    44169    1536793\n",
       "Wholesalers                    444800     8233     525597"
      ]
     },
     "execution_count": 9,
     "metadata": {},
     "output_type": "execute_result"
    }
   ],
   "source": [
    "# Do some regressions on this data\n",
    "sector.sum()"
   ]
  },
  {
   "cell_type": "code",
   "execution_count": 7,
   "metadata": {},
   "outputs": [
    {
     "data": {
      "text/plain": [
       "<matplotlib.axes._subplots.AxesSubplot at 0x110568588>"
      ]
     },
     "execution_count": 7,
     "metadata": {},
     "output_type": "execute_result"
    },
    {
     "data": {
      "image/png": "[encoded data removed]",
      "text/plain": [
       "<matplotlib.figure.Figure at 0x110568f98>"
      ]
     },
     "metadata": {},
     "output_type": "display_data"
    }
   ],
   "source": [
    "sector['Revenue'].sum().plot(kind='bar')"
   ]
  },
  {
   "cell_type": "code",
   "execution_count": null,
   "metadata": {},
   "outputs": [],
   "source": [
    "# Multivariate analysis gender paygap data\n"
   ]
  },
  {
   "cell_type": "code",
   "execution_count": 12,
   "metadata": {},
   "outputs": [
    {
     "name": "stderr",
     "output_type": "stream",
     "text": [
      "/Library/Frameworks/Python.framework/Versions/3.6/lib/python3.6/site-packages/pandas_datareader/google/daily.py:40: UnstableAPIWarning: \n",
      "The Google Finance API has not been stable since late 2017. Requests seem\n",
      "to fail at random. Failure is especially common when bulk downloading.\n",
      "\n",
      "  warnings.warn(UNSTABLE_WARNING, UnstableAPIWarning)\n"
     ]
    }
   ],
   "source": [
    "# the following code imports and makes a panel\n",
    "\n",
    "companies = [\"MSFT\", \"GOOG\", \"AAPL\", \"YHOO\", \"AMZN\"]\n",
    "\n",
    "pan = data.DataReader(name = companies, data_source = \"google\", start='2010-01-01', end=\"2016-12-31\")"
   ]
  },
  {
   "cell_type": "code",
   "execution_count": 13,
   "metadata": {},
   "outputs": [
    {
     "data": {
      "text/plain": [
       "<class 'pandas.core.panel.Panel'>\n",
       "Dimensions: 5 (items) x 1761 (major_axis) x 5 (minor_axis)\n",
       "Items axis: Open to Volume\n",
       "Major_axis axis: 2010-01-04 00:00:00 to 2016-12-30 00:00:00\n",
       "Minor_axis axis: AAPL to YHOO"
      ]
     },
     "execution_count": 13,
     "metadata": {},
     "output_type": "execute_result"
    }
   ],
   "source": [
    "pan"
   ]
  },
  {
   "cell_type": "code",
   "execution_count": null,
   "metadata": {},
   "outputs": [],
   "source": []
  }
 ],
 "metadata": {
  "kernelspec": {
   "display_name": "Python 3",
   "language": "python",
   "name": "python3"
  },
  "language_info": {
   "codemirror_mode": {
    "name": "ipython",
    "version": 3
   },
   "file_extension": ".py",
   "mimetype": "text/x-python",
   "name": "python",
   "nbconvert_exporter": "python",
   "pygments_lexer": "ipython3",
   "version": "3.6.2"
  }
 },
 "nbformat": 4,
 "nbformat_minor": 2
}
