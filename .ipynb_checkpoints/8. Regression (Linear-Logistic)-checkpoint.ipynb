{
 "cells": [
  {
   "cell_type": "markdown",
   "metadata": {},
   "source": [
    "Regression\n",
    "Population Regression Line\n",
    "$$E(y) = \\alpha + \\beta{x}$$\n",
    "\n",
    "$$var(y) = \\sigma^2$$\n",
    "\n",
    "Least Squares Line\n",
    "$$\\hat{y} = a + bx$$\n",
    "\n",
    "where\n",
    "\n",
    "$$b = \\frac {{SS}{xy}}{{SS}{xx}}$$\n",
    "\n",
    "and\n",
    "\n",
    "$$\\bar{y} = a + b\\bar{x}$$"
   ]
  },
  {
   "cell_type": "code",
   "execution_count": null,
   "metadata": {},
   "outputs": [],
   "source": []
  }
 ],
 "metadata": {
  "kernelspec": {
   "display_name": "Python 3",
   "language": "python",
   "name": "python3"
  },
  "language_info": {
   "codemirror_mode": {
    "name": "ipython",
    "version": 3
   },
   "file_extension": ".py",
   "mimetype": "text/x-python",
   "name": "python",
   "nbconvert_exporter": "python",
   "pygments_lexer": "ipython3",
   "version": "3.6.2"
  }
 },
 "nbformat": 4,
 "nbformat_minor": 2
}
