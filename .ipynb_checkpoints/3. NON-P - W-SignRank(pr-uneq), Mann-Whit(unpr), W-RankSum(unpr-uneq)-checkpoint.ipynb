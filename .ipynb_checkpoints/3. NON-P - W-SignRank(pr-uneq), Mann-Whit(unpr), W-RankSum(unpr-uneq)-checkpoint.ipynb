{
 "cells": [
  {
   "cell_type": "markdown",
   "metadata": {},
   "source": [
    "<img src=\"which_test.gif\"/>"
   ]
  },
  {
   "cell_type": "markdown",
   "metadata": {},
   "source": [
    "<img src=\"which_test.jpg\"/>"
   ]
  },
  {
   "cell_type": "markdown",
   "metadata": {},
   "source": [
    "# Normal distribution?\n",
    "\n",
    "If we have paired samples but one or more of the samples is not normally distributed we cannot use a ttest so we use a Wilcoxon SRT.\n",
    "\n",
    "Test for normal distribution with a Shapiro-Wilkes test\n",
    "\n",
    "# Shapiro-Wilkes test\n",
    "\n",
    "The Shapiro-Wilk test tests the null hypothesis that the data was drawn from a normal distribution.\n",
    "\n",
    "Parameters:\t\n",
    "- x : array_like\n",
    "    Array of sample data.\n",
    "    \n",
    "Returns:\t\n",
    "- W : float\n",
    "    The test statistic.\n",
    "- p-value : float\n",
    "    The p-value for the hypothesis test.\n",
    "\n",
    "Rejecting or disproving the null hypothesis—and thus concluding that there are grounds for believing that there is a relationship between two phenomena (e.g. that a potential treatment has a measurable effect)—is a central task in the modern practice of science; the field of statistics gives precise criteria for rejecting a null hypothesis"
   ]
  },
  {
   "cell_type": "code",
   "execution_count": null,
   "metadata": {},
   "outputs": [],
   "source": [
    "stats.shapiro(x)"
   ]
  },
  {
   "cell_type": "code",
   "execution_count": 1,
   "metadata": {},
   "outputs": [
    {
     "data": {
      "text/html": [
       "<iframe width=\"560\" height=\"315\" src=\"https://www.youtube.com/embed/TqCg2tb4wJ0\" frameborder=\"0\" gesture=\"media\" allow=\"encrypted-media\" allowfullscreen></iframe>"
      ],
      "text/plain": [
       "<IPython.core.display.HTML object>"
      ]
     },
     "execution_count": 1,
     "metadata": {},
     "output_type": "execute_result"
    }
   ],
   "source": [
    "from IPython.display import HTML\n",
    "HTML('<iframe width=\"560\" height=\"315\" src=\"https://www.youtube.com/embed/TqCg2tb4wJ0\" frameborder=\"0\" gesture=\"media\" allow=\"encrypted-media\" allowfullscreen></iframe>')"
   ]
  },
  {
   "cell_type": "markdown",
   "metadata": {},
   "source": [
    "# Wilcoxon Signed Rank Test\n",
    "\n",
    "Null hypothesis is that the Medians are the same\n",
    "\n",
    "$ {{H_0}: {M_x} = {M_y}} $\n",
    "\n",
    "$ {{H_1}: {M_x} \\neq {M_y}} $\n",
    "\n",
    "$ W = \\sum_{i=1}^{N_r} [sgn(x_{2,i} - x_{1,i}) \\cdot R_i] $\n",
    "\n",
    "Group into T- and T+ and add all the ranks. The lowest total is $ W_{STAT} $\n",
    "\n",
    "We get $ W_{CRIT} $ from Wilcoxon Signed Rank Table of values\n",
    "\n",
    "If $ W_{STAT} < W_{CRIT} $ we reject the null hypothesis\n",
    "\n",
    "Normally we reject if STAT is greater than CRIT. Opposite in case of Wilcoxon Signed Rank Test"
   ]
  },
  {
   "cell_type": "markdown",
   "metadata": {},
   "source": [
    "# Wilcoxon Signed Rank Test in Scipy\n",
    "\n",
    "##### scipy.stats.wilcoxon(x, y=None, zero_method='wilcox', correction=False)\n",
    "\n",
    "The Wilcoxon signed-rank test tests the null hypothesis that two related paired samples come from the same distribution. In particular, it tests whether the distribution of the differences x - y is symmetric about zero. It is a non-parametric version of the paired T-test.\n",
    "\n",
    "Parameters:\t\n",
    "- x : array_like\n",
    "    - The first set of measurements.\n",
    "- y : array_like, optional\n",
    "    - The second set of measurements. If y is not given, then the x array is considered to be the differences between the two sets of measurements.\n",
    "- zero_method : string, {“pratt”, “wilcox”, “zsplit”}, optional\n",
    "    - “pratt”:\n",
    "Pratt treatment: includes zero-differences in the ranking process (more conservative)\n",
    "    - “wilcox”:\n",
    "Wilcox treatment: discards all zero-differences\n",
    "    - “zsplit”:\n",
    "Zero rank split: just like Pratt, but spliting the zero rank between positive and negative ones\n",
    "- correction : bool, optional\n",
    "    - If True, apply continuity correction by adjusting the Wilcoxon rank statistic by 0.5 towards the mean value when computing the z-statistic. Default is False.\n",
    "\n",
    "Returns:\t\n",
    "- statistic : float\n",
    "    - The sum of the ranks of the differences above or below zero, whichever is smaller.\n",
    "- pvalue : float\n",
    "    - The two-sided p-value for the test.\n",
    "\n",
    "Because the normal approximation is used for the calculations, the samples used should be large. A typical rule is to require that n > 20."
   ]
  },
  {
   "cell_type": "markdown",
   "metadata": {},
   "source": [
    "# Mann-Whitney U test\n",
    "\n",
    "Unpaired non-normally distributed + equal variance\n",
    "\n",
    "Or ranked/ratings\n",
    "\n",
    "$ {H_0} $: No difference betwen ranks of treatments\n",
    "\n",
    "$ {H_1} $: There is a difference betwen ranks of treatments\n",
    "\n",
    "Lets assume we have two treatment groups x and y (unpaired). Each with a single value.\n",
    "\n",
    "##### Step 1\n",
    "We pool all values from condition x and y and rank them. \n",
    "\n",
    "##### Step 2\n",
    "We then associate each value in x and y with its rank from the pooled data.\n",
    "\n",
    "##### Step 3\n",
    "We calculate the individual $ U_{STAT} $ for group x and y.\n",
    "\n",
    "$ U_{STAT} = RANK SUM - \\frac{n(n+1)}{2} $\n",
    "\n",
    "##### Step 4\n",
    "We take the smallest $ U_{STAT} $ and compare to $ U_{STAT} $.\n",
    "\n",
    "$ U_{STAT} $ < $ U_{STAT} $ we reject the null hypothesis"
   ]
  },
  {
   "cell_type": "code",
   "execution_count": 4,
   "metadata": {},
   "outputs": [
    {
     "data": {
      "text/html": [
       "<iframe width=\"560\" height=\"315\" src=\"https://www.youtube.com/embed/TqCg2tb4wJ0\" frameborder=\"0\" gesture=\"media\" allow=\"encrypted-media\" allowfullscreen></iframe>"
      ],
      "text/plain": [
       "<IPython.core.display.HTML object>"
      ]
     },
     "execution_count": 4,
     "metadata": {},
     "output_type": "execute_result"
    }
   ],
   "source": [
    "from IPython.display import HTML\n",
    "HTML('<iframe width=\"560\" height=\"315\" src=\"https://www.youtube.com/embed/TqCg2tb4wJ0\" frameborder=\"0\" gesture=\"media\" allow=\"encrypted-media\" allowfullscreen></iframe>')"
   ]
  },
  {
   "cell_type": "markdown",
   "metadata": {},
   "source": [
    "# Mann-Whitney U test in Scipy\n",
    "\n",
    "##### scipy.stats.mannwhitneyu(x, y, use_continuity=True, alternative=None)[source]\n",
    "\n",
    "Compute the Mann-Whitney rank test on samples x and y.\n",
    "\n",
    "Parameters:\t\n",
    "- x, y : array_like\n",
    "    - Array of samples, should be one-dimensional.\n",
    "    - use_continuity : bool, optional\n",
    "        - Whether a continuity correction (1/2.) should be taken into account. Default is True.\n",
    "    - alternative : None (deprecated), ‘less’, ‘two-sided’, or ‘greater’\n",
    "        - Whether to get the p-value for the one-sided hypothesis (‘less’ or ‘greater’) or for the two-sided hypothesis (‘two-sided’). Defaults to None, which results in a p-value half the size of the ‘two-sided’ p-value and a different U statistic. The default behavior is not the same as using ‘less’ or ‘greater’: it only exists for backward compatibility and is deprecated.\n",
    "\n",
    "Returns:\t\n",
    "- statistic : float\n",
    "    - The Mann-Whitney U statistic, equal to min(U for x, U for y) if alternative is equal to None (deprecated; exists for backward compatibility), and U for y otherwise.\n",
    "- pvalue : float\n",
    "    - p-value assuming an asymptotic normal distribution. One-sided or two-sided, depending on the choice of alternative.\n",
    "\n",
    "Use only when the number of observation in each sample is > 20 and you have 2 independent samples of ranks. Mann-Whitney U is significant if the u-obtained is LESS THAN or equal to the critical value of U.\n",
    "\n",
    "This test corrects for ties and by default uses a continuity correction."
   ]
  },
  {
   "cell_type": "markdown",
   "metadata": {},
   "source": [
    "# Wilcoxon Rank Sum Test\n",
    "\n",
    "##### scipy.stats.ranksums(x, y)[source]\n",
    "\n",
    "Compute the Wilcoxon rank-sum statistic for two samples.\n",
    "\n",
    "The Wilcoxon rank-sum test tests the null hypothesis that two sets of measurements are drawn from the same distribution. The alternative hypothesis is that values in one sample are more likely to be larger than the values in the other sample.\n",
    "\n",
    "This test should be used to compare two samples from continuous distributions. It does not handle ties between measurements in x and y. For tie-handling and an optional continuity correction see scipy.stats.mannwhitneyu.\n",
    "\n",
    "Parameters:\t\n",
    "- x,y : array_like\n",
    "    -n The data from the two samples\n",
    "\n",
    "Returns:\t\n",
    "- statistic : float\n",
    "    - The test statistic under the large-sample approximation that the rank sum statistic is normally distributed\n",
    "- pvalue : float\n",
    "    - The two-sided p-value of the test"
   ]
  },
  {
   "cell_type": "code",
   "execution_count": null,
   "metadata": {},
   "outputs": [],
   "source": []
  }
 ],
 "metadata": {
  "kernelspec": {
   "display_name": "Python 3",
   "language": "python",
   "name": "python3"
  },
  "language_info": {
   "codemirror_mode": {
    "name": "ipython",
    "version": 3
   },
   "file_extension": ".py",
   "mimetype": "text/x-python",
   "name": "python",
   "nbconvert_exporter": "python",
   "pygments_lexer": "ipython3",
   "version": "3.6.2"
  }
 },
 "nbformat": 4,
 "nbformat_minor": 2
}
