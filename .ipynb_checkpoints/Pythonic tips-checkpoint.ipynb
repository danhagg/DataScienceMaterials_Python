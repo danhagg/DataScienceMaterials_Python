{
 "cells": [
  {
   "cell_type": "code",
   "execution_count": 20,
   "metadata": {
    "collapsed": true
   },
   "outputs": [],
   "source": [
    "# Long way to build a generator\n",
    "# Using the generator pattern (an iterable)\n",
    "class firstn(object):\n",
    "    def __init__(self, n):\n",
    "        self.n = n\n",
    "        self.num, self.nums = 0, []\n",
    "\n",
    "    def __iter__(self):\n",
    "        return self\n",
    "\n",
    "    # Python 3 compatibility\n",
    "    def __next__(self):\n",
    "        return self.next()\n",
    "\n",
    "    def next(self):\n",
    "        if self.num < self.n:\n",
    "            cur, self.num = self.num, self.num+1\n",
    "            return cur\n",
    "        else:\n",
    "            raise StopIteration()\n",
    "\n",
    "sum_of_first_n = sum(firstn(1000000))"
   ]
  },
  {
   "cell_type": "code",
   "execution_count": 18,
   "metadata": {},
   "outputs": [
    {
     "name": "stdout",
     "output_type": "stream",
     "text": [
      "Took 0.17159499999999994 Seconds\n"
     ]
    }
   ],
   "source": [
    "import time\n",
    "\n",
    "t1 = time.clock()\n",
    "#square is a generator\n",
    "square = (i*i for i in range(10000000))\n",
    "t2 = time.clock()\n",
    "print(\"Took {} Seconds\".format(t2-t1))"
   ]
  },
  {
   "cell_type": "code",
   "execution_count": 19,
   "metadata": {},
   "outputs": [
    {
     "name": "stdout",
     "output_type": "stream",
     "text": [
      "Took 1.1260860000000008 Seconds\n"
     ]
    }
   ],
   "source": [
    "import time\n",
    "\n",
    "t1 = time.clock()\n",
    "#square is a list\n",
    "square = [i*i for i in range(10000000)]\n",
    "t2 = time.clock()\n",
    "print(\"Took {} Seconds\".format(t2-t1))"
   ]
  },
  {
   "cell_type": "code",
   "execution_count": 21,
   "metadata": {},
   "outputs": [
    {
     "name": "stdout",
     "output_type": "stream",
     "text": [
      "List: Memory (Before): [439.72265625]Mb\n",
      "List: Memory (After): [745.53125]Mb\n",
      "Took 3.186361999999999 Seconds\n",
      "Generator: Memory (Before): [745.5390625]Mb\n",
      "Generator: Memory (After): [450.64453125]Mb\n",
      "Took 0.2280300000000004 Seconds\n"
     ]
    }
   ],
   "source": [
    "import memory_profiler\n",
    "import random\n",
    "import time\n",
    "\n",
    "names = ['John', 'Corey', 'Adam', 'Steve', 'Rick', 'Thomas']\n",
    "majors = ['Math', 'Engineering', 'CompSci', 'Arts', 'Business']\n",
    "\n",
    "print(\"List: Memory (Before): {}Mb\".format(memory_profiler.memory_usage()))\n",
    "\n",
    "def people_list(num_people):\n",
    "    result = []\n",
    "    for i in range(num_people):\n",
    "        person = {\n",
    "        'id': i,\n",
    "        'name': random.choice(names),\n",
    "        'major': random.choice(majors)\n",
    "        }\n",
    "\n",
    "        result.append(person)\n",
    "    return result\n",
    "\n",
    "t1 = time.clock()\n",
    "people = people_list(1000000)\n",
    "t2 = time.clock()\n",
    "\n",
    "print(\"List: Memory (After): {}Mb\".format(memory_profiler.memory_usage()))\n",
    "print(\"Took {} Seconds\".format(t2-t1))\n",
    "\n",
    "\n",
    "\n",
    "\n",
    "\n",
    "print(\"Generator: Memory (Before): {}Mb\".format(memory_profiler.memory_usage()))\n",
    "\n",
    "def people_generator(num_people):\n",
    "    for i in range(num_people):\n",
    "        person = {\n",
    "        'id': i,\n",
    "        'name': random.choice(names),\n",
    "        'major': random.choice(majors)\n",
    "        }\n",
    "        yield person\n",
    "\n",
    "t3 = time.clock()\n",
    "people = people_generator(1000000)\n",
    "t4 = time.clock()\n",
    "\n",
    "print(\"Generator: Memory (After): {}Mb\".format(memory_profiler.memory_usage()))\n",
    "print(\"Took {} Seconds\".format(t4-t3))"
   ]
  },
  {
   "cell_type": "code",
   "execution_count": 2,
   "metadata": {},
   "outputs": [
    {
     "name": "stdout",
     "output_type": "stream",
     "text": [
      "The 5th fibonacci number is 5\n"
     ]
    },
    {
     "data": {
      "text/plain": [
       "[1, 1, 2, 3]"
      ]
     },
     "execution_count": 2,
     "metadata": {},
     "output_type": "execute_result"
    }
   ],
   "source": [
    "# RECURSIVE, this function slows with the increasing list length\n",
    "def fib(n):\n",
    "    if n == 0:\n",
    "        return 0\n",
    "    elif n == 1:\n",
    "        return 1\n",
    "    else:\n",
    "        result = fib(n - 1) + fib(n - 2)\n",
    "        return result\n",
    "        \n",
    "print(\"The 5th fibonacci number is\", fib(5))\n",
    "\n",
    "nums = [1,2,3,4]\n",
    "list(map(fib, nums))"
   ]
  },
  {
   "cell_type": "code",
   "execution_count": null,
   "metadata": {
    "collapsed": true
   },
   "outputs": [],
   "source": [
    "#Memoization,overcomes this \n",
    "# Long way\n",
    "# Create a dict of cached computations\n",
    "fibonacci_cache = {}\n",
    "\n",
    "def fibonacci(n):\n",
    "    if n in fibonacci_cache:\n",
    "        return fibonacci_cache[n]\n",
    "    \n",
    "    #compute nth term\n",
    "    if n == 0:\n",
    "        value = 0\n",
    "    elif n == 1:\n",
    "        value = 1\n",
    "    else:\n",
    "        value = fib(n - 1) + fib(n - 2)\n",
    "        \n",
    "    fibonacci_cache[n] = value\n",
    "    return value\n",
    "\n",
    "for n in range(1, 20):\n",
    "    print(n, \":\", fibonacci(n))"
   ]
  },
  {
   "cell_type": "markdown",
   "metadata": {},
   "source": [
    "#functools\n",
    "https://docs.python.org/3.6/library/functools.html#functools.partial"
   ]
  },
  {
   "cell_type": "code",
   "execution_count": 9,
   "metadata": {
    "scrolled": true
   },
   "outputs": [
    {
     "name": "stdout",
     "output_type": "stream",
     "text": [
      "False\n",
      "True\n"
     ]
    }
   ],
   "source": [
    "def palindrome(word):\n",
    "    return word == word[::-1]\n",
    "\n",
    "print(palindrome('dog'))\n",
    "print(palindrome('racecar'))"
   ]
  },
  {
   "cell_type": "code",
   "execution_count": 13,
   "metadata": {},
   "outputs": [
    {
     "name": "stdout",
     "output_type": "stream",
     "text": [
      "olleh\n"
     ]
    }
   ],
   "source": [
    "str4 = \"hello\"\n",
    "str5 = ''.join(reversed(str4))\n",
    "print(str5)"
   ]
  },
  {
   "cell_type": "code",
   "execution_count": 8,
   "metadata": {},
   "outputs": [
    {
     "name": "stdout",
     "output_type": "stream",
     "text": [
      "blue\n",
      "yellow\n",
      "red\n"
     ]
    }
   ],
   "source": [
    "# Looping in reverse over a list\n",
    "colors = ['red', 'yellow', 'blue']\n",
    "for color in reversed(colors):\n",
    "    print(color)"
   ]
  },
  {
   "cell_type": "code",
   "execution_count": 28,
   "metadata": {},
   "outputs": [
    {
     "name": "stdout",
     "output_type": "stream",
     "text": [
      "0 --> red\n",
      "1 --> yellow\n",
      "2 --> blue\n",
      "0 --> red\n",
      "1 --> yellow\n",
      "2 --> blue\n"
     ]
    }
   ],
   "source": [
    "# looping\n",
    "# enumerate is fast simple\n",
    "# saves u from tracking individual indices and incrementing it\n",
    "# whenever your manipulating indices directly your probably doing it wrong\n",
    "colors = ['red', 'yellow', 'blue']\n",
    "\n",
    "# do not use\n",
    "for i in range(len(colors)):\n",
    "    print(i, '-->', colors[i])\n",
    "\n",
    "# use\n",
    "for i, color in enumerate(colors):\n",
    "    print(i, '-->', colors[i])"
   ]
  },
  {
   "cell_type": "code",
   "execution_count": 34,
   "metadata": {
    "scrolled": true
   },
   "outputs": [
    {
     "name": "stdout",
     "output_type": "stream",
     "text": [
      "['blue', 'red', 'yellow']\n",
      "yellow\n",
      "red\n",
      "blue\n"
     ]
    }
   ],
   "source": [
    "print(sorted(colors))\n",
    "for color in sorted(colors, reverse=True):\n",
    "    print(color)"
   ]
  },
  {
   "cell_type": "code",
   "execution_count": 35,
   "metadata": {
    "scrolled": true
   },
   "outputs": [
    {
     "name": "stdout",
     "output_type": "stream",
     "text": [
      "['red', 'blue', 'yellow']\n"
     ]
    }
   ],
   "source": [
    "print(sorted(colors, key=len))"
   ]
  },
  {
   "cell_type": "code",
   "execution_count": 36,
   "metadata": {},
   "outputs": [
    {
     "name": "stdout",
     "output_type": "stream",
     "text": [
      "Sorted list: [(4, 1), (2, 2), (1, 3), (3, 4)]\n"
     ]
    }
   ],
   "source": [
    "# sorted with a user defined function as key\n",
    "def takeSecond(elem):\n",
    "    return elem[1]\n",
    "\n",
    "# random list\n",
    "random = [(2, 2), (3, 4), (4, 1), (1, 3)]\n",
    "\n",
    "# sort list with key\n",
    "sortedList = sorted(random, key=takeSecond)\n",
    "\n",
    "# print list\n",
    "print('Sorted list:', sortedList)"
   ]
  },
  {
   "cell_type": "code",
   "execution_count": 29,
   "metadata": {},
   "outputs": [
    {
     "name": "stdout",
     "output_type": "stream",
     "text": [
      "Dan --> red\n",
      "Dave --> yellow\n",
      "Derek --> blue\n"
     ]
    }
   ],
   "source": [
    "# Pythonic\n",
    "names = ['Dan', 'Dave', 'Derek']\n",
    "colors = ['red', 'yellow', 'blue']\n",
    "\n",
    "for name, color in zip(names, colors):\n",
    "    print(name, '-->', color)"
   ]
  },
  {
   "cell_type": "code",
   "execution_count": 30,
   "metadata": {},
   "outputs": [
    {
     "name": "stdout",
     "output_type": "stream",
     "text": [
      "a\n",
      "bbb\n",
      "ccccccccc\n"
     ]
    }
   ],
   "source": [
    "# Pythonic\n",
    "lets = ['a', 'b', 'c']\n",
    "nums = [1, 3, 9]\n",
    "\n",
    "for let, num in zip(lets, nums):\n",
    "    print(let*num)"
   ]
  },
  {
   "cell_type": "code",
   "execution_count": 32,
   "metadata": {},
   "outputs": [
    {
     "data": {
      "text/plain": [
       "True"
      ]
     },
     "execution_count": 32,
     "metadata": {},
     "output_type": "execute_result"
    }
   ],
   "source": [
    "x = [1, 2, 3]\n",
    "y = [4, 5, 6]\n",
    "zipped = zip(x, y)\n",
    "list(zipped)\n",
    "[(1, 4), (2, 5), (3, 6)]\n",
    "x2, y2 = zip(*zip(x, y))\n",
    "x == list(x2) and y == list(y2)"
   ]
  },
  {
   "cell_type": "code",
   "execution_count": 5,
   "metadata": {},
   "outputs": [
    {
     "name": "stdout",
     "output_type": "stream",
     "text": [
      "['o', 'l', 'l', 'e', 'h']\n"
     ]
    }
   ],
   "source": [
    "# reversing into list\n",
    "str3 = \"hello\"\n",
    "revlist = [ch for ch in str3[::-1]]\n",
    "print(revlist)"
   ]
  },
  {
   "cell_type": "code",
   "execution_count": 6,
   "metadata": {},
   "outputs": [
    {
     "name": "stdout",
     "output_type": "stream",
     "text": [
      "4! is equal to 24\n"
     ]
    }
   ],
   "source": [
    "# RECURSIVE\n",
    "# Factorial eg 3! = 3*2*1 is a recursive notion\n",
    "# Every recursive function must contain a condition that ceases to call itself\n",
    "def factorial(num):\n",
    "    if num <=1:\n",
    "        return 1\n",
    "    else:\n",
    "        result = num * factorial(num - 1)\n",
    "        return result\n",
    "\n",
    "print(\"4! is equal to\",factorial(4))"
   ]
  },
  {
   "cell_type": "code",
   "execution_count": 12,
   "metadata": {},
   "outputs": [
    {
     "data": {
      "text/plain": [
       "120"
      ]
     },
     "execution_count": 12,
     "metadata": {},
     "output_type": "execute_result"
    }
   ],
   "source": [
    "# FACTORIAL\n",
    "# Write a Python function to multiply all the numbers in a list.\n",
    "numbers = [1,2,3,4,5]\n",
    "def factorial(numbers):\n",
    "    total = 1\n",
    "    for number in numbers:\n",
    "        total *= number\n",
    "    return total\n",
    "  \n",
    "factorial(numbers)"
   ]
  },
  {
   "cell_type": "code",
   "execution_count": 14,
   "metadata": {},
   "outputs": [
    {
     "data": {
      "text/plain": [
       "[2, 3, 4]"
      ]
     },
     "execution_count": 14,
     "metadata": {},
     "output_type": "execute_result"
    }
   ],
   "source": [
    "# implement map function\n",
    "add_one = lambda x: x + 1 \n",
    "\n",
    "def mapp(list_in, add_one):\n",
    "    list_out =[]\n",
    "    list_out = [add_one(x) for x in list_in]  # [expr for var in iterable]\n",
    "    return list_out\n",
    "    print(list_out)\n",
    "\n",
    "mapp([1,2,3], add_one)"
   ]
  },
  {
   "cell_type": "code",
   "execution_count": 25,
   "metadata": {},
   "outputs": [
    {
     "name": "stdout",
     "output_type": "stream",
     "text": [
      "There are 4 uppercase and 12 lowercase letters in the string\n"
     ]
    }
   ],
   "source": [
    "# Write a Python function that accepts a string and calculate the number of upper case letters and lower case letters\n",
    "def upper_and_lower(a_string):\n",
    "    letters = {\"UPPER CASE\": 0, \"LOWER CASE\": 0}\n",
    "    for letter in a_string:\n",
    "        if letter.isupper():\n",
    "            letters['UPPER CASE'] += 1\n",
    "        elif letter.islower():\n",
    "            letters['LOWER CASE'] += 1\n",
    "        else:\n",
    "            pass\n",
    "    print(\"There are {UPPER CASE} uppercase and {LOWER CASE} lowercase letters in the string\".format(**letters))\n",
    "a_string = \"The Quick Brown Fox\"\n",
    "upper_and_lower(a_string)"
   ]
  },
  {
   "cell_type": "code",
   "execution_count": 40,
   "metadata": {},
   "outputs": [
    {
     "name": "stdout",
     "output_type": "stream",
     "text": [
      "Each following letter is on a new line\n",
      "\n",
      "a\n",
      "\n",
      "b\n",
      "\n",
      "c\n",
      "\n",
      "1\n",
      "\n",
      "2\n",
      "\n",
      "3\n"
     ]
    }
   ],
   "source": [
    "# How iter() works for callable objects with sentinel\n",
    "with open('sample.txt') as fp:\n",
    "    for line in iter(fp.readline, ''):\n",
    "        #processLine(line)\n",
    "        print(line)\n",
    "        \n",
    "# When you run the program, it will open mydata.txt in read mode.\n",
    "# Then, the iter(fp.readline, '') in the for loop calls readline (which reads each line in the text file) \n",
    "# until the sentinel character '' (empty string) is reached."
   ]
  },
  {
   "cell_type": "code",
   "execution_count": 117,
   "metadata": {},
   "outputs": [
    {
     "data": {
      "text/plain": [
       "2"
      ]
     },
     "execution_count": 117,
     "metadata": {},
     "output_type": "execute_result"
    }
   ],
   "source": [
    "# for else statement\n",
    "# two outcomes, 1) search thru a certain number to tgt and return i, search all and exit\n",
    "def find(seq, target):\n",
    "    for i, value in enumerate(seq):\n",
    "        if value == tgt:\n",
    "            break\n",
    "    else: # inside every for loop is an if, thus u can else out of it\n",
    "        return -1\n",
    "    return i\n",
    "\n",
    "seq = ['a', 'b', 'c', 'd']\n",
    "tgt = 'c'\n",
    "find(seq, tgt)"
   ]
  },
  {
   "cell_type": "code",
   "execution_count": 86,
   "metadata": {},
   "outputs": [
    {
     "name": "stdout",
     "output_type": "stream",
     "text": [
      "dictionary {'Dan': 'red', 'Derek': 'blue', 'Dave': 'yellow'}\n",
      "Dan\n",
      "Derek\n",
      "Dave\n",
      "Dan --> red\n",
      "Derek --> blue\n",
      "Dave --> yellow\n",
      "('Dan', 'Derek', 'Dave') ('red', 'blue', 'yellow')\n",
      "{0: 'Dan', 1: 'Dave', 2: 'Derek'}\n",
      "{0: 'red', 1: 'yellow', 2: 'blue'}\n"
     ]
    }
   ],
   "source": [
    "# looping over dictionary\n",
    "d = dict(zip(names, colors))\n",
    "print(\"dictionary\", d)\n",
    "\n",
    "for k in d:\n",
    "    print(k)\n",
    "\n",
    "for k,v in d.items():\n",
    "    print(k,'-->', v)\n",
    "\n",
    "keys, values = zip(*d.items())\n",
    "print(keys, values)\n",
    "\n",
    "e = dict(enumerate(names))\n",
    "print(e)\n",
    "\n",
    "e = dict(enumerate(colors))\n",
    "print(e)"
   ]
  },
  {
   "cell_type": "code",
   "execution_count": 99,
   "metadata": {},
   "outputs": [
    {
     "data": {
      "text/plain": [
       "{'black': 1, 'green': 3, 'pink': 1, 'red': 2}"
      ]
     },
     "execution_count": 99,
     "metadata": {},
     "output_type": "execute_result"
    }
   ],
   "source": [
    "#BEST WAY FOR MAKING DICT OF COUNTS\n",
    "g = {}\n",
    "for color in colors:\n",
    "    g[color] = g.get(color, 0) + 1\n",
    "g"
   ]
  },
  {
   "cell_type": "code",
   "execution_count": 95,
   "metadata": {},
   "outputs": [
    {
     "data": {
      "text/plain": [
       "{'black': 1, 'green': 3, 'pink': 1, 'red': 2}"
      ]
     },
     "execution_count": 95,
     "metadata": {},
     "output_type": "execute_result"
    }
   ],
   "source": [
    "# Slow way of making dictionary of counts\n",
    "colors = ['red', 'red', 'pink', 'green','green', 'green', 'black']\n",
    "f = {}\n",
    "for color in colors:\n",
    "    if color not in f:\n",
    "        f[color] = 0\n",
    "    f[color] += 1\n",
    "f"
   ]
  },
  {
   "cell_type": "code",
   "execution_count": 115,
   "metadata": {},
   "outputs": [
    {
     "data": {
      "text/plain": [
       "defaultdict(int, {'black': 1, 'green': 3, 'pink': 1, 'red': 2})"
      ]
     },
     "execution_count": 115,
     "metadata": {},
     "output_type": "execute_result"
    }
   ],
   "source": [
    "# deaultdict from collections is best way to do this\n",
    "from collections import defaultdict\n",
    "d = defaultdict(int)\n",
    "for color in colors:\n",
    "    d[color] += 1\n",
    "    \n",
    "d"
   ]
  },
  {
   "cell_type": "code",
   "execution_count": 116,
   "metadata": {},
   "outputs": [
    {
     "data": {
      "text/plain": [
       "defaultdict(list,\n",
       "            {5: ['roger', 'betty'],\n",
       "             6: ['rachel', 'judith'],\n",
       "             7: ['raymond', 'matthew', 'melissa', 'cherlie']})"
      ]
     },
     "execution_count": 116,
     "metadata": {},
     "output_type": "execute_result"
    }
   ],
   "source": [
    "# Newer way is defaultdict from collections\n",
    "from collections import defaultdict\n",
    "d = defaultdict(list)\n",
    "for name in names:\n",
    "    key = len(name)\n",
    "    d[key].append(name)\n",
    "d"
   ]
  },
  {
   "cell_type": "code",
   "execution_count": 129,
   "metadata": {},
   "outputs": [
    {
     "data": {
      "text/plain": [
       "ChainMap({'white': 2, 'black': 1}, {'name': 'dan', 'age': 41}, {'country': 'USA', 'address': 'pearland'})"
      ]
     },
     "execution_count": 129,
     "metadata": {},
     "output_type": "execute_result"
    }
   ],
   "source": [
    "from collections import ChainMap\n",
    "h = {'black': 1, \"white\": 2}\n",
    "i = {\"name\": \"dan\", \"age\": 41}\n",
    "j = {\"address\": \"pearland\", \"country\": \"USA\"}\n",
    "ChainMap(h, i, j)"
   ]
  },
  {
   "cell_type": "code",
   "execution_count": 131,
   "metadata": {},
   "outputs": [
    {
     "data": {
      "text/plain": [
       "Counter({'blue': 3, 'green': 1, 'red': 2})"
      ]
     },
     "execution_count": 131,
     "metadata": {},
     "output_type": "execute_result"
    }
   ],
   "source": [
    "# Tally occurrences of words in a list\n",
    "from collections import Counter\n",
    "cnt = Counter()\n",
    "for word in ['red', 'blue', 'red', 'green', 'blue', 'blue']:\n",
    "    cnt[word] += 1\n",
    "cnt"
   ]
  },
  {
   "cell_type": "code",
   "execution_count": 134,
   "metadata": {},
   "outputs": [
    {
     "name": "stdout",
     "output_type": "stream",
     "text": [
      "11\n",
      "11 22\n",
      "22\n",
      "Point(x=11, y=22)\n"
     ]
    }
   ],
   "source": [
    "# Basic example\n",
    "from collections import namedtuple\n",
    "Point = namedtuple('Point', ['x', 'y'])\n",
    "p = Point(11, y=22)     # instantiate with positional or keyword arguments\n",
    "print(p[0])           # indexable like the plain tuple (11, 22)\n",
    "\n",
    "x, y = p                # unpack like a regular tuple\n",
    "print(x, y)\n",
    "\n",
    "print(p.y)              # fields also accessible by name\n",
    "\n",
    "print(p)                       # readable __repr__ with a name=value style"
   ]
  },
  {
   "cell_type": "code",
   "execution_count": 1,
   "metadata": {},
   "outputs": [
    {
     "data": {
      "text/plain": [
       "[0, 2, 4, 6, 8]"
      ]
     },
     "execution_count": 1,
     "metadata": {},
     "output_type": "execute_result"
    }
   ],
   "source": [
    "odd = lambda x : bool(x % 2)\n",
    "numbers = [n for n in range(10)]\n",
    "numbers[:] = [n for n in numbers if not odd(n)]  # ahh, the beauty of it all\n",
    "numbers"
   ]
  },
  {
   "cell_type": "code",
   "execution_count": null,
   "metadata": {
    "collapsed": true
   },
   "outputs": [],
   "source": []
  },
  {
   "cell_type": "code",
   "execution_count": null,
   "metadata": {
    "collapsed": true
   },
   "outputs": [],
   "source": []
  },
  {
   "cell_type": "code",
   "execution_count": null,
   "metadata": {
    "collapsed": true
   },
   "outputs": [],
   "source": []
  },
  {
   "cell_type": "code",
   "execution_count": null,
   "metadata": {
    "collapsed": true
   },
   "outputs": [],
   "source": []
  }
 ],
 "metadata": {
  "kernelspec": {
   "display_name": "Python [default]",
   "language": "python",
   "name": "python3"
  },
  "language_info": {
   "codemirror_mode": {
    "name": "ipython",
    "version": 3
   },
   "file_extension": ".py",
   "mimetype": "text/x-python",
   "name": "python",
   "nbconvert_exporter": "python",
   "pygments_lexer": "ipython3",
   "version": "3.5.3"
  }
 },
 "nbformat": 4,
 "nbformat_minor": 2
}
