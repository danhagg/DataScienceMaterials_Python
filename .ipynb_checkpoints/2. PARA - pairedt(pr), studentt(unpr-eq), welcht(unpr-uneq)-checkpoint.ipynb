{
 "cells": [
  {
   "cell_type": "markdown",
   "metadata": {},
   "source": [
    "<img src=\"which_test.gif\"/>"
   ]
  },
  {
   "cell_type": "markdown",
   "metadata": {},
   "source": [
    "<img src=\"which_test.jpg\"/>"
   ]
  },
  {
   "cell_type": "markdown",
   "metadata": {},
   "source": [
    "# How to select the correct t-test\n",
    "1. Paired\n",
    "2. Equal vs unequal ($ F = \\frac{Larger Variance}{Smaller Variance} $)"
   ]
  },
  {
   "cell_type": "code",
   "execution_count": 8,
   "metadata": {},
   "outputs": [
    {
     "data": {
      "text/html": [
       "<iframe width=\"560\" height=\"315\" src=\"https://www.youtube.com/embed/uwTYD60nng4\" frameborder=\"0\" gesture=\"media\" allow=\"encrypted-media\" allowfullscreen></iframe>"
      ],
      "text/plain": [
       "<IPython.core.display.HTML object>"
      ]
     },
     "execution_count": 8,
     "metadata": {},
     "output_type": "execute_result"
    }
   ],
   "source": [
    "from IPython.display import HTML\n",
    "HTML('<iframe width=\"560\" height=\"315\" src=\"https://www.youtube.com/embed/uwTYD60nng4\" frameborder=\"0\" gesture=\"media\" allow=\"encrypted-media\" allowfullscreen></iframe>')"
   ]
  },
  {
   "cell_type": "markdown",
   "metadata": {},
   "source": [
    "# Paired ttest"
   ]
  },
  {
   "cell_type": "code",
   "execution_count": 5,
   "metadata": {},
   "outputs": [
    {
     "data": {
      "text/html": [
       "<iframe width=\"560\" height=\"315\" src=\"https://www.youtube.com/embed/BPbHujvA9UU\" frameborder=\"0\" gesture=\"media\" allow=\"encrypted-media\" allowfullscreen></iframe>"
      ],
      "text/plain": [
       "<IPython.core.display.HTML object>"
      ]
     },
     "execution_count": 5,
     "metadata": {},
     "output_type": "execute_result"
    }
   ],
   "source": [
    "from IPython.display import HTML\n",
    "HTML('<iframe width=\"560\" height=\"315\" src=\"https://www.youtube.com/embed/BPbHujvA9UU\" frameborder=\"0\" gesture=\"media\" allow=\"encrypted-media\" allowfullscreen></iframe>')"
   ]
  },
  {
   "cell_type": "markdown",
   "metadata": {},
   "source": [
    "# $ t = \\frac{\\sum D}{\\sqrt{\\frac{n\\sum D^2 - (\\sum D)^2}{N-1}} } $\n",
    "\n",
    "\n",
    "$ D $ is the Difference between paired values\n",
    "\n",
    "$ D^2 $ is the Difference squared between paired values\n",
    "\n",
    "$ \\alpha $ = 0.05\n",
    "\n",
    "$ dF = n -1 $\n",
    "\n",
    "When we recieve a value for $ t_{stat} $ we lookup a $ t_{crit} $ value in a t-distribution table. \n",
    "\n",
    "$ t_{stat} $ may be negative or positive\n",
    "\n",
    "We look for intersection in degrees of Freedom and the probability value $ {\\frac{0.05}{2} = 0.025} $ for a two-tailed test.\n",
    "\n",
    "<img src=\"tstat.gif\">"
   ]
  },
  {
   "cell_type": "markdown",
   "metadata": {},
   "source": [
    "### Paired ttest In Scipy\n",
    "\n",
    "##### scipy.stats.ttest_rel(a, b, axis=0, nan_policy='propagate')\n",
    "\n",
    "Calculate the T-test on TWO RELATED samples of scores, a and b.\n",
    "\n",
    "This is a two-sided test for the null hypothesis that 2 related or repeated samples have identical average (expected) values.\n",
    "\n",
    "Parameters:\t\n",
    "- a, b : array_like \n",
    "    - (The arrays must have the same shape.)\n",
    "- axis : int or None, optional \n",
    "    - (Axis along which to compute test. If None, compute over the whole arrays, a, and b.)\n",
    "- nan_policy : {‘propagate’, ‘raise’, ‘omit’}, optional\n",
    "    - Defines how to handle when input contains nan. ‘propagate’ returns nan, ‘raise’ throws an error, ‘omit’ performs the calculations ignoring nan values. Default is ‘propagate’.\n",
    "\n",
    "Returns:\t\n",
    "- statistic : float or array\n",
    "    - t-statistic\n",
    "- pvalue : float or array\n",
    "    - two-tailed p-value\n",
    "\n",
    "Examples for the use are scores of the same set of student in different exams, or repeated sampling from the same units. The test measures whether the average score differs significantly across samples (e.g. exams). If we observe a large p-value, for example greater than 0.05 or 0.1 then we cannot reject the null hypothesis of identical average scores. If the p-value is smaller than the threshold, e.g. 1%, 5% or 10%, then we reject the null hypothesis of equal averages. Small p-values are associated with large t-statistics."
   ]
  },
  {
   "cell_type": "code",
   "execution_count": 3,
   "metadata": {},
   "outputs": [
    {
     "data": {
      "text/plain": [
       "Ttest_relResult(statistic=-3.9995108708727924, pvalue=7.3082402191661285e-05)"
      ]
     },
     "execution_count": 3,
     "metadata": {},
     "output_type": "execute_result"
    }
   ],
   "source": [
    "import numpy as np\n",
    "from scipy import stats\n",
    "np.random.seed(12345678) # fix random seed to get same numbers\n",
    "\n",
    "rvs1 = stats.norm.rvs(loc=5,scale=10,size=500)\n",
    "rvs2 = (stats.norm.rvs(loc=5,scale=10,size=500) + stats.norm.rvs(scale=0.2,size=500))\n",
    "stats.ttest_rel(rvs1,rvs2)\n",
    "(0.24101764965300962, 0.80964043445811562)\n",
    "rvs3 = (stats.norm.rvs(loc=8,scale=10,size=500) + stats.norm.rvs(scale=0.2,size=500))\n",
    "stats.ttest_rel(rvs1,rvs3)"
   ]
  },
  {
   "cell_type": "markdown",
   "metadata": {},
   "source": [
    "# the F-test is the ratio between the two variances \n",
    "Perform prior to unpaired ttest to see whether the groups are equal or unequal variance\n",
    "\n",
    "It can be calculated by dividing the larger variance by the smaller variance.\n",
    "\n",
    "$ F = \\frac{S_X^2}{S_Y^2} $\n",
    "\n",
    "Along with the degrees of freedom (dF) for each sample, a lookup in an F-distribution table for *Fcrit* tells us whether the samples vary similarly. \n",
    "\n",
    "If F < Fcrit then the variance is equal."
   ]
  },
  {
   "cell_type": "markdown",
   "metadata": {},
   "source": [
    "# Students ttest (Unpaired, Equal Variance)"
   ]
  },
  {
   "cell_type": "code",
   "execution_count": 7,
   "metadata": {},
   "outputs": [
    {
     "data": {
      "text/html": [
       "<iframe width=\"560\" height=\"315\" src=\"https://www.youtube.com/embed/avixq-YsXv0\" frameborder=\"0\" gesture=\"media\" allow=\"encrypted-media\" allowfullscreen></iframe>"
      ],
      "text/plain": [
       "<IPython.core.display.HTML object>"
      ]
     },
     "execution_count": 7,
     "metadata": {},
     "output_type": "execute_result"
    }
   ],
   "source": [
    "from IPython.display import HTML\n",
    "HTML('<iframe width=\"560\" height=\"315\" src=\"https://www.youtube.com/embed/avixq-YsXv0\" frameborder=\"0\" gesture=\"media\" allow=\"encrypted-media\" allowfullscreen></iframe>')"
   ]
  },
  {
   "cell_type": "markdown",
   "metadata": {},
   "source": [
    "Equal or unequal sample sizes, equal variance\n",
    "\n",
    "This test is used only when it can be assumed that the two distributions have the same variance. (We thus, pool the variances) Note that the previous formulae are a special case valid when both samples have equal sizes: n = n1 = n2. The t statistic to test whether the means are different can be calculated as follows:\n",
    "\n",
    "$ t = \\frac{\\bar {X}_1 - \\bar{X}_2}{s_p \\cdot \\sqrt{\\frac{1}{n_1}+\\frac{1}{n_2}}} $\n",
    "\n",
    "\n",
    "Where:\n",
    "\n",
    "$ s_p = \\sqrt{\\frac{(n_1-1)s_{X_1}^2+(n_2-1)s_{X_2}^2}{n_1+n_2-2}} $\n",
    "\n",
    "is an estimator of the pooled standard deviation of the two samples: it is defined in this way so that its square is an unbiased estimator of the common variance whether or not the population means are the same. In these formulae, ni − 1 is the number of degrees of freedom for each group, and the total sample size minus two (that is, n1 + n2 − 2) is the total number of degrees of freedom, which is used in significance testing.\n",
    "\n",
    "$ df = n_1 + n_2 - 2 $"
   ]
  },
  {
   "cell_type": "markdown",
   "metadata": {},
   "source": [
    "# Students ttest In Scipy\n",
    "\n",
    "##### scipy.stats.ttest_ind(a, b, axis=0, equal_var=True, nan_policy='propagate')\n",
    "\n",
    "Note: equal_var=True\n",
    "\n",
    "Calculate the T-test for the means of two independent samples of scores.\n",
    "\n",
    "This is a two-sided test for the null hypothesis that 2 independent samples have identical average (expected) values. This test assumes that the populations have identical variances by default.\n",
    "\n",
    "Parameters:\t\n",
    "- a, b : array_like\n",
    "    - The arrays must have the same shape, except in the dimension corresponding to axis (the first, by default).\n",
    "- axis : int or None, optional\n",
    "    - Axis along which to compute test. If None, compute over the whole arrays, a, and b.\n",
    "- equal_var : bool, optional\n",
    "    - If True (default), perform a standard independent 2 sample test that assumes equal population variances . If False, perform Welch’s t-test, which does not assume equal population variance.\n",
    "- nan_policy : {‘propagate’, ‘raise’, ‘omit’}, optional\n",
    "    - Defines how to handle when input contains nan. ‘propagate’ returns nan, ‘raise’ throws an error, ‘omit’ performs the calculations ignoring nan values. Default is ‘propagate’.\n",
    "\n",
    "Returns:\t\n",
    "- statistic : float or array\n",
    "    - The calculated t-statistic.\n",
    "- pvalue : float or array\n",
    "    - The two-tailed p-value.\n",
    "\n",
    "We can use this test, if we observe two independent samples from the same or different population, e.g. exam scores of boys and girls or of two ethnic groups. The test measures whether the average (expected) value differs significantly across samples. If we observe a large p-value, for example larger than 0.05 or 0.1, then we cannot reject the null hypothesis of identical average scores. If the p-value is smaller than the threshold, e.g. 1%, 5% or 10%, then we reject the null hypothesis of equal averages."
   ]
  },
  {
   "cell_type": "markdown",
   "metadata": {},
   "source": [
    "# Welch ttest (Unpaired, Unequal Variance)"
   ]
  },
  {
   "cell_type": "code",
   "execution_count": 6,
   "metadata": {},
   "outputs": [
    {
     "data": {
      "text/html": [
       "<iframe width=\"560\" height=\"315\" src=\"https://www.youtube.com/embed/N2w6fb6O_Lg\" frameborder=\"0\" gesture=\"media\" allow=\"encrypted-media\" allowfullscreen></iframe>"
      ],
      "text/plain": [
       "<IPython.core.display.HTML object>"
      ]
     },
     "execution_count": 6,
     "metadata": {},
     "output_type": "execute_result"
    }
   ],
   "source": [
    "from IPython.display import HTML\n",
    "HTML('<iframe width=\"560\" height=\"315\" src=\"https://www.youtube.com/embed/N2w6fb6O_Lg\" frameborder=\"0\" gesture=\"media\" allow=\"encrypted-media\" allowfullscreen></iframe>')"
   ]
  },
  {
   "cell_type": "markdown",
   "metadata": {},
   "source": [
    "This test, also known as Welch's t-test, is used only when the two population variances are not assumed to be equal (the two sample sizes may or may not be equal) and hence must be estimated separately. The t statistic to test whether the population means are different is calculated as:\n",
    "\n",
    "$ t = {(\\overline{X}_1 - \\overline{X}_2) - {(\\mu_1 - \\mu_2)}  \\over s_{\\overline{\\Delta}}} $\n",
    "\n",
    "where:\n",
    "\n",
    "$ s_{\\overline{\\Delta}} = \\sqrt{{s_1^2 \\over n_1} + {s_2^2  \\over n_2}} $\n",
    "\n",
    "Here ${s_1^2}$ is the unbiased estimator of the variance of each of the two samples.\n",
    "\n",
    "$ \\mathrm{d.f.} = \\frac{(s_1^2/n_1 + s_2^2/n_2)^2}{(s_1^2/n_1)^2/(n_1-1) + (s_2^2/n_2)^2/(n_2-1)} $\n",
    "\n",
    "This is known as the Welch–Satterthwaite equation. The true distribution of the test statistic actually depends (slightly) on the two unknown population variances (see Behrens–Fisher problem)."
   ]
  },
  {
   "cell_type": "markdown",
   "metadata": {},
   "source": [
    "# Welch ttest In Scipy\n",
    "\n",
    "##### scipy.stats.ttest_ind(a, b, axis=0, equal_var=False, nan_policy='propagate')\n",
    "\n",
    "Note: equal_var=False\n",
    "\n",
    "Calculate the T-test for the means of two independent samples of scores.\n",
    "\n",
    "This is a two-sided test for the null hypothesis that 2 independent samples have identical average (expected) values. This test assumes that the populations have identical variances by default.\n",
    "\n",
    "Parameters:\t\n",
    "- a, b : array_like\n",
    "    - The arrays must have the same shape, except in the dimension corresponding to axis (the first, by default).\n",
    "- axis : int or None, optional\n",
    "    - Axis along which to compute test. If None, compute over the whole arrays, a, and b.\n",
    "- equal_var : bool, optional\n",
    "    - If True (default), perform a standard independent 2 sample test that assumes equal population variances . If False, perform Welch’s t-test, which does not assume equal population variance.\n",
    "- nan_policy : {‘propagate’, ‘raise’, ‘omit’}, optional\n",
    "    - Defines how to handle when input contains nan. ‘propagate’ returns nan, ‘raise’ throws an error, ‘omit’ performs the calculations ignoring nan values. Default is ‘propagate’.\n",
    "\n",
    "Returns:\t\n",
    "- statistic : float or array\n",
    "    - The calculated t-statistic.\n",
    "- pvalue : float or array\n",
    "    - The two-tailed p-value.\n",
    "\n",
    "We can use this test, if we observe two independent samples from the same or different population, e.g. exam scores of boys and girls or of two ethnic groups. The test measures whether the average (expected) value differs significantly across samples. If we observe a large p-value, for example larger than 0.05 or 0.1, then we cannot reject the null hypothesis of identical average scores. If the p-value is smaller than the threshold, e.g. 1%, 5% or 10%, then we reject the null hypothesis of equal averages."
   ]
  },
  {
   "cell_type": "code",
   "execution_count": null,
   "metadata": {},
   "outputs": [],
   "source": []
  }
 ],
 "metadata": {
  "kernelspec": {
   "display_name": "Python 3",
   "language": "python",
   "name": "python3"
  },
  "language_info": {
   "codemirror_mode": {
    "name": "ipython",
    "version": 3
   },
   "file_extension": ".py",
   "mimetype": "text/x-python",
   "name": "python",
   "nbconvert_exporter": "python",
   "pygments_lexer": "ipython3",
   "version": "3.6.2"
  }
 },
 "nbformat": 4,
 "nbformat_minor": 2
}
