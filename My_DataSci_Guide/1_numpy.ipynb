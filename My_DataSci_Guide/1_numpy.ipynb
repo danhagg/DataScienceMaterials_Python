{
 "cells": [
  {
   "cell_type": "markdown",
   "metadata": {},
   "source": [
    "https://docs.scipy.org/doc/numpy-1.13.0/reference/index.html\n",
    "\n",
    "http://scipy-cookbook.readthedocs.io/items/Indexing.html\n",
    "\n",
    "http://www.labri.fr/perso/nrougier/from-python-to-numpy/"
   ]
  },
  {
   "cell_type": "code",
   "execution_count": 3,
   "metadata": {},
   "outputs": [],
   "source": [
    "import numpy as np"
   ]
  },
  {
   "cell_type": "markdown",
   "metadata": {},
   "source": [
    "### Creating vectors\n",
    "```python\n",
    "np.array(object, dtype=None, copy=True, order='K', subok=False, ndmin=0)\n",
    "np.linspace(start, stop, num=50, endpoint=True, retstep=False, dtype=None)\n",
    "np.arange([start,] stop[, step,], dtype=None)\n",
    "```\n",
    "\n",
    "### Creating matrices\n",
    "```python\n",
    "np.arange(9).reshape(3,3).astype(np.int16)\n",
    "np.zeros(shape, dtype=float, order='C')\n",
    "np.eye(N, M=None, k=0, dtype=<class 'float'>, order='C')\n",
    "np.full(shape, fill_value, dtype=None, order='C')\n",
    "\n",
    "x, y = np.mgrid[0:10:.1, 0:10:.2]\n",
    "\n",
    "matA.repeat(repeats, axis=None) # normally chose axis=1/2\n",
    "matA.repeat(1, axis=None) # flatten method 1\n",
    "np.matrix.flatten(matA) # flatten method 2\n",
    "\n",
    "```\n",
    "\n",
    "### Selecting/Indexing\n",
    "```python\n",
    "matA.shape\n",
    "matA.ndim\n",
    "vec.argmax()\n",
    "mat.argmin()\n",
    "for i in np.ndindex(B.shape):\n",
    "    print (i, B[i])\n",
    "```\n",
    "\n",
    "### Views/Slices and Copies\n",
    "```python\n",
    "ss = s[::2,::2]\n",
    "Z_view = Z[:5]; Z_view[...] = 1\n",
    "Z_copy = Z[[0,1,2]]; Z_copy[...] = 1\n",
    "```\n",
    "\n",
    "### Math\n",
    "```python\n",
    "matA = dot(matB, matC)\n",
    "```"
   ]
  },
  {
   "cell_type": "code",
   "execution_count": 42,
   "metadata": {},
   "outputs": [
    {
     "name": "stdout",
     "output_type": "stream",
     "text": [
      "[[0 1]\n",
      " [0 1]\n",
      " [2 3]\n",
      " [2 3]]\n"
     ]
    }
   ],
   "source": [
    "a = np.array([[0, 1], [2, 3]])\n",
    "a.repeat(2, axis=0)) # repeats each row twice in succession\n"
   ]
  },
  {
   "cell_type": "code",
   "execution_count": 43,
   "metadata": {},
   "outputs": [
    {
     "name": "stdout",
     "output_type": "stream",
     "text": [
      "[0 1 2 3]\n"
     ]
    }
   ],
   "source": [
    "print(a.repeat(1, axis=None))"
   ]
  },
  {
   "cell_type": "code",
   "execution_count": 44,
   "metadata": {},
   "outputs": [
    {
     "data": {
      "text/plain": [
       "array([[0, 1],\n",
       "       [2, 3]])"
      ]
     },
     "execution_count": 44,
     "metadata": {},
     "output_type": "execute_result"
    }
   ],
   "source": [
    "a"
   ]
  },
  {
   "cell_type": "code",
   "execution_count": 48,
   "metadata": {},
   "outputs": [],
   "source": [
    "b=np.matrix.flatten(a)"
   ]
  },
  {
   "cell_type": "code",
   "execution_count": 49,
   "metadata": {},
   "outputs": [
    {
     "data": {
      "text/plain": [
       "array([0, 1, 2, 3])"
      ]
     },
     "execution_count": 49,
     "metadata": {},
     "output_type": "execute_result"
    }
   ],
   "source": [
    "b"
   ]
  },
  {
   "cell_type": "code",
   "execution_count": null,
   "metadata": {},
   "outputs": [],
   "source": []
  },
  {
   "cell_type": "code",
   "execution_count": null,
   "metadata": {},
   "outputs": [],
   "source": []
  }
 ],
 "metadata": {
  "kernelspec": {
   "display_name": "Python 3",
   "language": "python",
   "name": "python3"
  },
  "language_info": {
   "codemirror_mode": {
    "name": "ipython",
    "version": 3
   },
   "file_extension": ".py",
   "mimetype": "text/x-python",
   "name": "python",
   "nbconvert_exporter": "python",
   "pygments_lexer": "ipython3",
   "version": "3.6.2"
  }
 },
 "nbformat": 4,
 "nbformat_minor": 2
}
