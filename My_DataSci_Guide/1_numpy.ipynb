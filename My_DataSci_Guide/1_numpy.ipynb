{
 "cells": [
  {
   "cell_type": "markdown",
   "metadata": {},
   "source": [
    "https://docs.scipy.org/doc/numpy-1.13.0/reference/index.html\n",
    "\n",
    "http://scipy-cookbook.readthedocs.io/items/Indexing.html\n",
    "\n",
    "http://www.labri.fr/perso/nrougier/from-python-to-numpy/"
   ]
  },
  {
   "cell_type": "code",
   "execution_count": 3,
   "metadata": {},
   "outputs": [],
   "source": [
    "import numpy as np"
   ]
  },
  {
   "cell_type": "markdown",
   "metadata": {},
   "source": [
    "### Creating vectors\n",
    "```python\n",
    "np.array(object, dtype=None, copy=True, order='K', subok=False, ndmin=0)\n",
    "np.linspace(start, stop, num=50, endpoint=True, retstep=False, dtype=None)\n",
    "np.arange([start,] stop[, step,], dtype=None)\n",
    "np.random.randint(low, high=None, size=None, dtype='l')\n",
    "```\n",
    "\n",
    "### Creating matrices\n",
    "```python\n",
    "np.arange(9).reshape(3,3).astype(np.int16)\n",
    "np.zeros(shape, dtype=float, order='C')\n",
    "np.eye(N, M=None, k=0, dtype=<class 'float'>, order='C')\n",
    "np.full(shape, fill_value, dtype=None, order='C')\n",
    "\n",
    "x, y = np.mgrid[0:10:.1, 0:10:.2]\n",
    "\n",
    "matA.repeat(repeats, axis=None) # normally chose axis=1/2\n",
    "matA.repeat(1, axis=None) # flatten method 1\n",
    "np.matrix.flatten(matA) # flatten method 2\n",
    "\n",
    "```\n",
    "\n",
    "### Selecting/Indexing\n",
    "```python\n",
    "matA.shape\n",
    "matA.ndim\n",
    "vec.argmax()\n",
    "mat.argmin()\n",
    "for i in np.ndindex(B.shape):\n",
    "    print (i, B[i])\n",
    "```\n",
    "\n",
    "### Views/Slices and Copies\n",
    "```python\n",
    "ss = s[::2,::2]\n",
    "Z_view = Z[:5]; Z_view[...] = 1\n",
    "Z_copy = Z[[0,1,2]]; Z_copy[...] = 1\n",
    "```\n",
    "\n",
    "### Math\n",
    "```python\n",
    "matA = dot(matB, matC)\n",
    "matA.std()\n",
    "matA.sum(axis=None, dtype=None, out=None, keepdims=False)\n",
    "```"
   ]
  },
  {
   "cell_type": "code",
   "execution_count": 79,
   "metadata": {},
   "outputs": [
    {
     "data": {
      "text/plain": [
       "array([[25, 64,  4, 44, 45],\n",
       "       [95, 34, 53, 23, 68]])"
      ]
     },
     "execution_count": 79,
     "metadata": {},
     "output_type": "execute_result"
    }
   ],
   "source": [
    "matA = np.random.randint(1,101, 10).reshape(2,5)\n",
    "matA"
   ]
  },
  {
   "cell_type": "code",
   "execution_count": 84,
   "metadata": {},
   "outputs": [
    {
     "data": {
      "text/plain": [
       "array([68, 23, 53, 34, 95])"
      ]
     },
     "execution_count": 84,
     "metadata": {},
     "output_type": "execute_result"
    }
   ],
   "source": [
    "matA[1,::-1]"
   ]
  },
  {
   "cell_type": "code",
   "execution_count": 85,
   "metadata": {},
   "outputs": [],
   "source": [
    "b = matA.T"
   ]
  },
  {
   "cell_type": "markdown",
   "metadata": {},
   "source": [
    "b"
   ]
  },
  {
   "cell_type": "code",
   "execution_count": 87,
   "metadata": {},
   "outputs": [
    {
     "data": {
      "text/plain": [
       "array([[45, 68],\n",
       "       [44, 23],\n",
       "       [ 4, 53],\n",
       "       [64, 34],\n",
       "       [25, 95]])"
      ]
     },
     "execution_count": 87,
     "metadata": {},
     "output_type": "execute_result"
    }
   ],
   "source": [
    "b[::-1]"
   ]
  },
  {
   "cell_type": "code",
   "execution_count": 74,
   "metadata": {},
   "outputs": [
    {
     "data": {
      "text/plain": [
       "array([121, 119, 110,  66,  89])"
      ]
     },
     "execution_count": 74,
     "metadata": {},
     "output_type": "execute_result"
    }
   ],
   "source": [
    "matA.sum(axis =0)"
   ]
  },
  {
   "cell_type": "code",
   "execution_count": null,
   "metadata": {},
   "outputs": [],
   "source": []
  },
  {
   "cell_type": "code",
   "execution_count": 75,
   "metadata": {},
   "outputs": [
    {
     "name": "stdout",
     "output_type": "stream",
     "text": [
      "[55 47 41 50 83 34 19 69 69 38]\n"
     ]
    }
   ],
   "source": [
    "print(matA.repeat(1, axis=None)[::-1])\n"
   ]
  },
  {
   "cell_type": "code",
   "execution_count": null,
   "metadata": {},
   "outputs": [],
   "source": []
  },
  {
   "cell_type": "code",
   "execution_count": null,
   "metadata": {},
   "outputs": [],
   "source": []
  }
 ],
 "metadata": {
  "kernelspec": {
   "display_name": "Python 3",
   "language": "python",
   "name": "python3"
  },
  "language_info": {
   "codemirror_mode": {
    "name": "ipython",
    "version": 3
   },
   "file_extension": ".py",
   "mimetype": "text/x-python",
   "name": "python",
   "nbconvert_exporter": "python",
   "pygments_lexer": "ipython3",
   "version": "3.6.2"
  }
 },
 "nbformat": 4,
 "nbformat_minor": 2
}
