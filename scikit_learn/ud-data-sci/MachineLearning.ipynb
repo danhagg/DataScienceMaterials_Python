{
 "cells": [
  {
   "cell_type": "markdown",
   "metadata": {},
   "source": [
    "# Machine Learning\n",
    "Machine Learning is a method of data analysis that automates analytical model building.\n",
    "\n",
    "Uses algorithms that iteratively learn from data.\n",
    "\n",
    "Allows computers to find hidden insights without being explicitly programmed where to look"
   ]
  },
  {
   "cell_type": "markdown",
   "metadata": {},
   "source": [
    "### Types of Machine Learning\n",
    "1. Supervised (labeled)\n",
    "    - Classification, regression, prediction, gradient boosting\n",
    "2. Unsupervised (unlabeled)\n",
    "    - Self-organized maps, nearest neighbour, k-means clustering, singular value decomposition\n",
    "3. Reinforcement (learn to perform an action from experience)\n",
    "    - Trial and error\n",
    "    - Agent, action, environment. Learn the best policy."
   ]
  },
  {
   "cell_type": "markdown",
   "metadata": {},
   "source": [
    "# Scikit Learn\n",
    "Every algorithm in sklearn is exposed by an estimator object\n",
    "\n",
    "The general form for importing is\n",
    "\n",
    "##### from sklearn.family import Model\n",
    "\n",
    "In all estimators:\n",
    "\n",
    "## model.fit() \n",
    "- Fit training data\n",
    "- For supervised learning model.fit accepts two arguments, data 'X', and the labels 'y'\n",
    "- Unsupervised learnining applications accepts just 'X'\n",
    "\n",
    "## model.predict(X_new)\n",
    "- For supervised and unsupervised estimators, we use the model to predict the value/label of a new set of data\n",
    "\n",
    "## model.predict_proba()\n",
    "- For some classification problems, some estimators also provide this method, which returns the probability that a new observation has each categorical label. In this case, the label with the highest probability is returned by model.predict()\n",
    "\n",
    "## model.score()\n",
    "- For supervised estimators, for classification or regression problems, most estimators implement a score method. Scores are between 0 and 1, with larger score indicating a better fit.\n",
    "\n",
    "## model.transform()\n",
    "For unsupervised estimators. Can transform new data into the new basis. Accepts X_new, returns a new representation of the data based on the unsupervised model."
   ]
  },
  {
   "cell_type": "code",
   "execution_count": 2,
   "metadata": {},
   "outputs": [],
   "source": [
    "# Train/test split\n",
    "import numpy as np\n",
    "from sklearn.model_selection import train_test_split"
   ]
  },
  {
   "cell_type": "code",
   "execution_count": 18,
   "metadata": {},
   "outputs": [],
   "source": [
    "X, y = np.arange(10).reshape((5,2)), range(5)"
   ]
  },
  {
   "cell_type": "code",
   "execution_count": 20,
   "metadata": {},
   "outputs": [
    {
     "name": "stdout",
     "output_type": "stream",
     "text": [
      "X equals: \n",
      " [[0 1]\n",
      " [2 3]\n",
      " [4 5]\n",
      " [6 7]\n",
      " [8 9]]\n",
      "y equals: \n",
      " [0, 1, 2, 3, 4]\n"
     ]
    }
   ],
   "source": [
    "# features \n",
    "print(\"X equals: \\n\", X)\n",
    "print(\"y equals: \\n\", list(y))"
   ]
  },
  {
   "cell_type": "code",
   "execution_count": 21,
   "metadata": {},
   "outputs": [],
   "source": [
    "X_train, X_test, y_train, y_test = train_test_split(x,y, test_size=0.3)"
   ]
  },
  {
   "cell_type": "code",
   "execution_count": 22,
   "metadata": {},
   "outputs": [
    {
     "data": {
      "text/plain": [
       "array([[6, 7],\n",
       "       [4, 5],\n",
       "       [0, 1]])"
      ]
     },
     "execution_count": 22,
     "metadata": {},
     "output_type": "execute_result"
    }
   ],
   "source": [
    "X_train"
   ]
  },
  {
   "cell_type": "code",
   "execution_count": 23,
   "metadata": {},
   "outputs": [
    {
     "data": {
      "text/plain": [
       "[3, 2, 0]"
      ]
     },
     "execution_count": 23,
     "metadata": {},
     "output_type": "execute_result"
    }
   ],
   "source": [
    "y_train"
   ]
  },
  {
   "cell_type": "code",
   "execution_count": 10,
   "metadata": {},
   "outputs": [
    {
     "data": {
      "text/plain": [
       "array([[4, 5],\n",
       "       [0, 1]])"
      ]
     },
     "execution_count": 10,
     "metadata": {},
     "output_type": "execute_result"
    }
   ],
   "source": [
    "x_test"
   ]
  },
  {
   "cell_type": "code",
   "execution_count": 11,
   "metadata": {},
   "outputs": [
    {
     "data": {
      "text/plain": [
       "[2, 0]"
      ]
     },
     "execution_count": 11,
     "metadata": {},
     "output_type": "execute_result"
    }
   ],
   "source": [
    "y_test"
   ]
  },
  {
   "cell_type": "code",
   "execution_count": null,
   "metadata": {},
   "outputs": [],
   "source": []
  }
 ],
 "metadata": {
  "kernelspec": {
   "display_name": "Python 3",
   "language": "python",
   "name": "python3"
  },
  "language_info": {
   "codemirror_mode": {
    "name": "ipython",
    "version": 3
   },
   "file_extension": ".py",
   "mimetype": "text/x-python",
   "name": "python",
   "nbconvert_exporter": "python",
   "pygments_lexer": "ipython3",
   "version": "3.6.2"
  }
 },
 "nbformat": 4,
 "nbformat_minor": 2
}
