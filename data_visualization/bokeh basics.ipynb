{
 "cells": [
  {
   "cell_type": "code",
   "execution_count": 2,
   "metadata": {},
   "outputs": [],
   "source": [
    "from bokeh.plotting import figure, show, output_notebook"
   ]
  },
  {
   "cell_type": "code",
   "execution_count": 4,
   "metadata": {},
   "outputs": [
    {
     "data": {
      "text/html": [
       "\n",
       "    <div class=\"bk-root\">\n",
       "        <a href=\"https://bokeh.pydata.org\" target=\"_blank\" class=\"bk-logo bk-logo-small bk-logo-notebook\"></a>\n",
       "        <span id=\"5198b59b-3940-4df2-b28d-e70c54fbd372\">Loading BokehJS ...</span>\n",
       "    </div>"
      ]
     },
     "metadata": {},
     "output_type": "display_data"
    },
    {
     "data": {
      "application/javascript": [
       "\n",
       "(function(root) {\n",
       "  function now() {\n",
       "    return new Date();\n",
       "  }\n",
       "\n",
       "  var force = true;\n",
       "\n",
       "  if (typeof (root._bokeh_onload_callbacks) === \"undefined\" || force === true) {\n",
       "    root._bokeh_onload_callbacks = [];\n",
       "    root._bokeh_is_loading = undefined;\n",
       "  }\n",
       "\n",
       "  var JS_MIME_TYPE = 'application/javascript';\n",
       "  var HTML_MIME_TYPE = 'text/html';\n",
       "  var EXEC_MIME_TYPE = 'application/vnd.bokehjs_exec.v0+json';\n",
       "  var CLASS_NAME = 'output_bokeh rendered_html';\n",
       "\n",
       "  /**\n",
       "   * Render data to the DOM node\n",
       "   */\n",
       "  function render(props, node) {\n",
       "    var script = document.createElement(\"script\");\n",
       "    node.appendChild(script);\n",
       "  }\n",
       "\n",
       "  /**\n",
       "   * Handle when an output is cleared or removed\n",
       "   */\n",
       "  function handleClearOutput(event, handle) {\n",
       "    var cell = handle.cell;\n",
       "\n",
       "    var id = cell.output_area._bokeh_element_id;\n",
       "    var server_id = cell.output_area._bokeh_server_id;\n",
       "    // Clean up Bokeh references\n",
       "    if (id !== undefined) {\n",
       "      Bokeh.index[id].model.document.clear();\n",
       "      delete Bokeh.index[id];\n",
       "    }\n",
       "\n",
       "    if (server_id !== undefined) {\n",
       "      // Clean up Bokeh references\n",
       "      var cmd = \"from bokeh.io.state import curstate; print(curstate().uuid_to_server['\" + server_id + \"'].get_sessions()[0].document.roots[0]._id)\";\n",
       "      cell.notebook.kernel.execute(cmd, {\n",
       "        iopub: {\n",
       "          output: function(msg) {\n",
       "            var element_id = msg.content.text.trim();\n",
       "            Bokeh.index[element_id].model.document.clear();\n",
       "            delete Bokeh.index[element_id];\n",
       "          }\n",
       "        }\n",
       "      });\n",
       "      // Destroy server and session\n",
       "      var cmd = \"import bokeh.io.notebook as ion; ion.destroy_server('\" + server_id + \"')\";\n",
       "      cell.notebook.kernel.execute(cmd);\n",
       "    }\n",
       "  }\n",
       "\n",
       "  /**\n",
       "   * Handle when a new output is added\n",
       "   */\n",
       "  function handleAddOutput(event, handle) {\n",
       "    var output_area = handle.output_area;\n",
       "    var output = handle.output;\n",
       "\n",
       "    // limit handleAddOutput to display_data with EXEC_MIME_TYPE content only\n",
       "    if ((output.output_type != \"display_data\") || (!output.data.hasOwnProperty(EXEC_MIME_TYPE))) {\n",
       "      return\n",
       "    }\n",
       "\n",
       "    var toinsert = output_area.element.find(\".\" + CLASS_NAME.split(' ')[0]);\n",
       "\n",
       "    if (output.metadata[EXEC_MIME_TYPE][\"id\"] !== undefined) {\n",
       "      toinsert[0].firstChild.textContent = output.data[JS_MIME_TYPE];\n",
       "      // store reference to embed id on output_area\n",
       "      output_area._bokeh_element_id = output.metadata[EXEC_MIME_TYPE][\"id\"];\n",
       "    }\n",
       "    if (output.metadata[EXEC_MIME_TYPE][\"server_id\"] !== undefined) {\n",
       "      var bk_div = document.createElement(\"div\");\n",
       "      bk_div.innerHTML = output.data[HTML_MIME_TYPE];\n",
       "      var script_attrs = bk_div.children[0].attributes;\n",
       "      for (var i = 0; i < script_attrs.length; i++) {\n",
       "        toinsert[0].firstChild.setAttribute(script_attrs[i].name, script_attrs[i].value);\n",
       "      }\n",
       "      // store reference to server id on output_area\n",
       "      output_area._bokeh_server_id = output.metadata[EXEC_MIME_TYPE][\"server_id\"];\n",
       "    }\n",
       "  }\n",
       "\n",
       "  function register_renderer(events, OutputArea) {\n",
       "\n",
       "    function append_mime(data, metadata, element) {\n",
       "      // create a DOM node to render to\n",
       "      var toinsert = this.create_output_subarea(\n",
       "        metadata,\n",
       "        CLASS_NAME,\n",
       "        EXEC_MIME_TYPE\n",
       "      );\n",
       "      this.keyboard_manager.register_events(toinsert);\n",
       "      // Render to node\n",
       "      var props = {data: data, metadata: metadata[EXEC_MIME_TYPE]};\n",
       "      render(props, toinsert[0]);\n",
       "      element.append(toinsert);\n",
       "      return toinsert\n",
       "    }\n",
       "\n",
       "    /* Handle when an output is cleared or removed */\n",
       "    events.on('clear_output.CodeCell', handleClearOutput);\n",
       "    events.on('delete.Cell', handleClearOutput);\n",
       "\n",
       "    /* Handle when a new output is added */\n",
       "    events.on('output_added.OutputArea', handleAddOutput);\n",
       "\n",
       "    /**\n",
       "     * Register the mime type and append_mime function with output_area\n",
       "     */\n",
       "    OutputArea.prototype.register_mime_type(EXEC_MIME_TYPE, append_mime, {\n",
       "      /* Is output safe? */\n",
       "      safe: true,\n",
       "      /* Index of renderer in `output_area.display_order` */\n",
       "      index: 0\n",
       "    });\n",
       "  }\n",
       "\n",
       "  // register the mime type if in Jupyter Notebook environment and previously unregistered\n",
       "  if (root.Jupyter !== undefined) {\n",
       "    var events = require('base/js/events');\n",
       "    var OutputArea = require('notebook/js/outputarea').OutputArea;\n",
       "\n",
       "    if (OutputArea.prototype.mime_types().indexOf(EXEC_MIME_TYPE) == -1) {\n",
       "      register_renderer(events, OutputArea);\n",
       "    }\n",
       "  }\n",
       "\n",
       "  \n",
       "  if (typeof (root._bokeh_timeout) === \"undefined\" || force === true) {\n",
       "    root._bokeh_timeout = Date.now() + 5000;\n",
       "    root._bokeh_failed_load = false;\n",
       "  }\n",
       "\n",
       "  var NB_LOAD_WARNING = {'data': {'text/html':\n",
       "     \"<div style='background-color: #fdd'>\\n\"+\n",
       "     \"<p>\\n\"+\n",
       "     \"BokehJS does not appear to have successfully loaded. If loading BokehJS from CDN, this \\n\"+\n",
       "     \"may be due to a slow or bad network connection. Possible fixes:\\n\"+\n",
       "     \"</p>\\n\"+\n",
       "     \"<ul>\\n\"+\n",
       "     \"<li>re-rerun `output_notebook()` to attempt to load from CDN again, or</li>\\n\"+\n",
       "     \"<li>use INLINE resources instead, as so:</li>\\n\"+\n",
       "     \"</ul>\\n\"+\n",
       "     \"<code>\\n\"+\n",
       "     \"from bokeh.resources import INLINE\\n\"+\n",
       "     \"output_notebook(resources=INLINE)\\n\"+\n",
       "     \"</code>\\n\"+\n",
       "     \"</div>\"}};\n",
       "\n",
       "  function display_loaded() {\n",
       "    var el = document.getElementById(\"5198b59b-3940-4df2-b28d-e70c54fbd372\");\n",
       "    if (el != null) {\n",
       "      el.textContent = \"BokehJS is loading...\";\n",
       "    }\n",
       "    if (root.Bokeh !== undefined) {\n",
       "      if (el != null) {\n",
       "        el.textContent = \"BokehJS \" + root.Bokeh.version + \" successfully loaded.\";\n",
       "      }\n",
       "    } else if (Date.now() < root._bokeh_timeout) {\n",
       "      setTimeout(display_loaded, 100)\n",
       "    }\n",
       "  }\n",
       "\n",
       "\n",
       "  function run_callbacks() {\n",
       "    try {\n",
       "      root._bokeh_onload_callbacks.forEach(function(callback) { callback() });\n",
       "    }\n",
       "    finally {\n",
       "      delete root._bokeh_onload_callbacks\n",
       "    }\n",
       "    console.info(\"Bokeh: all callbacks have finished\");\n",
       "  }\n",
       "\n",
       "  function load_libs(js_urls, callback) {\n",
       "    root._bokeh_onload_callbacks.push(callback);\n",
       "    if (root._bokeh_is_loading > 0) {\n",
       "      console.log(\"Bokeh: BokehJS is being loaded, scheduling callback at\", now());\n",
       "      return null;\n",
       "    }\n",
       "    if (js_urls == null || js_urls.length === 0) {\n",
       "      run_callbacks();\n",
       "      return null;\n",
       "    }\n",
       "    console.log(\"Bokeh: BokehJS not loaded, scheduling load and callback at\", now());\n",
       "    root._bokeh_is_loading = js_urls.length;\n",
       "    for (var i = 0; i < js_urls.length; i++) {\n",
       "      var url = js_urls[i];\n",
       "      var s = document.createElement('script');\n",
       "      s.src = url;\n",
       "      s.async = false;\n",
       "      s.onreadystatechange = s.onload = function() {\n",
       "        root._bokeh_is_loading--;\n",
       "        if (root._bokeh_is_loading === 0) {\n",
       "          console.log(\"Bokeh: all BokehJS libraries loaded\");\n",
       "          run_callbacks()\n",
       "        }\n",
       "      };\n",
       "      s.onerror = function() {\n",
       "        console.warn(\"failed to load library \" + url);\n",
       "      };\n",
       "      console.log(\"Bokeh: injecting script tag for BokehJS library: \", url);\n",
       "      document.getElementsByTagName(\"head\")[0].appendChild(s);\n",
       "    }\n",
       "  };var element = document.getElementById(\"5198b59b-3940-4df2-b28d-e70c54fbd372\");\n",
       "  if (element == null) {\n",
       "    console.log(\"Bokeh: ERROR: autoload.js configured with elementid '5198b59b-3940-4df2-b28d-e70c54fbd372' but no matching script tag was found. \")\n",
       "    return false;\n",
       "  }\n",
       "\n",
       "  var js_urls = [\"https://cdn.pydata.org/bokeh/release/bokeh-0.12.13.min.js\", \"https://cdn.pydata.org/bokeh/release/bokeh-widgets-0.12.13.min.js\", \"https://cdn.pydata.org/bokeh/release/bokeh-tables-0.12.13.min.js\", \"https://cdn.pydata.org/bokeh/release/bokeh-gl-0.12.13.min.js\"];\n",
       "\n",
       "  var inline_js = [\n",
       "    function(Bokeh) {\n",
       "      Bokeh.set_log_level(\"info\");\n",
       "    },\n",
       "    \n",
       "    function(Bokeh) {\n",
       "      \n",
       "    },\n",
       "    function(Bokeh) {\n",
       "      console.log(\"Bokeh: injecting CSS: https://cdn.pydata.org/bokeh/release/bokeh-0.12.13.min.css\");\n",
       "      Bokeh.embed.inject_css(\"https://cdn.pydata.org/bokeh/release/bokeh-0.12.13.min.css\");\n",
       "      console.log(\"Bokeh: injecting CSS: https://cdn.pydata.org/bokeh/release/bokeh-widgets-0.12.13.min.css\");\n",
       "      Bokeh.embed.inject_css(\"https://cdn.pydata.org/bokeh/release/bokeh-widgets-0.12.13.min.css\");\n",
       "      console.log(\"Bokeh: injecting CSS: https://cdn.pydata.org/bokeh/release/bokeh-tables-0.12.13.min.css\");\n",
       "      Bokeh.embed.inject_css(\"https://cdn.pydata.org/bokeh/release/bokeh-tables-0.12.13.min.css\");\n",
       "    }\n",
       "  ];\n",
       "\n",
       "  function run_inline_js() {\n",
       "    \n",
       "    if ((root.Bokeh !== undefined) || (force === true)) {\n",
       "      for (var i = 0; i < inline_js.length; i++) {\n",
       "        inline_js[i].call(root, root.Bokeh);\n",
       "      }if (force === true) {\n",
       "        display_loaded();\n",
       "      }} else if (Date.now() < root._bokeh_timeout) {\n",
       "      setTimeout(run_inline_js, 100);\n",
       "    } else if (!root._bokeh_failed_load) {\n",
       "      console.log(\"Bokeh: BokehJS failed to load within specified timeout.\");\n",
       "      root._bokeh_failed_load = true;\n",
       "    } else if (force !== true) {\n",
       "      var cell = $(document.getElementById(\"5198b59b-3940-4df2-b28d-e70c54fbd372\")).parents('.cell').data().cell;\n",
       "      cell.output_area.append_execute_result(NB_LOAD_WARNING)\n",
       "    }\n",
       "\n",
       "  }\n",
       "\n",
       "  if (root._bokeh_is_loading === 0) {\n",
       "    console.log(\"Bokeh: BokehJS loaded, going straight to plotting\");\n",
       "    run_inline_js();\n",
       "  } else {\n",
       "    load_libs(js_urls, function() {\n",
       "      console.log(\"Bokeh: BokehJS plotting callback run at\", now());\n",
       "      run_inline_js();\n",
       "    });\n",
       "  }\n",
       "}(window));"
      ],
      "application/vnd.bokehjs_load.v0+json": "\n(function(root) {\n  function now() {\n    return new Date();\n  }\n\n  var force = true;\n\n  if (typeof (root._bokeh_onload_callbacks) === \"undefined\" || force === true) {\n    root._bokeh_onload_callbacks = [];\n    root._bokeh_is_loading = undefined;\n  }\n\n  \n\n  \n  if (typeof (root._bokeh_timeout) === \"undefined\" || force === true) {\n    root._bokeh_timeout = Date.now() + 5000;\n    root._bokeh_failed_load = false;\n  }\n\n  var NB_LOAD_WARNING = {'data': {'text/html':\n     \"<div style='background-color: #fdd'>\\n\"+\n     \"<p>\\n\"+\n     \"BokehJS does not appear to have successfully loaded. If loading BokehJS from CDN, this \\n\"+\n     \"may be due to a slow or bad network connection. Possible fixes:\\n\"+\n     \"</p>\\n\"+\n     \"<ul>\\n\"+\n     \"<li>re-rerun `output_notebook()` to attempt to load from CDN again, or</li>\\n\"+\n     \"<li>use INLINE resources instead, as so:</li>\\n\"+\n     \"</ul>\\n\"+\n     \"<code>\\n\"+\n     \"from bokeh.resources import INLINE\\n\"+\n     \"output_notebook(resources=INLINE)\\n\"+\n     \"</code>\\n\"+\n     \"</div>\"}};\n\n  function display_loaded() {\n    var el = document.getElementById(\"5198b59b-3940-4df2-b28d-e70c54fbd372\");\n    if (el != null) {\n      el.textContent = \"BokehJS is loading...\";\n    }\n    if (root.Bokeh !== undefined) {\n      if (el != null) {\n        el.textContent = \"BokehJS \" + root.Bokeh.version + \" successfully loaded.\";\n      }\n    } else if (Date.now() < root._bokeh_timeout) {\n      setTimeout(display_loaded, 100)\n    }\n  }\n\n\n  function run_callbacks() {\n    try {\n      root._bokeh_onload_callbacks.forEach(function(callback) { callback() });\n    }\n    finally {\n      delete root._bokeh_onload_callbacks\n    }\n    console.info(\"Bokeh: all callbacks have finished\");\n  }\n\n  function load_libs(js_urls, callback) {\n    root._bokeh_onload_callbacks.push(callback);\n    if (root._bokeh_is_loading > 0) {\n      console.log(\"Bokeh: BokehJS is being loaded, scheduling callback at\", now());\n      return null;\n    }\n    if (js_urls == null || js_urls.length === 0) {\n      run_callbacks();\n      return null;\n    }\n    console.log(\"Bokeh: BokehJS not loaded, scheduling load and callback at\", now());\n    root._bokeh_is_loading = js_urls.length;\n    for (var i = 0; i < js_urls.length; i++) {\n      var url = js_urls[i];\n      var s = document.createElement('script');\n      s.src = url;\n      s.async = false;\n      s.onreadystatechange = s.onload = function() {\n        root._bokeh_is_loading--;\n        if (root._bokeh_is_loading === 0) {\n          console.log(\"Bokeh: all BokehJS libraries loaded\");\n          run_callbacks()\n        }\n      };\n      s.onerror = function() {\n        console.warn(\"failed to load library \" + url);\n      };\n      console.log(\"Bokeh: injecting script tag for BokehJS library: \", url);\n      document.getElementsByTagName(\"head\")[0].appendChild(s);\n    }\n  };var element = document.getElementById(\"5198b59b-3940-4df2-b28d-e70c54fbd372\");\n  if (element == null) {\n    console.log(\"Bokeh: ERROR: autoload.js configured with elementid '5198b59b-3940-4df2-b28d-e70c54fbd372' but no matching script tag was found. \")\n    return false;\n  }\n\n  var js_urls = [\"https://cdn.pydata.org/bokeh/release/bokeh-0.12.13.min.js\", \"https://cdn.pydata.org/bokeh/release/bokeh-widgets-0.12.13.min.js\", \"https://cdn.pydata.org/bokeh/release/bokeh-tables-0.12.13.min.js\", \"https://cdn.pydata.org/bokeh/release/bokeh-gl-0.12.13.min.js\"];\n\n  var inline_js = [\n    function(Bokeh) {\n      Bokeh.set_log_level(\"info\");\n    },\n    \n    function(Bokeh) {\n      \n    },\n    function(Bokeh) {\n      console.log(\"Bokeh: injecting CSS: https://cdn.pydata.org/bokeh/release/bokeh-0.12.13.min.css\");\n      Bokeh.embed.inject_css(\"https://cdn.pydata.org/bokeh/release/bokeh-0.12.13.min.css\");\n      console.log(\"Bokeh: injecting CSS: https://cdn.pydata.org/bokeh/release/bokeh-widgets-0.12.13.min.css\");\n      Bokeh.embed.inject_css(\"https://cdn.pydata.org/bokeh/release/bokeh-widgets-0.12.13.min.css\");\n      console.log(\"Bokeh: injecting CSS: https://cdn.pydata.org/bokeh/release/bokeh-tables-0.12.13.min.css\");\n      Bokeh.embed.inject_css(\"https://cdn.pydata.org/bokeh/release/bokeh-tables-0.12.13.min.css\");\n    }\n  ];\n\n  function run_inline_js() {\n    \n    if ((root.Bokeh !== undefined) || (force === true)) {\n      for (var i = 0; i < inline_js.length; i++) {\n        inline_js[i].call(root, root.Bokeh);\n      }if (force === true) {\n        display_loaded();\n      }} else if (Date.now() < root._bokeh_timeout) {\n      setTimeout(run_inline_js, 100);\n    } else if (!root._bokeh_failed_load) {\n      console.log(\"Bokeh: BokehJS failed to load within specified timeout.\");\n      root._bokeh_failed_load = true;\n    } else if (force !== true) {\n      var cell = $(document.getElementById(\"5198b59b-3940-4df2-b28d-e70c54fbd372\")).parents('.cell').data().cell;\n      cell.output_area.append_execute_result(NB_LOAD_WARNING)\n    }\n\n  }\n\n  if (root._bokeh_is_loading === 0) {\n    console.log(\"Bokeh: BokehJS loaded, going straight to plotting\");\n    run_inline_js();\n  } else {\n    load_libs(js_urls, function() {\n      console.log(\"Bokeh: BokehJS plotting callback run at\", now());\n      run_inline_js();\n    });\n  }\n}(window));"
     },
     "metadata": {},
     "output_type": "display_data"
    },
    {
     "data": {
      "text/html": [
       "\n",
       "<div class=\"bk-root\">\n",
       "    <div class=\"bk-plotdiv\" id=\"8cbad46e-0705-4844-89af-844a775c185d\"></div>\n",
       "</div>"
      ]
     },
     "metadata": {},
     "output_type": "display_data"
    },
    {
     "data": {
      "application/javascript": [
       "(function(root) {\n",
       "  function embed_document(root) {\n",
       "    \n",
       "  var docs_json = {\"bc78fa95-0414-4df3-a858-52142ce57eb9\":{\"roots\":{\"references\":[{\"attributes\":{\"source\":{\"id\":\"4ceb5e8a-ba26-4469-b672-e7d72d29fbf2\",\"type\":\"ColumnDataSource\"}},\"id\":\"55dd22cf-c838-46f7-8178-fc3068d5966f\",\"type\":\"CDSView\"},{\"attributes\":{\"line_alpha\":{\"value\":0.1},\"line_color\":{\"value\":\"#1f77b4\"},\"line_width\":{\"value\":4},\"xs\":{\"field\":\"xs\"},\"ys\":{\"field\":\"ys\"}},\"id\":\"e7d93789-8fd1-4964-9890-1994f0288aeb\",\"type\":\"MultiLine\"},{\"attributes\":{},\"id\":\"8bf562d6-8ea9-44df-8c22-49984d6aee3b\",\"type\":\"BasicTickFormatter\"},{\"attributes\":{},\"id\":\"28686ccc-1f89-4ecc-b617-e4fe3d002e9e\",\"type\":\"LinearScale\"},{\"attributes\":{\"below\":[{\"id\":\"78ad9a89-65b8-4e98-90af-9648cbc86f9e\",\"type\":\"LinearAxis\"}],\"left\":[{\"id\":\"13cacacd-fd4d-43fa-a260-7a69c9488fdc\",\"type\":\"LinearAxis\"}],\"plot_height\":400,\"plot_width\":400,\"renderers\":[{\"id\":\"78ad9a89-65b8-4e98-90af-9648cbc86f9e\",\"type\":\"LinearAxis\"},{\"id\":\"d97b8ff8-81bc-44c3-8068-9af909667ca8\",\"type\":\"Grid\"},{\"id\":\"13cacacd-fd4d-43fa-a260-7a69c9488fdc\",\"type\":\"LinearAxis\"},{\"id\":\"6beaf37c-6350-4db8-b8aa-12b76f6c7a25\",\"type\":\"Grid\"},{\"id\":\"92ebc6bf-9592-443a-855d-1fe92a99c426\",\"type\":\"BoxAnnotation\"},{\"id\":\"a6e7aec4-c9e9-46fe-8190-22e2011a0745\",\"type\":\"GlyphRenderer\"}],\"title\":{\"id\":\"4af62e32-41fd-4263-9262-6e9e8e867a0d\",\"type\":\"Title\"},\"toolbar\":{\"id\":\"c379077b-8c43-4858-a908-1f333af3100b\",\"type\":\"Toolbar\"},\"x_range\":{\"id\":\"e9d59bb0-d5c1-410d-baf5-f0c5ede0ab11\",\"type\":\"DataRange1d\"},\"x_scale\":{\"id\":\"9883b3d8-ce44-4c44-ba43-92a761781aff\",\"type\":\"LinearScale\"},\"y_range\":{\"id\":\"ea1d4dc4-7fd4-4c9e-8767-07a11ae4c135\",\"type\":\"DataRange1d\"},\"y_scale\":{\"id\":\"28686ccc-1f89-4ecc-b617-e4fe3d002e9e\",\"type\":\"LinearScale\"}},\"id\":\"4e581f5b-57bd-46f6-8cc6-c49cf2dfacc4\",\"subtype\":\"Figure\",\"type\":\"Plot\"},{\"attributes\":{},\"id\":\"97d427c8-b7d0-4aea-ab29-fa24902c9277\",\"type\":\"SaveTool\"},{\"attributes\":{},\"id\":\"ff462144-0902-404d-afc7-4b5ac6fba7dd\",\"type\":\"BasicTicker\"},{\"attributes\":{\"callback\":null,\"column_names\":[\"xs\",\"ys\",\"line_color\",\"line_alpha\"],\"data\":{\"line_alpha\":[0.8,0.3],\"line_color\":[\"firebrick\",\"navy\"],\"xs\":[[1,3,2],[3,4,6,6]],\"ys\":[[2,1,4],[4,7,8,5]]}},\"id\":\"4ceb5e8a-ba26-4469-b672-e7d72d29fbf2\",\"type\":\"ColumnDataSource\"},{\"attributes\":{\"plot\":null,\"text\":\"\"},\"id\":\"4af62e32-41fd-4263-9262-6e9e8e867a0d\",\"type\":\"Title\"},{\"attributes\":{\"formatter\":{\"id\":\"8bf562d6-8ea9-44df-8c22-49984d6aee3b\",\"type\":\"BasicTickFormatter\"},\"plot\":{\"id\":\"4e581f5b-57bd-46f6-8cc6-c49cf2dfacc4\",\"subtype\":\"Figure\",\"type\":\"Plot\"},\"ticker\":{\"id\":\"37a6027d-30ee-4589-b6af-19b1d56f4dcf\",\"type\":\"BasicTicker\"}},\"id\":\"78ad9a89-65b8-4e98-90af-9648cbc86f9e\",\"type\":\"LinearAxis\"},{\"attributes\":{\"data_source\":{\"id\":\"4ceb5e8a-ba26-4469-b672-e7d72d29fbf2\",\"type\":\"ColumnDataSource\"},\"glyph\":{\"id\":\"d77055f4-54ef-4658-83d5-4e543a515384\",\"type\":\"MultiLine\"},\"hover_glyph\":null,\"muted_glyph\":null,\"nonselection_glyph\":{\"id\":\"e7d93789-8fd1-4964-9890-1994f0288aeb\",\"type\":\"MultiLine\"},\"selection_glyph\":null,\"view\":{\"id\":\"55dd22cf-c838-46f7-8178-fc3068d5966f\",\"type\":\"CDSView\"}},\"id\":\"a6e7aec4-c9e9-46fe-8190-22e2011a0745\",\"type\":\"GlyphRenderer\"},{\"attributes\":{},\"id\":\"04fd604e-bb4c-415b-9b3d-9decfeb006df\",\"type\":\"BasicTickFormatter\"},{\"attributes\":{\"active_drag\":\"auto\",\"active_inspect\":\"auto\",\"active_scroll\":\"auto\",\"active_tap\":\"auto\",\"tools\":[{\"id\":\"2dbea3ee-7c6a-4638-a193-f33513825757\",\"type\":\"PanTool\"},{\"id\":\"7709a380-c435-406d-861e-926cf6e17332\",\"type\":\"WheelZoomTool\"},{\"id\":\"a20fef30-b5e9-4a95-abb3-2b8943363004\",\"type\":\"BoxZoomTool\"},{\"id\":\"97d427c8-b7d0-4aea-ab29-fa24902c9277\",\"type\":\"SaveTool\"},{\"id\":\"9494b09f-a88e-446d-80ac-538da57a4197\",\"type\":\"ResetTool\"},{\"id\":\"f017c0dc-d69c-4095-a960-3f8ee809926e\",\"type\":\"HelpTool\"}]},\"id\":\"c379077b-8c43-4858-a908-1f333af3100b\",\"type\":\"Toolbar\"},{\"attributes\":{},\"id\":\"2dbea3ee-7c6a-4638-a193-f33513825757\",\"type\":\"PanTool\"},{\"attributes\":{\"formatter\":{\"id\":\"04fd604e-bb4c-415b-9b3d-9decfeb006df\",\"type\":\"BasicTickFormatter\"},\"plot\":{\"id\":\"4e581f5b-57bd-46f6-8cc6-c49cf2dfacc4\",\"subtype\":\"Figure\",\"type\":\"Plot\"},\"ticker\":{\"id\":\"ff462144-0902-404d-afc7-4b5ac6fba7dd\",\"type\":\"BasicTicker\"}},\"id\":\"13cacacd-fd4d-43fa-a260-7a69c9488fdc\",\"type\":\"LinearAxis\"},{\"attributes\":{},\"id\":\"f017c0dc-d69c-4095-a960-3f8ee809926e\",\"type\":\"HelpTool\"},{\"attributes\":{},\"id\":\"9494b09f-a88e-446d-80ac-538da57a4197\",\"type\":\"ResetTool\"},{\"attributes\":{\"dimension\":1,\"plot\":{\"id\":\"4e581f5b-57bd-46f6-8cc6-c49cf2dfacc4\",\"subtype\":\"Figure\",\"type\":\"Plot\"},\"ticker\":{\"id\":\"ff462144-0902-404d-afc7-4b5ac6fba7dd\",\"type\":\"BasicTicker\"}},\"id\":\"6beaf37c-6350-4db8-b8aa-12b76f6c7a25\",\"type\":\"Grid\"},{\"attributes\":{},\"id\":\"9883b3d8-ce44-4c44-ba43-92a761781aff\",\"type\":\"LinearScale\"},{\"attributes\":{\"bottom_units\":\"screen\",\"fill_alpha\":{\"value\":0.5},\"fill_color\":{\"value\":\"lightgrey\"},\"left_units\":\"screen\",\"level\":\"overlay\",\"line_alpha\":{\"value\":1.0},\"line_color\":{\"value\":\"black\"},\"line_dash\":[4,4],\"line_width\":{\"value\":2},\"plot\":null,\"render_mode\":\"css\",\"right_units\":\"screen\",\"top_units\":\"screen\"},\"id\":\"92ebc6bf-9592-443a-855d-1fe92a99c426\",\"type\":\"BoxAnnotation\"},{\"attributes\":{},\"id\":\"37a6027d-30ee-4589-b6af-19b1d56f4dcf\",\"type\":\"BasicTicker\"},{\"attributes\":{\"callback\":null},\"id\":\"e9d59bb0-d5c1-410d-baf5-f0c5ede0ab11\",\"type\":\"DataRange1d\"},{\"attributes\":{\"callback\":null},\"id\":\"ea1d4dc4-7fd4-4c9e-8767-07a11ae4c135\",\"type\":\"DataRange1d\"},{\"attributes\":{\"plot\":{\"id\":\"4e581f5b-57bd-46f6-8cc6-c49cf2dfacc4\",\"subtype\":\"Figure\",\"type\":\"Plot\"},\"ticker\":{\"id\":\"37a6027d-30ee-4589-b6af-19b1d56f4dcf\",\"type\":\"BasicTicker\"}},\"id\":\"d97b8ff8-81bc-44c3-8068-9af909667ca8\",\"type\":\"Grid\"},{\"attributes\":{},\"id\":\"7709a380-c435-406d-861e-926cf6e17332\",\"type\":\"WheelZoomTool\"},{\"attributes\":{\"overlay\":{\"id\":\"92ebc6bf-9592-443a-855d-1fe92a99c426\",\"type\":\"BoxAnnotation\"}},\"id\":\"a20fef30-b5e9-4a95-abb3-2b8943363004\",\"type\":\"BoxZoomTool\"},{\"attributes\":{\"line_alpha\":{\"field\":\"line_alpha\"},\"line_color\":{\"field\":\"line_color\"},\"line_width\":{\"value\":4},\"xs\":{\"field\":\"xs\"},\"ys\":{\"field\":\"ys\"}},\"id\":\"d77055f4-54ef-4658-83d5-4e543a515384\",\"type\":\"MultiLine\"}],\"root_ids\":[\"4e581f5b-57bd-46f6-8cc6-c49cf2dfacc4\"]},\"title\":\"Bokeh Application\",\"version\":\"0.12.13\"}};\n",
       "  var render_items = [{\"docid\":\"bc78fa95-0414-4df3-a858-52142ce57eb9\",\"elementid\":\"8cbad46e-0705-4844-89af-844a775c185d\",\"modelid\":\"4e581f5b-57bd-46f6-8cc6-c49cf2dfacc4\"}];\n",
       "  root.Bokeh.embed.embed_items_notebook(docs_json, render_items);\n",
       "\n",
       "  }\n",
       "  if (root.Bokeh !== undefined) {\n",
       "    embed_document(root);\n",
       "  } else {\n",
       "    var attempts = 0;\n",
       "    var timer = setInterval(function(root) {\n",
       "      if (root.Bokeh !== undefined) {\n",
       "        embed_document(root);\n",
       "        clearInterval(timer);\n",
       "      }\n",
       "      attempts++;\n",
       "      if (attempts > 100) {\n",
       "        console.log(\"Bokeh: ERROR: Unable to run BokehJS code because BokehJS library is missing\")\n",
       "        clearInterval(timer);\n",
       "      }\n",
       "    }, 10, root)\n",
       "  }\n",
       "})(window);"
      ],
      "application/vnd.bokehjs_exec.v0+json": ""
     },
     "metadata": {
      "application/vnd.bokehjs_exec.v0+json": {
       "id": "4e581f5b-57bd-46f6-8cc6-c49cf2dfacc4"
      }
     },
     "output_type": "display_data"
    }
   ],
   "source": [
    "p = figure(plot_width=400, plot_height=400)\n",
    "\n",
    "p.multi_line([[1, 3, 2], [3, 4, 6, 6]], [[2, 1, 4], [4, 7, 8, 5]],\n",
    "             color=[\"firebrick\", \"navy\"], alpha=[0.8, 0.3], line_width=4)\n",
    "output_notebook()\n",
    "\n",
    "show(p)"
   ]
  },
  {
   "cell_type": "code",
   "execution_count": 4,
   "metadata": {},
   "outputs": [
    {
     "data": {
      "text/html": [
       "\n",
       "<div class=\"bk-root\">\n",
       "    <div class=\"bk-plotdiv\" id=\"c16bb60c-5747-494d-bfb4-f6bc53d7ce51\"></div>\n",
       "</div>"
      ]
     },
     "metadata": {},
     "output_type": "display_data"
    },
    {
     "data": {
      "application/javascript": [
       "(function(root) {\n",
       "  function embed_document(root) {\n",
       "    \n",
       "  var docs_json = {\"1b6c4ebb-d738-4cc1-85d9-fd52886f89d9\":{\"roots\":{\"references\":[{\"attributes\":{\"plot\":{\"id\":\"cf5a6530-6a04-4dd3-a5b7-62f3d0a987e3\",\"subtype\":\"Figure\",\"type\":\"Plot\"},\"ticker\":{\"id\":\"ad54f13b-35ae-4a26-865d-6059f567763c\",\"type\":\"BasicTicker\"}},\"id\":\"8a75f5af-ea5c-416f-b2a5-6723a3e5e18a\",\"type\":\"Grid\"},{\"attributes\":{\"callback\":null},\"id\":\"93cc743e-37cb-4c3e-b4d7-22386d647556\",\"type\":\"DataRange1d\"},{\"attributes\":{},\"id\":\"7f4a3a2d-fb70-4047-9500-72a93d96b67e\",\"type\":\"LinearScale\"},{\"attributes\":{\"data_source\":{\"id\":\"4cf24aed-deee-41e8-b984-9ec2f1545cce\",\"type\":\"ColumnDataSource\"},\"glyph\":{\"id\":\"a38359a7-8c39-4f40-9213-86f3af6a1806\",\"type\":\"Circle\"},\"hover_glyph\":null,\"muted_glyph\":null,\"nonselection_glyph\":{\"id\":\"01671a40-80ab-4dbc-9519-342afbc711e1\",\"type\":\"Circle\"},\"selection_glyph\":null,\"view\":{\"id\":\"1de63ded-7ed3-4cd5-8509-f3a99341277d\",\"type\":\"CDSView\"}},\"id\":\"ca32252b-0939-4b20-abef-c595803f7c7a\",\"type\":\"GlyphRenderer\"},{\"attributes\":{},\"id\":\"e9c96359-6c44-40d2-96f1-7d7dc7a8afed\",\"type\":\"BasicTickFormatter\"},{\"attributes\":{},\"id\":\"ad54f13b-35ae-4a26-865d-6059f567763c\",\"type\":\"BasicTicker\"},{\"attributes\":{\"below\":[{\"id\":\"2de9a349-5352-47db-8234-e632291bc2dd\",\"type\":\"LinearAxis\"}],\"left\":[{\"id\":\"9e2a0474-6c48-4cf3-a5fa-8a867c92aaf0\",\"type\":\"LinearAxis\"}],\"plot_height\":400,\"plot_width\":400,\"renderers\":[{\"id\":\"2de9a349-5352-47db-8234-e632291bc2dd\",\"type\":\"LinearAxis\"},{\"id\":\"8a75f5af-ea5c-416f-b2a5-6723a3e5e18a\",\"type\":\"Grid\"},{\"id\":\"9e2a0474-6c48-4cf3-a5fa-8a867c92aaf0\",\"type\":\"LinearAxis\"},{\"id\":\"4d6b1b5a-2ef9-48f6-8849-d153c44c142d\",\"type\":\"Grid\"},{\"id\":\"de7461d9-5104-40df-a1e7-50d55df06060\",\"type\":\"BoxAnnotation\"},{\"id\":\"ca32252b-0939-4b20-abef-c595803f7c7a\",\"type\":\"GlyphRenderer\"}],\"title\":{\"id\":\"dd198b05-888c-4aea-bc3d-de643acf3eb0\",\"type\":\"Title\"},\"toolbar\":{\"id\":\"134e82bf-b3f4-408b-9ab8-23d56ecb76ad\",\"type\":\"Toolbar\"},\"x_range\":{\"id\":\"9e5080a7-5fda-4265-be98-d7bdc202c56e\",\"type\":\"DataRange1d\"},\"x_scale\":{\"id\":\"dce8a5f6-a2e4-438c-b936-0622137f4a05\",\"type\":\"LinearScale\"},\"y_range\":{\"id\":\"93cc743e-37cb-4c3e-b4d7-22386d647556\",\"type\":\"DataRange1d\"},\"y_scale\":{\"id\":\"7f4a3a2d-fb70-4047-9500-72a93d96b67e\",\"type\":\"LinearScale\"}},\"id\":\"cf5a6530-6a04-4dd3-a5b7-62f3d0a987e3\",\"subtype\":\"Figure\",\"type\":\"Plot\"},{\"attributes\":{\"bottom_units\":\"screen\",\"fill_alpha\":{\"value\":0.5},\"fill_color\":{\"value\":\"lightgrey\"},\"left_units\":\"screen\",\"level\":\"overlay\",\"line_alpha\":{\"value\":1.0},\"line_color\":{\"value\":\"black\"},\"line_dash\":[4,4],\"line_width\":{\"value\":2},\"plot\":null,\"render_mode\":\"css\",\"right_units\":\"screen\",\"top_units\":\"screen\"},\"id\":\"de7461d9-5104-40df-a1e7-50d55df06060\",\"type\":\"BoxAnnotation\"},{\"attributes\":{\"fill_alpha\":{\"value\":0.1},\"fill_color\":{\"value\":\"#1f77b4\"},\"line_alpha\":{\"value\":0.1},\"line_color\":{\"value\":\"#1f77b4\"},\"size\":{\"units\":\"screen\",\"value\":20},\"x\":{\"field\":\"x\"},\"y\":{\"field\":\"y\"}},\"id\":\"01671a40-80ab-4dbc-9519-342afbc711e1\",\"type\":\"Circle\"},{\"attributes\":{},\"id\":\"aec46278-d408-4a43-9c03-6c77532dbb8d\",\"type\":\"ResetTool\"},{\"attributes\":{\"active_drag\":\"auto\",\"active_inspect\":\"auto\",\"active_scroll\":\"auto\",\"active_tap\":\"auto\",\"tools\":[{\"id\":\"d51a8f7f-ddca-43d7-a2f5-baac7dcdff29\",\"type\":\"PanTool\"},{\"id\":\"82345572-114d-4fa2-b5ff-4680bb42dfeb\",\"type\":\"WheelZoomTool\"},{\"id\":\"14d9e035-a048-41cd-936a-e6eab803690b\",\"type\":\"BoxZoomTool\"},{\"id\":\"9505f873-a91e-4e7d-b039-373de984e513\",\"type\":\"SaveTool\"},{\"id\":\"aec46278-d408-4a43-9c03-6c77532dbb8d\",\"type\":\"ResetTool\"},{\"id\":\"ef30a28c-5212-46fa-8141-f3cb1ce877d7\",\"type\":\"HelpTool\"}]},\"id\":\"134e82bf-b3f4-408b-9ab8-23d56ecb76ad\",\"type\":\"Toolbar\"},{\"attributes\":{},\"id\":\"06c68c5d-f7e1-4dc3-9dd4-55ef1b3469c5\",\"type\":\"BasicTickFormatter\"},{\"attributes\":{},\"id\":\"ef30a28c-5212-46fa-8141-f3cb1ce877d7\",\"type\":\"HelpTool\"},{\"attributes\":{\"source\":{\"id\":\"4cf24aed-deee-41e8-b984-9ec2f1545cce\",\"type\":\"ColumnDataSource\"}},\"id\":\"1de63ded-7ed3-4cd5-8509-f3a99341277d\",\"type\":\"CDSView\"},{\"attributes\":{\"callback\":null},\"id\":\"9e5080a7-5fda-4265-be98-d7bdc202c56e\",\"type\":\"DataRange1d\"},{\"attributes\":{\"fill_alpha\":{\"value\":0.5},\"fill_color\":{\"value\":\"navy\"},\"line_alpha\":{\"value\":0.5},\"line_color\":{\"value\":\"navy\"},\"size\":{\"units\":\"screen\",\"value\":20},\"x\":{\"field\":\"x\"},\"y\":{\"field\":\"y\"}},\"id\":\"a38359a7-8c39-4f40-9213-86f3af6a1806\",\"type\":\"Circle\"},{\"attributes\":{},\"id\":\"9505f873-a91e-4e7d-b039-373de984e513\",\"type\":\"SaveTool\"},{\"attributes\":{\"formatter\":{\"id\":\"e9c96359-6c44-40d2-96f1-7d7dc7a8afed\",\"type\":\"BasicTickFormatter\"},\"plot\":{\"id\":\"cf5a6530-6a04-4dd3-a5b7-62f3d0a987e3\",\"subtype\":\"Figure\",\"type\":\"Plot\"},\"ticker\":{\"id\":\"6adce5f4-fca2-4142-82c8-2ad816b6a370\",\"type\":\"BasicTicker\"}},\"id\":\"9e2a0474-6c48-4cf3-a5fa-8a867c92aaf0\",\"type\":\"LinearAxis\"},{\"attributes\":{\"overlay\":{\"id\":\"de7461d9-5104-40df-a1e7-50d55df06060\",\"type\":\"BoxAnnotation\"}},\"id\":\"14d9e035-a048-41cd-936a-e6eab803690b\",\"type\":\"BoxZoomTool\"},{\"attributes\":{\"callback\":null,\"column_names\":[\"x\",\"y\"],\"data\":{\"x\":[1,2,3,4,5],\"y\":[6,7,2,4,5]}},\"id\":\"4cf24aed-deee-41e8-b984-9ec2f1545cce\",\"type\":\"ColumnDataSource\"},{\"attributes\":{\"dimension\":1,\"plot\":{\"id\":\"cf5a6530-6a04-4dd3-a5b7-62f3d0a987e3\",\"subtype\":\"Figure\",\"type\":\"Plot\"},\"ticker\":{\"id\":\"6adce5f4-fca2-4142-82c8-2ad816b6a370\",\"type\":\"BasicTicker\"}},\"id\":\"4d6b1b5a-2ef9-48f6-8849-d153c44c142d\",\"type\":\"Grid\"},{\"attributes\":{\"plot\":null,\"text\":\"\"},\"id\":\"dd198b05-888c-4aea-bc3d-de643acf3eb0\",\"type\":\"Title\"},{\"attributes\":{},\"id\":\"d51a8f7f-ddca-43d7-a2f5-baac7dcdff29\",\"type\":\"PanTool\"},{\"attributes\":{},\"id\":\"dce8a5f6-a2e4-438c-b936-0622137f4a05\",\"type\":\"LinearScale\"},{\"attributes\":{\"formatter\":{\"id\":\"06c68c5d-f7e1-4dc3-9dd4-55ef1b3469c5\",\"type\":\"BasicTickFormatter\"},\"plot\":{\"id\":\"cf5a6530-6a04-4dd3-a5b7-62f3d0a987e3\",\"subtype\":\"Figure\",\"type\":\"Plot\"},\"ticker\":{\"id\":\"ad54f13b-35ae-4a26-865d-6059f567763c\",\"type\":\"BasicTicker\"}},\"id\":\"2de9a349-5352-47db-8234-e632291bc2dd\",\"type\":\"LinearAxis\"},{\"attributes\":{},\"id\":\"6adce5f4-fca2-4142-82c8-2ad816b6a370\",\"type\":\"BasicTicker\"},{\"attributes\":{},\"id\":\"82345572-114d-4fa2-b5ff-4680bb42dfeb\",\"type\":\"WheelZoomTool\"}],\"root_ids\":[\"cf5a6530-6a04-4dd3-a5b7-62f3d0a987e3\"]},\"title\":\"Bokeh Application\",\"version\":\"0.12.13\"}};\n",
       "  var render_items = [{\"docid\":\"1b6c4ebb-d738-4cc1-85d9-fd52886f89d9\",\"elementid\":\"c16bb60c-5747-494d-bfb4-f6bc53d7ce51\",\"modelid\":\"cf5a6530-6a04-4dd3-a5b7-62f3d0a987e3\"}];\n",
       "  root.Bokeh.embed.embed_items_notebook(docs_json, render_items);\n",
       "\n",
       "  }\n",
       "  if (root.Bokeh !== undefined) {\n",
       "    embed_document(root);\n",
       "  } else {\n",
       "    var attempts = 0;\n",
       "    var timer = setInterval(function(root) {\n",
       "      if (root.Bokeh !== undefined) {\n",
       "        embed_document(root);\n",
       "        clearInterval(timer);\n",
       "      }\n",
       "      attempts++;\n",
       "      if (attempts > 100) {\n",
       "        console.log(\"Bokeh: ERROR: Unable to run BokehJS code because BokehJS library is missing\")\n",
       "        clearInterval(timer);\n",
       "      }\n",
       "    }, 10, root)\n",
       "  }\n",
       "})(window);"
      ],
      "application/vnd.bokehjs_exec.v0+json": ""
     },
     "metadata": {
      "application/vnd.bokehjs_exec.v0+json": {
       "id": "cf5a6530-6a04-4dd3-a5b7-62f3d0a987e3"
      }
     },
     "output_type": "display_data"
    }
   ],
   "source": [
    "p = figure(plot_width=400, plot_height=400)\n",
    "\n",
    "# add a circle renderer with a size, color, and alpha\n",
    "p.circle([1, 2, 3, 4, 5], [6, 7, 2, 4, 5], size=20, color=\"navy\", alpha=0.5)\n",
    "\n",
    "# show the results\n",
    "show(p)"
   ]
  },
  {
   "cell_type": "code",
   "execution_count": 9,
   "metadata": {},
   "outputs": [
    {
     "data": {
      "text/html": [
       "\n",
       "<div class=\"bk-root\">\n",
       "    <div class=\"bk-plotdiv\" id=\"15dad3e4-b5e3-4cff-8bc6-54e39e69150d\"></div>\n",
       "</div>"
      ]
     },
     "metadata": {},
     "output_type": "display_data"
    },
    {
     "data": {
      "application/javascript": [
       "(function(root) {\n",
       "  function embed_document(root) {\n",
       "    \n",
       "  var docs_json = {\"6a189636-4d7a-4010-91c9-1699a3974c9a\":{\"roots\":{\"references\":[{\"attributes\":{\"fill_color\":{\"value\":\"firebrick\"},\"line_color\":{\"value\":\"firebrick\"},\"top\":{\"field\":\"top\"},\"width\":{\"value\":0.5},\"x\":{\"field\":\"x\"}},\"id\":\"33b9bc9b-67ca-4709-8f4c-46402d225ef7\",\"type\":\"VBar\"},{\"attributes\":{\"plot\":{\"id\":\"84c0ecf8-9ac0-4b17-9559-c9e383e40379\",\"subtype\":\"Figure\",\"type\":\"Plot\"},\"ticker\":{\"id\":\"eaac8b78-1975-4ed9-a604-908716e7055d\",\"type\":\"BasicTicker\"}},\"id\":\"c37c3c24-e30e-46fe-aa7b-2c5ddec4bdd6\",\"type\":\"Grid\"},{\"attributes\":{\"formatter\":{\"id\":\"07d44bc0-445f-45af-9f18-9b747e9bfce1\",\"type\":\"BasicTickFormatter\"},\"plot\":{\"id\":\"84c0ecf8-9ac0-4b17-9559-c9e383e40379\",\"subtype\":\"Figure\",\"type\":\"Plot\"},\"ticker\":{\"id\":\"7d7ee03e-31f4-4ce2-b875-822c39acd57a\",\"type\":\"BasicTicker\"}},\"id\":\"06c7dd91-4cc0-448e-b79c-04b1b86ccaaa\",\"type\":\"LinearAxis\"},{\"attributes\":{\"dimension\":1,\"plot\":{\"id\":\"84c0ecf8-9ac0-4b17-9559-c9e383e40379\",\"subtype\":\"Figure\",\"type\":\"Plot\"},\"ticker\":{\"id\":\"7d7ee03e-31f4-4ce2-b875-822c39acd57a\",\"type\":\"BasicTicker\"}},\"id\":\"a77fab85-b396-4953-a631-82547f38ffd4\",\"type\":\"Grid\"},{\"attributes\":{\"source\":{\"id\":\"1709491e-e95c-486e-af4f-a2a32c770f95\",\"type\":\"ColumnDataSource\"}},\"id\":\"47256ac1-133b-4594-84cc-000f37d651c7\",\"type\":\"CDSView\"},{\"attributes\":{},\"id\":\"07d44bc0-445f-45af-9f18-9b747e9bfce1\",\"type\":\"BasicTickFormatter\"},{\"attributes\":{\"callback\":null},\"id\":\"c48f37e2-66ab-408d-95b3-4be46ad25a38\",\"type\":\"DataRange1d\"},{\"attributes\":{},\"id\":\"7d7ee03e-31f4-4ce2-b875-822c39acd57a\",\"type\":\"BasicTicker\"},{\"attributes\":{},\"id\":\"7f0dc8f2-377f-4687-be58-8272cfe70dab\",\"type\":\"BasicTickFormatter\"},{\"attributes\":{\"bottom_units\":\"screen\",\"fill_alpha\":{\"value\":0.5},\"fill_color\":{\"value\":\"lightgrey\"},\"left_units\":\"screen\",\"level\":\"overlay\",\"line_alpha\":{\"value\":1.0},\"line_color\":{\"value\":\"black\"},\"line_dash\":[4,4],\"line_width\":{\"value\":2},\"plot\":null,\"render_mode\":\"css\",\"right_units\":\"screen\",\"top_units\":\"screen\"},\"id\":\"5df2f30f-8e52-4510-92de-18344fdcbeb6\",\"type\":\"BoxAnnotation\"},{\"attributes\":{\"fill_alpha\":{\"value\":0.1},\"fill_color\":{\"value\":\"#1f77b4\"},\"line_alpha\":{\"value\":0.1},\"line_color\":{\"value\":\"#1f77b4\"},\"top\":{\"field\":\"top\"},\"width\":{\"value\":0.5},\"x\":{\"field\":\"x\"}},\"id\":\"4965f571-24eb-4067-b821-532cf4d7c9aa\",\"type\":\"VBar\"},{\"attributes\":{},\"id\":\"493e407a-c97a-4ade-b311-56b2b398f06e\",\"type\":\"PanTool\"},{\"attributes\":{\"callback\":null,\"column_names\":[\"x\",\"top\"],\"data\":{\"top\":[1.2,2.5,3.7],\"x\":[1,2,3]}},\"id\":\"1709491e-e95c-486e-af4f-a2a32c770f95\",\"type\":\"ColumnDataSource\"},{\"attributes\":{},\"id\":\"cf7409f1-1bc1-4942-a1c8-bd805cc8456a\",\"type\":\"LinearScale\"},{\"attributes\":{},\"id\":\"83f21a57-8ed3-4544-9c53-69d39177334f\",\"type\":\"WheelZoomTool\"},{\"attributes\":{\"overlay\":{\"id\":\"5df2f30f-8e52-4510-92de-18344fdcbeb6\",\"type\":\"BoxAnnotation\"}},\"id\":\"14601395-6adf-4e5d-9d49-49bd7c8f8d31\",\"type\":\"BoxZoomTool\"},{\"attributes\":{\"below\":[{\"id\":\"b7b07e3f-84d1-433a-8500-0765b2d12d00\",\"type\":\"LinearAxis\"}],\"left\":[{\"id\":\"06c7dd91-4cc0-448e-b79c-04b1b86ccaaa\",\"type\":\"LinearAxis\"}],\"plot_height\":400,\"plot_width\":400,\"renderers\":[{\"id\":\"b7b07e3f-84d1-433a-8500-0765b2d12d00\",\"type\":\"LinearAxis\"},{\"id\":\"c37c3c24-e30e-46fe-aa7b-2c5ddec4bdd6\",\"type\":\"Grid\"},{\"id\":\"06c7dd91-4cc0-448e-b79c-04b1b86ccaaa\",\"type\":\"LinearAxis\"},{\"id\":\"a77fab85-b396-4953-a631-82547f38ffd4\",\"type\":\"Grid\"},{\"id\":\"5df2f30f-8e52-4510-92de-18344fdcbeb6\",\"type\":\"BoxAnnotation\"},{\"id\":\"0e1a8dac-903c-447b-958a-633462bfaa47\",\"type\":\"GlyphRenderer\"}],\"title\":{\"id\":\"352651db-4940-4fcc-851b-5e60b1d81260\",\"type\":\"Title\"},\"toolbar\":{\"id\":\"da35c7e2-9525-4284-a89a-447bed9f6360\",\"type\":\"Toolbar\"},\"x_range\":{\"id\":\"c48f37e2-66ab-408d-95b3-4be46ad25a38\",\"type\":\"DataRange1d\"},\"x_scale\":{\"id\":\"cf7409f1-1bc1-4942-a1c8-bd805cc8456a\",\"type\":\"LinearScale\"},\"y_range\":{\"id\":\"2638e9ed-a6f3-46dd-a464-1240bdae332d\",\"type\":\"DataRange1d\"},\"y_scale\":{\"id\":\"a63951fb-5e55-4344-9980-39bb948994c3\",\"type\":\"LinearScale\"}},\"id\":\"84c0ecf8-9ac0-4b17-9559-c9e383e40379\",\"subtype\":\"Figure\",\"type\":\"Plot\"},{\"attributes\":{},\"id\":\"eaac8b78-1975-4ed9-a604-908716e7055d\",\"type\":\"BasicTicker\"},{\"attributes\":{},\"id\":\"d4322721-a262-4268-9403-1ded68c6529c\",\"type\":\"SaveTool\"},{\"attributes\":{},\"id\":\"b05f516b-3b17-4f64-b133-de566120a276\",\"type\":\"ResetTool\"},{\"attributes\":{\"data_source\":{\"id\":\"1709491e-e95c-486e-af4f-a2a32c770f95\",\"type\":\"ColumnDataSource\"},\"glyph\":{\"id\":\"33b9bc9b-67ca-4709-8f4c-46402d225ef7\",\"type\":\"VBar\"},\"hover_glyph\":null,\"muted_glyph\":null,\"nonselection_glyph\":{\"id\":\"4965f571-24eb-4067-b821-532cf4d7c9aa\",\"type\":\"VBar\"},\"selection_glyph\":null,\"view\":{\"id\":\"47256ac1-133b-4594-84cc-000f37d651c7\",\"type\":\"CDSView\"}},\"id\":\"0e1a8dac-903c-447b-958a-633462bfaa47\",\"type\":\"GlyphRenderer\"},{\"attributes\":{\"formatter\":{\"id\":\"7f0dc8f2-377f-4687-be58-8272cfe70dab\",\"type\":\"BasicTickFormatter\"},\"plot\":{\"id\":\"84c0ecf8-9ac0-4b17-9559-c9e383e40379\",\"subtype\":\"Figure\",\"type\":\"Plot\"},\"ticker\":{\"id\":\"eaac8b78-1975-4ed9-a604-908716e7055d\",\"type\":\"BasicTicker\"}},\"id\":\"b7b07e3f-84d1-433a-8500-0765b2d12d00\",\"type\":\"LinearAxis\"},{\"attributes\":{},\"id\":\"039d4c92-5bf9-466b-917f-aab582810688\",\"type\":\"HelpTool\"},{\"attributes\":{\"active_drag\":\"auto\",\"active_inspect\":\"auto\",\"active_scroll\":\"auto\",\"active_tap\":\"auto\",\"tools\":[{\"id\":\"493e407a-c97a-4ade-b311-56b2b398f06e\",\"type\":\"PanTool\"},{\"id\":\"83f21a57-8ed3-4544-9c53-69d39177334f\",\"type\":\"WheelZoomTool\"},{\"id\":\"14601395-6adf-4e5d-9d49-49bd7c8f8d31\",\"type\":\"BoxZoomTool\"},{\"id\":\"d4322721-a262-4268-9403-1ded68c6529c\",\"type\":\"SaveTool\"},{\"id\":\"b05f516b-3b17-4f64-b133-de566120a276\",\"type\":\"ResetTool\"},{\"id\":\"039d4c92-5bf9-466b-917f-aab582810688\",\"type\":\"HelpTool\"}]},\"id\":\"da35c7e2-9525-4284-a89a-447bed9f6360\",\"type\":\"Toolbar\"},{\"attributes\":{\"plot\":null,\"text\":\"\"},\"id\":\"352651db-4940-4fcc-851b-5e60b1d81260\",\"type\":\"Title\"},{\"attributes\":{},\"id\":\"a63951fb-5e55-4344-9980-39bb948994c3\",\"type\":\"LinearScale\"},{\"attributes\":{\"callback\":null},\"id\":\"2638e9ed-a6f3-46dd-a464-1240bdae332d\",\"type\":\"DataRange1d\"}],\"root_ids\":[\"84c0ecf8-9ac0-4b17-9559-c9e383e40379\"]},\"title\":\"Bokeh Application\",\"version\":\"0.12.13\"}};\n",
       "  var render_items = [{\"docid\":\"6a189636-4d7a-4010-91c9-1699a3974c9a\",\"elementid\":\"15dad3e4-b5e3-4cff-8bc6-54e39e69150d\",\"modelid\":\"84c0ecf8-9ac0-4b17-9559-c9e383e40379\"}];\n",
       "  root.Bokeh.embed.embed_items_notebook(docs_json, render_items);\n",
       "\n",
       "  }\n",
       "  if (root.Bokeh !== undefined) {\n",
       "    embed_document(root);\n",
       "  } else {\n",
       "    var attempts = 0;\n",
       "    var timer = setInterval(function(root) {\n",
       "      if (root.Bokeh !== undefined) {\n",
       "        embed_document(root);\n",
       "        clearInterval(timer);\n",
       "      }\n",
       "      attempts++;\n",
       "      if (attempts > 100) {\n",
       "        console.log(\"Bokeh: ERROR: Unable to run BokehJS code because BokehJS library is missing\")\n",
       "        clearInterval(timer);\n",
       "      }\n",
       "    }, 10, root)\n",
       "  }\n",
       "})(window);"
      ],
      "application/vnd.bokehjs_exec.v0+json": ""
     },
     "metadata": {
      "application/vnd.bokehjs_exec.v0+json": {
       "id": "84c0ecf8-9ac0-4b17-9559-c9e383e40379"
      }
     },
     "output_type": "display_data"
    }
   ],
   "source": [
    "p = figure(plot_width=400, plot_height=400)\n",
    "p.vbar(x=[1, 2, 3], width=0.5, bottom=0,\n",
    "       top=[1.2, 2.5, 3.7], color=\"firebrick\")\n",
    "\n",
    "show(p)"
   ]
  },
  {
   "cell_type": "code",
   "execution_count": 15,
   "metadata": {},
   "outputs": [
    {
     "data": {
      "text/html": [
       "\n",
       "<div class=\"bk-root\">\n",
       "    <div class=\"bk-plotdiv\" id=\"38ee8c6c-6030-4eeb-9cfc-596c2125a491\"></div>\n",
       "</div>"
      ]
     },
     "metadata": {},
     "output_type": "display_data"
    },
    {
     "data": {
      "application/javascript": [
       "(function(root) {\n",
       "  function embed_document(root) {\n",
       "    \n",
       "  var docs_json = {\"65170c34-a713-4734-8e79-b83f9108e6ec\":{\"roots\":{\"references\":[{\"attributes\":{\"callback\":null},\"id\":\"cef02eee-caa6-4853-94b7-a2e23a331182\",\"type\":\"DataRange1d\"},{\"attributes\":{\"data_source\":{\"id\":\"b9c48b9b-7f3f-4af3-a5cc-0bf51d939130\",\"type\":\"ColumnDataSource\"},\"glyph\":{\"id\":\"3a963d00-49c7-4c52-bb08-0807a4518b0c\",\"type\":\"HBar\"},\"hover_glyph\":null,\"muted_glyph\":null,\"nonselection_glyph\":{\"id\":\"a78307f3-4b8e-42e1-8d47-d3287bd119b5\",\"type\":\"HBar\"},\"selection_glyph\":null,\"view\":{\"id\":\"29c8f02f-bd87-469e-aa80-6feabee640b0\",\"type\":\"CDSView\"}},\"id\":\"84f51fd7-d134-4b8e-9782-fd8dd7d6595d\",\"type\":\"GlyphRenderer\"},{\"attributes\":{},\"id\":\"72972631-f332-49a6-959b-858e9830f9d6\",\"type\":\"ResetTool\"},{\"attributes\":{},\"id\":\"56cc2e3f-e679-4225-8438-389444dada64\",\"type\":\"BasicTickFormatter\"},{\"attributes\":{\"fill_alpha\":{\"value\":0.1},\"fill_color\":{\"value\":\"#1f77b4\"},\"height\":{\"value\":0.5},\"line_alpha\":{\"value\":0.1},\"line_color\":{\"value\":\"#1f77b4\"},\"right\":{\"field\":\"right\"},\"y\":{\"field\":\"y\"}},\"id\":\"a78307f3-4b8e-42e1-8d47-d3287bd119b5\",\"type\":\"HBar\"},{\"attributes\":{\"below\":[{\"id\":\"31291e50-2bcd-4b75-8c89-db18f54fe55f\",\"type\":\"LinearAxis\"}],\"left\":[{\"id\":\"d19a5e19-e4f3-43f0-b5a8-ba6f8b7b7adb\",\"type\":\"LinearAxis\"}],\"plot_height\":400,\"plot_width\":400,\"renderers\":[{\"id\":\"31291e50-2bcd-4b75-8c89-db18f54fe55f\",\"type\":\"LinearAxis\"},{\"id\":\"f7c4e63d-a825-4260-9271-d771e423d21f\",\"type\":\"Grid\"},{\"id\":\"d19a5e19-e4f3-43f0-b5a8-ba6f8b7b7adb\",\"type\":\"LinearAxis\"},{\"id\":\"3d1fb99e-2d6e-4694-a066-916ad803c28c\",\"type\":\"Grid\"},{\"id\":\"4123eaee-e4ea-45d3-a2a1-e51a9c21c0cb\",\"type\":\"BoxAnnotation\"},{\"id\":\"84f51fd7-d134-4b8e-9782-fd8dd7d6595d\",\"type\":\"GlyphRenderer\"}],\"title\":{\"id\":\"6e3ef2a2-aa0e-4bbf-8c83-7957c5708103\",\"type\":\"Title\"},\"toolbar\":{\"id\":\"d0eaa2db-9ece-4897-a4d9-e63dfcfe9bcb\",\"type\":\"Toolbar\"},\"x_range\":{\"id\":\"991863d2-05b4-49b4-b0b5-4489dd025f1a\",\"type\":\"DataRange1d\"},\"x_scale\":{\"id\":\"cbc8e5f4-1fd0-4baa-8ba7-0ad14b4c67ff\",\"type\":\"LinearScale\"},\"y_range\":{\"id\":\"cef02eee-caa6-4853-94b7-a2e23a331182\",\"type\":\"DataRange1d\"},\"y_scale\":{\"id\":\"0b1bdf8d-f2aa-43b8-a581-1b437638dfb2\",\"type\":\"LinearScale\"}},\"id\":\"164d54d0-1f7b-4785-add4-1824de6baee6\",\"subtype\":\"Figure\",\"type\":\"Plot\"},{\"attributes\":{},\"id\":\"1a952827-b716-4145-a2b3-218edb37c357\",\"type\":\"SaveTool\"},{\"attributes\":{\"bottom_units\":\"screen\",\"fill_alpha\":{\"value\":0.5},\"fill_color\":{\"value\":\"lightgrey\"},\"left_units\":\"screen\",\"level\":\"overlay\",\"line_alpha\":{\"value\":1.0},\"line_color\":{\"value\":\"black\"},\"line_dash\":[4,4],\"line_width\":{\"value\":2},\"plot\":null,\"render_mode\":\"css\",\"right_units\":\"screen\",\"top_units\":\"screen\"},\"id\":\"4123eaee-e4ea-45d3-a2a1-e51a9c21c0cb\",\"type\":\"BoxAnnotation\"},{\"attributes\":{\"overlay\":{\"id\":\"4123eaee-e4ea-45d3-a2a1-e51a9c21c0cb\",\"type\":\"BoxAnnotation\"}},\"id\":\"1648acac-cc1c-4f5e-810a-5ce42dee3e17\",\"type\":\"BoxZoomTool\"},{\"attributes\":{\"plot\":{\"id\":\"164d54d0-1f7b-4785-add4-1824de6baee6\",\"subtype\":\"Figure\",\"type\":\"Plot\"},\"ticker\":{\"id\":\"872027d1-ec2b-41fd-8022-6ae7a22d84a5\",\"type\":\"BasicTicker\"}},\"id\":\"f7c4e63d-a825-4260-9271-d771e423d21f\",\"type\":\"Grid\"},{\"attributes\":{\"source\":{\"id\":\"b9c48b9b-7f3f-4af3-a5cc-0bf51d939130\",\"type\":\"ColumnDataSource\"}},\"id\":\"29c8f02f-bd87-469e-aa80-6feabee640b0\",\"type\":\"CDSView\"},{\"attributes\":{},\"id\":\"0b1bdf8d-f2aa-43b8-a581-1b437638dfb2\",\"type\":\"LinearScale\"},{\"attributes\":{},\"id\":\"e528db66-8f8e-4e2a-afa4-73754cfda422\",\"type\":\"PanTool\"},{\"attributes\":{},\"id\":\"872027d1-ec2b-41fd-8022-6ae7a22d84a5\",\"type\":\"BasicTicker\"},{\"attributes\":{\"plot\":null,\"text\":\"\"},\"id\":\"6e3ef2a2-aa0e-4bbf-8c83-7957c5708103\",\"type\":\"Title\"},{\"attributes\":{},\"id\":\"40c5a68d-8837-47ae-afbe-5f3472dc07ec\",\"type\":\"WheelZoomTool\"},{\"attributes\":{},\"id\":\"d51faac0-d4f8-4d52-acc4-28f7b5afce06\",\"type\":\"HelpTool\"},{\"attributes\":{\"formatter\":{\"id\":\"56cc2e3f-e679-4225-8438-389444dada64\",\"type\":\"BasicTickFormatter\"},\"plot\":{\"id\":\"164d54d0-1f7b-4785-add4-1824de6baee6\",\"subtype\":\"Figure\",\"type\":\"Plot\"},\"ticker\":{\"id\":\"f57850b7-fcd8-451a-827c-cae8344ec302\",\"type\":\"BasicTicker\"}},\"id\":\"d19a5e19-e4f3-43f0-b5a8-ba6f8b7b7adb\",\"type\":\"LinearAxis\"},{\"attributes\":{\"fill_color\":{\"value\":\"navy\"},\"height\":{\"value\":0.5},\"line_color\":{\"value\":\"navy\"},\"right\":{\"field\":\"right\"},\"y\":{\"field\":\"y\"}},\"id\":\"3a963d00-49c7-4c52-bb08-0807a4518b0c\",\"type\":\"HBar\"},{\"attributes\":{},\"id\":\"d3ac0fc0-dc27-4c0e-ae61-e9993dd33214\",\"type\":\"BasicTickFormatter\"},{\"attributes\":{},\"id\":\"f57850b7-fcd8-451a-827c-cae8344ec302\",\"type\":\"BasicTicker\"},{\"attributes\":{\"dimension\":1,\"plot\":{\"id\":\"164d54d0-1f7b-4785-add4-1824de6baee6\",\"subtype\":\"Figure\",\"type\":\"Plot\"},\"ticker\":{\"id\":\"f57850b7-fcd8-451a-827c-cae8344ec302\",\"type\":\"BasicTicker\"}},\"id\":\"3d1fb99e-2d6e-4694-a066-916ad803c28c\",\"type\":\"Grid\"},{\"attributes\":{\"callback\":null,\"column_names\":[\"y\",\"right\"],\"data\":{\"right\":[1.2,2.5,3.7],\"y\":[1,2,3]}},\"id\":\"b9c48b9b-7f3f-4af3-a5cc-0bf51d939130\",\"type\":\"ColumnDataSource\"},{\"attributes\":{\"formatter\":{\"id\":\"d3ac0fc0-dc27-4c0e-ae61-e9993dd33214\",\"type\":\"BasicTickFormatter\"},\"plot\":{\"id\":\"164d54d0-1f7b-4785-add4-1824de6baee6\",\"subtype\":\"Figure\",\"type\":\"Plot\"},\"ticker\":{\"id\":\"872027d1-ec2b-41fd-8022-6ae7a22d84a5\",\"type\":\"BasicTicker\"}},\"id\":\"31291e50-2bcd-4b75-8c89-db18f54fe55f\",\"type\":\"LinearAxis\"},{\"attributes\":{\"callback\":null},\"id\":\"991863d2-05b4-49b4-b0b5-4489dd025f1a\",\"type\":\"DataRange1d\"},{\"attributes\":{},\"id\":\"cbc8e5f4-1fd0-4baa-8ba7-0ad14b4c67ff\",\"type\":\"LinearScale\"},{\"attributes\":{\"active_drag\":\"auto\",\"active_inspect\":\"auto\",\"active_scroll\":\"auto\",\"active_tap\":\"auto\",\"tools\":[{\"id\":\"e528db66-8f8e-4e2a-afa4-73754cfda422\",\"type\":\"PanTool\"},{\"id\":\"40c5a68d-8837-47ae-afbe-5f3472dc07ec\",\"type\":\"WheelZoomTool\"},{\"id\":\"1648acac-cc1c-4f5e-810a-5ce42dee3e17\",\"type\":\"BoxZoomTool\"},{\"id\":\"1a952827-b716-4145-a2b3-218edb37c357\",\"type\":\"SaveTool\"},{\"id\":\"72972631-f332-49a6-959b-858e9830f9d6\",\"type\":\"ResetTool\"},{\"id\":\"d51faac0-d4f8-4d52-acc4-28f7b5afce06\",\"type\":\"HelpTool\"}]},\"id\":\"d0eaa2db-9ece-4897-a4d9-e63dfcfe9bcb\",\"type\":\"Toolbar\"}],\"root_ids\":[\"164d54d0-1f7b-4785-add4-1824de6baee6\"]},\"title\":\"Bokeh Application\",\"version\":\"0.12.13\"}};\n",
       "  var render_items = [{\"docid\":\"65170c34-a713-4734-8e79-b83f9108e6ec\",\"elementid\":\"38ee8c6c-6030-4eeb-9cfc-596c2125a491\",\"modelid\":\"164d54d0-1f7b-4785-add4-1824de6baee6\"}];\n",
       "  root.Bokeh.embed.embed_items_notebook(docs_json, render_items);\n",
       "\n",
       "  }\n",
       "  if (root.Bokeh !== undefined) {\n",
       "    embed_document(root);\n",
       "  } else {\n",
       "    var attempts = 0;\n",
       "    var timer = setInterval(function(root) {\n",
       "      if (root.Bokeh !== undefined) {\n",
       "        embed_document(root);\n",
       "        clearInterval(timer);\n",
       "      }\n",
       "      attempts++;\n",
       "      if (attempts > 100) {\n",
       "        console.log(\"Bokeh: ERROR: Unable to run BokehJS code because BokehJS library is missing\")\n",
       "        clearInterval(timer);\n",
       "      }\n",
       "    }, 10, root)\n",
       "  }\n",
       "})(window);"
      ],
      "application/vnd.bokehjs_exec.v0+json": ""
     },
     "metadata": {
      "application/vnd.bokehjs_exec.v0+json": {
       "id": "164d54d0-1f7b-4785-add4-1824de6baee6"
      }
     },
     "output_type": "display_data"
    }
   ],
   "source": [
    "p = figure(plot_width=400, plot_height=400)\n",
    "p.hbar(y=[1, 2, 3], height=0.5, left=0,\n",
    "       right=[1.2, 2.5, 3.7], color=\"navy\")\n",
    "output_notebook()\n",
    "\n",
    "show(p)"
   ]
  },
  {
   "cell_type": "code",
   "execution_count": 13,
   "metadata": {},
   "outputs": [
    {
     "data": {
      "text/html": [
       "\n",
       "<div class=\"bk-root\">\n",
       "    <div class=\"bk-plotdiv\" id=\"ce585da3-233d-47f7-b5d1-5cd0f6f3dc69\"></div>\n",
       "</div>"
      ]
     },
     "metadata": {},
     "output_type": "display_data"
    },
    {
     "data": {
      "application/javascript": [
       "(function(root) {\n",
       "  function embed_document(root) {\n",
       "    \n",
       "  var docs_json = {\"c0976001-7250-4d9d-9f50-ac8ccfad3977\":{\"roots\":{\"references\":[{\"attributes\":{},\"id\":\"f349bf19-df53-4cc6-b9fd-88de3b266e0f\",\"type\":\"ResetTool\"},{\"attributes\":{},\"id\":\"f8da6d8f-2862-41e5-80ab-dedc916d9589\",\"type\":\"HelpTool\"},{\"attributes\":{\"callback\":null,\"end\":10},\"id\":\"14d9abe5-8ff8-40d6-b4ef-11101dcc22f1\",\"type\":\"Range1d\"},{\"attributes\":{\"plot\":{\"id\":\"77cee25d-3f2b-4b06-a832-475cd69645ef\",\"subtype\":\"Figure\",\"type\":\"Plot\"},\"ticker\":{\"id\":\"aacfaaf0-c86d-47cd-8be3-42116b8e88c8\",\"type\":\"BasicTicker\"}},\"id\":\"10e72a06-12d4-4947-9da0-4a6dfbdc07a0\",\"type\":\"Grid\"},{\"attributes\":{},\"id\":\"fab6ae03-32db-4107-af11-e8867f29baf9\",\"type\":\"BasicTickFormatter\"},{\"attributes\":{\"plot\":null,\"text\":\"\"},\"id\":\"8f67bc45-16da-484a-9747-85c46e495e13\",\"type\":\"Title\"},{\"attributes\":{},\"id\":\"30c22bc6-8417-4034-8d63-e903b9c45162\",\"type\":\"LinearScale\"},{\"attributes\":{\"formatter\":{\"id\":\"fab6ae03-32db-4107-af11-e8867f29baf9\",\"type\":\"BasicTickFormatter\"},\"plot\":{\"id\":\"77cee25d-3f2b-4b06-a832-475cd69645ef\",\"subtype\":\"Figure\",\"type\":\"Plot\"},\"ticker\":{\"id\":\"aacfaaf0-c86d-47cd-8be3-42116b8e88c8\",\"type\":\"BasicTicker\"}},\"id\":\"f5b3e6df-ae48-4ca5-88ac-5d53290c9bc2\",\"type\":\"LinearAxis\"},{\"attributes\":{},\"id\":\"63022749-62da-4084-af5d-acc68c6b7b6e\",\"type\":\"LinearScale\"},{\"attributes\":{\"formatter\":{\"id\":\"a82690b6-91d8-48cc-bc0d-6424937c774f\",\"type\":\"BasicTickFormatter\"},\"plot\":{\"id\":\"77cee25d-3f2b-4b06-a832-475cd69645ef\",\"subtype\":\"Figure\",\"type\":\"Plot\"},\"ticker\":{\"id\":\"da93c414-7d20-4d0f-8c5a-ee29d949cce8\",\"type\":\"BasicTicker\"}},\"id\":\"84af0d58-899e-4c56-a5b8-b18a46c8f434\",\"type\":\"LinearAxis\"},{\"attributes\":{\"data_source\":{\"id\":\"d310036e-3e8b-4baa-82fa-f95fbb9b8288\",\"type\":\"ColumnDataSource\"},\"glyph\":{\"id\":\"83d0cba0-484b-4278-a8c2-fa7509c380ff\",\"type\":\"ImageRGBA\"},\"hover_glyph\":null,\"muted_glyph\":null,\"nonselection_glyph\":{\"id\":\"f9b3c64a-6cf7-469c-b9af-c07c8bd337de\",\"type\":\"ImageRGBA\"},\"selection_glyph\":null,\"view\":{\"id\":\"4a07a356-29b4-4a26-9cc0-463b481570e3\",\"type\":\"CDSView\"}},\"id\":\"c12e099b-e2dc-4084-b0fc-8cb18ae22353\",\"type\":\"GlyphRenderer\"},{\"attributes\":{},\"id\":\"da93c414-7d20-4d0f-8c5a-ee29d949cce8\",\"type\":\"BasicTicker\"},{\"attributes\":{\"dimension\":1,\"plot\":{\"id\":\"77cee25d-3f2b-4b06-a832-475cd69645ef\",\"subtype\":\"Figure\",\"type\":\"Plot\"},\"ticker\":{\"id\":\"da93c414-7d20-4d0f-8c5a-ee29d949cce8\",\"type\":\"BasicTicker\"}},\"id\":\"3a7ac96e-2dba-4368-b7bc-d11ea21e8f20\",\"type\":\"Grid\"},{\"attributes\":{\"source\":{\"id\":\"d310036e-3e8b-4baa-82fa-f95fbb9b8288\",\"type\":\"ColumnDataSource\"}},\"id\":\"4a07a356-29b4-4a26-9cc0-463b481570e3\",\"type\":\"CDSView\"},{\"attributes\":{\"dh\":{\"field\":\"dh\",\"units\":\"data\"},\"dw\":{\"field\":\"dw\",\"units\":\"data\"},\"image\":{\"field\":\"image\"},\"x\":{\"field\":\"x\"},\"y\":{\"field\":\"y\"}},\"id\":\"f9b3c64a-6cf7-469c-b9af-c07c8bd337de\",\"type\":\"ImageRGBA\"},{\"attributes\":{\"dh\":{\"field\":\"dh\",\"units\":\"data\"},\"dw\":{\"field\":\"dw\",\"units\":\"data\"},\"image\":{\"field\":\"image\"},\"x\":{\"field\":\"x\"},\"y\":{\"field\":\"y\"}},\"id\":\"83d0cba0-484b-4278-a8c2-fa7509c380ff\",\"type\":\"ImageRGBA\"},{\"attributes\":{},\"id\":\"a82690b6-91d8-48cc-bc0d-6424937c774f\",\"type\":\"BasicTickFormatter\"},{\"attributes\":{\"callback\":null,\"column_names\":[\"image\",\"x\",\"y\",\"dw\",\"dh\"],\"data\":{\"dh\":[10],\"dw\":[10],\"image\":[{\"__ndarray__\":\"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\",\"dtype\":\"uint32\",\"shape\":[20,20]}],\"x\":[0],\"y\":[0]}},\"id\":\"d310036e-3e8b-4baa-82fa-f95fbb9b8288\",\"type\":\"ColumnDataSource\"},{\"attributes\":{\"bottom_units\":\"screen\",\"fill_alpha\":{\"value\":0.5},\"fill_color\":{\"value\":\"lightgrey\"},\"left_units\":\"screen\",\"level\":\"overlay\",\"line_alpha\":{\"value\":1.0},\"line_color\":{\"value\":\"black\"},\"line_dash\":[4,4],\"line_width\":{\"value\":2},\"plot\":null,\"render_mode\":\"css\",\"right_units\":\"screen\",\"top_units\":\"screen\"},\"id\":\"f405bb4e-4c7b-4d9c-914a-d485fa80a69d\",\"type\":\"BoxAnnotation\"},{\"attributes\":{\"below\":[{\"id\":\"f5b3e6df-ae48-4ca5-88ac-5d53290c9bc2\",\"type\":\"LinearAxis\"}],\"left\":[{\"id\":\"84af0d58-899e-4c56-a5b8-b18a46c8f434\",\"type\":\"LinearAxis\"}],\"plot_height\":400,\"plot_width\":400,\"renderers\":[{\"id\":\"f5b3e6df-ae48-4ca5-88ac-5d53290c9bc2\",\"type\":\"LinearAxis\"},{\"id\":\"10e72a06-12d4-4947-9da0-4a6dfbdc07a0\",\"type\":\"Grid\"},{\"id\":\"84af0d58-899e-4c56-a5b8-b18a46c8f434\",\"type\":\"LinearAxis\"},{\"id\":\"3a7ac96e-2dba-4368-b7bc-d11ea21e8f20\",\"type\":\"Grid\"},{\"id\":\"f405bb4e-4c7b-4d9c-914a-d485fa80a69d\",\"type\":\"BoxAnnotation\"},{\"id\":\"c12e099b-e2dc-4084-b0fc-8cb18ae22353\",\"type\":\"GlyphRenderer\"}],\"title\":{\"id\":\"8f67bc45-16da-484a-9747-85c46e495e13\",\"type\":\"Title\"},\"toolbar\":{\"id\":\"a24aaec9-878e-496d-aa9a-2c442a414c0d\",\"type\":\"Toolbar\"},\"x_range\":{\"id\":\"8343363e-a57a-456b-818e-3fb0d534c27f\",\"type\":\"Range1d\"},\"x_scale\":{\"id\":\"30c22bc6-8417-4034-8d63-e903b9c45162\",\"type\":\"LinearScale\"},\"y_range\":{\"id\":\"14d9abe5-8ff8-40d6-b4ef-11101dcc22f1\",\"type\":\"Range1d\"},\"y_scale\":{\"id\":\"63022749-62da-4084-af5d-acc68c6b7b6e\",\"type\":\"LinearScale\"}},\"id\":\"77cee25d-3f2b-4b06-a832-475cd69645ef\",\"subtype\":\"Figure\",\"type\":\"Plot\"},{\"attributes\":{},\"id\":\"5bd1a874-dcec-4369-9ea2-db1124b8793e\",\"type\":\"PanTool\"},{\"attributes\":{\"active_drag\":\"auto\",\"active_inspect\":\"auto\",\"active_scroll\":\"auto\",\"active_tap\":\"auto\",\"tools\":[{\"id\":\"5bd1a874-dcec-4369-9ea2-db1124b8793e\",\"type\":\"PanTool\"},{\"id\":\"f7260c39-1699-4cc3-888a-80498996881b\",\"type\":\"WheelZoomTool\"},{\"id\":\"73f704c3-c079-42c4-b2ff-c80cad8ae013\",\"type\":\"BoxZoomTool\"},{\"id\":\"04582e07-217b-4da7-ba49-0886540d1e63\",\"type\":\"SaveTool\"},{\"id\":\"f349bf19-df53-4cc6-b9fd-88de3b266e0f\",\"type\":\"ResetTool\"},{\"id\":\"f8da6d8f-2862-41e5-80ab-dedc916d9589\",\"type\":\"HelpTool\"}]},\"id\":\"a24aaec9-878e-496d-aa9a-2c442a414c0d\",\"type\":\"Toolbar\"},{\"attributes\":{},\"id\":\"f7260c39-1699-4cc3-888a-80498996881b\",\"type\":\"WheelZoomTool\"},{\"attributes\":{\"callback\":null,\"end\":10},\"id\":\"8343363e-a57a-456b-818e-3fb0d534c27f\",\"type\":\"Range1d\"},{\"attributes\":{\"overlay\":{\"id\":\"f405bb4e-4c7b-4d9c-914a-d485fa80a69d\",\"type\":\"BoxAnnotation\"}},\"id\":\"73f704c3-c079-42c4-b2ff-c80cad8ae013\",\"type\":\"BoxZoomTool\"},{\"attributes\":{},\"id\":\"04582e07-217b-4da7-ba49-0886540d1e63\",\"type\":\"SaveTool\"},{\"attributes\":{},\"id\":\"aacfaaf0-c86d-47cd-8be3-42116b8e88c8\",\"type\":\"BasicTicker\"}],\"root_ids\":[\"77cee25d-3f2b-4b06-a832-475cd69645ef\"]},\"title\":\"Bokeh Application\",\"version\":\"0.12.13\"}};\n",
       "  var render_items = [{\"docid\":\"c0976001-7250-4d9d-9f50-ac8ccfad3977\",\"elementid\":\"ce585da3-233d-47f7-b5d1-5cd0f6f3dc69\",\"modelid\":\"77cee25d-3f2b-4b06-a832-475cd69645ef\"}];\n",
       "  root.Bokeh.embed.embed_items_notebook(docs_json, render_items);\n",
       "\n",
       "  }\n",
       "  if (root.Bokeh !== undefined) {\n",
       "    embed_document(root);\n",
       "  } else {\n",
       "    var attempts = 0;\n",
       "    var timer = setInterval(function(root) {\n",
       "      if (root.Bokeh !== undefined) {\n",
       "        embed_document(root);\n",
       "        clearInterval(timer);\n",
       "      }\n",
       "      attempts++;\n",
       "      if (attempts > 100) {\n",
       "        console.log(\"Bokeh: ERROR: Unable to run BokehJS code because BokehJS library is missing\")\n",
       "        clearInterval(timer);\n",
       "      }\n",
       "    }, 10, root)\n",
       "  }\n",
       "})(window);"
      ],
      "application/vnd.bokehjs_exec.v0+json": ""
     },
     "metadata": {
      "application/vnd.bokehjs_exec.v0+json": {
       "id": "77cee25d-3f2b-4b06-a832-475cd69645ef"
      }
     },
     "output_type": "display_data"
    }
   ],
   "source": [
    "from __future__ import division\n",
    "\n",
    "import numpy as np\n",
    "\n",
    "# create an array of RGBA data\n",
    "N = 20\n",
    "img = np.empty((N, N), dtype=np.uint32)\n",
    "view = img.view(dtype=np.uint8).reshape((N, N, 4))\n",
    "for i in range(N):\n",
    "    for j in range(N):\n",
    "        view[i, j, 0] = int(255 * i / N)\n",
    "        view[i, j, 1] = 158\n",
    "        view[i, j, 2] = int(255 * j / N)\n",
    "        view[i, j, 3] = 255\n",
    "\n",
    "p = figure(plot_width=400, plot_height=400, x_range=(0, 10), y_range=(0, 10))\n",
    "\n",
    "p.image_rgba(image=[img], x=[0], y=[0], dw=[10], dh=[10])\n",
    "output_notebook()\n",
    "\n",
    "show(p)"
   ]
  },
  {
   "cell_type": "code",
   "execution_count": 23,
   "metadata": {},
   "outputs": [
    {
     "data": {
      "text/html": [
       "\n",
       "<div class=\"bk-root\">\n",
       "    <div class=\"bk-plotdiv\" id=\"345fa7af-5379-4f3d-879d-c15614ded9b3\"></div>\n",
       "</div>"
      ]
     },
     "metadata": {},
     "output_type": "display_data"
    },
    {
     "data": {
      "application/javascript": [
       "(function(root) {\n",
       "  function embed_document(root) {\n",
       "    \n",
       "  var docs_json = {\"20dab8da-76b9-4c43-82b5-8259867e5108\":{\"roots\":{\"references\":[{\"attributes\":{\"source\":{\"id\":\"a53e4ae4-0639-44de-a8b1-bbd468ad0521\",\"type\":\"ColumnDataSource\"}},\"id\":\"e18c6e41-bce2-4dee-b618-594edf1e9417\",\"type\":\"CDSView\"},{\"attributes\":{\"callback\":null},\"id\":\"676cc16a-415f-4d66-b7f4-caa195b0792b\",\"type\":\"DataRange1d\"},{\"attributes\":{\"below\":[{\"id\":\"b54edf8e-7a7a-45fb-badb-5f7ae3229091\",\"type\":\"LinearAxis\"}],\"left\":[{\"id\":\"cfcffd73-0088-4514-93d0-bb834cb9dc2c\",\"type\":\"LinearAxis\"}],\"plot_height\":300,\"plot_width\":300,\"renderers\":[{\"id\":\"b54edf8e-7a7a-45fb-badb-5f7ae3229091\",\"type\":\"LinearAxis\"},{\"id\":\"78d742e2-9442-4216-8cb8-805056b72210\",\"type\":\"Grid\"},{\"id\":\"cfcffd73-0088-4514-93d0-bb834cb9dc2c\",\"type\":\"LinearAxis\"},{\"id\":\"1de23a3a-1ca6-4122-ad8c-b378b1980f83\",\"type\":\"Grid\"},{\"id\":\"c8d9c9f7-0751-4c81-a0d1-709ce427dc11\",\"type\":\"BoxAnnotation\"},{\"id\":\"127516f9-5e42-48f2-a7ca-d3abf274c4d5\",\"type\":\"GlyphRenderer\"}],\"title\":{\"id\":\"5e4db0d6-cbc1-4bed-ab75-2634aeb7c472\",\"type\":\"Title\"},\"toolbar\":{\"id\":\"41fe1b11-0c68-452a-ade9-cf4a34096b86\",\"type\":\"Toolbar\"},\"x_range\":{\"id\":\"89ba392d-bdcb-4170-817b-60dbd16a0c71\",\"type\":\"DataRange1d\"},\"x_scale\":{\"id\":\"a573e9da-f41c-4f14-b930-a2b523afaa4b\",\"type\":\"LinearScale\"},\"y_range\":{\"id\":\"676cc16a-415f-4d66-b7f4-caa195b0792b\",\"type\":\"DataRange1d\"},\"y_scale\":{\"id\":\"b9b50719-05b1-4574-8168-9c9b4345657c\",\"type\":\"LinearScale\"}},\"id\":\"60ce7dcb-ac44-449f-8125-ee20ec02de6b\",\"subtype\":\"Figure\",\"type\":\"Plot\"},{\"attributes\":{\"callback\":null},\"id\":\"89ba392d-bdcb-4170-817b-60dbd16a0c71\",\"type\":\"DataRange1d\"},{\"attributes\":{\"bottom\":{\"field\":\"bottom\"},\"fill_color\":{\"value\":\"#B3DE69\"},\"left\":{\"field\":\"left\"},\"line_color\":{\"value\":\"#B3DE69\"},\"right\":{\"field\":\"right\"},\"top\":{\"field\":\"top\"}},\"id\":\"ad43b50c-e548-4a66-8c21-0a8f17026239\",\"type\":\"Quad\"},{\"attributes\":{},\"id\":\"ee11fe0e-31c0-44d3-b317-64c7bbc31884\",\"type\":\"SaveTool\"},{\"attributes\":{\"overlay\":{\"id\":\"c8d9c9f7-0751-4c81-a0d1-709ce427dc11\",\"type\":\"BoxAnnotation\"}},\"id\":\"5cdbcf59-a119-4b7e-9d06-a25c58e45e2a\",\"type\":\"BoxZoomTool\"},{\"attributes\":{\"bottom_units\":\"screen\",\"fill_alpha\":{\"value\":0.5},\"fill_color\":{\"value\":\"lightgrey\"},\"left_units\":\"screen\",\"level\":\"overlay\",\"line_alpha\":{\"value\":1.0},\"line_color\":{\"value\":\"black\"},\"line_dash\":[4,4],\"line_width\":{\"value\":2},\"plot\":null,\"render_mode\":\"css\",\"right_units\":\"screen\",\"top_units\":\"screen\"},\"id\":\"c8d9c9f7-0751-4c81-a0d1-709ce427dc11\",\"type\":\"BoxAnnotation\"},{\"attributes\":{},\"id\":\"ee3453cf-0ea9-458a-aaa3-80c9eed84611\",\"type\":\"WheelZoomTool\"},{\"attributes\":{},\"id\":\"ccfb5604-0120-41f0-9fe2-a5ca88aae742\",\"type\":\"BasicTickFormatter\"},{\"attributes\":{\"bottom\":{\"field\":\"bottom\"},\"fill_alpha\":{\"value\":0.1},\"fill_color\":{\"value\":\"#1f77b4\"},\"left\":{\"field\":\"left\"},\"line_alpha\":{\"value\":0.1},\"line_color\":{\"value\":\"#1f77b4\"},\"right\":{\"field\":\"right\"},\"top\":{\"field\":\"top\"}},\"id\":\"33787eae-324f-4e28-88bf-202c8d6dfcca\",\"type\":\"Quad\"},{\"attributes\":{},\"id\":\"054018e3-a9b7-4e01-80c4-e276abf4c634\",\"type\":\"ResetTool\"},{\"attributes\":{},\"id\":\"be9f8c78-df43-49dd-8926-b73f5ec63a56\",\"type\":\"BasicTicker\"},{\"attributes\":{},\"id\":\"2fa0f3f0-b280-4bdd-b494-08a91fbf6ead\",\"type\":\"HelpTool\"},{\"attributes\":{\"dimension\":1,\"plot\":{\"id\":\"60ce7dcb-ac44-449f-8125-ee20ec02de6b\",\"subtype\":\"Figure\",\"type\":\"Plot\"},\"ticker\":{\"id\":\"be9f8c78-df43-49dd-8926-b73f5ec63a56\",\"type\":\"BasicTicker\"}},\"id\":\"1de23a3a-1ca6-4122-ad8c-b378b1980f83\",\"type\":\"Grid\"},{\"attributes\":{\"plot\":null,\"text\":\"\"},\"id\":\"5e4db0d6-cbc1-4bed-ab75-2634aeb7c472\",\"type\":\"Title\"},{\"attributes\":{\"callback\":null,\"column_names\":[\"left\",\"right\",\"top\",\"bottom\"],\"data\":{\"bottom\":[1,2,3],\"left\":[1,2,3],\"right\":[1.2,2.5,3.7],\"top\":[2,3,4]}},\"id\":\"a53e4ae4-0639-44de-a8b1-bbd468ad0521\",\"type\":\"ColumnDataSource\"},{\"attributes\":{},\"id\":\"a573e9da-f41c-4f14-b930-a2b523afaa4b\",\"type\":\"LinearScale\"},{\"attributes\":{\"formatter\":{\"id\":\"989ce39b-adab-4e4e-ab7b-c2774324066f\",\"type\":\"BasicTickFormatter\"},\"plot\":{\"id\":\"60ce7dcb-ac44-449f-8125-ee20ec02de6b\",\"subtype\":\"Figure\",\"type\":\"Plot\"},\"ticker\":{\"id\":\"be9f8c78-df43-49dd-8926-b73f5ec63a56\",\"type\":\"BasicTicker\"}},\"id\":\"cfcffd73-0088-4514-93d0-bb834cb9dc2c\",\"type\":\"LinearAxis\"},{\"attributes\":{},\"id\":\"3b93e199-719e-46e7-9590-f9a5eaf6329a\",\"type\":\"PanTool\"},{\"attributes\":{},\"id\":\"989ce39b-adab-4e4e-ab7b-c2774324066f\",\"type\":\"BasicTickFormatter\"},{\"attributes\":{},\"id\":\"94b1c2dd-7e5c-4aa8-816e-9b0cdabbdd5b\",\"type\":\"BasicTicker\"},{\"attributes\":{\"formatter\":{\"id\":\"ccfb5604-0120-41f0-9fe2-a5ca88aae742\",\"type\":\"BasicTickFormatter\"},\"plot\":{\"id\":\"60ce7dcb-ac44-449f-8125-ee20ec02de6b\",\"subtype\":\"Figure\",\"type\":\"Plot\"},\"ticker\":{\"id\":\"94b1c2dd-7e5c-4aa8-816e-9b0cdabbdd5b\",\"type\":\"BasicTicker\"}},\"id\":\"b54edf8e-7a7a-45fb-badb-5f7ae3229091\",\"type\":\"LinearAxis\"},{\"attributes\":{\"data_source\":{\"id\":\"a53e4ae4-0639-44de-a8b1-bbd468ad0521\",\"type\":\"ColumnDataSource\"},\"glyph\":{\"id\":\"ad43b50c-e548-4a66-8c21-0a8f17026239\",\"type\":\"Quad\"},\"hover_glyph\":null,\"muted_glyph\":null,\"nonselection_glyph\":{\"id\":\"33787eae-324f-4e28-88bf-202c8d6dfcca\",\"type\":\"Quad\"},\"selection_glyph\":null,\"view\":{\"id\":\"e18c6e41-bce2-4dee-b618-594edf1e9417\",\"type\":\"CDSView\"}},\"id\":\"127516f9-5e42-48f2-a7ca-d3abf274c4d5\",\"type\":\"GlyphRenderer\"},{\"attributes\":{\"plot\":{\"id\":\"60ce7dcb-ac44-449f-8125-ee20ec02de6b\",\"subtype\":\"Figure\",\"type\":\"Plot\"},\"ticker\":{\"id\":\"94b1c2dd-7e5c-4aa8-816e-9b0cdabbdd5b\",\"type\":\"BasicTicker\"}},\"id\":\"78d742e2-9442-4216-8cb8-805056b72210\",\"type\":\"Grid\"},{\"attributes\":{},\"id\":\"b9b50719-05b1-4574-8168-9c9b4345657c\",\"type\":\"LinearScale\"},{\"attributes\":{\"active_drag\":\"auto\",\"active_inspect\":\"auto\",\"active_scroll\":\"auto\",\"active_tap\":\"auto\",\"tools\":[{\"id\":\"3b93e199-719e-46e7-9590-f9a5eaf6329a\",\"type\":\"PanTool\"},{\"id\":\"ee3453cf-0ea9-458a-aaa3-80c9eed84611\",\"type\":\"WheelZoomTool\"},{\"id\":\"5cdbcf59-a119-4b7e-9d06-a25c58e45e2a\",\"type\":\"BoxZoomTool\"},{\"id\":\"ee11fe0e-31c0-44d3-b317-64c7bbc31884\",\"type\":\"SaveTool\"},{\"id\":\"054018e3-a9b7-4e01-80c4-e276abf4c634\",\"type\":\"ResetTool\"},{\"id\":\"2fa0f3f0-b280-4bdd-b494-08a91fbf6ead\",\"type\":\"HelpTool\"}]},\"id\":\"41fe1b11-0c68-452a-ade9-cf4a34096b86\",\"type\":\"Toolbar\"}],\"root_ids\":[\"60ce7dcb-ac44-449f-8125-ee20ec02de6b\"]},\"title\":\"Bokeh Application\",\"version\":\"0.12.13\"}};\n",
       "  var render_items = [{\"docid\":\"20dab8da-76b9-4c43-82b5-8259867e5108\",\"elementid\":\"345fa7af-5379-4f3d-879d-c15614ded9b3\",\"modelid\":\"60ce7dcb-ac44-449f-8125-ee20ec02de6b\"}];\n",
       "  root.Bokeh.embed.embed_items_notebook(docs_json, render_items);\n",
       "\n",
       "  }\n",
       "  if (root.Bokeh !== undefined) {\n",
       "    embed_document(root);\n",
       "  } else {\n",
       "    var attempts = 0;\n",
       "    var timer = setInterval(function(root) {\n",
       "      if (root.Bokeh !== undefined) {\n",
       "        embed_document(root);\n",
       "        clearInterval(timer);\n",
       "      }\n",
       "      attempts++;\n",
       "      if (attempts > 100) {\n",
       "        console.log(\"Bokeh: ERROR: Unable to run BokehJS code because BokehJS library is missing\")\n",
       "        clearInterval(timer);\n",
       "      }\n",
       "    }, 10, root)\n",
       "  }\n",
       "})(window);"
      ],
      "application/vnd.bokehjs_exec.v0+json": ""
     },
     "metadata": {
      "application/vnd.bokehjs_exec.v0+json": {
       "id": "60ce7dcb-ac44-449f-8125-ee20ec02de6b"
      }
     },
     "output_type": "display_data"
    }
   ],
   "source": [
    "# Use numpy histo + quad for a bokeh histo\n",
    "plot = figure(plot_width=300, plot_height=300)\n",
    "plot.quad(top=[2, 3, 4], bottom=[1, 2, 3], left=[1, 2, 3],\n",
    "          right=[1.2, 2.5, 3.7], color=\"#B3DE69\")\n",
    "output_notebook()\n",
    "\n",
    "show(plot)"
   ]
  },
  {
   "cell_type": "code",
   "execution_count": 19,
   "metadata": {},
   "outputs": [
    {
     "data": {
      "text/html": [
       "\n",
       "<div class=\"bk-root\">\n",
       "    <div class=\"bk-plotdiv\" id=\"d8a18c50-4732-4c2d-99da-d9862a04ddb6\"></div>\n",
       "</div>"
      ]
     },
     "metadata": {},
     "output_type": "display_data"
    },
    {
     "data": {
      "application/javascript": [
       "(function(root) {\n",
       "  function embed_document(root) {\n",
       "    \n",
       "  var docs_json = {\"42d4d007-b2b6-4fb8-ab30-155a24a938a1\":{\"roots\":{\"references\":[{\"attributes\":{},\"id\":\"1685b412-6e1a-4b60-b314-46f940e4482e\",\"type\":\"BasicTickFormatter\"},{\"attributes\":{\"data_source\":{\"id\":\"4157af2a-ed2b-4c1e-b19c-60bc393c3a59\",\"type\":\"ColumnDataSource\"},\"glyph\":{\"id\":\"ac68186f-3e89-4339-be28-c71271846a90\",\"type\":\"Circle\"},\"hover_glyph\":null,\"muted_glyph\":null,\"nonselection_glyph\":{\"id\":\"93694ec1-70b6-496b-90d0-97cb405d2d1e\",\"type\":\"Circle\"},\"selection_glyph\":null,\"view\":{\"id\":\"76f5cfea-f2fa-4a1a-a17d-c002c7061b06\",\"type\":\"CDSView\"}},\"id\":\"fac21d2a-5a96-4c17-80a2-6c94fb22fce8\",\"type\":\"GlyphRenderer\"},{\"attributes\":{\"fill_alpha\":{\"value\":0.1},\"fill_color\":{\"value\":\"#1f77b4\"},\"line_alpha\":{\"value\":0.1},\"line_color\":{\"value\":\"#1f77b4\"},\"size\":{\"units\":\"screen\",\"value\":8},\"x\":{\"field\":\"x\"},\"y\":{\"field\":\"y\"}},\"id\":\"93694ec1-70b6-496b-90d0-97cb405d2d1e\",\"type\":\"Circle\"},{\"attributes\":{\"source\":{\"id\":\"4157af2a-ed2b-4c1e-b19c-60bc393c3a59\",\"type\":\"ColumnDataSource\"}},\"id\":\"76f5cfea-f2fa-4a1a-a17d-c002c7061b06\",\"type\":\"CDSView\"},{\"attributes\":{\"callback\":null,\"column_names\":[\"x\",\"y\"],\"data\":{\"x\":[1,2,3,4,5],\"y\":[6,7,8,7,3]}},\"id\":\"c05e97c3-d0f5-4231-ba5d-1fa788d39a3c\",\"type\":\"ColumnDataSource\"},{\"attributes\":{\"data_source\":{\"id\":\"c05e97c3-d0f5-4231-ba5d-1fa788d39a3c\",\"type\":\"ColumnDataSource\"},\"glyph\":{\"id\":\"819f4465-a750-4d83-bf3d-194642a38658\",\"type\":\"Line\"},\"hover_glyph\":null,\"muted_glyph\":null,\"nonselection_glyph\":{\"id\":\"5b9f031e-638b-4679-a90e-c44f80131754\",\"type\":\"Line\"},\"selection_glyph\":null,\"view\":{\"id\":\"646bab45-82ba-45b2-92b9-db0d7f55cac7\",\"type\":\"CDSView\"}},\"id\":\"bcc3b022-7060-4053-831a-928af95425ed\",\"type\":\"GlyphRenderer\"},{\"attributes\":{},\"id\":\"52962540-b613-4c66-ab8f-afac6916574d\",\"type\":\"BasicTickFormatter\"},{\"attributes\":{\"below\":[{\"id\":\"566527c0-83f1-4a5d-b377-fa189aa91678\",\"type\":\"LinearAxis\"}],\"left\":[{\"id\":\"fbca9e3b-1fb4-483a-9529-6a26901a621e\",\"type\":\"LinearAxis\"}],\"plot_height\":400,\"plot_width\":400,\"renderers\":[{\"id\":\"566527c0-83f1-4a5d-b377-fa189aa91678\",\"type\":\"LinearAxis\"},{\"id\":\"cb59077d-c8b9-4cd7-b517-a7d78c71b0b5\",\"type\":\"Grid\"},{\"id\":\"fbca9e3b-1fb4-483a-9529-6a26901a621e\",\"type\":\"LinearAxis\"},{\"id\":\"8f85818e-ff34-4ec4-9728-b63a6cd8f513\",\"type\":\"Grid\"},{\"id\":\"6f7fe572-be0b-4543-a500-8cdbf310dc70\",\"type\":\"BoxAnnotation\"},{\"id\":\"bcc3b022-7060-4053-831a-928af95425ed\",\"type\":\"GlyphRenderer\"},{\"id\":\"fac21d2a-5a96-4c17-80a2-6c94fb22fce8\",\"type\":\"GlyphRenderer\"}],\"title\":{\"id\":\"04cbbd00-7474-4028-85ea-224af24a8e5e\",\"type\":\"Title\"},\"toolbar\":{\"id\":\"006ec784-b3d5-45c7-a21b-56d8052f7098\",\"type\":\"Toolbar\"},\"x_range\":{\"id\":\"e71bf9c7-2c00-42e0-a254-b2b44e90cb28\",\"type\":\"DataRange1d\"},\"x_scale\":{\"id\":\"7aa194dc-3bc2-42b5-a910-c66617c5b3e4\",\"type\":\"LinearScale\"},\"y_range\":{\"id\":\"a69fd6ab-aeba-4d0c-967f-3746baa63d88\",\"type\":\"DataRange1d\"},\"y_scale\":{\"id\":\"9f07bb3c-a41f-4e76-96ff-85d03a7da350\",\"type\":\"LinearScale\"}},\"id\":\"d8474c63-6f96-4a8e-bc22-7bdab06c7d29\",\"subtype\":\"Figure\",\"type\":\"Plot\"},{\"attributes\":{\"active_drag\":\"auto\",\"active_inspect\":\"auto\",\"active_scroll\":\"auto\",\"active_tap\":\"auto\",\"tools\":[{\"id\":\"71d1e5cb-37ee-4eed-ad7f-7cca41259e58\",\"type\":\"PanTool\"},{\"id\":\"d4c70804-88db-4f23-8766-ffcc854b2299\",\"type\":\"WheelZoomTool\"},{\"id\":\"cdfb1de1-85e5-433c-ae60-9d015dd45c34\",\"type\":\"BoxZoomTool\"},{\"id\":\"8afe853f-45fe-4225-8a81-115b931f0b3c\",\"type\":\"SaveTool\"},{\"id\":\"8571fe6b-f847-4880-a7e3-eaa60e179325\",\"type\":\"ResetTool\"},{\"id\":\"db019c4e-483e-4642-a4aa-c084d50a70ca\",\"type\":\"HelpTool\"}]},\"id\":\"006ec784-b3d5-45c7-a21b-56d8052f7098\",\"type\":\"Toolbar\"},{\"attributes\":{\"callback\":null},\"id\":\"e71bf9c7-2c00-42e0-a254-b2b44e90cb28\",\"type\":\"DataRange1d\"},{\"attributes\":{\"line_color\":\"#1f77b4\",\"line_width\":2,\"x\":{\"field\":\"x\"},\"y\":{\"field\":\"y\"}},\"id\":\"819f4465-a750-4d83-bf3d-194642a38658\",\"type\":\"Line\"},{\"attributes\":{\"formatter\":{\"id\":\"52962540-b613-4c66-ab8f-afac6916574d\",\"type\":\"BasicTickFormatter\"},\"plot\":{\"id\":\"d8474c63-6f96-4a8e-bc22-7bdab06c7d29\",\"subtype\":\"Figure\",\"type\":\"Plot\"},\"ticker\":{\"id\":\"e58df6df-8dad-4251-b278-56837ebb2e5d\",\"type\":\"BasicTicker\"}},\"id\":\"566527c0-83f1-4a5d-b377-fa189aa91678\",\"type\":\"LinearAxis\"},{\"attributes\":{\"formatter\":{\"id\":\"1685b412-6e1a-4b60-b314-46f940e4482e\",\"type\":\"BasicTickFormatter\"},\"plot\":{\"id\":\"d8474c63-6f96-4a8e-bc22-7bdab06c7d29\",\"subtype\":\"Figure\",\"type\":\"Plot\"},\"ticker\":{\"id\":\"511471f0-fb0d-440d-9394-5e1adb4ac7f7\",\"type\":\"BasicTicker\"}},\"id\":\"fbca9e3b-1fb4-483a-9529-6a26901a621e\",\"type\":\"LinearAxis\"},{\"attributes\":{\"plot\":{\"id\":\"d8474c63-6f96-4a8e-bc22-7bdab06c7d29\",\"subtype\":\"Figure\",\"type\":\"Plot\"},\"ticker\":{\"id\":\"e58df6df-8dad-4251-b278-56837ebb2e5d\",\"type\":\"BasicTicker\"}},\"id\":\"cb59077d-c8b9-4cd7-b517-a7d78c71b0b5\",\"type\":\"Grid\"},{\"attributes\":{},\"id\":\"7aa194dc-3bc2-42b5-a910-c66617c5b3e4\",\"type\":\"LinearScale\"},{\"attributes\":{},\"id\":\"9f07bb3c-a41f-4e76-96ff-85d03a7da350\",\"type\":\"LinearScale\"},{\"attributes\":{},\"id\":\"511471f0-fb0d-440d-9394-5e1adb4ac7f7\",\"type\":\"BasicTicker\"},{\"attributes\":{\"dimension\":1,\"plot\":{\"id\":\"d8474c63-6f96-4a8e-bc22-7bdab06c7d29\",\"subtype\":\"Figure\",\"type\":\"Plot\"},\"ticker\":{\"id\":\"511471f0-fb0d-440d-9394-5e1adb4ac7f7\",\"type\":\"BasicTicker\"}},\"id\":\"8f85818e-ff34-4ec4-9728-b63a6cd8f513\",\"type\":\"Grid\"},{\"attributes\":{\"line_alpha\":0.1,\"line_color\":\"#1f77b4\",\"line_width\":2,\"x\":{\"field\":\"x\"},\"y\":{\"field\":\"y\"}},\"id\":\"5b9f031e-638b-4679-a90e-c44f80131754\",\"type\":\"Line\"},{\"attributes\":{\"callback\":null,\"column_names\":[\"x\",\"y\"],\"data\":{\"x\":[1,2,3,4,5],\"y\":[6,7,8,7,3]}},\"id\":\"4157af2a-ed2b-4c1e-b19c-60bc393c3a59\",\"type\":\"ColumnDataSource\"},{\"attributes\":{\"fill_color\":{\"value\":\"white\"},\"line_color\":{\"value\":\"#1f77b4\"},\"size\":{\"units\":\"screen\",\"value\":8},\"x\":{\"field\":\"x\"},\"y\":{\"field\":\"y\"}},\"id\":\"ac68186f-3e89-4339-be28-c71271846a90\",\"type\":\"Circle\"},{\"attributes\":{},\"id\":\"e58df6df-8dad-4251-b278-56837ebb2e5d\",\"type\":\"BasicTicker\"},{\"attributes\":{\"callback\":null},\"id\":\"a69fd6ab-aeba-4d0c-967f-3746baa63d88\",\"type\":\"DataRange1d\"},{\"attributes\":{\"bottom_units\":\"screen\",\"fill_alpha\":{\"value\":0.5},\"fill_color\":{\"value\":\"lightgrey\"},\"left_units\":\"screen\",\"level\":\"overlay\",\"line_alpha\":{\"value\":1.0},\"line_color\":{\"value\":\"black\"},\"line_dash\":[4,4],\"line_width\":{\"value\":2},\"plot\":null,\"render_mode\":\"css\",\"right_units\":\"screen\",\"top_units\":\"screen\"},\"id\":\"6f7fe572-be0b-4543-a500-8cdbf310dc70\",\"type\":\"BoxAnnotation\"},{\"attributes\":{},\"id\":\"71d1e5cb-37ee-4eed-ad7f-7cca41259e58\",\"type\":\"PanTool\"},{\"attributes\":{\"source\":{\"id\":\"c05e97c3-d0f5-4231-ba5d-1fa788d39a3c\",\"type\":\"ColumnDataSource\"}},\"id\":\"646bab45-82ba-45b2-92b9-db0d7f55cac7\",\"type\":\"CDSView\"},{\"attributes\":{},\"id\":\"d4c70804-88db-4f23-8766-ffcc854b2299\",\"type\":\"WheelZoomTool\"},{\"attributes\":{\"overlay\":{\"id\":\"6f7fe572-be0b-4543-a500-8cdbf310dc70\",\"type\":\"BoxAnnotation\"}},\"id\":\"cdfb1de1-85e5-433c-ae60-9d015dd45c34\",\"type\":\"BoxZoomTool\"},{\"attributes\":{},\"id\":\"8afe853f-45fe-4225-8a81-115b931f0b3c\",\"type\":\"SaveTool\"},{\"attributes\":{},\"id\":\"8571fe6b-f847-4880-a7e3-eaa60e179325\",\"type\":\"ResetTool\"},{\"attributes\":{},\"id\":\"db019c4e-483e-4642-a4aa-c084d50a70ca\",\"type\":\"HelpTool\"},{\"attributes\":{\"plot\":null,\"text\":\"\"},\"id\":\"04cbbd00-7474-4028-85ea-224af24a8e5e\",\"type\":\"Title\"}],\"root_ids\":[\"d8474c63-6f96-4a8e-bc22-7bdab06c7d29\"]},\"title\":\"Bokeh Application\",\"version\":\"0.12.13\"}};\n",
       "  var render_items = [{\"docid\":\"42d4d007-b2b6-4fb8-ab30-155a24a938a1\",\"elementid\":\"d8a18c50-4732-4c2d-99da-d9862a04ddb6\",\"modelid\":\"d8474c63-6f96-4a8e-bc22-7bdab06c7d29\"}];\n",
       "  root.Bokeh.embed.embed_items_notebook(docs_json, render_items);\n",
       "\n",
       "  }\n",
       "  if (root.Bokeh !== undefined) {\n",
       "    embed_document(root);\n",
       "  } else {\n",
       "    var attempts = 0;\n",
       "    var timer = setInterval(function(root) {\n",
       "      if (root.Bokeh !== undefined) {\n",
       "        embed_document(root);\n",
       "        clearInterval(timer);\n",
       "      }\n",
       "      attempts++;\n",
       "      if (attempts > 100) {\n",
       "        console.log(\"Bokeh: ERROR: Unable to run BokehJS code because BokehJS library is missing\")\n",
       "        clearInterval(timer);\n",
       "      }\n",
       "    }, 10, root)\n",
       "  }\n",
       "})(window);"
      ],
      "application/vnd.bokehjs_exec.v0+json": ""
     },
     "metadata": {
      "application/vnd.bokehjs_exec.v0+json": {
       "id": "d8474c63-6f96-4a8e-bc22-7bdab06c7d29"
      }
     },
     "output_type": "display_data"
    }
   ],
   "source": [
    "x = [1, 2, 3, 4, 5]\n",
    "y = [6, 7, 8, 7, 3]\n",
    "\n",
    "p = figure(plot_width=400, plot_height=400)\n",
    "\n",
    "# add both a line and circles on the same plot\n",
    "p.line(x, y, line_width=2)\n",
    "p.circle(x, y, fill_color=\"white\", size=8)\n",
    "output_notebook()\n",
    "\n",
    "show(p)"
   ]
  },
  {
   "cell_type": "code",
   "execution_count": 22,
   "metadata": {},
   "outputs": [
    {
     "data": {
      "text/html": [
       "\n",
       "<div class=\"bk-root\">\n",
       "    <div class=\"bk-plotdiv\" id=\"27187aa8-0a47-4e49-a313-052905d89f0d\"></div>\n",
       "</div>"
      ]
     },
     "metadata": {},
     "output_type": "display_data"
    },
    {
     "data": {
      "application/javascript": [
       "(function(root) {\n",
       "  function embed_document(root) {\n",
       "    \n",
       "  var docs_json = {\"e6b7849b-ec63-4112-a0aa-94157130aa0f\":{\"roots\":{\"references\":[{\"attributes\":{},\"id\":\"6afc813b-7342-4612-ad81-2450c5d3ef53\",\"type\":\"WheelZoomTool\"},{\"attributes\":{\"overlay\":{\"id\":\"3f3348fb-6c92-4658-9878-aa7a04ba24f2\",\"type\":\"BoxAnnotation\"}},\"id\":\"86d9ee6f-9efe-4bd8-b662-d50c0aa5ab21\",\"type\":\"BoxZoomTool\"},{\"attributes\":{\"source\":{\"id\":\"d3e76c10-13d3-4389-b30a-abc8ab8721ff\",\"type\":\"ColumnDataSource\"}},\"id\":\"cd2b3340-dc41-464e-be46-e37c78abc3eb\",\"type\":\"CDSView\"},{\"attributes\":{},\"id\":\"3ac7865d-6765-4f86-82ca-a48f39fb7a57\",\"type\":\"SaveTool\"},{\"attributes\":{\"active_drag\":\"auto\",\"active_inspect\":\"auto\",\"active_scroll\":\"auto\",\"active_tap\":\"auto\",\"tools\":[{\"id\":\"8f03dbaa-5c8d-4b7f-aed1-19c8932f11ec\",\"type\":\"PanTool\"},{\"id\":\"6afc813b-7342-4612-ad81-2450c5d3ef53\",\"type\":\"WheelZoomTool\"},{\"id\":\"86d9ee6f-9efe-4bd8-b662-d50c0aa5ab21\",\"type\":\"BoxZoomTool\"},{\"id\":\"3ac7865d-6765-4f86-82ca-a48f39fb7a57\",\"type\":\"SaveTool\"},{\"id\":\"bb884afb-556a-41bc-a50b-eed0e09e8bef\",\"type\":\"ResetTool\"},{\"id\":\"5f961f21-fd8e-427a-8985-bccdde2d709a\",\"type\":\"HelpTool\"}]},\"id\":\"4ee07f5d-6447-4e19-8d7c-3599d89fca34\",\"type\":\"Toolbar\"},{\"attributes\":{\"below\":[{\"id\":\"4a477aab-919b-4629-b1fd-0fcc3a3ad214\",\"type\":\"LinearAxis\"}],\"left\":[{\"id\":\"c4de7caf-aa4c-4ea6-b3bf-0b634a37e2f8\",\"type\":\"CategoricalAxis\"}],\"plot_height\":400,\"plot_width\":400,\"renderers\":[{\"id\":\"4a477aab-919b-4629-b1fd-0fcc3a3ad214\",\"type\":\"LinearAxis\"},{\"id\":\"336b9855-4c5b-48be-8c28-2a6cd8714fc6\",\"type\":\"Grid\"},{\"id\":\"c4de7caf-aa4c-4ea6-b3bf-0b634a37e2f8\",\"type\":\"CategoricalAxis\"},{\"id\":\"ac209341-9c3e-4200-a520-287b19c03da6\",\"type\":\"Grid\"},{\"id\":\"3f3348fb-6c92-4658-9878-aa7a04ba24f2\",\"type\":\"BoxAnnotation\"},{\"id\":\"06a3776c-3e84-4f9f-8f9c-ac033d9719a0\",\"type\":\"GlyphRenderer\"}],\"title\":{\"id\":\"71015dc8-9aa8-4bd6-b3a4-18ec84df5b07\",\"type\":\"Title\"},\"toolbar\":{\"id\":\"4ee07f5d-6447-4e19-8d7c-3599d89fca34\",\"type\":\"Toolbar\"},\"x_range\":{\"id\":\"c69e0fea-bedf-4e21-8f18-c4cb47637158\",\"type\":\"DataRange1d\"},\"x_scale\":{\"id\":\"efb57b1a-5f44-44d5-b724-6e469b7a2482\",\"type\":\"LinearScale\"},\"y_range\":{\"id\":\"eae73f2a-4556-4b49-9b60-d2da225f241d\",\"type\":\"FactorRange\"},\"y_scale\":{\"id\":\"75ac3861-5679-4269-bcf1-eb6a3777036e\",\"type\":\"CategoricalScale\"}},\"id\":\"c2453d7a-fa2f-4274-8f35-5e7e00522b63\",\"subtype\":\"Figure\",\"type\":\"Plot\"},{\"attributes\":{},\"id\":\"bb884afb-556a-41bc-a50b-eed0e09e8bef\",\"type\":\"ResetTool\"},{\"attributes\":{\"callback\":null},\"id\":\"c69e0fea-bedf-4e21-8f18-c4cb47637158\",\"type\":\"DataRange1d\"},{\"attributes\":{},\"id\":\"5f961f21-fd8e-427a-8985-bccdde2d709a\",\"type\":\"HelpTool\"},{\"attributes\":{\"data_source\":{\"id\":\"d3e76c10-13d3-4389-b30a-abc8ab8721ff\",\"type\":\"ColumnDataSource\"},\"glyph\":{\"id\":\"04814eac-d2a9-4469-8e3c-6fe65978a54f\",\"type\":\"Circle\"},\"hover_glyph\":null,\"muted_glyph\":null,\"nonselection_glyph\":{\"id\":\"e6bf96b9-69cf-456b-9adc-676eb6c11030\",\"type\":\"Circle\"},\"selection_glyph\":null,\"view\":{\"id\":\"cd2b3340-dc41-464e-be46-e37c78abc3eb\",\"type\":\"CDSView\"}},\"id\":\"06a3776c-3e84-4f9f-8f9c-ac033d9719a0\",\"type\":\"GlyphRenderer\"},{\"attributes\":{\"callback\":null,\"factors\":[\"a\",\"b\",\"c\",\"d\",\"e\",\"f\",\"g\",\"h\"]},\"id\":\"eae73f2a-4556-4b49-9b60-d2da225f241d\",\"type\":\"FactorRange\"},{\"attributes\":{\"plot\":null,\"text\":\"\"},\"id\":\"71015dc8-9aa8-4bd6-b3a4-18ec84df5b07\",\"type\":\"Title\"},{\"attributes\":{},\"id\":\"efb57b1a-5f44-44d5-b724-6e469b7a2482\",\"type\":\"LinearScale\"},{\"attributes\":{\"callback\":null,\"column_names\":[\"x\",\"y\"],\"data\":{\"x\":[50,40,65,10,25,37,80,60],\"y\":[\"a\",\"b\",\"c\",\"d\",\"e\",\"f\",\"g\",\"h\"]}},\"id\":\"d3e76c10-13d3-4389-b30a-abc8ab8721ff\",\"type\":\"ColumnDataSource\"},{\"attributes\":{},\"id\":\"75ac3861-5679-4269-bcf1-eb6a3777036e\",\"type\":\"CategoricalScale\"},{\"attributes\":{},\"id\":\"3d96dfd6-cf84-439c-b6d5-2015fc846387\",\"type\":\"BasicTickFormatter\"},{\"attributes\":{},\"id\":\"aca923bd-b010-4aee-a8fa-b8155aee4c84\",\"type\":\"CategoricalTickFormatter\"},{\"attributes\":{},\"id\":\"1705f622-88cd-4b76-a21e-63bf25defc98\",\"type\":\"CategoricalTicker\"},{\"attributes\":{\"formatter\":{\"id\":\"3d96dfd6-cf84-439c-b6d5-2015fc846387\",\"type\":\"BasicTickFormatter\"},\"plot\":{\"id\":\"c2453d7a-fa2f-4274-8f35-5e7e00522b63\",\"subtype\":\"Figure\",\"type\":\"Plot\"},\"ticker\":{\"id\":\"ecbee4b5-0382-4c6b-826d-bec2b4dc60fb\",\"type\":\"BasicTicker\"}},\"id\":\"4a477aab-919b-4629-b1fd-0fcc3a3ad214\",\"type\":\"LinearAxis\"},{\"attributes\":{\"formatter\":{\"id\":\"aca923bd-b010-4aee-a8fa-b8155aee4c84\",\"type\":\"CategoricalTickFormatter\"},\"plot\":{\"id\":\"c2453d7a-fa2f-4274-8f35-5e7e00522b63\",\"subtype\":\"Figure\",\"type\":\"Plot\"},\"ticker\":{\"id\":\"1705f622-88cd-4b76-a21e-63bf25defc98\",\"type\":\"CategoricalTicker\"}},\"id\":\"c4de7caf-aa4c-4ea6-b3bf-0b634a37e2f8\",\"type\":\"CategoricalAxis\"},{\"attributes\":{\"dimension\":1,\"plot\":{\"id\":\"c2453d7a-fa2f-4274-8f35-5e7e00522b63\",\"subtype\":\"Figure\",\"type\":\"Plot\"},\"ticker\":{\"id\":\"1705f622-88cd-4b76-a21e-63bf25defc98\",\"type\":\"CategoricalTicker\"}},\"id\":\"ac209341-9c3e-4200-a520-287b19c03da6\",\"type\":\"Grid\"},{\"attributes\":{\"fill_alpha\":{\"value\":0.1},\"fill_color\":{\"value\":\"#1f77b4\"},\"line_alpha\":{\"value\":0.1},\"line_color\":{\"value\":\"#1f77b4\"},\"line_width\":{\"value\":3},\"size\":{\"units\":\"screen\",\"value\":15},\"x\":{\"field\":\"x\"},\"y\":{\"field\":\"y\"}},\"id\":\"e6bf96b9-69cf-456b-9adc-676eb6c11030\",\"type\":\"Circle\"},{\"attributes\":{\"fill_color\":{\"value\":\"orange\"},\"line_color\":{\"value\":\"green\"},\"line_width\":{\"value\":3},\"size\":{\"units\":\"screen\",\"value\":15},\"x\":{\"field\":\"x\"},\"y\":{\"field\":\"y\"}},\"id\":\"04814eac-d2a9-4469-8e3c-6fe65978a54f\",\"type\":\"Circle\"},{\"attributes\":{\"plot\":{\"id\":\"c2453d7a-fa2f-4274-8f35-5e7e00522b63\",\"subtype\":\"Figure\",\"type\":\"Plot\"},\"ticker\":{\"id\":\"ecbee4b5-0382-4c6b-826d-bec2b4dc60fb\",\"type\":\"BasicTicker\"}},\"id\":\"336b9855-4c5b-48be-8c28-2a6cd8714fc6\",\"type\":\"Grid\"},{\"attributes\":{\"bottom_units\":\"screen\",\"fill_alpha\":{\"value\":0.5},\"fill_color\":{\"value\":\"lightgrey\"},\"left_units\":\"screen\",\"level\":\"overlay\",\"line_alpha\":{\"value\":1.0},\"line_color\":{\"value\":\"black\"},\"line_dash\":[4,4],\"line_width\":{\"value\":2},\"plot\":null,\"render_mode\":\"css\",\"right_units\":\"screen\",\"top_units\":\"screen\"},\"id\":\"3f3348fb-6c92-4658-9878-aa7a04ba24f2\",\"type\":\"BoxAnnotation\"},{\"attributes\":{},\"id\":\"8f03dbaa-5c8d-4b7f-aed1-19c8932f11ec\",\"type\":\"PanTool\"},{\"attributes\":{},\"id\":\"ecbee4b5-0382-4c6b-826d-bec2b4dc60fb\",\"type\":\"BasicTicker\"}],\"root_ids\":[\"c2453d7a-fa2f-4274-8f35-5e7e00522b63\"]},\"title\":\"Bokeh Application\",\"version\":\"0.12.13\"}};\n",
       "  var render_items = [{\"docid\":\"e6b7849b-ec63-4112-a0aa-94157130aa0f\",\"elementid\":\"27187aa8-0a47-4e49-a313-052905d89f0d\",\"modelid\":\"c2453d7a-fa2f-4274-8f35-5e7e00522b63\"}];\n",
       "  root.Bokeh.embed.embed_items_notebook(docs_json, render_items);\n",
       "\n",
       "  }\n",
       "  if (root.Bokeh !== undefined) {\n",
       "    embed_document(root);\n",
       "  } else {\n",
       "    var attempts = 0;\n",
       "    var timer = setInterval(function(root) {\n",
       "      if (root.Bokeh !== undefined) {\n",
       "        embed_document(root);\n",
       "        clearInterval(timer);\n",
       "      }\n",
       "      attempts++;\n",
       "      if (attempts > 100) {\n",
       "        console.log(\"Bokeh: ERROR: Unable to run BokehJS code because BokehJS library is missing\")\n",
       "        clearInterval(timer);\n",
       "      }\n",
       "    }, 10, root)\n",
       "  }\n",
       "})(window);"
      ],
      "application/vnd.bokehjs_exec.v0+json": ""
     },
     "metadata": {
      "application/vnd.bokehjs_exec.v0+json": {
       "id": "c2453d7a-fa2f-4274-8f35-5e7e00522b63"
      }
     },
     "output_type": "display_data"
    }
   ],
   "source": [
    "factors = [\"a\", \"b\", \"c\", \"d\", \"e\", \"f\", \"g\", \"h\"]\n",
    "x = [50, 40, 65, 10, 25, 37, 80, 60]\n",
    "\n",
    "p = figure(plot_width=400, plot_height=400, y_range=factors)\n",
    "\n",
    "p.circle(x, factors, size=15, fill_color=\"orange\", line_color=\"green\", line_width=3)\n",
    "output_notebook()\n",
    "\n",
    "show(p)"
   ]
  },
  {
   "cell_type": "code",
   "execution_count": null,
   "metadata": {},
   "outputs": [],
   "source": []
  },
  {
   "cell_type": "code",
   "execution_count": null,
   "metadata": {},
   "outputs": [],
   "source": []
  }
 ],
 "metadata": {
  "kernelspec": {
   "display_name": "Python 3",
   "language": "python",
   "name": "python3"
  },
  "language_info": {
   "codemirror_mode": {
    "name": "ipython",
    "version": 3
   },
   "file_extension": ".py",
   "mimetype": "text/x-python",
   "name": "python",
   "nbconvert_exporter": "python",
   "pygments_lexer": "ipython3",
   "version": "3.6.2"
  }
 },
 "nbformat": 4,
 "nbformat_minor": 2
}
