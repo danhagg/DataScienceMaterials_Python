{
 "cells": [
  {
   "cell_type": "code",
   "execution_count": 1,
   "metadata": {},
   "outputs": [],
   "source": [
    "import pandas as pd\n",
    "from pandas_datareader import data\n",
    "\n",
    "%matplotlib inline"
   ]
  },
  {
   "cell_type": "code",
   "execution_count": 4,
   "metadata": {},
   "outputs": [
    {
     "name": "stderr",
     "output_type": "stream",
     "text": [
      "/Library/Frameworks/Python.framework/Versions/3.6/lib/python3.6/site-packages/pandas_datareader/google/daily.py:40: UnstableAPIWarning: \n",
      "The Google Finance API has not been stable since late 2017. Requests seem\n",
      "to fail at random. Failure is especially common when bulk downloading.\n",
      "\n",
      "  warnings.warn(UNSTABLE_WARNING, UnstableAPIWarning)\n"
     ]
    }
   ],
   "source": [
    "# the following code imports and makes a panel\n",
    "\n",
    "companies = [\"MSFT\", \"GOOG\", \"AAPL\", \"YHOO\", \"AMZN\"]\n",
    "\n",
    "pan = data.DataReader(name = companies, data_source = \"google\", start='2010-01-01', end=\"2016-12-31\")"
   ]
  },
  {
   "cell_type": "code",
   "execution_count": 8,
   "metadata": {},
   "outputs": [
    {
     "name": "stdout",
     "output_type": "stream",
     "text": [
      "<class 'pandas.core.panel.Panel'>\n",
      "Dimensions: 5 (items) x 1761 (major_axis) x 5 (minor_axis)\n",
      "Items axis: Open to Volume\n",
      "Major_axis axis: 2010-01-04 00:00:00 to 2016-12-30 00:00:00\n",
      "Minor_axis axis: AAPL to YHOO \n",
      "\n",
      "Index(['Open', 'High', 'Low', 'Close', 'Volume'], dtype='object')\n",
      "DatetimeIndex(['2010-01-04', '2010-01-05', '2010-01-06', '2010-01-07',\n",
      "               '2010-01-08', '2010-01-11', '2010-01-12', '2010-01-13',\n",
      "               '2010-01-14', '2010-01-15',\n",
      "               ...\n",
      "               '2016-12-16', '2016-12-19', '2016-12-20', '2016-12-21',\n",
      "               '2016-12-22', '2016-12-23', '2016-12-27', '2016-12-28',\n",
      "               '2016-12-29', '2016-12-30'],\n",
      "              dtype='datetime64[ns]', name='Date', length=1761, freq=None)\n",
      "Index(['AAPL', 'AMZN', 'GOOG', 'MSFT', 'YHOO'], dtype='object')\n"
     ]
    }
   ],
   "source": [
    "print(pan, '\\n')\n",
    "\n",
    "# Dimensions\n",
    "print(pan.items)\n",
    "print(pan.major_axis)\n",
    "print(pan.minor_axis)\n",
    "\n",
    "# axes\n",
    "print(axes)"
   ]
  },
  {
   "cell_type": "code",
   "execution_count": null,
   "metadata": {},
   "outputs": [],
   "source": []
  }
 ],
 "metadata": {
  "kernelspec": {
   "display_name": "Python 3",
   "language": "python",
   "name": "python3"
  },
  "language_info": {
   "codemirror_mode": {
    "name": "ipython",
    "version": 3
   },
   "file_extension": ".py",
   "mimetype": "text/x-python",
   "name": "python",
   "nbconvert_exporter": "python",
   "pygments_lexer": "ipython3",
   "version": "3.6.2"
  }
 },
 "nbformat": 4,
 "nbformat_minor": 2
}
