{
 "cells": [
  {
   "cell_type": "markdown",
   "metadata": {},
   "source": [
    "# Order of data processing with Pandas\n",
    "- import pandas\n",
    "- %matplotlib inline\n",
    "- read in data\n",
    "- isnull\n",
    "- check dtypes\n",
    "- change str to numerical\n",
    "- drop NaN's\n",
    "- change str to datetimes\n",
    "- remove dates after...\n",
    "- describe(include='all')\n",
    "- Series.plot() vs df.plot() and indexing\n",
    "- .value_counts().plot()\n",
    "- datetime.dt attribute \"weekday\"\n",
    "- new column data.assign(weekdays=weekdays)\n",
    "- list days.split(), into dict {dayNum:dayName}\n",
    "- def day_of_week\n",
    "- data.weekdays.apply(day_of_week)\n",
    "- .groupby, .count and .loc[weekday_names]\n",
    "- set timestamp as index\n",
    "- drop the duplicate timestamp\n",
    "- make midnights\n",
    "- reindex with midnights\n",
    "- interploate against time\n",
    "- resample(\"D\").asfreq() makes it a daily dataset\n",
    "- daily_data.drop([\"contributor\"], axis=1)\n",
    "- readd the weekday with weekday attr daily_data.index.weekday_name\n",
    "- coffees per day\n",
    "- coffees by weekday\n",
    "- coffees per person join a daily/monthly dataset"
   ]
  },
  {
   "cell_type": "code",
   "execution_count": 1,
   "metadata": {},
   "outputs": [],
   "source": [
    "import pandas as pd\n",
    "%matplotlib inline "
   ]
  },
  {
   "cell_type": "code",
   "execution_count": 2,
   "metadata": {},
   "outputs": [
    {
     "data": {
      "text/html": [
       "<div>\n",
       "<style>\n",
       "    .dataframe thead tr:only-child th {\n",
       "        text-align: right;\n",
       "    }\n",
       "\n",
       "    .dataframe thead th {\n",
       "        text-align: left;\n",
       "    }\n",
       "\n",
       "    .dataframe tbody tr th {\n",
       "        vertical-align: top;\n",
       "    }\n",
       "</style>\n",
       "<table border=\"1\" class=\"dataframe\">\n",
       "  <thead>\n",
       "    <tr style=\"text-align: right;\">\n",
       "      <th></th>\n",
       "      <th>timestamp</th>\n",
       "      <th>coffees</th>\n",
       "      <th>contributor</th>\n",
       "    </tr>\n",
       "  </thead>\n",
       "  <tbody>\n",
       "    <tr>\n",
       "      <th>0</th>\n",
       "      <td>2011-10-03 08:22:00</td>\n",
       "      <td>397.0</td>\n",
       "      <td>Quentin</td>\n",
       "    </tr>\n",
       "    <tr>\n",
       "      <th>1</th>\n",
       "      <td>2011-10-04 11:48:00</td>\n",
       "      <td>410.0</td>\n",
       "      <td>Quentin</td>\n",
       "    </tr>\n",
       "    <tr>\n",
       "      <th>2</th>\n",
       "      <td>2011-10-05 07:02:00</td>\n",
       "      <td>testing</td>\n",
       "      <td>Anthony</td>\n",
       "    </tr>\n",
       "  </tbody>\n",
       "</table>\n",
       "</div>"
      ],
      "text/plain": [
       "             timestamp  coffees contributor\n",
       "0  2011-10-03 08:22:00    397.0     Quentin\n",
       "1  2011-10-04 11:48:00    410.0     Quentin\n",
       "2  2011-10-05 07:02:00  testing     Anthony"
      ]
     },
     "execution_count": 2,
     "metadata": {},
     "output_type": "execute_result"
    }
   ],
   "source": [
    "data = pd.read_csv('../pydata_pandas/data/coffees.csv')\n",
    "data.head(n=3)"
   ]
  },
  {
   "cell_type": "code",
   "execution_count": 3,
   "metadata": {},
   "outputs": [
    {
     "data": {
      "text/html": [
       "<div>\n",
       "<style>\n",
       "    .dataframe thead tr:only-child th {\n",
       "        text-align: right;\n",
       "    }\n",
       "\n",
       "    .dataframe thead th {\n",
       "        text-align: left;\n",
       "    }\n",
       "\n",
       "    .dataframe tbody tr th {\n",
       "        vertical-align: top;\n",
       "    }\n",
       "</style>\n",
       "<table border=\"1\" class=\"dataframe\">\n",
       "  <thead>\n",
       "    <tr style=\"text-align: right;\">\n",
       "      <th></th>\n",
       "      <th>timestamp</th>\n",
       "      <th>coffees</th>\n",
       "      <th>contributor</th>\n",
       "    </tr>\n",
       "  </thead>\n",
       "  <tbody>\n",
       "    <tr>\n",
       "      <th>642</th>\n",
       "      <td>2013-01-28 13:13:00</td>\n",
       "      <td>NaN</td>\n",
       "      <td>Quentin</td>\n",
       "    </tr>\n",
       "    <tr>\n",
       "      <th>653</th>\n",
       "      <td>2013-02-18 12:04:00</td>\n",
       "      <td>NaN</td>\n",
       "      <td>Quentin</td>\n",
       "    </tr>\n",
       "  </tbody>\n",
       "</table>\n",
       "</div>"
      ],
      "text/plain": [
       "               timestamp coffees contributor\n",
       "642  2013-01-28 13:13:00     NaN     Quentin\n",
       "653  2013-02-18 12:04:00     NaN     Quentin"
      ]
     },
     "execution_count": 3,
     "metadata": {},
     "output_type": "execute_result"
    }
   ],
   "source": [
    "# Can use isnull and then Boolean indexing\n",
    "data[data.coffees.isnull()].tail(n=2)"
   ]
  },
  {
   "cell_type": "code",
   "execution_count": 4,
   "metadata": {},
   "outputs": [
    {
     "data": {
      "text/plain": [
       "timestamp      object\n",
       "coffees        object\n",
       "contributor    object\n",
       "dtype: object"
      ]
     },
     "execution_count": 4,
     "metadata": {},
     "output_type": "execute_result"
    }
   ],
   "source": [
    "# pandas object means strings\n",
    "# timestamp should be datetime and coffees an int or float\n",
    "data.dtypes"
   ]
  },
  {
   "cell_type": "code",
   "execution_count": 5,
   "metadata": {},
   "outputs": [
    {
     "data": {
      "text/plain": [
       "timestamp       object\n",
       "coffees        float64\n",
       "contributor     object\n",
       "dtype: object"
      ]
     },
     "execution_count": 5,
     "metadata": {},
     "output_type": "execute_result"
    }
   ],
   "source": [
    "# Change coffees from strings to numerical data types\n",
    "data.coffees = pd.to_numeric(data.coffees, errors=\"coerce\")\n",
    "\n",
    "# check datatypes\n",
    "data.dtypes"
   ]
  },
  {
   "cell_type": "code",
   "execution_count": 6,
   "metadata": {},
   "outputs": [
    {
     "data": {
      "text/html": [
       "<div>\n",
       "<style>\n",
       "    .dataframe thead tr:only-child th {\n",
       "        text-align: right;\n",
       "    }\n",
       "\n",
       "    .dataframe thead th {\n",
       "        text-align: left;\n",
       "    }\n",
       "\n",
       "    .dataframe tbody tr th {\n",
       "        vertical-align: top;\n",
       "    }\n",
       "</style>\n",
       "<table border=\"1\" class=\"dataframe\">\n",
       "  <thead>\n",
       "    <tr style=\"text-align: right;\">\n",
       "      <th></th>\n",
       "      <th>timestamp</th>\n",
       "      <th>coffees</th>\n",
       "      <th>contributor</th>\n",
       "    </tr>\n",
       "  </thead>\n",
       "  <tbody>\n",
       "    <tr>\n",
       "      <th>0</th>\n",
       "      <td>2011-10-03 08:22:00</td>\n",
       "      <td>397.0</td>\n",
       "      <td>Quentin</td>\n",
       "    </tr>\n",
       "    <tr>\n",
       "      <th>1</th>\n",
       "      <td>2011-10-04 11:48:00</td>\n",
       "      <td>410.0</td>\n",
       "      <td>Quentin</td>\n",
       "    </tr>\n",
       "    <tr>\n",
       "      <th>4</th>\n",
       "      <td>2011-10-05 10:47:00</td>\n",
       "      <td>464.0</td>\n",
       "      <td>Quentin</td>\n",
       "    </tr>\n",
       "    <tr>\n",
       "      <th>5</th>\n",
       "      <td>2011-10-05 13:15:00</td>\n",
       "      <td>481.0</td>\n",
       "      <td>Quentin</td>\n",
       "    </tr>\n",
       "    <tr>\n",
       "      <th>6</th>\n",
       "      <td>2011-10-06 07:21:00</td>\n",
       "      <td>503.0</td>\n",
       "      <td>Anthony</td>\n",
       "    </tr>\n",
       "  </tbody>\n",
       "</table>\n",
       "</div>"
      ],
      "text/plain": [
       "             timestamp  coffees contributor\n",
       "0  2011-10-03 08:22:00    397.0     Quentin\n",
       "1  2011-10-04 11:48:00    410.0     Quentin\n",
       "4  2011-10-05 10:47:00    464.0     Quentin\n",
       "5  2011-10-05 13:15:00    481.0     Quentin\n",
       "6  2011-10-06 07:21:00    503.0     Anthony"
      ]
     },
     "execution_count": 6,
     "metadata": {},
     "output_type": "execute_result"
    }
   ],
   "source": [
    "# coffee column contains NaNs so we need to drop them\n",
    "# pandas normally does nt overwrite for safety, but we can use inplace\n",
    "# Note the indices\n",
    "data.dropna(inplace=True)\n",
    "# or \"data = data.dropna()\" gives same result\n",
    "data.head()"
   ]
  },
  {
   "cell_type": "code",
   "execution_count": 7,
   "metadata": {},
   "outputs": [
    {
     "data": {
      "text/html": [
       "<div>\n",
       "<style>\n",
       "    .dataframe thead tr:only-child th {\n",
       "        text-align: right;\n",
       "    }\n",
       "\n",
       "    .dataframe thead th {\n",
       "        text-align: left;\n",
       "    }\n",
       "\n",
       "    .dataframe tbody tr th {\n",
       "        vertical-align: top;\n",
       "    }\n",
       "</style>\n",
       "<table border=\"1\" class=\"dataframe\">\n",
       "  <thead>\n",
       "    <tr style=\"text-align: right;\">\n",
       "      <th></th>\n",
       "      <th>timestamp</th>\n",
       "      <th>coffees</th>\n",
       "      <th>contributor</th>\n",
       "    </tr>\n",
       "  </thead>\n",
       "  <tbody>\n",
       "    <tr>\n",
       "      <th>0</th>\n",
       "      <td>2011-10-03 08:22:00</td>\n",
       "      <td>397</td>\n",
       "      <td>Quentin</td>\n",
       "    </tr>\n",
       "    <tr>\n",
       "      <th>1</th>\n",
       "      <td>2011-10-04 11:48:00</td>\n",
       "      <td>410</td>\n",
       "      <td>Quentin</td>\n",
       "    </tr>\n",
       "    <tr>\n",
       "      <th>4</th>\n",
       "      <td>2011-10-05 10:47:00</td>\n",
       "      <td>464</td>\n",
       "      <td>Quentin</td>\n",
       "    </tr>\n",
       "    <tr>\n",
       "      <th>5</th>\n",
       "      <td>2011-10-05 13:15:00</td>\n",
       "      <td>481</td>\n",
       "      <td>Quentin</td>\n",
       "    </tr>\n",
       "    <tr>\n",
       "      <th>6</th>\n",
       "      <td>2011-10-06 07:21:00</td>\n",
       "      <td>503</td>\n",
       "      <td>Anthony</td>\n",
       "    </tr>\n",
       "  </tbody>\n",
       "</table>\n",
       "</div>"
      ],
      "text/plain": [
       "             timestamp  coffees contributor\n",
       "0  2011-10-03 08:22:00      397     Quentin\n",
       "1  2011-10-04 11:48:00      410     Quentin\n",
       "4  2011-10-05 10:47:00      464     Quentin\n",
       "5  2011-10-05 13:15:00      481     Quentin\n",
       "6  2011-10-06 07:21:00      503     Anthony"
      ]
     },
     "execution_count": 7,
     "metadata": {},
     "output_type": "execute_result"
    }
   ],
   "source": [
    "# In fact we want \"ints\" so we can add a second step\n",
    "data.coffees = data.coffees.astype(int)\n",
    "data.head()"
   ]
  },
  {
   "cell_type": "code",
   "execution_count": 8,
   "metadata": {},
   "outputs": [
    {
     "data": {
      "text/plain": [
       "timestamp      datetime64[ns]\n",
       "coffees                 int64\n",
       "contributor            object\n",
       "dtype: object"
      ]
     },
     "execution_count": 8,
     "metadata": {},
     "output_type": "execute_result"
    }
   ],
   "source": [
    "# datetimes\n",
    "data.timestamp = pd.to_datetime(data.timestamp)\n",
    "data.dtypes"
   ]
  },
  {
   "cell_type": "code",
   "execution_count": 9,
   "metadata": {},
   "outputs": [
    {
     "data": {
      "text/html": [
       "<div>\n",
       "<style>\n",
       "    .dataframe thead tr:only-child th {\n",
       "        text-align: right;\n",
       "    }\n",
       "\n",
       "    .dataframe thead th {\n",
       "        text-align: left;\n",
       "    }\n",
       "\n",
       "    .dataframe tbody tr th {\n",
       "        vertical-align: top;\n",
       "    }\n",
       "</style>\n",
       "<table border=\"1\" class=\"dataframe\">\n",
       "  <thead>\n",
       "    <tr style=\"text-align: right;\">\n",
       "      <th></th>\n",
       "      <th>coffees</th>\n",
       "    </tr>\n",
       "  </thead>\n",
       "  <tbody>\n",
       "    <tr>\n",
       "      <th>count</th>\n",
       "      <td>657.000000</td>\n",
       "    </tr>\n",
       "    <tr>\n",
       "      <th>mean</th>\n",
       "      <td>8568.471842</td>\n",
       "    </tr>\n",
       "    <tr>\n",
       "      <th>std</th>\n",
       "      <td>4600.215049</td>\n",
       "    </tr>\n",
       "    <tr>\n",
       "      <th>min</th>\n",
       "      <td>397.000000</td>\n",
       "    </tr>\n",
       "    <tr>\n",
       "      <th>25%</th>\n",
       "      <td>4986.000000</td>\n",
       "    </tr>\n",
       "    <tr>\n",
       "      <th>50%</th>\n",
       "      <td>9172.000000</td>\n",
       "    </tr>\n",
       "    <tr>\n",
       "      <th>75%</th>\n",
       "      <td>11562.000000</td>\n",
       "    </tr>\n",
       "    <tr>\n",
       "      <th>max</th>\n",
       "      <td>24463.000000</td>\n",
       "    </tr>\n",
       "  </tbody>\n",
       "</table>\n",
       "</div>"
      ],
      "text/plain": [
       "            coffees\n",
       "count    657.000000\n",
       "mean    8568.471842\n",
       "std     4600.215049\n",
       "min      397.000000\n",
       "25%     4986.000000\n",
       "50%     9172.000000\n",
       "75%    11562.000000\n",
       "max    24463.000000"
      ]
     },
     "execution_count": 9,
     "metadata": {},
     "output_type": "execute_result"
    }
   ],
   "source": [
    "# the describe method only describes the numeric values by default\n",
    "data.describe()"
   ]
  },
  {
   "cell_type": "code",
   "execution_count": 10,
   "metadata": {},
   "outputs": [
    {
     "data": {
      "text/html": [
       "<div>\n",
       "<style>\n",
       "    .dataframe thead tr:only-child th {\n",
       "        text-align: right;\n",
       "    }\n",
       "\n",
       "    .dataframe thead th {\n",
       "        text-align: left;\n",
       "    }\n",
       "\n",
       "    .dataframe tbody tr th {\n",
       "        vertical-align: top;\n",
       "    }\n",
       "</style>\n",
       "<table border=\"1\" class=\"dataframe\">\n",
       "  <thead>\n",
       "    <tr style=\"text-align: right;\">\n",
       "      <th></th>\n",
       "      <th>timestamp</th>\n",
       "      <th>coffees</th>\n",
       "      <th>contributor</th>\n",
       "    </tr>\n",
       "  </thead>\n",
       "  <tbody>\n",
       "    <tr>\n",
       "      <th>count</th>\n",
       "      <td>657</td>\n",
       "      <td>657.000000</td>\n",
       "      <td>657</td>\n",
       "    </tr>\n",
       "    <tr>\n",
       "      <th>unique</th>\n",
       "      <td>657</td>\n",
       "      <td>NaN</td>\n",
       "      <td>9</td>\n",
       "    </tr>\n",
       "    <tr>\n",
       "      <th>top</th>\n",
       "      <td>2011-10-24 14:32:00</td>\n",
       "      <td>NaN</td>\n",
       "      <td>Quentin</td>\n",
       "    </tr>\n",
       "    <tr>\n",
       "      <th>freq</th>\n",
       "      <td>1</td>\n",
       "      <td>NaN</td>\n",
       "      <td>361</td>\n",
       "    </tr>\n",
       "    <tr>\n",
       "      <th>first</th>\n",
       "      <td>2011-10-03 08:22:00</td>\n",
       "      <td>NaN</td>\n",
       "      <td>NaN</td>\n",
       "    </tr>\n",
       "    <tr>\n",
       "      <th>last</th>\n",
       "      <td>2013-09-13 10:28:00</td>\n",
       "      <td>NaN</td>\n",
       "      <td>NaN</td>\n",
       "    </tr>\n",
       "    <tr>\n",
       "      <th>mean</th>\n",
       "      <td>NaN</td>\n",
       "      <td>8568.471842</td>\n",
       "      <td>NaN</td>\n",
       "    </tr>\n",
       "    <tr>\n",
       "      <th>std</th>\n",
       "      <td>NaN</td>\n",
       "      <td>4600.215049</td>\n",
       "      <td>NaN</td>\n",
       "    </tr>\n",
       "    <tr>\n",
       "      <th>min</th>\n",
       "      <td>NaN</td>\n",
       "      <td>397.000000</td>\n",
       "      <td>NaN</td>\n",
       "    </tr>\n",
       "    <tr>\n",
       "      <th>25%</th>\n",
       "      <td>NaN</td>\n",
       "      <td>4986.000000</td>\n",
       "      <td>NaN</td>\n",
       "    </tr>\n",
       "    <tr>\n",
       "      <th>50%</th>\n",
       "      <td>NaN</td>\n",
       "      <td>9172.000000</td>\n",
       "      <td>NaN</td>\n",
       "    </tr>\n",
       "    <tr>\n",
       "      <th>75%</th>\n",
       "      <td>NaN</td>\n",
       "      <td>11562.000000</td>\n",
       "      <td>NaN</td>\n",
       "    </tr>\n",
       "    <tr>\n",
       "      <th>max</th>\n",
       "      <td>NaN</td>\n",
       "      <td>24463.000000</td>\n",
       "      <td>NaN</td>\n",
       "    </tr>\n",
       "  </tbody>\n",
       "</table>\n",
       "</div>"
      ],
      "text/plain": [
       "                  timestamp       coffees contributor\n",
       "count                   657    657.000000         657\n",
       "unique                  657           NaN           9\n",
       "top     2011-10-24 14:32:00           NaN     Quentin\n",
       "freq                      1           NaN         361\n",
       "first   2011-10-03 08:22:00           NaN         NaN\n",
       "last    2013-09-13 10:28:00           NaN         NaN\n",
       "mean                    NaN   8568.471842         NaN\n",
       "std                     NaN   4600.215049         NaN\n",
       "min                     NaN    397.000000         NaN\n",
       "25%                     NaN   4986.000000         NaN\n",
       "50%                     NaN   9172.000000         NaN\n",
       "75%                     NaN  11562.000000         NaN\n",
       "max                     NaN  24463.000000         NaN"
      ]
     },
     "execution_count": 10,
     "metadata": {},
     "output_type": "execute_result"
    }
   ],
   "source": [
    "# To get around the preference for describing the numerical data\n",
    "data.describe(include=\"all\")"
   ]
  },
  {
   "cell_type": "code",
   "execution_count": 11,
   "metadata": {},
   "outputs": [
    {
     "data": {
      "text/plain": [
       "<matplotlib.axes._subplots.AxesSubplot at 0x111a289e8>"
      ]
     },
     "execution_count": 11,
     "metadata": {},
     "output_type": "execute_result"
    },
    {
     "data": {
      "image/png": "[encoded data removed]",
      "text/plain": [
       "<matplotlib.figure.Figure at 0x11194aef0>"
      ]
     },
     "metadata": {},
     "output_type": "display_data"
    }
   ],
   "source": [
    "# If we use the plot method on the Series\n",
    "# We do not get an appropriate date on x axis\n",
    "# The Series is plotted vs index\n",
    "data.coffees.plot()"
   ]
  },
  {
   "cell_type": "code",
   "execution_count": 12,
   "metadata": {},
   "outputs": [
    {
     "data": {
      "text/plain": [
       "<matplotlib.axes._subplots.AxesSubplot at 0x111b40f60>"
      ]
     },
     "execution_count": 12,
     "metadata": {},
     "output_type": "execute_result"
    },
    {
     "data": {
      "image/png": "[encoded data removed]",
      "text/plain": [
       "<matplotlib.figure.Figure at 0x111b24160>"
      ]
     },
     "metadata": {},
     "output_type": "display_data"
    }
   ],
   "source": [
    "# Use the .plot() method on df not Series\n",
    "# dots for data points and lines connecting dots\n",
    "data.plot(x='timestamp', style=\".-\") # or \"x=data.timestamp\""
   ]
  },
  {
   "cell_type": "code",
   "execution_count": 13,
   "metadata": {},
   "outputs": [
    {
     "data": {
      "text/html": [
       "<div>\n",
       "<style>\n",
       "    .dataframe thead tr:only-child th {\n",
       "        text-align: right;\n",
       "    }\n",
       "\n",
       "    .dataframe thead th {\n",
       "        text-align: left;\n",
       "    }\n",
       "\n",
       "    .dataframe tbody tr th {\n",
       "        vertical-align: top;\n",
       "    }\n",
       "</style>\n",
       "<table border=\"1\" class=\"dataframe\">\n",
       "  <thead>\n",
       "    <tr style=\"text-align: right;\">\n",
       "      <th></th>\n",
       "      <th>timestamp</th>\n",
       "      <th>coffees</th>\n",
       "      <th>contributor</th>\n",
       "    </tr>\n",
       "  </thead>\n",
       "  <tbody>\n",
       "    <tr>\n",
       "      <th>668</th>\n",
       "      <td>2013-04-27 11:04:00</td>\n",
       "      <td>19698</td>\n",
       "      <td>Sergio</td>\n",
       "    </tr>\n",
       "    <tr>\n",
       "      <th>669</th>\n",
       "      <td>2013-09-12 15:38:00</td>\n",
       "      <td>24450</td>\n",
       "      <td>Quentin</td>\n",
       "    </tr>\n",
       "    <tr>\n",
       "      <th>670</th>\n",
       "      <td>2013-09-13 10:28:00</td>\n",
       "      <td>24463</td>\n",
       "      <td>Quentin</td>\n",
       "    </tr>\n",
       "  </tbody>\n",
       "</table>\n",
       "</div>"
      ],
      "text/plain": [
       "              timestamp  coffees contributor\n",
       "668 2013-04-27 11:04:00    19698      Sergio\n",
       "669 2013-09-12 15:38:00    24450     Quentin\n",
       "670 2013-09-13 10:28:00    24463     Quentin"
      ]
     },
     "execution_count": 13,
     "metadata": {},
     "output_type": "execute_result"
    }
   ],
   "source": [
    "# Use conditional indexing against the timestamp\n",
    "# Note we actually pass in the date as a string to panadas\n",
    "data[data.timestamp < \"2013-03-01\"]\n",
    "data.tail(n=3)"
   ]
  },
  {
   "cell_type": "code",
   "execution_count": 14,
   "metadata": {},
   "outputs": [
    {
     "data": {
      "text/plain": [
       "<matplotlib.axes._subplots.AxesSubplot at 0x111cd30f0>"
      ]
     },
     "execution_count": 14,
     "metadata": {},
     "output_type": "execute_result"
    },
    {
     "data": {
      "image/png": "[encoded data removed]",
      "text/plain": [
       "<matplotlib.figure.Figure at 0x111d6f278>"
      ]
     },
     "metadata": {},
     "output_type": "display_data"
    }
   ],
   "source": [
    "data.plot(x='timestamp', style='.-', figsize=(15,4))"
   ]
  },
  {
   "cell_type": "code",
   "execution_count": 15,
   "metadata": {},
   "outputs": [
    {
     "data": {
      "text/plain": [
       "Quentin    361\n",
       "Mike       152\n",
       "Sergio      93\n",
       "Mike M      29\n",
       "Colm        12\n",
       "Anthony      4\n",
       "Ben          3\n",
       "Stefano      2\n",
       "Arturo       1\n",
       "Name: contributor, dtype: int64"
      ]
     },
     "execution_count": 15,
     "metadata": {},
     "output_type": "execute_result"
    }
   ],
   "source": [
    "data.contributor.value_counts()"
   ]
  },
  {
   "cell_type": "code",
   "execution_count": 16,
   "metadata": {},
   "outputs": [
    {
     "data": {
      "text/plain": [
       "<matplotlib.axes._subplots.AxesSubplot at 0x111d2edd8>"
      ]
     },
     "execution_count": 16,
     "metadata": {},
     "output_type": "execute_result"
    },
    {
     "data": {
      "image/png": "[encoded data removed]",
      "text/plain": [
       "<matplotlib.figure.Figure at 0x111d247b8>"
      ]
     },
     "metadata": {},
     "output_type": "display_data"
    }
   ],
   "source": [
    "# This \"series\" of value counts plots against its index \"contributor\"\n",
    "data.contributor.value_counts().plot(kind='bar')"
   ]
  },
  {
   "cell_type": "code",
   "execution_count": 17,
   "metadata": {},
   "outputs": [],
   "source": [
    "# Entries for weekdays\n",
    "# DataFrameobject.timestamp has a 'dt' attribute\n",
    "# help(data.timestamp.dt)"
   ]
  },
  {
   "cell_type": "code",
   "execution_count": 18,
   "metadata": {},
   "outputs": [
    {
     "data": {
      "text/plain": [
       "0    0\n",
       "1    1\n",
       "4    2\n",
       "5    2\n",
       "6    3\n",
       "Name: timestamp, dtype: int64"
      ]
     },
     "execution_count": 18,
     "metadata": {},
     "output_type": "execute_result"
    }
   ],
   "source": [
    "weekdays = data.timestamp.dt.weekday\n",
    "weekdays.head()"
   ]
  },
  {
   "cell_type": "code",
   "execution_count": 19,
   "metadata": {},
   "outputs": [
    {
     "data": {
      "text/html": [
       "<div>\n",
       "<style>\n",
       "    .dataframe thead tr:only-child th {\n",
       "        text-align: right;\n",
       "    }\n",
       "\n",
       "    .dataframe thead th {\n",
       "        text-align: left;\n",
       "    }\n",
       "\n",
       "    .dataframe tbody tr th {\n",
       "        vertical-align: top;\n",
       "    }\n",
       "</style>\n",
       "<table border=\"1\" class=\"dataframe\">\n",
       "  <thead>\n",
       "    <tr style=\"text-align: right;\">\n",
       "      <th></th>\n",
       "      <th>timestamp</th>\n",
       "      <th>coffees</th>\n",
       "      <th>contributor</th>\n",
       "      <th>weekdays</th>\n",
       "    </tr>\n",
       "  </thead>\n",
       "  <tbody>\n",
       "    <tr>\n",
       "      <th>0</th>\n",
       "      <td>2011-10-03 08:22:00</td>\n",
       "      <td>397</td>\n",
       "      <td>Quentin</td>\n",
       "      <td>0</td>\n",
       "    </tr>\n",
       "    <tr>\n",
       "      <th>1</th>\n",
       "      <td>2011-10-04 11:48:00</td>\n",
       "      <td>410</td>\n",
       "      <td>Quentin</td>\n",
       "      <td>1</td>\n",
       "    </tr>\n",
       "    <tr>\n",
       "      <th>4</th>\n",
       "      <td>2011-10-05 10:47:00</td>\n",
       "      <td>464</td>\n",
       "      <td>Quentin</td>\n",
       "      <td>2</td>\n",
       "    </tr>\n",
       "    <tr>\n",
       "      <th>5</th>\n",
       "      <td>2011-10-05 13:15:00</td>\n",
       "      <td>481</td>\n",
       "      <td>Quentin</td>\n",
       "      <td>2</td>\n",
       "    </tr>\n",
       "    <tr>\n",
       "      <th>6</th>\n",
       "      <td>2011-10-06 07:21:00</td>\n",
       "      <td>503</td>\n",
       "      <td>Anthony</td>\n",
       "      <td>3</td>\n",
       "    </tr>\n",
       "  </tbody>\n",
       "</table>\n",
       "</div>"
      ],
      "text/plain": [
       "            timestamp  coffees contributor  weekdays\n",
       "0 2011-10-03 08:22:00      397     Quentin         0\n",
       "1 2011-10-04 11:48:00      410     Quentin         1\n",
       "4 2011-10-05 10:47:00      464     Quentin         2\n",
       "5 2011-10-05 13:15:00      481     Quentin         2\n",
       "6 2011-10-06 07:21:00      503     Anthony         3"
      ]
     },
     "execution_count": 19,
     "metadata": {},
     "output_type": "execute_result"
    }
   ],
   "source": [
    "# Now we assign this to a col in the data object\n",
    "data = data.assign(weekdays=weekdays)\n",
    "data.head()"
   ]
  },
  {
   "cell_type": "code",
   "execution_count": 20,
   "metadata": {},
   "outputs": [
    {
     "data": {
      "text/plain": [
       "{0: 'Monday',\n",
       " 1: 'Tuesday',\n",
       " 2: 'Wednesday',\n",
       " 3: 'Thursday',\n",
       " 4: 'Friday',\n",
       " 5: 'Saturday',\n",
       " 6: 'Sunday'}"
      ]
     },
     "execution_count": 20,
     "metadata": {},
     "output_type": "execute_result"
    }
   ],
   "source": [
    "# create a dictionary that maps 0-6\n",
    "weekday_names = \"Monday Tuesday Wednesday Thursday Friday Saturday Sunday\".split()\n",
    "weekday_dict = {key: weekday_names[key] for key in range(7)}\n",
    "weekday_dict"
   ]
  },
  {
   "cell_type": "code",
   "execution_count": 21,
   "metadata": {},
   "outputs": [],
   "source": [
    "def day_of_week(idx):\n",
    "    return weekday_dict[idx]"
   ]
  },
  {
   "cell_type": "code",
   "execution_count": 22,
   "metadata": {},
   "outputs": [
    {
     "data": {
      "text/html": [
       "<div>\n",
       "<style>\n",
       "    .dataframe thead tr:only-child th {\n",
       "        text-align: right;\n",
       "    }\n",
       "\n",
       "    .dataframe thead th {\n",
       "        text-align: left;\n",
       "    }\n",
       "\n",
       "    .dataframe tbody tr th {\n",
       "        vertical-align: top;\n",
       "    }\n",
       "</style>\n",
       "<table border=\"1\" class=\"dataframe\">\n",
       "  <thead>\n",
       "    <tr style=\"text-align: right;\">\n",
       "      <th></th>\n",
       "      <th>timestamp</th>\n",
       "      <th>coffees</th>\n",
       "      <th>contributor</th>\n",
       "      <th>weekdays</th>\n",
       "    </tr>\n",
       "  </thead>\n",
       "  <tbody>\n",
       "    <tr>\n",
       "      <th>0</th>\n",
       "      <td>2011-10-03 08:22:00</td>\n",
       "      <td>397</td>\n",
       "      <td>Quentin</td>\n",
       "      <td>Monday</td>\n",
       "    </tr>\n",
       "    <tr>\n",
       "      <th>1</th>\n",
       "      <td>2011-10-04 11:48:00</td>\n",
       "      <td>410</td>\n",
       "      <td>Quentin</td>\n",
       "      <td>Tuesday</td>\n",
       "    </tr>\n",
       "    <tr>\n",
       "      <th>4</th>\n",
       "      <td>2011-10-05 10:47:00</td>\n",
       "      <td>464</td>\n",
       "      <td>Quentin</td>\n",
       "      <td>Wednesday</td>\n",
       "    </tr>\n",
       "    <tr>\n",
       "      <th>5</th>\n",
       "      <td>2011-10-05 13:15:00</td>\n",
       "      <td>481</td>\n",
       "      <td>Quentin</td>\n",
       "      <td>Wednesday</td>\n",
       "    </tr>\n",
       "    <tr>\n",
       "      <th>6</th>\n",
       "      <td>2011-10-06 07:21:00</td>\n",
       "      <td>503</td>\n",
       "      <td>Anthony</td>\n",
       "      <td>Thursday</td>\n",
       "    </tr>\n",
       "  </tbody>\n",
       "</table>\n",
       "</div>"
      ],
      "text/plain": [
       "            timestamp  coffees contributor   weekdays\n",
       "0 2011-10-03 08:22:00      397     Quentin     Monday\n",
       "1 2011-10-04 11:48:00      410     Quentin    Tuesday\n",
       "4 2011-10-05 10:47:00      464     Quentin  Wednesday\n",
       "5 2011-10-05 13:15:00      481     Quentin  Wednesday\n",
       "6 2011-10-06 07:21:00      503     Anthony   Thursday"
      ]
     },
     "execution_count": 22,
     "metadata": {},
     "output_type": "execute_result"
    }
   ],
   "source": [
    "data.weekdays = data.weekdays.apply(day_of_week)\n",
    "data.head()"
   ]
  },
  {
   "cell_type": "code",
   "execution_count": 23,
   "metadata": {},
   "outputs": [
    {
     "data": {
      "text/html": [
       "<div>\n",
       "<style>\n",
       "    .dataframe thead tr:only-child th {\n",
       "        text-align: right;\n",
       "    }\n",
       "\n",
       "    .dataframe thead th {\n",
       "        text-align: left;\n",
       "    }\n",
       "\n",
       "    .dataframe tbody tr th {\n",
       "        vertical-align: top;\n",
       "    }\n",
       "</style>\n",
       "<table border=\"1\" class=\"dataframe\">\n",
       "  <thead>\n",
       "    <tr style=\"text-align: right;\">\n",
       "      <th></th>\n",
       "      <th>timestamp</th>\n",
       "      <th>coffees</th>\n",
       "      <th>contributor</th>\n",
       "    </tr>\n",
       "    <tr>\n",
       "      <th>weekdays</th>\n",
       "      <th></th>\n",
       "      <th></th>\n",
       "      <th></th>\n",
       "    </tr>\n",
       "  </thead>\n",
       "  <tbody>\n",
       "    <tr>\n",
       "      <th>Monday</th>\n",
       "      <td>148</td>\n",
       "      <td>148</td>\n",
       "      <td>148</td>\n",
       "    </tr>\n",
       "    <tr>\n",
       "      <th>Tuesday</th>\n",
       "      <td>100</td>\n",
       "      <td>100</td>\n",
       "      <td>100</td>\n",
       "    </tr>\n",
       "    <tr>\n",
       "      <th>Wednesday</th>\n",
       "      <td>131</td>\n",
       "      <td>131</td>\n",
       "      <td>131</td>\n",
       "    </tr>\n",
       "    <tr>\n",
       "      <th>Thursday</th>\n",
       "      <td>118</td>\n",
       "      <td>118</td>\n",
       "      <td>118</td>\n",
       "    </tr>\n",
       "    <tr>\n",
       "      <th>Friday</th>\n",
       "      <td>117</td>\n",
       "      <td>117</td>\n",
       "      <td>117</td>\n",
       "    </tr>\n",
       "    <tr>\n",
       "      <th>Saturday</th>\n",
       "      <td>30</td>\n",
       "      <td>30</td>\n",
       "      <td>30</td>\n",
       "    </tr>\n",
       "    <tr>\n",
       "      <th>Sunday</th>\n",
       "      <td>13</td>\n",
       "      <td>13</td>\n",
       "      <td>13</td>\n",
       "    </tr>\n",
       "  </tbody>\n",
       "</table>\n",
       "</div>"
      ],
      "text/plain": [
       "           timestamp  coffees  contributor\n",
       "weekdays                                  \n",
       "Monday           148      148          148\n",
       "Tuesday          100      100          100\n",
       "Wednesday        131      131          131\n",
       "Thursday         118      118          118\n",
       "Friday           117      117          117\n",
       "Saturday          30       30           30\n",
       "Sunday            13       13           13"
      ]
     },
     "execution_count": 23,
     "metadata": {},
     "output_type": "execute_result"
    }
   ],
   "source": [
    "# Group\n",
    "weekday_counts = data.groupby(\"weekdays\").count()\n",
    "\n",
    "# reorder (must index using loc)\n",
    "# loc says look in the index\n",
    "weekday_counts = weekday_counts.loc[weekday_names]\n",
    "\n",
    "# Display\n",
    "weekday_counts"
   ]
  },
  {
   "cell_type": "code",
   "execution_count": 24,
   "metadata": {},
   "outputs": [
    {
     "data": {
      "text/plain": [
       "<matplotlib.axes._subplots.AxesSubplot at 0x111c7f0f0>"
      ]
     },
     "execution_count": 24,
     "metadata": {},
     "output_type": "execute_result"
    },
    {
     "data": {
      "image/png": "[encoded data removed]",
      "text/plain": [
       "<matplotlib.figure.Figure at 0x111d7a9e8>"
      ]
     },
     "metadata": {},
     "output_type": "display_data"
    }
   ],
   "source": [
    "weekday_counts.plot(kind='bar')"
   ]
  },
  {
   "cell_type": "code",
   "execution_count": 25,
   "metadata": {},
   "outputs": [
    {
     "data": {
      "text/html": [
       "<div>\n",
       "<style>\n",
       "    .dataframe thead tr:only-child th {\n",
       "        text-align: right;\n",
       "    }\n",
       "\n",
       "    .dataframe thead th {\n",
       "        text-align: left;\n",
       "    }\n",
       "\n",
       "    .dataframe tbody tr th {\n",
       "        vertical-align: top;\n",
       "    }\n",
       "</style>\n",
       "<table border=\"1\" class=\"dataframe\">\n",
       "  <thead>\n",
       "    <tr style=\"text-align: right;\">\n",
       "      <th></th>\n",
       "      <th>timestamp</th>\n",
       "      <th>coffees</th>\n",
       "      <th>contributor</th>\n",
       "      <th>weekdays</th>\n",
       "    </tr>\n",
       "    <tr>\n",
       "      <th>timestamp</th>\n",
       "      <th></th>\n",
       "      <th></th>\n",
       "      <th></th>\n",
       "      <th></th>\n",
       "    </tr>\n",
       "  </thead>\n",
       "  <tbody>\n",
       "    <tr>\n",
       "      <th>2011-10-03 08:22:00</th>\n",
       "      <td>2011-10-03 08:22:00</td>\n",
       "      <td>397</td>\n",
       "      <td>Quentin</td>\n",
       "      <td>Monday</td>\n",
       "    </tr>\n",
       "    <tr>\n",
       "      <th>2011-10-04 11:48:00</th>\n",
       "      <td>2011-10-04 11:48:00</td>\n",
       "      <td>410</td>\n",
       "      <td>Quentin</td>\n",
       "      <td>Tuesday</td>\n",
       "    </tr>\n",
       "    <tr>\n",
       "      <th>2011-10-05 10:47:00</th>\n",
       "      <td>2011-10-05 10:47:00</td>\n",
       "      <td>464</td>\n",
       "      <td>Quentin</td>\n",
       "      <td>Wednesday</td>\n",
       "    </tr>\n",
       "    <tr>\n",
       "      <th>2011-10-05 13:15:00</th>\n",
       "      <td>2011-10-05 13:15:00</td>\n",
       "      <td>481</td>\n",
       "      <td>Quentin</td>\n",
       "      <td>Wednesday</td>\n",
       "    </tr>\n",
       "    <tr>\n",
       "      <th>2011-10-06 07:21:00</th>\n",
       "      <td>2011-10-06 07:21:00</td>\n",
       "      <td>503</td>\n",
       "      <td>Anthony</td>\n",
       "      <td>Thursday</td>\n",
       "    </tr>\n",
       "  </tbody>\n",
       "</table>\n",
       "</div>"
      ],
      "text/plain": [
       "                              timestamp  coffees contributor   weekdays\n",
       "timestamp                                                              \n",
       "2011-10-03 08:22:00 2011-10-03 08:22:00      397     Quentin     Monday\n",
       "2011-10-04 11:48:00 2011-10-04 11:48:00      410     Quentin    Tuesday\n",
       "2011-10-05 10:47:00 2011-10-05 10:47:00      464     Quentin  Wednesday\n",
       "2011-10-05 13:15:00 2011-10-05 13:15:00      481     Quentin  Wednesday\n",
       "2011-10-06 07:21:00 2011-10-06 07:21:00      503     Anthony   Thursday"
      ]
     },
     "execution_count": 25,
     "metadata": {},
     "output_type": "execute_result"
    }
   ],
   "source": [
    "# Lets workout when the most coffees are drunk\n",
    "# Firstly set the timestamps as df index\n",
    "data.index = data.timestamp\n",
    "data.head()"
   ]
  },
  {
   "cell_type": "code",
   "execution_count": 26,
   "metadata": {},
   "outputs": [
    {
     "data": {
      "text/html": [
       "<div>\n",
       "<style>\n",
       "    .dataframe thead tr:only-child th {\n",
       "        text-align: right;\n",
       "    }\n",
       "\n",
       "    .dataframe thead th {\n",
       "        text-align: left;\n",
       "    }\n",
       "\n",
       "    .dataframe tbody tr th {\n",
       "        vertical-align: top;\n",
       "    }\n",
       "</style>\n",
       "<table border=\"1\" class=\"dataframe\">\n",
       "  <thead>\n",
       "    <tr style=\"text-align: right;\">\n",
       "      <th></th>\n",
       "      <th>coffees</th>\n",
       "      <th>contributor</th>\n",
       "      <th>weekdays</th>\n",
       "    </tr>\n",
       "    <tr>\n",
       "      <th>timestamp</th>\n",
       "      <th></th>\n",
       "      <th></th>\n",
       "      <th></th>\n",
       "    </tr>\n",
       "  </thead>\n",
       "  <tbody>\n",
       "    <tr>\n",
       "      <th>2011-10-03 08:22:00</th>\n",
       "      <td>397</td>\n",
       "      <td>Quentin</td>\n",
       "      <td>Monday</td>\n",
       "    </tr>\n",
       "    <tr>\n",
       "      <th>2011-10-04 11:48:00</th>\n",
       "      <td>410</td>\n",
       "      <td>Quentin</td>\n",
       "      <td>Tuesday</td>\n",
       "    </tr>\n",
       "    <tr>\n",
       "      <th>2011-10-05 10:47:00</th>\n",
       "      <td>464</td>\n",
       "      <td>Quentin</td>\n",
       "      <td>Wednesday</td>\n",
       "    </tr>\n",
       "    <tr>\n",
       "      <th>2011-10-05 13:15:00</th>\n",
       "      <td>481</td>\n",
       "      <td>Quentin</td>\n",
       "      <td>Wednesday</td>\n",
       "    </tr>\n",
       "    <tr>\n",
       "      <th>2011-10-06 07:21:00</th>\n",
       "      <td>503</td>\n",
       "      <td>Anthony</td>\n",
       "      <td>Thursday</td>\n",
       "    </tr>\n",
       "  </tbody>\n",
       "</table>\n",
       "</div>"
      ],
      "text/plain": [
       "                     coffees contributor   weekdays\n",
       "timestamp                                          \n",
       "2011-10-03 08:22:00      397     Quentin     Monday\n",
       "2011-10-04 11:48:00      410     Quentin    Tuesday\n",
       "2011-10-05 10:47:00      464     Quentin  Wednesday\n",
       "2011-10-05 13:15:00      481     Quentin  Wednesday\n",
       "2011-10-06 07:21:00      503     Anthony   Thursday"
      ]
     },
     "execution_count": 26,
     "metadata": {},
     "output_type": "execute_result"
    }
   ],
   "source": [
    "# drop the duplicate timestamp column\n",
    "data.drop(['timestamp'], axis=1, inplace=True)\n",
    "data.head()"
   ]
  },
  {
   "cell_type": "code",
   "execution_count": 27,
   "metadata": {},
   "outputs": [
    {
     "data": {
      "text/plain": [
       "DatetimeIndex(['2011-10-03 08:22:00', '2011-10-04 11:48:00',\n",
       "               '2011-10-05 10:47:00', '2011-10-05 13:15:00',\n",
       "               '2011-10-06 07:21:00'],\n",
       "              dtype='datetime64[ns]', name='timestamp', freq=None)"
      ]
     },
     "execution_count": 27,
     "metadata": {},
     "output_type": "execute_result"
    }
   ],
   "source": [
    "data.index[:5]"
   ]
  },
  {
   "cell_type": "code",
   "execution_count": 28,
   "metadata": {},
   "outputs": [
    {
     "data": {
      "text/plain": [
       "DatetimeIndex(['2011-10-03', '2011-10-04', '2011-10-05'], dtype='datetime64[ns]', freq='D')"
      ]
     },
     "execution_count": 28,
     "metadata": {},
     "output_type": "execute_result"
    }
   ],
   "source": [
    "# add a date range with daily freq and normalisation\n",
    "midnights = pd.date_range(data.index[0], data.index[-1], freq=\"D\", normalize=True)\n",
    "midnights[:3]"
   ]
  },
  {
   "cell_type": "code",
   "execution_count": 29,
   "metadata": {},
   "outputs": [
    {
     "data": {
      "text/plain": [
       "DatetimeIndex(['2011-10-03 00:00:00', '2011-10-03 08:22:00',\n",
       "               '2011-10-04 00:00:00', '2011-10-04 11:48:00',\n",
       "               '2011-10-05 00:00:00', '2011-10-05 10:47:00',\n",
       "               '2011-10-05 13:15:00', '2011-10-06 00:00:00',\n",
       "               '2011-10-06 07:21:00', '2011-10-06 10:04:00',\n",
       "               ...\n",
       "               '2013-09-06 00:00:00', '2013-09-07 00:00:00',\n",
       "               '2013-09-08 00:00:00', '2013-09-09 00:00:00',\n",
       "               '2013-09-10 00:00:00', '2013-09-11 00:00:00',\n",
       "               '2013-09-12 00:00:00', '2013-09-12 15:38:00',\n",
       "               '2013-09-13 00:00:00', '2013-09-13 10:28:00'],\n",
       "              dtype='datetime64[ns]', length=1369, freq=None)"
      ]
     },
     "execution_count": 29,
     "metadata": {},
     "output_type": "execute_result"
    }
   ],
   "source": [
    "new_index = midnights.union(data.index)\n",
    "new_index"
   ]
  },
  {
   "cell_type": "code",
   "execution_count": 30,
   "metadata": {},
   "outputs": [
    {
     "data": {
      "text/html": [
       "<div>\n",
       "<style>\n",
       "    .dataframe thead tr:only-child th {\n",
       "        text-align: right;\n",
       "    }\n",
       "\n",
       "    .dataframe thead th {\n",
       "        text-align: left;\n",
       "    }\n",
       "\n",
       "    .dataframe tbody tr th {\n",
       "        vertical-align: top;\n",
       "    }\n",
       "</style>\n",
       "<table border=\"1\" class=\"dataframe\">\n",
       "  <thead>\n",
       "    <tr style=\"text-align: right;\">\n",
       "      <th></th>\n",
       "      <th>coffees</th>\n",
       "      <th>contributor</th>\n",
       "      <th>weekdays</th>\n",
       "    </tr>\n",
       "  </thead>\n",
       "  <tbody>\n",
       "    <tr>\n",
       "      <th>2011-10-03 00:00:00</th>\n",
       "      <td>NaN</td>\n",
       "      <td>NaN</td>\n",
       "      <td>NaN</td>\n",
       "    </tr>\n",
       "    <tr>\n",
       "      <th>2011-10-03 08:22:00</th>\n",
       "      <td>397.0</td>\n",
       "      <td>Quentin</td>\n",
       "      <td>Monday</td>\n",
       "    </tr>\n",
       "    <tr>\n",
       "      <th>2011-10-04 00:00:00</th>\n",
       "      <td>NaN</td>\n",
       "      <td>NaN</td>\n",
       "      <td>NaN</td>\n",
       "    </tr>\n",
       "  </tbody>\n",
       "</table>\n",
       "</div>"
      ],
      "text/plain": [
       "                     coffees contributor weekdays\n",
       "2011-10-03 00:00:00      NaN         NaN      NaN\n",
       "2011-10-03 08:22:00    397.0     Quentin   Monday\n",
       "2011-10-04 00:00:00      NaN         NaN      NaN"
      ]
     },
     "execution_count": 30,
     "metadata": {},
     "output_type": "execute_result"
    }
   ],
   "source": [
    "# Reindex data based upon midnights\n",
    "unsampled_data = data.reindex(new_index)\n",
    "\n",
    "unsampled_data.head(3)"
   ]
  },
  {
   "cell_type": "code",
   "execution_count": 31,
   "metadata": {},
   "outputs": [
    {
     "data": {
      "text/plain": [
       "1369"
      ]
     },
     "execution_count": 31,
     "metadata": {},
     "output_type": "execute_result"
    }
   ],
   "source": [
    "# We can see the length is now much larger\n",
    "len(unsampled_data)"
   ]
  },
  {
   "cell_type": "code",
   "execution_count": 32,
   "metadata": {},
   "outputs": [
    {
     "data": {
      "text/html": [
       "<div>\n",
       "<style>\n",
       "    .dataframe thead tr:only-child th {\n",
       "        text-align: right;\n",
       "    }\n",
       "\n",
       "    .dataframe thead th {\n",
       "        text-align: left;\n",
       "    }\n",
       "\n",
       "    .dataframe tbody tr th {\n",
       "        vertical-align: top;\n",
       "    }\n",
       "</style>\n",
       "<table border=\"1\" class=\"dataframe\">\n",
       "  <thead>\n",
       "    <tr style=\"text-align: right;\">\n",
       "      <th></th>\n",
       "      <th>coffees</th>\n",
       "      <th>contributor</th>\n",
       "      <th>weekdays</th>\n",
       "    </tr>\n",
       "  </thead>\n",
       "  <tbody>\n",
       "    <tr>\n",
       "      <th>2011-10-03 00:00:00</th>\n",
       "      <td>NaN</td>\n",
       "      <td>NaN</td>\n",
       "      <td>NaN</td>\n",
       "    </tr>\n",
       "    <tr>\n",
       "      <th>2011-10-03 08:22:00</th>\n",
       "      <td>397.000000</td>\n",
       "      <td>Quentin</td>\n",
       "      <td>Monday</td>\n",
       "    </tr>\n",
       "    <tr>\n",
       "      <th>2011-10-04 00:00:00</th>\n",
       "      <td>404.408262</td>\n",
       "      <td>NaN</td>\n",
       "      <td>NaN</td>\n",
       "    </tr>\n",
       "  </tbody>\n",
       "</table>\n",
       "</div>"
      ],
      "text/plain": [
       "                        coffees contributor weekdays\n",
       "2011-10-03 00:00:00         NaN         NaN      NaN\n",
       "2011-10-03 08:22:00  397.000000     Quentin   Monday\n",
       "2011-10-04 00:00:00  404.408262         NaN      NaN"
      ]
     },
     "execution_count": 32,
     "metadata": {},
     "output_type": "execute_result"
    }
   ],
   "source": [
    "# we are going to 'interpolate' the NaN values using time method\n",
    "unsampled_data = unsampled_data.interpolate(method='time')\n",
    "unsampled_data.head(3)"
   ]
  },
  {
   "cell_type": "code",
   "execution_count": 33,
   "metadata": {},
   "outputs": [
    {
     "data": {
      "text/plain": [
       "<matplotlib.axes._subplots.AxesSubplot at 0x111ff3208>"
      ]
     },
     "execution_count": 33,
     "metadata": {},
     "output_type": "execute_result"
    },
    {
     "data": {
      "image/png": "[encoded data removed]",
      "text/plain": [
       "<matplotlib.figure.Figure at 0x111b409e8>"
      ]
     },
     "metadata": {},
     "output_type": "display_data"
    }
   ],
   "source": [
    "unsampled_data.plot()"
   ]
  },
  {
   "cell_type": "code",
   "execution_count": 34,
   "metadata": {},
   "outputs": [
    {
     "data": {
      "text/html": [
       "<div>\n",
       "<style>\n",
       "    .dataframe thead tr:only-child th {\n",
       "        text-align: right;\n",
       "    }\n",
       "\n",
       "    .dataframe thead th {\n",
       "        text-align: left;\n",
       "    }\n",
       "\n",
       "    .dataframe tbody tr th {\n",
       "        vertical-align: top;\n",
       "    }\n",
       "</style>\n",
       "<table border=\"1\" class=\"dataframe\">\n",
       "  <thead>\n",
       "    <tr style=\"text-align: right;\">\n",
       "      <th></th>\n",
       "      <th>coffees</th>\n",
       "      <th>weekdays</th>\n",
       "    </tr>\n",
       "  </thead>\n",
       "  <tbody>\n",
       "    <tr>\n",
       "      <th>2011-10-03</th>\n",
       "      <td>NaN</td>\n",
       "      <td>Monday</td>\n",
       "    </tr>\n",
       "    <tr>\n",
       "      <th>2011-10-04</th>\n",
       "      <td>404.408262</td>\n",
       "      <td>Tuesday</td>\n",
       "    </tr>\n",
       "    <tr>\n",
       "      <th>2011-10-05</th>\n",
       "      <td>438.664249</td>\n",
       "      <td>Wednesday</td>\n",
       "    </tr>\n",
       "    <tr>\n",
       "      <th>2011-10-06</th>\n",
       "      <td>494.066298</td>\n",
       "      <td>Thursday</td>\n",
       "    </tr>\n",
       "    <tr>\n",
       "      <th>2011-10-07</th>\n",
       "      <td>572.844311</td>\n",
       "      <td>Friday</td>\n",
       "    </tr>\n",
       "  </tbody>\n",
       "</table>\n",
       "</div>"
      ],
      "text/plain": [
       "               coffees   weekdays\n",
       "2011-10-03         NaN     Monday\n",
       "2011-10-04  404.408262    Tuesday\n",
       "2011-10-05  438.664249  Wednesday\n",
       "2011-10-06  494.066298   Thursday\n",
       "2011-10-07  572.844311     Friday"
      ]
     },
     "execution_count": 34,
     "metadata": {},
     "output_type": "execute_result"
    }
   ],
   "source": [
    "# datetime index resampler\n",
    "daily_data = unsampled_data.resample(\"D\").asfreq()\n",
    "daily_data = daily_data.drop([\"contributor\"], axis=1)\n",
    "daily_data[\"weekdays\"] = daily_data.index.weekday_name\n",
    "daily_data.head()"
   ]
  },
  {
   "cell_type": "code",
   "execution_count": 35,
   "metadata": {},
   "outputs": [
    {
     "data": {
      "text/plain": [
       "<matplotlib.axes._subplots.AxesSubplot at 0x1123066a0>"
      ]
     },
     "execution_count": 35,
     "metadata": {},
     "output_type": "execute_result"
    },
    {
     "data": {
      "image/png": "[encoded data removed]",
      "text/plain": [
       "<matplotlib.figure.Figure at 0x112346550>"
      ]
     },
     "metadata": {},
     "output_type": "display_data"
    }
   ],
   "source": [
    "daily_data.plot()"
   ]
  },
  {
   "cell_type": "code",
   "execution_count": 36,
   "metadata": {},
   "outputs": [
    {
     "data": {
      "text/plain": [
       "2011-10-03          NaN\n",
       "2011-10-04    34.255987\n",
       "2011-10-05    55.402049\n",
       "2011-10-06    78.778013\n",
       "2011-10-07    64.392941\n",
       "Freq: D, Name: coffees, dtype: float64"
      ]
     },
     "execution_count": 36,
     "metadata": {},
     "output_type": "execute_result"
    }
   ],
   "source": [
    "# Use diff() on coffees col; follow up with shift()\n",
    "# looks at diff between one cell and the following\n",
    "# bY default assigns it to second cell but \n",
    "# we wish to assign it back up one hence the shift function\n",
    "coffees_made = daily_data.coffees.diff().shift(-1)\n",
    "coffees_made.head()"
   ]
  },
  {
   "cell_type": "code",
   "execution_count": 37,
   "metadata": {},
   "outputs": [
    {
     "data": {
      "text/html": [
       "<div>\n",
       "<style>\n",
       "    .dataframe thead tr:only-child th {\n",
       "        text-align: right;\n",
       "    }\n",
       "\n",
       "    .dataframe thead th {\n",
       "        text-align: left;\n",
       "    }\n",
       "\n",
       "    .dataframe tbody tr th {\n",
       "        vertical-align: top;\n",
       "    }\n",
       "</style>\n",
       "<table border=\"1\" class=\"dataframe\">\n",
       "  <thead>\n",
       "    <tr style=\"text-align: right;\">\n",
       "      <th></th>\n",
       "      <th>coffees</th>\n",
       "      <th>weekdays</th>\n",
       "      <th>coffes_made_today</th>\n",
       "    </tr>\n",
       "  </thead>\n",
       "  <tbody>\n",
       "    <tr>\n",
       "      <th>2011-10-03</th>\n",
       "      <td>NaN</td>\n",
       "      <td>Monday</td>\n",
       "      <td>NaN</td>\n",
       "    </tr>\n",
       "    <tr>\n",
       "      <th>2011-10-04</th>\n",
       "      <td>404.408262</td>\n",
       "      <td>Tuesday</td>\n",
       "      <td>34.255987</td>\n",
       "    </tr>\n",
       "    <tr>\n",
       "      <th>2011-10-05</th>\n",
       "      <td>438.664249</td>\n",
       "      <td>Wednesday</td>\n",
       "      <td>55.402049</td>\n",
       "    </tr>\n",
       "    <tr>\n",
       "      <th>2011-10-06</th>\n",
       "      <td>494.066298</td>\n",
       "      <td>Thursday</td>\n",
       "      <td>78.778013</td>\n",
       "    </tr>\n",
       "    <tr>\n",
       "      <th>2011-10-07</th>\n",
       "      <td>572.844311</td>\n",
       "      <td>Friday</td>\n",
       "      <td>64.392941</td>\n",
       "    </tr>\n",
       "    <tr>\n",
       "      <th>2011-10-08</th>\n",
       "      <td>637.237253</td>\n",
       "      <td>Saturday</td>\n",
       "      <td>7.492196</td>\n",
       "    </tr>\n",
       "    <tr>\n",
       "      <th>2011-10-09</th>\n",
       "      <td>644.729448</td>\n",
       "      <td>Sunday</td>\n",
       "      <td>8.195209</td>\n",
       "    </tr>\n",
       "    <tr>\n",
       "      <th>2011-10-10</th>\n",
       "      <td>652.924658</td>\n",
       "      <td>Monday</td>\n",
       "      <td>81.648549</td>\n",
       "    </tr>\n",
       "    <tr>\n",
       "      <th>2011-10-11</th>\n",
       "      <td>734.573206</td>\n",
       "      <td>Tuesday</td>\n",
       "      <td>46.351008</td>\n",
       "    </tr>\n",
       "    <tr>\n",
       "      <th>2011-10-12</th>\n",
       "      <td>780.924214</td>\n",
       "      <td>Wednesday</td>\n",
       "      <td>71.254295</td>\n",
       "    </tr>\n",
       "  </tbody>\n",
       "</table>\n",
       "</div>"
      ],
      "text/plain": [
       "               coffees   weekdays  coffes_made_today\n",
       "2011-10-03         NaN     Monday                NaN\n",
       "2011-10-04  404.408262    Tuesday          34.255987\n",
       "2011-10-05  438.664249  Wednesday          55.402049\n",
       "2011-10-06  494.066298   Thursday          78.778013\n",
       "2011-10-07  572.844311     Friday          64.392941\n",
       "2011-10-08  637.237253   Saturday           7.492196\n",
       "2011-10-09  644.729448     Sunday           8.195209\n",
       "2011-10-10  652.924658     Monday          81.648549\n",
       "2011-10-11  734.573206    Tuesday          46.351008\n",
       "2011-10-12  780.924214  Wednesday          71.254295"
      ]
     },
     "execution_count": 37,
     "metadata": {},
     "output_type": "execute_result"
    }
   ],
   "source": [
    "daily_data['coffes_made_today'] = coffees_made\n",
    "daily_data.head(n=10)"
   ]
  },
  {
   "cell_type": "code",
   "execution_count": 38,
   "metadata": {},
   "outputs": [
    {
     "data": {
      "text/html": [
       "<div>\n",
       "<style>\n",
       "    .dataframe thead tr:only-child th {\n",
       "        text-align: right;\n",
       "    }\n",
       "\n",
       "    .dataframe thead th {\n",
       "        text-align: left;\n",
       "    }\n",
       "\n",
       "    .dataframe tbody tr th {\n",
       "        vertical-align: top;\n",
       "    }\n",
       "</style>\n",
       "<table border=\"1\" class=\"dataframe\">\n",
       "  <thead>\n",
       "    <tr style=\"text-align: right;\">\n",
       "      <th></th>\n",
       "      <th>coffees</th>\n",
       "      <th>coffes_made_today</th>\n",
       "    </tr>\n",
       "    <tr>\n",
       "      <th>weekdays</th>\n",
       "      <th></th>\n",
       "      <th></th>\n",
       "    </tr>\n",
       "  </thead>\n",
       "  <tbody>\n",
       "    <tr>\n",
       "      <th>Friday</th>\n",
       "      <td>12469.513690</td>\n",
       "      <td>34.330643</td>\n",
       "    </tr>\n",
       "    <tr>\n",
       "      <th>Monday</th>\n",
       "      <td>12427.505692</td>\n",
       "      <td>37.117806</td>\n",
       "    </tr>\n",
       "    <tr>\n",
       "      <th>Saturday</th>\n",
       "      <td>12385.168476</td>\n",
       "      <td>21.360722</td>\n",
       "    </tr>\n",
       "    <tr>\n",
       "      <th>Sunday</th>\n",
       "      <td>12406.529198</td>\n",
       "      <td>20.976494</td>\n",
       "    </tr>\n",
       "    <tr>\n",
       "      <th>Thursday</th>\n",
       "      <td>12428.439860</td>\n",
       "      <td>41.073830</td>\n",
       "    </tr>\n",
       "    <tr>\n",
       "      <th>Tuesday</th>\n",
       "      <td>12346.386094</td>\n",
       "      <td>37.955457</td>\n",
       "    </tr>\n",
       "    <tr>\n",
       "      <th>Wednesday</th>\n",
       "      <td>12384.341552</td>\n",
       "      <td>44.098309</td>\n",
       "    </tr>\n",
       "  </tbody>\n",
       "</table>\n",
       "</div>"
      ],
      "text/plain": [
       "                coffees  coffes_made_today\n",
       "weekdays                                  \n",
       "Friday     12469.513690          34.330643\n",
       "Monday     12427.505692          37.117806\n",
       "Saturday   12385.168476          21.360722\n",
       "Sunday     12406.529198          20.976494\n",
       "Thursday   12428.439860          41.073830\n",
       "Tuesday    12346.386094          37.955457\n",
       "Wednesday  12384.341552          44.098309"
      ]
     },
     "execution_count": 38,
     "metadata": {},
     "output_type": "execute_result"
    }
   ],
   "source": [
    "coffees_by_day = daily_data.groupby('weekdays').mean()\n",
    "coffees_by_day"
   ]
  },
  {
   "cell_type": "code",
   "execution_count": 39,
   "metadata": {},
   "outputs": [
    {
     "data": {
      "text/plain": [
       "<matplotlib.axes._subplots.AxesSubplot at 0x112216a90>"
      ]
     },
     "execution_count": 39,
     "metadata": {},
     "output_type": "execute_result"
    },
    {
     "data": {
      "image/png": "[encoded data removed]",
      "text/plain": [
       "<matplotlib.figure.Figure at 0x11246e828>"
      ]
     },
     "metadata": {},
     "output_type": "display_data"
    }
   ],
   "source": [
    "coffees_by_day = coffees_by_day.loc[weekday_names]\n",
    "coffees_by_day.coffes_made_today.plot(kind=\"bar\")"
   ]
  },
  {
   "cell_type": "code",
   "execution_count": 40,
   "metadata": {
    "scrolled": true
   },
   "outputs": [
    {
     "data": {
      "text/html": [
       "<div>\n",
       "<style>\n",
       "    .dataframe thead tr:only-child th {\n",
       "        text-align: right;\n",
       "    }\n",
       "\n",
       "    .dataframe thead th {\n",
       "        text-align: left;\n",
       "    }\n",
       "\n",
       "    .dataframe tbody tr th {\n",
       "        vertical-align: top;\n",
       "    }\n",
       "</style>\n",
       "<table border=\"1\" class=\"dataframe\">\n",
       "  <thead>\n",
       "    <tr style=\"text-align: right;\">\n",
       "      <th></th>\n",
       "      <th>members</th>\n",
       "    </tr>\n",
       "    <tr>\n",
       "      <th>date</th>\n",
       "      <th></th>\n",
       "    </tr>\n",
       "  </thead>\n",
       "  <tbody>\n",
       "    <tr>\n",
       "      <th>2011-08-31</th>\n",
       "      <td>12</td>\n",
       "    </tr>\n",
       "    <tr>\n",
       "      <th>2011-09-30</th>\n",
       "      <td>14</td>\n",
       "    </tr>\n",
       "    <tr>\n",
       "      <th>2011-10-31</th>\n",
       "      <td>14</td>\n",
       "    </tr>\n",
       "    <tr>\n",
       "      <th>2011-11-30</th>\n",
       "      <td>14</td>\n",
       "    </tr>\n",
       "    <tr>\n",
       "      <th>2011-12-31</th>\n",
       "      <td>15</td>\n",
       "    </tr>\n",
       "  </tbody>\n",
       "</table>\n",
       "</div>"
      ],
      "text/plain": [
       "            members\n",
       "date               \n",
       "2011-08-31       12\n",
       "2011-09-30       14\n",
       "2011-10-31       14\n",
       "2011-11-30       14\n",
       "2011-12-31       15"
      ]
     },
     "execution_count": 40,
     "metadata": {},
     "output_type": "execute_result"
    }
   ],
   "source": [
    "people = pd.read_csv('../pydata_pandas/data/department_members.csv', index_col='date', parse_dates=True)\n",
    "people.head()"
   ]
  },
  {
   "cell_type": "code",
   "execution_count": 41,
   "metadata": {},
   "outputs": [
    {
     "data": {
      "text/plain": [
       "DatetimeIndex(['2011-08-31', '2011-09-30', '2011-10-31', '2011-11-30',\n",
       "               '2011-12-31', '2012-01-31', '2012-02-29', '2012-03-31',\n",
       "               '2012-04-30', '2012-05-31', '2012-06-30', '2012-07-31',\n",
       "               '2012-08-31', '2012-09-30', '2012-10-31', '2012-11-30',\n",
       "               '2012-12-31', '2013-01-31', '2013-02-28'],\n",
       "              dtype='datetime64[ns]', name='date', freq=None)"
      ]
     },
     "execution_count": 41,
     "metadata": {},
     "output_type": "execute_result"
    }
   ],
   "source": [
    "people.index"
   ]
  },
  {
   "cell_type": "code",
   "execution_count": 42,
   "metadata": {},
   "outputs": [
    {
     "data": {
      "text/html": [
       "<div>\n",
       "<style>\n",
       "    .dataframe thead tr:only-child th {\n",
       "        text-align: right;\n",
       "    }\n",
       "\n",
       "    .dataframe thead th {\n",
       "        text-align: left;\n",
       "    }\n",
       "\n",
       "    .dataframe tbody tr th {\n",
       "        vertical-align: top;\n",
       "    }\n",
       "</style>\n",
       "<table border=\"1\" class=\"dataframe\">\n",
       "  <thead>\n",
       "    <tr style=\"text-align: right;\">\n",
       "      <th></th>\n",
       "      <th>coffees</th>\n",
       "      <th>weekdays</th>\n",
       "      <th>coffes_made_today</th>\n",
       "      <th>members</th>\n",
       "    </tr>\n",
       "  </thead>\n",
       "  <tbody>\n",
       "    <tr>\n",
       "      <th>2011-08-31</th>\n",
       "      <td>NaN</td>\n",
       "      <td>NaN</td>\n",
       "      <td>NaN</td>\n",
       "      <td>12.0</td>\n",
       "    </tr>\n",
       "    <tr>\n",
       "      <th>2011-09-30</th>\n",
       "      <td>NaN</td>\n",
       "      <td>NaN</td>\n",
       "      <td>NaN</td>\n",
       "      <td>14.0</td>\n",
       "    </tr>\n",
       "    <tr>\n",
       "      <th>2011-10-03</th>\n",
       "      <td>NaN</td>\n",
       "      <td>Monday</td>\n",
       "      <td>NaN</td>\n",
       "      <td>NaN</td>\n",
       "    </tr>\n",
       "    <tr>\n",
       "      <th>2011-10-04</th>\n",
       "      <td>404.408262</td>\n",
       "      <td>Tuesday</td>\n",
       "      <td>34.255987</td>\n",
       "      <td>NaN</td>\n",
       "    </tr>\n",
       "    <tr>\n",
       "      <th>2011-10-05</th>\n",
       "      <td>438.664249</td>\n",
       "      <td>Wednesday</td>\n",
       "      <td>55.402049</td>\n",
       "      <td>NaN</td>\n",
       "    </tr>\n",
       "    <tr>\n",
       "      <th>2011-10-06</th>\n",
       "      <td>494.066298</td>\n",
       "      <td>Thursday</td>\n",
       "      <td>78.778013</td>\n",
       "      <td>NaN</td>\n",
       "    </tr>\n",
       "    <tr>\n",
       "      <th>2011-10-07</th>\n",
       "      <td>572.844311</td>\n",
       "      <td>Friday</td>\n",
       "      <td>64.392941</td>\n",
       "      <td>NaN</td>\n",
       "    </tr>\n",
       "    <tr>\n",
       "      <th>2011-10-08</th>\n",
       "      <td>637.237253</td>\n",
       "      <td>Saturday</td>\n",
       "      <td>7.492196</td>\n",
       "      <td>NaN</td>\n",
       "    </tr>\n",
       "    <tr>\n",
       "      <th>2011-10-09</th>\n",
       "      <td>644.729448</td>\n",
       "      <td>Sunday</td>\n",
       "      <td>8.195209</td>\n",
       "      <td>NaN</td>\n",
       "    </tr>\n",
       "    <tr>\n",
       "      <th>2011-10-10</th>\n",
       "      <td>652.924658</td>\n",
       "      <td>Monday</td>\n",
       "      <td>81.648549</td>\n",
       "      <td>NaN</td>\n",
       "    </tr>\n",
       "    <tr>\n",
       "      <th>2011-10-11</th>\n",
       "      <td>734.573206</td>\n",
       "      <td>Tuesday</td>\n",
       "      <td>46.351008</td>\n",
       "      <td>NaN</td>\n",
       "    </tr>\n",
       "    <tr>\n",
       "      <th>2011-10-12</th>\n",
       "      <td>780.924214</td>\n",
       "      <td>Wednesday</td>\n",
       "      <td>71.254295</td>\n",
       "      <td>NaN</td>\n",
       "    </tr>\n",
       "    <tr>\n",
       "      <th>2011-10-13</th>\n",
       "      <td>852.178510</td>\n",
       "      <td>Thursday</td>\n",
       "      <td>76.057819</td>\n",
       "      <td>NaN</td>\n",
       "    </tr>\n",
       "    <tr>\n",
       "      <th>2011-10-14</th>\n",
       "      <td>928.236328</td>\n",
       "      <td>Friday</td>\n",
       "      <td>51.198648</td>\n",
       "      <td>NaN</td>\n",
       "    </tr>\n",
       "    <tr>\n",
       "      <th>2011-10-15</th>\n",
       "      <td>979.434976</td>\n",
       "      <td>Saturday</td>\n",
       "      <td>13.197919</td>\n",
       "      <td>NaN</td>\n",
       "    </tr>\n",
       "    <tr>\n",
       "      <th>2011-10-16</th>\n",
       "      <td>992.632896</td>\n",
       "      <td>Sunday</td>\n",
       "      <td>13.197919</td>\n",
       "      <td>NaN</td>\n",
       "    </tr>\n",
       "    <tr>\n",
       "      <th>2011-10-17</th>\n",
       "      <td>1005.830815</td>\n",
       "      <td>Monday</td>\n",
       "      <td>51.896458</td>\n",
       "      <td>NaN</td>\n",
       "    </tr>\n",
       "    <tr>\n",
       "      <th>2011-10-18</th>\n",
       "      <td>1057.727273</td>\n",
       "      <td>Tuesday</td>\n",
       "      <td>58.000000</td>\n",
       "      <td>NaN</td>\n",
       "    </tr>\n",
       "    <tr>\n",
       "      <th>2011-10-19</th>\n",
       "      <td>1115.727273</td>\n",
       "      <td>Wednesday</td>\n",
       "      <td>99.078834</td>\n",
       "      <td>NaN</td>\n",
       "    </tr>\n",
       "    <tr>\n",
       "      <th>2011-10-20</th>\n",
       "      <td>1214.806107</td>\n",
       "      <td>Thursday</td>\n",
       "      <td>60.353715</td>\n",
       "      <td>NaN</td>\n",
       "    </tr>\n",
       "    <tr>\n",
       "      <th>2011-10-21</th>\n",
       "      <td>1275.159821</td>\n",
       "      <td>Friday</td>\n",
       "      <td>39.616790</td>\n",
       "      <td>NaN</td>\n",
       "    </tr>\n",
       "    <tr>\n",
       "      <th>2011-10-22</th>\n",
       "      <td>1314.776612</td>\n",
       "      <td>Saturday</td>\n",
       "      <td>12.953523</td>\n",
       "      <td>NaN</td>\n",
       "    </tr>\n",
       "    <tr>\n",
       "      <th>2011-10-23</th>\n",
       "      <td>1327.730135</td>\n",
       "      <td>Sunday</td>\n",
       "      <td>12.953523</td>\n",
       "      <td>NaN</td>\n",
       "    </tr>\n",
       "    <tr>\n",
       "      <th>2011-10-24</th>\n",
       "      <td>1340.683658</td>\n",
       "      <td>Monday</td>\n",
       "      <td>59.218453</td>\n",
       "      <td>NaN</td>\n",
       "    </tr>\n",
       "    <tr>\n",
       "      <th>2011-10-25</th>\n",
       "      <td>1399.902111</td>\n",
       "      <td>Tuesday</td>\n",
       "      <td>74.692688</td>\n",
       "      <td>NaN</td>\n",
       "    </tr>\n",
       "    <tr>\n",
       "      <th>2011-10-26</th>\n",
       "      <td>1474.594800</td>\n",
       "      <td>Wednesday</td>\n",
       "      <td>66.788911</td>\n",
       "      <td>NaN</td>\n",
       "    </tr>\n",
       "    <tr>\n",
       "      <th>2011-10-27</th>\n",
       "      <td>1541.383710</td>\n",
       "      <td>Thursday</td>\n",
       "      <td>65.455952</td>\n",
       "      <td>NaN</td>\n",
       "    </tr>\n",
       "    <tr>\n",
       "      <th>2011-10-28</th>\n",
       "      <td>1606.839662</td>\n",
       "      <td>Friday</td>\n",
       "      <td>43.095992</td>\n",
       "      <td>NaN</td>\n",
       "    </tr>\n",
       "    <tr>\n",
       "      <th>2011-10-29</th>\n",
       "      <td>1649.935654</td>\n",
       "      <td>Saturday</td>\n",
       "      <td>22.818727</td>\n",
       "      <td>NaN</td>\n",
       "    </tr>\n",
       "    <tr>\n",
       "      <th>2011-10-30</th>\n",
       "      <td>1672.754382</td>\n",
       "      <td>Sunday</td>\n",
       "      <td>22.818727</td>\n",
       "      <td>NaN</td>\n",
       "    </tr>\n",
       "    <tr>\n",
       "      <th>...</th>\n",
       "      <td>...</td>\n",
       "      <td>...</td>\n",
       "      <td>...</td>\n",
       "      <td>...</td>\n",
       "    </tr>\n",
       "    <tr>\n",
       "      <th>2013-08-15</th>\n",
       "      <td>23464.754133</td>\n",
       "      <td>Thursday</td>\n",
       "      <td>34.387368</td>\n",
       "      <td>NaN</td>\n",
       "    </tr>\n",
       "    <tr>\n",
       "      <th>2013-08-16</th>\n",
       "      <td>23499.141502</td>\n",
       "      <td>Friday</td>\n",
       "      <td>34.387368</td>\n",
       "      <td>NaN</td>\n",
       "    </tr>\n",
       "    <tr>\n",
       "      <th>2013-08-17</th>\n",
       "      <td>23533.528870</td>\n",
       "      <td>Saturday</td>\n",
       "      <td>34.387368</td>\n",
       "      <td>NaN</td>\n",
       "    </tr>\n",
       "    <tr>\n",
       "      <th>2013-08-18</th>\n",
       "      <td>23567.916239</td>\n",
       "      <td>Sunday</td>\n",
       "      <td>34.387368</td>\n",
       "      <td>NaN</td>\n",
       "    </tr>\n",
       "    <tr>\n",
       "      <th>2013-08-19</th>\n",
       "      <td>23602.303607</td>\n",
       "      <td>Monday</td>\n",
       "      <td>34.387368</td>\n",
       "      <td>NaN</td>\n",
       "    </tr>\n",
       "    <tr>\n",
       "      <th>2013-08-20</th>\n",
       "      <td>23636.690976</td>\n",
       "      <td>Tuesday</td>\n",
       "      <td>34.387368</td>\n",
       "      <td>NaN</td>\n",
       "    </tr>\n",
       "    <tr>\n",
       "      <th>2013-08-21</th>\n",
       "      <td>23671.078344</td>\n",
       "      <td>Wednesday</td>\n",
       "      <td>34.387368</td>\n",
       "      <td>NaN</td>\n",
       "    </tr>\n",
       "    <tr>\n",
       "      <th>2013-08-22</th>\n",
       "      <td>23705.465713</td>\n",
       "      <td>Thursday</td>\n",
       "      <td>34.387368</td>\n",
       "      <td>NaN</td>\n",
       "    </tr>\n",
       "    <tr>\n",
       "      <th>2013-08-23</th>\n",
       "      <td>23739.853081</td>\n",
       "      <td>Friday</td>\n",
       "      <td>34.387368</td>\n",
       "      <td>NaN</td>\n",
       "    </tr>\n",
       "    <tr>\n",
       "      <th>2013-08-24</th>\n",
       "      <td>23774.240449</td>\n",
       "      <td>Saturday</td>\n",
       "      <td>34.387368</td>\n",
       "      <td>NaN</td>\n",
       "    </tr>\n",
       "    <tr>\n",
       "      <th>2013-08-25</th>\n",
       "      <td>23808.627818</td>\n",
       "      <td>Sunday</td>\n",
       "      <td>34.387368</td>\n",
       "      <td>NaN</td>\n",
       "    </tr>\n",
       "    <tr>\n",
       "      <th>2013-08-26</th>\n",
       "      <td>23843.015186</td>\n",
       "      <td>Monday</td>\n",
       "      <td>34.387368</td>\n",
       "      <td>NaN</td>\n",
       "    </tr>\n",
       "    <tr>\n",
       "      <th>2013-08-27</th>\n",
       "      <td>23877.402555</td>\n",
       "      <td>Tuesday</td>\n",
       "      <td>34.387368</td>\n",
       "      <td>NaN</td>\n",
       "    </tr>\n",
       "    <tr>\n",
       "      <th>2013-08-28</th>\n",
       "      <td>23911.789923</td>\n",
       "      <td>Wednesday</td>\n",
       "      <td>34.387368</td>\n",
       "      <td>NaN</td>\n",
       "    </tr>\n",
       "    <tr>\n",
       "      <th>2013-08-29</th>\n",
       "      <td>23946.177292</td>\n",
       "      <td>Thursday</td>\n",
       "      <td>34.387368</td>\n",
       "      <td>NaN</td>\n",
       "    </tr>\n",
       "    <tr>\n",
       "      <th>2013-08-30</th>\n",
       "      <td>23980.564660</td>\n",
       "      <td>Friday</td>\n",
       "      <td>34.387368</td>\n",
       "      <td>NaN</td>\n",
       "    </tr>\n",
       "    <tr>\n",
       "      <th>2013-08-31</th>\n",
       "      <td>24014.952029</td>\n",
       "      <td>Saturday</td>\n",
       "      <td>34.387368</td>\n",
       "      <td>NaN</td>\n",
       "    </tr>\n",
       "    <tr>\n",
       "      <th>2013-09-01</th>\n",
       "      <td>24049.339397</td>\n",
       "      <td>Sunday</td>\n",
       "      <td>34.387368</td>\n",
       "      <td>NaN</td>\n",
       "    </tr>\n",
       "    <tr>\n",
       "      <th>2013-09-02</th>\n",
       "      <td>24083.726766</td>\n",
       "      <td>Monday</td>\n",
       "      <td>34.387368</td>\n",
       "      <td>NaN</td>\n",
       "    </tr>\n",
       "    <tr>\n",
       "      <th>2013-09-03</th>\n",
       "      <td>24118.114134</td>\n",
       "      <td>Tuesday</td>\n",
       "      <td>34.387368</td>\n",
       "      <td>NaN</td>\n",
       "    </tr>\n",
       "    <tr>\n",
       "      <th>2013-09-04</th>\n",
       "      <td>24152.501503</td>\n",
       "      <td>Wednesday</td>\n",
       "      <td>34.387368</td>\n",
       "      <td>NaN</td>\n",
       "    </tr>\n",
       "    <tr>\n",
       "      <th>2013-09-05</th>\n",
       "      <td>24186.888871</td>\n",
       "      <td>Thursday</td>\n",
       "      <td>34.387368</td>\n",
       "      <td>NaN</td>\n",
       "    </tr>\n",
       "    <tr>\n",
       "      <th>2013-09-06</th>\n",
       "      <td>24221.276239</td>\n",
       "      <td>Friday</td>\n",
       "      <td>34.387368</td>\n",
       "      <td>NaN</td>\n",
       "    </tr>\n",
       "    <tr>\n",
       "      <th>2013-09-07</th>\n",
       "      <td>24255.663608</td>\n",
       "      <td>Saturday</td>\n",
       "      <td>34.387368</td>\n",
       "      <td>NaN</td>\n",
       "    </tr>\n",
       "    <tr>\n",
       "      <th>2013-09-08</th>\n",
       "      <td>24290.050976</td>\n",
       "      <td>Sunday</td>\n",
       "      <td>34.387368</td>\n",
       "      <td>NaN</td>\n",
       "    </tr>\n",
       "    <tr>\n",
       "      <th>2013-09-09</th>\n",
       "      <td>24324.438345</td>\n",
       "      <td>Monday</td>\n",
       "      <td>34.387368</td>\n",
       "      <td>NaN</td>\n",
       "    </tr>\n",
       "    <tr>\n",
       "      <th>2013-09-10</th>\n",
       "      <td>24358.825713</td>\n",
       "      <td>Tuesday</td>\n",
       "      <td>34.387368</td>\n",
       "      <td>NaN</td>\n",
       "    </tr>\n",
       "    <tr>\n",
       "      <th>2013-09-11</th>\n",
       "      <td>24393.213082</td>\n",
       "      <td>Wednesday</td>\n",
       "      <td>34.387368</td>\n",
       "      <td>NaN</td>\n",
       "    </tr>\n",
       "    <tr>\n",
       "      <th>2013-09-12</th>\n",
       "      <td>24427.600450</td>\n",
       "      <td>Thursday</td>\n",
       "      <td>28.174771</td>\n",
       "      <td>NaN</td>\n",
       "    </tr>\n",
       "    <tr>\n",
       "      <th>2013-09-13</th>\n",
       "      <td>24455.775221</td>\n",
       "      <td>Friday</td>\n",
       "      <td>NaN</td>\n",
       "      <td>NaN</td>\n",
       "    </tr>\n",
       "  </tbody>\n",
       "</table>\n",
       "<p>714 rows × 4 columns</p>\n",
       "</div>"
      ],
      "text/plain": [
       "                 coffees   weekdays  coffes_made_today  members\n",
       "2011-08-31           NaN        NaN                NaN     12.0\n",
       "2011-09-30           NaN        NaN                NaN     14.0\n",
       "2011-10-03           NaN     Monday                NaN      NaN\n",
       "2011-10-04    404.408262    Tuesday          34.255987      NaN\n",
       "2011-10-05    438.664249  Wednesday          55.402049      NaN\n",
       "2011-10-06    494.066298   Thursday          78.778013      NaN\n",
       "2011-10-07    572.844311     Friday          64.392941      NaN\n",
       "2011-10-08    637.237253   Saturday           7.492196      NaN\n",
       "2011-10-09    644.729448     Sunday           8.195209      NaN\n",
       "2011-10-10    652.924658     Monday          81.648549      NaN\n",
       "2011-10-11    734.573206    Tuesday          46.351008      NaN\n",
       "2011-10-12    780.924214  Wednesday          71.254295      NaN\n",
       "2011-10-13    852.178510   Thursday          76.057819      NaN\n",
       "2011-10-14    928.236328     Friday          51.198648      NaN\n",
       "2011-10-15    979.434976   Saturday          13.197919      NaN\n",
       "2011-10-16    992.632896     Sunday          13.197919      NaN\n",
       "2011-10-17   1005.830815     Monday          51.896458      NaN\n",
       "2011-10-18   1057.727273    Tuesday          58.000000      NaN\n",
       "2011-10-19   1115.727273  Wednesday          99.078834      NaN\n",
       "2011-10-20   1214.806107   Thursday          60.353715      NaN\n",
       "2011-10-21   1275.159821     Friday          39.616790      NaN\n",
       "2011-10-22   1314.776612   Saturday          12.953523      NaN\n",
       "2011-10-23   1327.730135     Sunday          12.953523      NaN\n",
       "2011-10-24   1340.683658     Monday          59.218453      NaN\n",
       "2011-10-25   1399.902111    Tuesday          74.692688      NaN\n",
       "2011-10-26   1474.594800  Wednesday          66.788911      NaN\n",
       "2011-10-27   1541.383710   Thursday          65.455952      NaN\n",
       "2011-10-28   1606.839662     Friday          43.095992      NaN\n",
       "2011-10-29   1649.935654   Saturday          22.818727      NaN\n",
       "2011-10-30   1672.754382     Sunday          22.818727      NaN\n",
       "...                  ...        ...                ...      ...\n",
       "2013-08-15  23464.754133   Thursday          34.387368      NaN\n",
       "2013-08-16  23499.141502     Friday          34.387368      NaN\n",
       "2013-08-17  23533.528870   Saturday          34.387368      NaN\n",
       "2013-08-18  23567.916239     Sunday          34.387368      NaN\n",
       "2013-08-19  23602.303607     Monday          34.387368      NaN\n",
       "2013-08-20  23636.690976    Tuesday          34.387368      NaN\n",
       "2013-08-21  23671.078344  Wednesday          34.387368      NaN\n",
       "2013-08-22  23705.465713   Thursday          34.387368      NaN\n",
       "2013-08-23  23739.853081     Friday          34.387368      NaN\n",
       "2013-08-24  23774.240449   Saturday          34.387368      NaN\n",
       "2013-08-25  23808.627818     Sunday          34.387368      NaN\n",
       "2013-08-26  23843.015186     Monday          34.387368      NaN\n",
       "2013-08-27  23877.402555    Tuesday          34.387368      NaN\n",
       "2013-08-28  23911.789923  Wednesday          34.387368      NaN\n",
       "2013-08-29  23946.177292   Thursday          34.387368      NaN\n",
       "2013-08-30  23980.564660     Friday          34.387368      NaN\n",
       "2013-08-31  24014.952029   Saturday          34.387368      NaN\n",
       "2013-09-01  24049.339397     Sunday          34.387368      NaN\n",
       "2013-09-02  24083.726766     Monday          34.387368      NaN\n",
       "2013-09-03  24118.114134    Tuesday          34.387368      NaN\n",
       "2013-09-04  24152.501503  Wednesday          34.387368      NaN\n",
       "2013-09-05  24186.888871   Thursday          34.387368      NaN\n",
       "2013-09-06  24221.276239     Friday          34.387368      NaN\n",
       "2013-09-07  24255.663608   Saturday          34.387368      NaN\n",
       "2013-09-08  24290.050976     Sunday          34.387368      NaN\n",
       "2013-09-09  24324.438345     Monday          34.387368      NaN\n",
       "2013-09-10  24358.825713    Tuesday          34.387368      NaN\n",
       "2013-09-11  24393.213082  Wednesday          34.387368      NaN\n",
       "2013-09-12  24427.600450   Thursday          28.174771      NaN\n",
       "2013-09-13  24455.775221     Friday                NaN      NaN\n",
       "\n",
       "[714 rows x 4 columns]"
      ]
     },
     "execution_count": 42,
     "metadata": {},
     "output_type": "execute_result"
    }
   ],
   "source": [
    "# create an outer join, wherever index matches, extend that row\n",
    "# inner join (default) where index-unmatched rows are dropped\n",
    "daily_data.join(people, how='outer')\n",
    "#daily_data.head()"
   ]
  },
  {
   "cell_type": "code",
   "execution_count": 43,
   "metadata": {},
   "outputs": [
    {
     "data": {
      "text/html": [
       "<div>\n",
       "<style>\n",
       "    .dataframe thead tr:only-child th {\n",
       "        text-align: right;\n",
       "    }\n",
       "\n",
       "    .dataframe thead th {\n",
       "        text-align: left;\n",
       "    }\n",
       "\n",
       "    .dataframe tbody tr th {\n",
       "        vertical-align: top;\n",
       "    }\n",
       "</style>\n",
       "<table border=\"1\" class=\"dataframe\">\n",
       "  <thead>\n",
       "    <tr style=\"text-align: right;\">\n",
       "      <th></th>\n",
       "      <th>coffees</th>\n",
       "      <th>weekdays</th>\n",
       "      <th>coffes_made_today</th>\n",
       "    </tr>\n",
       "  </thead>\n",
       "  <tbody>\n",
       "    <tr>\n",
       "      <th>2011-10-03</th>\n",
       "      <td>NaN</td>\n",
       "      <td>Monday</td>\n",
       "      <td>NaN</td>\n",
       "    </tr>\n",
       "    <tr>\n",
       "      <th>2011-10-04</th>\n",
       "      <td>404.408262</td>\n",
       "      <td>Tuesday</td>\n",
       "      <td>34.255987</td>\n",
       "    </tr>\n",
       "    <tr>\n",
       "      <th>2011-10-05</th>\n",
       "      <td>438.664249</td>\n",
       "      <td>Wednesday</td>\n",
       "      <td>55.402049</td>\n",
       "    </tr>\n",
       "    <tr>\n",
       "      <th>2011-10-06</th>\n",
       "      <td>494.066298</td>\n",
       "      <td>Thursday</td>\n",
       "      <td>78.778013</td>\n",
       "    </tr>\n",
       "    <tr>\n",
       "      <th>2011-10-07</th>\n",
       "      <td>572.844311</td>\n",
       "      <td>Friday</td>\n",
       "      <td>64.392941</td>\n",
       "    </tr>\n",
       "  </tbody>\n",
       "</table>\n",
       "</div>"
      ],
      "text/plain": [
       "               coffees   weekdays  coffes_made_today\n",
       "2011-10-03         NaN     Monday                NaN\n",
       "2011-10-04  404.408262    Tuesday          34.255987\n",
       "2011-10-05  438.664249  Wednesday          55.402049\n",
       "2011-10-06  494.066298   Thursday          78.778013\n",
       "2011-10-07  572.844311     Friday          64.392941"
      ]
     },
     "execution_count": 43,
     "metadata": {},
     "output_type": "execute_result"
    }
   ],
   "source": [
    "daily_data = daily_data.interpolate(method='nearest')\n",
    "daily_data.head()"
   ]
  },
  {
   "cell_type": "code",
   "execution_count": null,
   "metadata": {},
   "outputs": [],
   "source": []
  }
 ],
 "metadata": {
  "kernelspec": {
   "display_name": "Python 3",
   "language": "python",
   "name": "python3"
  },
  "language_info": {
   "codemirror_mode": {
    "name": "ipython",
    "version": 3
   },
   "file_extension": ".py",
   "mimetype": "text/x-python",
   "name": "python",
   "nbconvert_exporter": "python",
   "pygments_lexer": "ipython3",
   "version": "3.6.2"
  }
 },
 "nbformat": 4,
 "nbformat_minor": 2
}
