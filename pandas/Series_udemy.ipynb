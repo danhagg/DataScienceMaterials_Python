{
 "cells": [
  {
   "cell_type": "code",
   "execution_count": 166,
   "metadata": {},
   "outputs": [],
   "source": [
    "import pandas as pd\n",
    "import matplotlib.pyplot as plt"
   ]
  },
  {
   "cell_type": "code",
   "execution_count": 194,
   "metadata": {},
   "outputs": [],
   "source": [
    "# pd.Series(data=None, index=None, dtype=None, name=None, copy=False, fastpath=False)"
   ]
  },
  {
   "cell_type": "code",
   "execution_count": 151,
   "metadata": {},
   "outputs": [
    {
     "name": "stdout",
     "output_type": "stream",
     "text": [
      "Counter({'f': 3, 'a': 2, 'b': 2, 'c': 2, 'd': 2, 'e': 1})\n"
     ]
    }
   ],
   "source": [
    "import collections as col\n",
    "a = col.Counter(\" a b c d a b c d e f f f \".split())\n",
    "print(a)"
   ]
  },
  {
   "cell_type": "code",
   "execution_count": 154,
   "metadata": {},
   "outputs": [
    {
     "name": "stdout",
     "output_type": "stream",
     "text": [
      "NaN    1\n",
      "a      2\n",
      "b      1\n",
      "c      1\n",
      "d      2\n",
      "e      1\n",
      "f      3\n",
      "Name: stuff, dtype: int64\n"
     ]
    }
   ],
   "source": [
    "# pd.Series(data=None, index=None, dtype=None, name=None, copy=False, fastpath=False)\n",
    "ser = pd.Series(a, name='stuff')\n",
    "print(ser)"
   ]
  },
  {
   "cell_type": "code",
   "execution_count": 122,
   "metadata": {},
   "outputs": [
    {
     "data": {
      "text/plain": [
       "0    50.12\n",
       "1    54.10\n",
       "2    54.65\n",
       "3    52.38\n",
       "4    52.95\n",
       "Name: Stock Price, dtype: float64"
      ]
     },
     "execution_count": 122,
     "metadata": {},
     "output_type": "execute_result"
    }
   ],
   "source": [
    "# Squeeze ensures a series not df\n",
    "google = pd.read_csv(\n",
    "    'udemy_material/google_stock_price.csv', squeeze=True)\n",
    "google.head()"
   ]
  },
  {
   "cell_type": "code",
   "execution_count": 82,
   "metadata": {
    "scrolled": true
   },
   "outputs": [
    {
     "data": {
      "text/plain": [
       "(635.766, 708.993]                87\n",
       "(416.085, 489.312]               119\n",
       "(708.993, 782.22]                143\n",
       "(342.858, 416.085]               162\n",
       "(562.539, 635.766]               177\n",
       "(49.217000000000006, 123.177]    191\n",
       "(489.312, 562.539]               298\n",
       "(123.177, 196.404]               375\n",
       "(269.631, 342.858]               649\n",
       "(196.404, 269.631]               811\n",
       "Name: Stock Price, dtype: int64"
      ]
     },
     "execution_count": 82,
     "metadata": {},
     "output_type": "execute_result"
    }
   ],
   "source": [
    "google.value_counts(bins=10).sort_values()"
   ]
  },
  {
   "cell_type": "code",
   "execution_count": 91,
   "metadata": {},
   "outputs": [
    {
     "data": {
      "text/plain": [
       "(708.993, 782.22]                143\n",
       "(635.766, 708.993]                87\n",
       "(562.539, 635.766]               177\n",
       "(489.312, 562.539]               298\n",
       "(416.085, 489.312]               119\n",
       "(342.858, 416.085]               162\n",
       "(269.631, 342.858]               649\n",
       "(196.404, 269.631]               811\n",
       "(123.177, 196.404]               375\n",
       "(49.217000000000006, 123.177]    191\n",
       "Name: Stock Price, dtype: int64"
      ]
     },
     "execution_count": 91,
     "metadata": {},
     "output_type": "execute_result"
    }
   ],
   "source": [
    "new_goog = google.value_counts(bins=10)\n",
    "new_goog.sort_index(ascending=False)"
   ]
  },
  {
   "cell_type": "code",
   "execution_count": 101,
   "metadata": {},
   "outputs": [
    {
     "name": "stdout",
     "output_type": "stream",
     "text": [
      "False\n",
      "False\n",
      "True\n"
     ]
    }
   ],
   "source": [
    "# \"in\" returns a Boolean\n",
    "# By default \"in\" searches the pandas index not values\n",
    "print(143 in new_goog)\n",
    "print(143 in new_goog.index)\n",
    "print(143 in new_goog.values)"
   ]
  },
  {
   "cell_type": "code",
   "execution_count": 121,
   "metadata": {},
   "outputs": [
    {
     "name": "stdout",
     "output_type": "stream",
     "text": [
      "2\n",
      "\n",
      "b    2\n",
      "c    2\n",
      "Name: stuff, dtype: int64\n",
      "\n",
      "b    2\n",
      "d    2\n",
      "Name: stuff, dtype: int64\n"
     ]
    }
   ],
   "source": [
    "# Index into a series similar to a list\n",
    "# A single index return a string\n",
    "print(ser[0])\n",
    "print()\n",
    "\n",
    "# A slice returns a new series\n",
    "print(ser[1:3])\n",
    "print()\n",
    "\n",
    "# Multiple values need to be in a list\n",
    "print(ser[[1,3]])"
   ]
  },
  {
   "cell_type": "code",
   "execution_count": 108,
   "metadata": {},
   "outputs": [
    {
     "data": {
      "text/plain": [
       "811"
      ]
     },
     "execution_count": 108,
     "metadata": {},
     "output_type": "execute_result"
    }
   ],
   "source": [
    "# may often need .iloc method\n",
    "new_goog.iloc[0]"
   ]
  },
  {
   "cell_type": "code",
   "execution_count": 147,
   "metadata": {},
   "outputs": [
    {
     "name": "stdout",
     "output_type": "stream",
     "text": [
      "Pokemon\n",
      "Bulbasaur    Grass\n",
      "Venusaur     Grass\n",
      "Name: Type, dtype: object\n",
      "\n",
      "Pokemon\n",
      "Bulbasaur     Grass\n",
      "Buneary      Normal\n",
      "Bunnelby     Normal\n",
      "Name: Type, dtype: object\n"
     ]
    }
   ],
   "source": [
    "# Can index using the index name\n",
    "poke = pd.read_csv(\"udemy_material/pokemon.csv\", index_col=\"Pokemon\", squeeze=True)\n",
    "poke.sort_index(inplace=True)\n",
    "\n",
    "# Two inexes\n",
    "print(poke[['Bulbasaur', 'Venusaur']])\n",
    "print()\n",
    "\n",
    "# Sliced indexes\n",
    "print(poke['Bulbasaur': 'Bunnelby'])"
   ]
  },
  {
   "cell_type": "code",
   "execution_count": 176,
   "metadata": {},
   "outputs": [
    {
     "name": "stdout",
     "output_type": "stream",
     "text": [
      "Grass\n"
     ]
    }
   ],
   "source": [
    "print(poke.get(key='Bulbasaur'))"
   ]
  },
  {
   "cell_type": "code",
   "execution_count": 155,
   "metadata": {},
   "outputs": [
    {
     "data": {
      "text/plain": [
       "count    3012.000000\n",
       "mean      334.310093\n",
       "std       173.187205\n",
       "min        49.950000\n",
       "25%       218.045000\n",
       "50%       283.315000\n",
       "75%       443.000000\n",
       "max       782.220000\n",
       "Name: Stock Price, dtype: float64"
      ]
     },
     "execution_count": 155,
     "metadata": {},
     "output_type": "execute_result"
    }
   ],
   "source": [
    "# google.min(), .max(), .std()\n",
    "google.describe()"
   ]
  },
  {
   "cell_type": "code",
   "execution_count": 162,
   "metadata": {},
   "outputs": [
    {
     "name": "stdout",
     "output_type": "stream",
     "text": [
      "3011\n",
      "11\n"
     ]
    }
   ],
   "source": [
    "print(google.idxmax())\n",
    "print(google.idxmin())"
   ]
  },
  {
   "cell_type": "code",
   "execution_count": 169,
   "metadata": {},
   "outputs": [
    {
     "data": {
      "image/png": "[encoded data removed]",
      "text/plain": [
       "<matplotlib.figure.Figure at 0x11235ce10>"
      ]
     },
     "metadata": {},
     "output_type": "display_data"
    }
   ],
   "source": [
    "google.hist(bins=100)\n",
    "plt.show()"
   ]
  },
  {
   "cell_type": "code",
   "execution_count": 180,
   "metadata": {},
   "outputs": [
    {
     "data": {
      "text/plain": [
       "0    51.12\n",
       "1    55.10\n",
       "2    55.65\n",
       "3    53.38\n",
       "4    53.95\n",
       "Name: Stock Price, dtype: float64"
      ]
     },
     "execution_count": 180,
     "metadata": {},
     "output_type": "execute_result"
    }
   ],
   "source": [
    "# The apply method\n",
    "stock_google = google.apply(lambda stock: stock + 1)\n",
    "stock_google.head()"
   ]
  },
  {
   "cell_type": "code",
   "execution_count": 181,
   "metadata": {},
   "outputs": [],
   "source": [
    "# The apply method\n",
    "def classify(number):\n",
    "    if number < 300:\n",
    "        return \"poo\"\n",
    "    elif number > 300 and number < 600:\n",
    "        return \"OK\"\n",
    "    else:\n",
    "        return \"Get in\"\n",
    "    "
   ]
  },
  {
   "cell_type": "code",
   "execution_count": 183,
   "metadata": {},
   "outputs": [
    {
     "data": {
      "text/plain": [
       "0    poo\n",
       "1    poo\n",
       "2    poo\n",
       "3    poo\n",
       "4    poo\n",
       "Name: Stock Price, dtype: object"
      ]
     },
     "execution_count": 183,
     "metadata": {},
     "output_type": "execute_result"
    }
   ],
   "source": [
    "classify_google = google.apply(classify)\n",
    "classify_google.head()"
   ]
  },
  {
   "cell_type": "code",
   "execution_count": 193,
   "metadata": {},
   "outputs": [
    {
     "name": "stdout",
     "output_type": "stream",
     "text": [
      "0    Bulbasaur\n",
      "1      Ivysaur\n",
      "2     Venusaur\n",
      "Name: Pokemon, dtype: object \n",
      "\n",
      "Pokemon\n",
      "Bulbasaur    Grass\n",
      "Ivysaur      Grass\n",
      "Venusaur     Grass\n",
      "Name: Type, dtype: object\n"
     ]
    }
   ],
   "source": [
    "# .map(), for the purpose of this example we will pretend poke_names and poke_types \n",
    "# are from different sources of data that we wish to map to each other\n",
    "\n",
    "# values = names\n",
    "poke_names = pd.read_csv('udemy_material/pokemon.csv', usecols=['Pokemon'], squeeze=True)\n",
    "print(poke_names.head(3),'\\n')\n",
    "\n",
    "# index = names, values = types\n",
    "poke_types = pd.read_csv('udemy_material/pokemon.csv', index_col='Pokemon', squeeze=True)\n",
    "print(poke_types.head(3))"
   ]
  },
  {
   "cell_type": "code",
   "execution_count": 196,
   "metadata": {},
   "outputs": [
    {
     "data": {
      "text/plain": [
       "0    Grass\n",
       "1    Grass\n",
       "2    Grass\n",
       "3     Fire\n",
       "4     Fire\n",
       "Name: Pokemon, dtype: object"
      ]
     },
     "execution_count": 196,
     "metadata": {},
     "output_type": "execute_result"
    }
   ],
   "source": [
    "# map called upon one series with a second series passed as an argument\n",
    "# The value Bulbasaur from poke_names is checked \n",
    "# if it is an index in poke_types\n",
    "poke_names.map(poke_types).head()"
   ]
  },
  {
   "cell_type": "code",
   "execution_count": 204,
   "metadata": {},
   "outputs": [
    {
     "name": "stdout",
     "output_type": "stream",
     "text": [
      "Grass\n"
     ]
    },
    {
     "data": {
      "text/plain": [
       "0    Grass\n",
       "1    Grass\n",
       "2    Grass\n",
       "3     Fire\n",
       "4     Fire\n",
       "Name: Pokemon, dtype: object"
      ]
     },
     "execution_count": 204,
     "metadata": {},
     "output_type": "execute_result"
    }
   ],
   "source": [
    "# Using a dictionary\n",
    "# Matches index to keys and displayes value\n",
    "dict_poke_types = poke_types.to_dict()\n",
    "print(dict_poke_types['Bulbasaur'])\n",
    "poke_names.map(dict_poke_types).head()"
   ]
  },
  {
   "cell_type": "code",
   "execution_count": null,
   "metadata": {},
   "outputs": [],
   "source": []
  }
 ],
 "metadata": {
  "kernelspec": {
   "display_name": "Python 3",
   "language": "python",
   "name": "python3"
  },
  "language_info": {
   "codemirror_mode": {
    "name": "ipython",
    "version": 3
   },
   "file_extension": ".py",
   "mimetype": "text/x-python",
   "name": "python",
   "nbconvert_exporter": "python",
   "pygments_lexer": "ipython3",
   "version": "3.6.2"
  }
 },
 "nbformat": 4,
 "nbformat_minor": 2
}
