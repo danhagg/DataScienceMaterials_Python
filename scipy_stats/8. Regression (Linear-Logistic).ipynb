{
 "cells": [
  {
   "cell_type": "markdown",
   "metadata": {},
   "source": [
    "##### Linear Regression function:\n",
    "\n",
    "$ y = a + bx $\n",
    "\n",
    "\n",
    "\n",
    "#####  Slope (b) of Regression line:\n",
    "\n",
    "$ b = \\frac{S_y}{S_x} $\n",
    "\n",
    "\n",
    "\n",
    "#####  Y-Intercept (a) of Regression Line\n",
    "\n",
    "$ a = \\overline{y}-b \\overline{x} $"
   ]
  },
  {
   "cell_type": "markdown",
   "metadata": {},
   "source": [
    "# Linear Regression\n"
   ]
  },
  {
   "cell_type": "code",
   "execution_count": 1,
   "metadata": {
    "scrolled": true
   },
   "outputs": [
    {
     "data": {
      "text/html": [
       "<iframe width=\"560\" height=\"315\" src=\"https://www.youtube.com/embed/GhrxgbQnEEU\" frameborder=\"0\" gesture=\"media\" allow=\"encrypted-media\" allowfullscreen></iframe>"
      ],
      "text/plain": [
       "<IPython.core.display.HTML object>"
      ]
     },
     "execution_count": 1,
     "metadata": {},
     "output_type": "execute_result"
    }
   ],
   "source": [
    "from IPython.display import HTML\n",
    "HTML('<iframe width=\"560\" height=\"315\" src=\"https://www.youtube.com/embed/GhrxgbQnEEU\" frameborder=\"0\" gesture=\"media\" allow=\"encrypted-media\" allowfullscreen></iframe>')"
   ]
  },
  {
   "cell_type": "markdown",
   "metadata": {},
   "source": [
    "# Linear regression in Scipy\n",
    "\n",
    "scipy.stats.linregress(x, y=None)\n",
    "\n",
    "Calculate a regression line\n",
    "\n",
    "This computes a least-squares regression for two sets of measurements.\n",
    "\n",
    "- Parameters:\t\n",
    "    - x, y : array_like\n",
    "        - two sets of measurements. Both arrays should have the same length. If only x is given (and y=None), then it must be a two-dimensional array where one dimension has length 2. The two sets of measurements are then found by splitting the array along the length-2 dimension.\n",
    "\n",
    "- Returns:\t\n",
    "    - slope : float\n",
    "        - slope of the regression line\n",
    "    - intercept : float\n",
    "        - intercept of the regression line\n",
    "    - r-value : float\n",
    "        - correlation coefficient\n",
    "    - p-value : float\n",
    "        - two-sided p-value for a hypothesis test whose null hypothesis is that the slope is zero.\n",
    "    - stderr : float\n",
    "        - Standard error of the estimate"
   ]
  },
  {
   "cell_type": "code",
   "execution_count": 3,
   "metadata": {},
   "outputs": [
    {
     "name": "stdout",
     "output_type": "stream",
     "text": [
      "r-squared: 0.0134582147584\n"
     ]
    }
   ],
   "source": [
    "from scipy import stats\n",
    "import numpy as np\n",
    "x = np.random.random(10)\n",
    "y = np.random.random(10)\n",
    "slope, intercept, r_value, p_value, std_err = stats.linregress(x,y)\n",
    "print(\"r-squared:\", r_value**2)"
   ]
  },
  {
   "cell_type": "markdown",
   "metadata": {},
   "source": [
    "Regression\n",
    "Population Regression Line\n",
    "$$E(y) = \\alpha + \\beta{x}$$\n",
    "\n",
    "$$var(y) = \\sigma^2$$\n",
    "\n",
    "Least Squares Line\n",
    "$$\\hat{y} = a + bx$$\n",
    "\n",
    "where\n",
    "\n",
    "$$b = \\frac {{SS}{xy}}{{SS}{xx}}$$\n",
    "\n",
    "and\n",
    "\n",
    "$$\\bar{y} = a + b\\bar{x}$$"
   ]
  },
  {
   "cell_type": "code",
   "execution_count": null,
   "metadata": {},
   "outputs": [],
   "source": []
  }
 ],
 "metadata": {
  "kernelspec": {
   "display_name": "Python 3",
   "language": "python",
   "name": "python3"
  },
  "language_info": {
   "codemirror_mode": {
    "name": "ipython",
    "version": 3
   },
   "file_extension": ".py",
   "mimetype": "text/x-python",
   "name": "python",
   "nbconvert_exporter": "python",
   "pygments_lexer": "ipython3",
   "version": "3.6.2"
  }
 },
 "nbformat": 4,
 "nbformat_minor": 2
}
