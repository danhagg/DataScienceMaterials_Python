{
 "cells": [
  {
   "cell_type": "markdown",
   "metadata": {},
   "source": [
    "<img src=\"which_test.gif\">"
   ]
  },
  {
   "cell_type": "markdown",
   "metadata": {},
   "source": [
    "<img src=\"which_test.jpg\"/>"
   ]
  },
  {
   "cell_type": "markdown",
   "metadata": {},
   "source": [
    "# one-way ANOVA with repeated measures (paired)\n",
    "\n",
    "\n"
   ]
  },
  {
   "cell_type": "code",
   "execution_count": 1,
   "metadata": {},
   "outputs": [
    {
     "data": {
      "text/html": [
       "<iframe width=\"560\" height=\"315\" src=\"https://www.youtube.com/embed/VPB3xrsFl4o\" frameborder=\"0\" gesture=\"media\" allow=\"encrypted-media\" allowfullscreen></iframe>"
      ],
      "text/plain": [
       "<IPython.core.display.HTML object>"
      ]
     },
     "execution_count": 1,
     "metadata": {},
     "output_type": "execute_result"
    }
   ],
   "source": [
    "from IPython.display import HTML\n",
    "HTML('<iframe width=\"560\" height=\"315\" src=\"https://www.youtube.com/embed/VPB3xrsFl4o\" frameborder=\"0\" gesture=\"media\" allow=\"encrypted-media\" allowfullscreen></iframe>')"
   ]
  },
  {
   "cell_type": "code",
   "execution_count": null,
   "metadata": {},
   "outputs": [],
   "source": []
  },
  {
   "cell_type": "markdown",
   "metadata": {},
   "source": [
    "# one-way ANOVA (unpaired-equal variance)\n",
    "\n",
    "How do we find the variance in individual groups and between them... Then we will look at multiple groups.\n",
    "\n",
    "##### Sample Variance for a single group\n",
    "\n",
    "# $ s^2 = {\\frac{\\sum_{i=1}^N (x_i - \\overline{x})^2}{N-1} } $\n",
    "\n",
    "\n",
    "##### F-test for two groups\n",
    "\n",
    "# $ F = \\frac{S_X^2}{S_Y^2} $\n",
    "\n",
    "##### For multiple groups!\n",
    "\n",
    "# $ F = \\frac{MSS_B}{MSS_W} $\n",
    "\n",
    "where $ MSS_B = $ mean sum of squares between the groups and $ MSS_W = $ the mean sum of squares within the groups\n",
    "\n",
    "\n",
    "\n",
    "# $ MSS_W = \\frac {\\sum_{g \\in G} (X - \\overline X_g)^2} {n - k} $\n",
    "\n",
    "Thus, for each value $ g $ in a group, $ \\in G $ for all groups, we calculate each value $X$ minus the mean of each group $\\overline X_g$ and square. we then divide by the total number of variables $n$ and the total number of groups $k$.\n",
    "\n",
    "\n",
    "\n",
    "# $ MSS_B = \\frac {\\sum_{g \\in G} n_g(\\overline X_g - \\overline X_G)^2} {k - 1} $\n",
    "\n",
    "Thus, for each value $ g $ in a group, we multiply the number in each group$n_g$ by the mean of the group $X_g$ minus the mean of all goups $X_G$ divided by the total number of groups minus 1 $k - 1$\n",
    "\n",
    "Then we look up in an F table using:\n",
    "\n",
    "# $ df_W = n - k $\n",
    "\n",
    "# $ df_B = k - 1 $\n",
    "\n",
    "\n",
    "So, our hypotheses are...\n",
    "\n",
    "$ {{H_0}: {\\mu_1} = {\\mu_2} = {\\mu_3}} $\n",
    "\n",
    "$ {{H_1}: {\\mu_1} \\neq {\\mu_2} \\neq {\\mu_3}} $\n",
    "\n",
    "If $ F_{STAT} > F_{CRIT} $ we reject $ H_0 $"
   ]
  },
  {
   "cell_type": "code",
   "execution_count": 1,
   "metadata": {},
   "outputs": [
    {
     "data": {
      "text/html": [
       "<iframe width=\"560\" height=\"315\" src=\"https://www.youtube.com/embed/WUjsSB7E-ko\" frameborder=\"0\" gesture=\"media\" allow=\"encrypted-media\" allowfullscreen></iframe>"
      ],
      "text/plain": [
       "<IPython.core.display.HTML object>"
      ]
     },
     "execution_count": 1,
     "metadata": {},
     "output_type": "execute_result"
    }
   ],
   "source": [
    "from IPython.display import HTML\n",
    "HTML('<iframe width=\"560\" height=\"315\" src=\"https://www.youtube.com/embed/WUjsSB7E-ko\" frameborder=\"0\" gesture=\"media\" allow=\"encrypted-media\" allowfullscreen></iframe>')"
   ]
  },
  {
   "cell_type": "markdown",
   "metadata": {},
   "source": [
    "# one-way ANOVA in Scipy\n",
    "\n",
    "##### scipy.stats.f_oneway(*args)\n",
    "\n",
    "The one-way ANOVA tests the null hypothesis that two or more groups have the same population mean. The test is applied to samples from two or more groups, possibly with differing sizes.\n",
    "\n",
    "Parameters:\t\n",
    "- sample1, sample2, ... : array_like\n",
    "    - The sample measurements for each group.\n",
    "\n",
    "Returns:\t\n",
    "- statistic : float\n",
    "    - The computed F-value of the test.\n",
    "- pvalue : float\n",
    "    - The associated p-value from the F-distribution.\n",
    "\n",
    "The ANOVA test has important assumptions that must be satisfied in order for the associated p-value to be valid.\n",
    "1. The samples are independent.\n",
    "2. Each sample is from a normally distributed population.\n",
    "3. The population standard deviations of the groups are all equal. This property is known as homoscedasticity.\n",
    "\n",
    "If these assumptions are not true for a given set of data, it may still be possible to use the Kruskal-Wallis H-test (scipy.stats.kruskal) although with some loss of power."
   ]
  },
  {
   "cell_type": "code",
   "execution_count": 4,
   "metadata": {},
   "outputs": [
    {
     "data": {
      "text/plain": [
       "F_onewayResult(statistic=6.3888861848013461, pvalue=0.00076477673906445525)"
      ]
     },
     "execution_count": 4,
     "metadata": {},
     "output_type": "execute_result"
    }
   ],
   "source": [
    "import scipy.stats as stats\n",
    "\n",
    "tillamook = [0.0571, 0.0813, 0.0831, 0.0976, 0.0817, 0.0859, 0.0735]\n",
    "newport = [0.0873, 0.0662, 0.0672, 0.0819, 0.0749, 0.0649, 0.0835]\n",
    "petersburg = [0.0974, 0.1352, 0.0817, 0.1016, 0.0968, 0.1064, 0.105]\n",
    "magadan = [0.1033, 0.0915, 0.0781, 0.0685, 0.0677, 0.0697, 0.0764, 0.0689]\n",
    "tvarminne = [0.0703, 0.1026, 0.0956, 0.0973, 0.1039, 0.1045]\n",
    "\n",
    "stats.f_oneway(tillamook, newport, petersburg, magadan, tvarminne)"
   ]
  },
  {
   "cell_type": "markdown",
   "metadata": {},
   "source": [
    "# Kruskal-Wallis H test (para-unpaired-unequal variance)\n",
    "\n",
    "non-para version of ANOVA, ordinal, ratings etc or not not normally distributed\n",
    "\n",
    "$ H_0 $: The three probability distributions are the same\n",
    "\n",
    "$ H_1 $: The three probability distributions are not the same\n",
    "\n",
    "# $ H = \\frac{12}{n(n+1)} \\sum \\frac{{R_i}^2}{n_i} - 3(n+1) $\n",
    "\n",
    "$n$ = total number values across all groups\n",
    "\n",
    "$R_i$ the Ranks for each numbers of groups\n",
    "\n",
    "$n_i$ the number of values in each group\n",
    "\n",
    "##### Step 1\n",
    "# $ H = \\frac{12}{n(n+1)}$\n",
    "\n",
    "##### Step 2\n",
    "# $ \\sum \\frac{{R_i}^2}{n_i} $\n",
    "Pool and rank all data. Sum the ranks in each group, square them, and divide by number of values in that group... add to next groups data.\n",
    "\n",
    "##### Step 3\n",
    "$ - 3(n+1) $\n",
    "\n",
    "##### Step 4\n",
    "This yields a $ H_{STAT} $.\n",
    "\n",
    "The $dF = n - 1$.\n",
    "\n",
    "We then use a $ ChiSquare_{CRIT} $\n",
    "\n",
    "If $ H_{STAT} > ChiSquare_{CRIT} $ we reject $ H_0 $"
   ]
  },
  {
   "cell_type": "code",
   "execution_count": 2,
   "metadata": {},
   "outputs": [
    {
     "data": {
      "text/html": [
       "<iframe width=\"560\" height=\"315\" src=\"https://www.youtube.com/embed/q1D4Di1KWLc\" frameborder=\"0\" gesture=\"media\" allow=\"encrypted-media\" allowfullscreen></iframe>"
      ],
      "text/plain": [
       "<IPython.core.display.HTML object>"
      ]
     },
     "execution_count": 2,
     "metadata": {},
     "output_type": "execute_result"
    }
   ],
   "source": [
    "from IPython.display import HTML\n",
    "HTML('<iframe width=\"560\" height=\"315\" src=\"https://www.youtube.com/embed/q1D4Di1KWLc\" frameborder=\"0\" gesture=\"media\" allow=\"encrypted-media\" allowfullscreen></iframe>')"
   ]
  },
  {
   "cell_type": "markdown",
   "metadata": {},
   "source": [
    "# Kruskal-Wallis H test in Scipy\n",
    "\n",
    "##### scipy.stats.kruskal(*args, **kwargs)\n",
    "\n",
    "Compute the Kruskal-Wallis H-test for independent samples\n",
    "\n",
    "The Kruskal-Wallis H-test tests the null hypothesis that the population median of all of the groups are equal. It is a non-parametric version of ANOVA. The test works on 2 or more independent samples, which may have different sizes. Note that rejecting the null hypothesis does not indicate which of the groups differs. Post-hoc comparisons between groups are required to determine which groups are different.\n",
    "\n",
    "- Parameters:\t\n",
    "    - sample1, sample2, ... : array_like\n",
    "        - Two or more arrays with the sample measurements can be given as arguments.\n",
    "    - nan_policy : {‘propagate’, ‘raise’, ‘omit’}, optional\n",
    "        - Defines how to handle when input contains nan. ‘propagate’ returns nan, ‘raise’ throws an error, ‘omit’ performs the calculations ignoring nan values. Default is ‘propagate’.\n",
    "\n",
    "- Returns:\t\n",
    "    - statistic : float\n",
    "        - The Kruskal-Wallis H statistic, corrected for ties\n",
    "    - pvalue : float\n",
    "        - The p-value for the test using the assumption that H has a chi square distribution\n",
    "        \n",
    "Due to the assumption that H has a chi square distribution, the number of samples in each group must not be too small. A typical rule is that each sample must have at least 5 measurements."
   ]
  },
  {
   "cell_type": "code",
   "execution_count": 5,
   "metadata": {},
   "outputs": [
    {
     "data": {
      "text/plain": [
       "KruskalResult(statistic=7.0, pvalue=0.030197383422318501)"
      ]
     },
     "execution_count": 5,
     "metadata": {},
     "output_type": "execute_result"
    }
   ],
   "source": [
    "x = [1, 1, 1]\n",
    "y = [2, 2, 2]\n",
    "z = [2, 2]\n",
    "\n",
    "stats.kruskal(x, y, z)"
   ]
  },
  {
   "cell_type": "code",
   "execution_count": null,
   "metadata": {},
   "outputs": [],
   "source": []
  }
 ],
 "metadata": {
  "kernelspec": {
   "display_name": "Python 3",
   "language": "python",
   "name": "python3"
  },
  "language_info": {
   "codemirror_mode": {
    "name": "ipython",
    "version": 3
   },
   "file_extension": ".py",
   "mimetype": "text/x-python",
   "name": "python",
   "nbconvert_exporter": "python",
   "pygments_lexer": "ipython3",
   "version": "3.6.2"
  }
 },
 "nbformat": 4,
 "nbformat_minor": 2
}
