{
 "cells": [
  {
   "cell_type": "code",
   "execution_count": 1,
   "metadata": {},
   "outputs": [],
   "source": [
    "import numpy as np\n",
    "import scipy as sp\n",
    "import pandas as pd\n",
    "from datetime import date\n",
    "%matplotlib inline\n",
    "import matplotlib.pyplot as plt\n",
    "import matplotlib.patches as mpatches"
   ]
  },
  {
   "cell_type": "code",
   "execution_count": null,
   "metadata": {},
   "outputs": [],
   "source": []
  },
  {
   "cell_type": "code",
   "execution_count": 2,
   "metadata": {},
   "outputs": [],
   "source": [
    "sp_vecs = np.array([[ 2. ,  4. ],\n",
    "       [-3. ,  3. ],\n",
    "       [-4. , -3.5]])"
   ]
  },
  {
   "cell_type": "code",
   "execution_count": null,
   "metadata": {},
   "outputs": [],
   "source": []
  },
  {
   "cell_type": "code",
   "execution_count": null,
   "metadata": {},
   "outputs": [],
   "source": []
  },
  {
   "cell_type": "code",
   "execution_count": 3,
   "metadata": {},
   "outputs": [],
   "source": [
    "class vectors(object):\n",
    "    \"\"\"The class takes in vectors and runs various methods \n",
    "    for analysis and plotting\"\"\"\n",
    "    \n",
    "    def plotVectorsOrigin(vecs):\n",
    "        \"\"\"Plots all vectors set to origin\"\"\"\n",
    "        # Get min/max x/y values for all vectors.     \n",
    "        x_min = min(vecs[:,0] - 1)\n",
    "        x_max = max(vecs[:,0] + 1)\n",
    "        y_min = min(vecs[:,1] - 1)\n",
    "        y_max = max(vecs[:,1]+ 1)\n",
    "        x_range = (x_min, x_max)\n",
    "        y_range = (y_min, y_max)\n",
    "        \n",
    "\n",
    "        fig, ax = plt.subplots(figsize=(6, 6))\n",
    "        # Set the axes through the origin\n",
    "        for spine in ['left', 'bottom']:\n",
    "            ax.spines[spine].set_position('zero')\n",
    "        for spine in ['right', 'top']:\n",
    "            ax.spines[spine].set_color('none')\n",
    "\n",
    "        ax.set(xlim=x_range, ylim=y_range)\n",
    "        ax.grid()    \n",
    "        for v in vecs:\n",
    "            ax.annotate('', xy=v, xytext=(0, 0),\n",
    "                        arrowprops=dict(facecolor='red',\n",
    "                        shrink=0,\n",
    "                        alpha=0.7,\n",
    "                        width=0.5))\n",
    "            ax.text(1.1 * v[0], 1.1 * v[1], str(v))\n",
    "        plt.show()"
   ]
  },
  {
   "cell_type": "code",
   "execution_count": 4,
   "metadata": {},
   "outputs": [
    {
     "data": {
      "image/png": "[encoded data removed]",
      "text/plain": [
       "<Figure size 432x432 with 1 Axes>"
      ]
     },
     "metadata": {},
     "output_type": "display_data"
    }
   ],
   "source": [
    "vectors.plotVectorsOrigin(sp_vecs)"
   ]
  },
  {
   "cell_type": "code",
   "execution_count": 5,
   "metadata": {},
   "outputs": [
    {
     "name": "stdout",
     "output_type": "stream",
     "text": [
      "Help on function plotVectorsOrigin in module __main__:\n",
      "\n",
      "plotVectorsOrigin(vecs)\n",
      "    Plots all vectors set to origin\n",
      "\n"
     ]
    }
   ],
   "source": [
    "help(vectors.plotVectorsOrigin)"
   ]
  },
  {
   "cell_type": "code",
   "execution_count": 6,
   "metadata": {},
   "outputs": [],
   "source": [
    "# import sys\n",
    "\n",
    "# # Python 2/3 compatibility shim\n",
    "# if sys.hexversion < 0x3000000:\n",
    "#     rng = xrange\n",
    "#     inp = raw_input\n",
    "# else:\n",
    "#     rng = range\n",
    "#     inp = input\n",
    "\n",
    "# def getter_fn(datatype):\n",
    "#     if datatype == str:\n",
    "#         return inp\n",
    "#     else:\n",
    "#         def fn(prompt=''):\n",
    "#             while True:\n",
    "#                 try:\n",
    "#                     return datatype(inp(prompt))\n",
    "#                 except ValueError:\n",
    "#                     pass\n",
    "#         return fn\n",
    "\n",
    "# get_float = getter_fn(float)\n",
    "# get_int   = getter_fn(int)\n",
    "\n",
    "# def main():\n",
    "#     print(\"Retirement calculator!\")\n",
    "\n",
    "#     principal  = get_float(\"Initial investment amount? \")\n",
    "#     periods    = get_int  (\"How many years will you make an annual deposit? \")\n",
    "#     deposit    = get_float(\"Annual deposit amount? \")\n",
    "#     apr        = get_float(\"Annual interest rate (in percent)? \") / 100\n",
    "#     retirement = get_int  (\"Years until retirement? \")\n",
    "\n",
    "#     deposits    = [deposit] * periods\n",
    "#     no_deposits = [0.] * (retirement - periods)\n",
    "\n",
    "#     amount = principal\n",
    "#     amounts = []\n",
    "#     for yr, d in enumerate(deposits + no_deposits, 1):\n",
    "#         amount = (amount + d) * (1. + apr)\n",
    "#         amounts.append(amount)\n",
    "#         print('After {:>2d} year{} you have:   $ {:>10.2f}'.format(yr, 's,' if yr > 1 else ', ', amount))\n",
    "\n",
    "#     fig, ax = plt.subplots(figsize=(6, 6))\n",
    "#     ax.plot(amounts)\n",
    "#     #ax1.plot(deposits)    \n",
    "        \n",
    "# if __name__ == '__main__':\n",
    "#     main()"
   ]
  },
  {
   "cell_type": "code",
   "execution_count": 7,
   "metadata": {},
   "outputs": [
    {
     "data": {
      "image/png": "[encoded data removed]",
      "text/plain": [
       "<Figure size 432x288 with 1 Axes>"
      ]
     },
     "metadata": {},
     "output_type": "display_data"
    }
   ],
   "source": [
    "principal, periods, deposit, apr, retirement  = (0, 10, 80000, (8/100), 10)\n",
    "width = 0.35\n",
    "deposits    = [deposit] * periods\n",
    "no_deposits = [0.] * (retirement - periods)\n",
    "\n",
    "amount = principal\n",
    "amounts = []\n",
    "for yr, d in enumerate(deposits + no_deposits, 1):\n",
    "    amount = (amount + d) * (1. + apr)\n",
    "    amounts.append(amount)    \n",
    "\n",
    "blue_patch = mpatches.Patch(color='blue', label='80K no interest')\n",
    "green_patch = mpatches.Patch(color='green', label='8% APR')\n",
    "\n",
    "df = pd.DataFrame({'deposits' : deposits, 'amounts' : amounts})\n",
    "df['cumsumNoAPR'] = df['deposits'].cumsum(axis = 0)\n",
    "\n",
    "df[['deposits',]].plot(kind='bar', width = width, color='blue')\n",
    "df['amounts'].plot(kind='line', color='green')\n",
    "df['cumsumNoAPR'].plot(kind='line', color='blue')\n",
    "\n",
    "plt.title('80K deposit/per annum. No interest vs 8% APR')\n",
    "plt.xlabel('Years')\n",
    "plt.ylabel('Wonga ($)')\n",
    "plt.legend(handles=[blue_patch, green_patch])\n",
    "\n",
    "plt.text(7.5, 800000, f'{int(sum(deposits))}')\n",
    "plt.text(7.5, 1200000, f'{int(amounts[-1])}')\n",
    "plt.show()     "
   ]
  },
  {
   "cell_type": "code",
   "execution_count": 56,
   "metadata": {},
   "outputs": [],
   "source": [
    "Interest_Rate = 0.0425\n",
    "Years = 28\n",
    "Payments_Year = 12\n",
    "Principal = 390000\n",
    "Addl_Principal = 1500\n",
    "start_date = (date(2018,9,1))"
   ]
  },
  {
   "cell_type": "code",
   "execution_count": 57,
   "metadata": {},
   "outputs": [
    {
     "name": "stdout",
     "output_type": "stream",
     "text": [
      "-1987.014127530304\n"
     ]
    }
   ],
   "source": [
    "pmt = np.pmt(Interest_Rate/Payments_Year, Years*Payments_Year, Principal)\n",
    "print(pmt)"
   ]
  },
  {
   "cell_type": "code",
   "execution_count": 58,
   "metadata": {},
   "outputs": [
    {
     "name": "stdout",
     "output_type": "stream",
     "text": [
      "-1381.25 -605.764127530304\n"
     ]
    }
   ],
   "source": [
    "# But, how much of this is interest and how much is principal?\n",
    "# Period to calculate (1 month)\n",
    "per = 1\n",
    "\n",
    "# Calculate the interest\n",
    "ipmt = np.ipmt(Interest_Rate/Payments_Year, per, Years*Payments_Year, Principal)\n",
    "\n",
    "# Calculate the principal\n",
    "ppmt = np.ppmt(Interest_Rate/Payments_Year, per, Years*Payments_Year, Principal)\n",
    "\n",
    "print(ipmt, ppmt)"
   ]
  },
  {
   "cell_type": "code",
   "execution_count": 59,
   "metadata": {},
   "outputs": [
    {
     "name": "stdout",
     "output_type": "stream",
     "text": [
      "-576.8609580838271 -1410.153169446477\n"
     ]
    }
   ],
   "source": [
    "per = 240 # Period to calculate\n",
    "# Calculate the interest\n",
    "ipmt = np.ipmt(Interest_Rate/Payments_Year, per, Years*Payments_Year, Principal)\n",
    "\n",
    "# Calculate the principal\n",
    "ppmt = np.ppmt(Interest_Rate/Payments_Year, per, Years*Payments_Year, Principal)\n",
    "print(ipmt, ppmt)"
   ]
  },
  {
   "cell_type": "code",
   "execution_count": 60,
   "metadata": {},
   "outputs": [],
   "source": [
    "rng = pd.date_range(start_date, periods=Years * Payments_Year, freq='MS')\n",
    "rng.name = \"Payment_Date\""
   ]
  },
  {
   "cell_type": "code",
   "execution_count": 61,
   "metadata": {},
   "outputs": [],
   "source": [
    "df = pd.DataFrame(index=rng,columns=['Payment', 'Principal', 'Interest', 'Addl_Principal', 'Balance'], dtype='float')\n",
    "df.reset_index(inplace=True)\n",
    "df.index += 1\n",
    "df.index.name = \"Period\"\n",
    "df[\"Payment\"] = np.pmt(Interest_Rate/Payments_Year, Years*Payments_Year, Principal)\n",
    "df[\"Principal\"] = np.ppmt(Interest_Rate/Payments_Year, df.index, Years*Payments_Year, Principal)\n",
    "df[\"Interest\"] = np.ipmt(Interest_Rate/Payments_Year, df.index, Years*Payments_Year, Principal)\n",
    "# Convert to a negative value in order to keep the signs the same\n",
    "df[\"Addl_Principal\"] = -Addl_Principal\n",
    "df = df.round(2)"
   ]
  },
  {
   "cell_type": "code",
   "execution_count": 62,
   "metadata": {},
   "outputs": [],
   "source": [
    "df[\"Balance\"] = 0\n",
    "df.loc[1, \"Balance\"] = Principal + df.loc[1, \"Principal\"] + df.loc[1, \"Addl_Principal\"]"
   ]
  },
  {
   "cell_type": "code",
   "execution_count": 63,
   "metadata": {},
   "outputs": [],
   "source": [
    "for i in range(2, len(df)+1):\n",
    "    # Get the previous balance as well as current payments\n",
    "    prev_balance = df.loc[i-1, 'Balance']\n",
    "    principal = df.loc[i, 'Principal']\n",
    "    addl_principal = df.loc[i, \"Addl_Principal\"]\n",
    "\n",
    "    # If there is no balance, then do 0 out the principal and interest\n",
    "    if prev_balance == 0:\n",
    "        df.loc[i, ['Payment', 'Principal', 'Interest', 'Balance', 'Addl_Principal']] = 0\n",
    "        continue\n",
    "\n",
    "    # If this payment does not pay it off, reduce the balance\n",
    "    if abs(principal + addl_principal) <= prev_balance:\n",
    "        df.loc[i, 'Balance'] = principal + prev_balance + addl_principal\n",
    "\n",
    "    # If it does pay it off, zero out the balance and adjust the final payment\n",
    "    else:\n",
    "        # Just adjust the principal down\n",
    "        if prev_balance <= abs(principal):\n",
    "            principal = -prev_balance\n",
    "            addl_principal = 0\n",
    "        else:\n",
    "            # addl_principal = (prev_balance - abs(principal_payment))\n",
    "            addl_principal = (prev_balance - abs(principal))\n",
    "        df.loc[i, 'Balance'] = 0\n",
    "        df.loc[i, 'Principal'] = principal\n",
    "        df.loc[i, 'Addl_Principal'] = addl_principal\n",
    "        df.loc[i, \"Payment\"] = principal +  df.loc[i, \"Interest\"]\n",
    "\n",
    "df = df.round(2)"
   ]
  },
  {
   "cell_type": "code",
   "execution_count": 64,
   "metadata": {},
   "outputs": [
    {
     "data": {
      "text/html": [
       "<div>\n",
       "<style scoped>\n",
       "    .dataframe tbody tr th:only-of-type {\n",
       "        vertical-align: middle;\n",
       "    }\n",
       "\n",
       "    .dataframe tbody tr th {\n",
       "        vertical-align: top;\n",
       "    }\n",
       "\n",
       "    .dataframe thead th {\n",
       "        text-align: right;\n",
       "    }\n",
       "</style>\n",
       "<table border=\"1\" class=\"dataframe\">\n",
       "  <thead>\n",
       "    <tr style=\"text-align: right;\">\n",
       "      <th></th>\n",
       "      <th>Payment_Date</th>\n",
       "      <th>Payment</th>\n",
       "      <th>Principal</th>\n",
       "      <th>Interest</th>\n",
       "      <th>Addl_Principal</th>\n",
       "      <th>Balance</th>\n",
       "    </tr>\n",
       "    <tr>\n",
       "      <th>Period</th>\n",
       "      <th></th>\n",
       "      <th></th>\n",
       "      <th></th>\n",
       "      <th></th>\n",
       "      <th></th>\n",
       "      <th></th>\n",
       "    </tr>\n",
       "  </thead>\n",
       "  <tbody>\n",
       "    <tr>\n",
       "      <th>1</th>\n",
       "      <td>2018-09-01</td>\n",
       "      <td>-1987.01</td>\n",
       "      <td>-605.76</td>\n",
       "      <td>-1381.25</td>\n",
       "      <td>-1500.0</td>\n",
       "      <td>387894.24</td>\n",
       "    </tr>\n",
       "    <tr>\n",
       "      <th>2</th>\n",
       "      <td>2018-10-01</td>\n",
       "      <td>-1987.01</td>\n",
       "      <td>-607.91</td>\n",
       "      <td>-1379.10</td>\n",
       "      <td>-1500.0</td>\n",
       "      <td>385786.33</td>\n",
       "    </tr>\n",
       "    <tr>\n",
       "      <th>3</th>\n",
       "      <td>2018-11-01</td>\n",
       "      <td>-1987.01</td>\n",
       "      <td>-610.06</td>\n",
       "      <td>-1376.95</td>\n",
       "      <td>-1500.0</td>\n",
       "      <td>383676.27</td>\n",
       "    </tr>\n",
       "    <tr>\n",
       "      <th>4</th>\n",
       "      <td>2018-12-01</td>\n",
       "      <td>-1987.01</td>\n",
       "      <td>-612.22</td>\n",
       "      <td>-1374.79</td>\n",
       "      <td>-1500.0</td>\n",
       "      <td>381564.05</td>\n",
       "    </tr>\n",
       "    <tr>\n",
       "      <th>5</th>\n",
       "      <td>2019-01-01</td>\n",
       "      <td>-1987.01</td>\n",
       "      <td>-614.39</td>\n",
       "      <td>-1372.62</td>\n",
       "      <td>-1500.0</td>\n",
       "      <td>379449.66</td>\n",
       "    </tr>\n",
       "  </tbody>\n",
       "</table>\n",
       "</div>"
      ],
      "text/plain": [
       "       Payment_Date  Payment  Principal  Interest  Addl_Principal    Balance\n",
       "Period                                                                      \n",
       "1        2018-09-01 -1987.01    -605.76  -1381.25         -1500.0  387894.24\n",
       "2        2018-10-01 -1987.01    -607.91  -1379.10         -1500.0  385786.33\n",
       "3        2018-11-01 -1987.01    -610.06  -1376.95         -1500.0  383676.27\n",
       "4        2018-12-01 -1987.01    -612.22  -1374.79         -1500.0  381564.05\n",
       "5        2019-01-01 -1987.01    -614.39  -1372.62         -1500.0  379449.66"
      ]
     },
     "execution_count": 64,
     "metadata": {},
     "output_type": "execute_result"
    }
   ],
   "source": [
    "df.head()"
   ]
  },
  {
   "cell_type": "code",
   "execution_count": 65,
   "metadata": {},
   "outputs": [
    {
     "name": "stdout",
     "output_type": "stream",
     "text": [
      "[-1987.01412753]\n"
     ]
    }
   ],
   "source": [
    "import numpy as np\n",
    "from scipy.optimize import fsolve\n",
    "\n",
    "fv = 0\n",
    "pv = 390000\n",
    "rate = 0.0425 / 12\n",
    "nper = 28 * 12\n",
    "\n",
    "def f(pmt):\n",
    "  return fv + pv*(1 + rate)**nper + pmt*(1 + rate*0) / rate*((1 + rate)**nper - 1)\n",
    "\n",
    "pmt_amt = fsolve(f, [100], xtol=0.000001)\n",
    "print(pmt_amt)"
   ]
  },
  {
   "cell_type": "code",
   "execution_count": null,
   "metadata": {},
   "outputs": [],
   "source": []
  },
  {
   "cell_type": "code",
   "execution_count": null,
   "metadata": {},
   "outputs": [],
   "source": []
  },
  {
   "cell_type": "code",
   "execution_count": null,
   "metadata": {},
   "outputs": [],
   "source": []
  },
  {
   "cell_type": "code",
   "execution_count": null,
   "metadata": {},
   "outputs": [],
   "source": [
    "longCove_apr = 3.875\n",
    "premium_isurance/year = 3551\n",
    "county_tax = 14783.59\n",
    "water_tax = 3515"
   ]
  }
 ],
 "metadata": {
  "kernelspec": {
   "display_name": "Python 3",
   "language": "python",
   "name": "python3"
  },
  "language_info": {
   "codemirror_mode": {
    "name": "ipython",
    "version": 3
   },
   "file_extension": ".py",
   "mimetype": "text/x-python",
   "name": "python",
   "nbconvert_exporter": "python",
   "pygments_lexer": "ipython3",
   "version": "3.6.2"
  }
 },
 "nbformat": 4,
 "nbformat_minor": 2
}
