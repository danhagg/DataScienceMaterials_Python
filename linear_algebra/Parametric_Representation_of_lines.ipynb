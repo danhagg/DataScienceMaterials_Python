{
 "cells": [
  {
   "cell_type": "code",
   "execution_count": 75,
   "metadata": {},
   "outputs": [],
   "source": [
    "import numpy as np\n",
    "import scipy as sp\n",
    "import pandas as pd\n",
    "%matplotlib inline\n",
    "import matplotlib.pyplot as plt"
   ]
  },
  {
   "cell_type": "code",
   "execution_count": 76,
   "metadata": {},
   "outputs": [],
   "source": [
    "def plot_vec_origin(vecs):\n",
    "        \"\"\"Plots all vectors set to origin\"\"\"\n",
    "        # Get min/max x/y values for all vectors.     \n",
    "        x_min = min(vecs[:,0] - 1)\n",
    "        x_max = max(vecs[:,0] + 1)\n",
    "        y_min = min(vecs[:,1] - 1)\n",
    "        y_max = max(vecs[:,1]+ 1)\n",
    "        x_range = (x_min, x_max)\n",
    "        y_range = (y_min, y_max)\n",
    "        \n",
    "\n",
    "        fig, ax = plt.subplots(figsize=(6, 6))\n",
    "        # Set the axes through the origin\n",
    "        for spine in ['left', 'bottom']:\n",
    "            ax.spines[spine].set_position('zero')\n",
    "        for spine in ['right', 'top']:\n",
    "            ax.spines[spine].set_color('none')\n",
    "\n",
    "        ax.set(xlim=x_range, ylim=y_range)\n",
    "        ax.grid()    \n",
    "        for v in vecs:\n",
    "            ax.annotate('', xy=v, xytext=(0, 0),\n",
    "                        arrowprops=dict(facecolor='red',\n",
    "                        shrink=0,\n",
    "                        alpha=0.7,\n",
    "                        width=0.5))\n",
    "            ax.text(1.1 * v[0], 1.1 * v[1], str(v))\n",
    "        plt.show()"
   ]
  },
  {
   "cell_type": "code",
   "execution_count": 77,
   "metadata": {},
   "outputs": [],
   "source": [
    "class danVectorXY(object):\n",
    "    \"\"\"The class takes in vectors and runs various methods \n",
    "    for analysis and plotting\"\"\"\n",
    "    \n",
    "    def __init__(self, vector):\n",
    "        self.vector = vector \n",
    "        self.x = vector[0]\n",
    "        self.y = vector[1]\n",
    "\n",
    "    def __len__(self):\n",
    "        return len(self.vector)\n",
    "    \n",
    "    def __getitem__(self, position):\n",
    "        return self.vector[position]"
   ]
  },
  {
   "cell_type": "code",
   "execution_count": 78,
   "metadata": {},
   "outputs": [
    {
     "name": "stdout",
     "output_type": "stream",
     "text": [
      "2\n",
      "1\n",
      "2\n",
      "1\n"
     ]
    }
   ],
   "source": [
    "vec = danVectorXY((2,1))\n",
    "print(len(vec))\n",
    "print(vec[1])\n",
    "print(vec.x)\n",
    "print(vec.y)"
   ]
  },
  {
   "cell_type": "code",
   "execution_count": null,
   "metadata": {
    "scrolled": false
   },
   "outputs": [],
   "source": []
  },
  {
   "cell_type": "code",
   "execution_count": 84,
   "metadata": {},
   "outputs": [],
   "source": [
    "v = np.array((2,1))"
   ]
  },
  {
   "cell_type": "code",
   "execution_count": 85,
   "metadata": {},
   "outputs": [
    {
     "ename": "IndexError",
     "evalue": "too many indices for array",
     "output_type": "error",
     "traceback": [
      "\u001b[0;31m---------------------------------------------------------------------------\u001b[0m",
      "\u001b[0;31mIndexError\u001b[0m                                Traceback (most recent call last)",
      "\u001b[0;32m<ipython-input-85-c76e0bade129>\u001b[0m in \u001b[0;36m<module>\u001b[0;34m()\u001b[0m\n\u001b[0;32m----> 1\u001b[0;31m \u001b[0mplot_vec_origin\u001b[0m\u001b[0;34m(\u001b[0m\u001b[0mv\u001b[0m\u001b[0;34m)\u001b[0m\u001b[0;34m\u001b[0m\u001b[0m\n\u001b[0m",
      "\u001b[0;32m<ipython-input-76-8dc606f9106d>\u001b[0m in \u001b[0;36mplot_vec_origin\u001b[0;34m(vecs)\u001b[0m\n\u001b[1;32m      2\u001b[0m         \u001b[0;34m\"\"\"Plots all vectors set to origin\"\"\"\u001b[0m\u001b[0;34m\u001b[0m\u001b[0m\n\u001b[1;32m      3\u001b[0m         \u001b[0;31m# Get min/max x/y values for all vectors.\u001b[0m\u001b[0;34m\u001b[0m\u001b[0;34m\u001b[0m\u001b[0m\n\u001b[0;32m----> 4\u001b[0;31m         \u001b[0mx_min\u001b[0m \u001b[0;34m=\u001b[0m \u001b[0mmin\u001b[0m\u001b[0;34m(\u001b[0m\u001b[0mvecs\u001b[0m\u001b[0;34m[\u001b[0m\u001b[0;34m:\u001b[0m\u001b[0;34m,\u001b[0m\u001b[0;36m0\u001b[0m\u001b[0;34m]\u001b[0m \u001b[0;34m-\u001b[0m \u001b[0;36m1\u001b[0m\u001b[0;34m)\u001b[0m\u001b[0;34m\u001b[0m\u001b[0m\n\u001b[0m\u001b[1;32m      5\u001b[0m         \u001b[0mx_max\u001b[0m \u001b[0;34m=\u001b[0m \u001b[0mmax\u001b[0m\u001b[0;34m(\u001b[0m\u001b[0mvecs\u001b[0m\u001b[0;34m[\u001b[0m\u001b[0;34m:\u001b[0m\u001b[0;34m,\u001b[0m\u001b[0;36m0\u001b[0m\u001b[0;34m]\u001b[0m \u001b[0;34m+\u001b[0m \u001b[0;36m1\u001b[0m\u001b[0;34m)\u001b[0m\u001b[0;34m\u001b[0m\u001b[0m\n\u001b[1;32m      6\u001b[0m         \u001b[0my_min\u001b[0m \u001b[0;34m=\u001b[0m \u001b[0mmin\u001b[0m\u001b[0;34m(\u001b[0m\u001b[0mvecs\u001b[0m\u001b[0;34m[\u001b[0m\u001b[0;34m:\u001b[0m\u001b[0;34m,\u001b[0m\u001b[0;36m1\u001b[0m\u001b[0;34m]\u001b[0m \u001b[0;34m-\u001b[0m \u001b[0;36m1\u001b[0m\u001b[0;34m)\u001b[0m\u001b[0;34m\u001b[0m\u001b[0m\n",
      "\u001b[0;31mIndexError\u001b[0m: too many indices for array"
     ]
    }
   ],
   "source": [
    "plot_vec_origin(v)"
   ]
  },
  {
   "cell_type": "code",
   "execution_count": null,
   "metadata": {},
   "outputs": [],
   "source": []
  },
  {
   "cell_type": "code",
   "execution_count": 86,
   "metadata": {},
   "outputs": [],
   "source": [
    "class Vectors(object):\n",
    "    \"\"\"The class takes in vectors and runs various methods \n",
    "    for analysis and plotting\"\"\"\n",
    "    \n",
    "    def plotVectorsOrigin(vecs):\n",
    "        \"\"\"Plots all vectors set to origin\"\"\"\n",
    "        # Get min/max x/y values for all vectors.     \n",
    "        x_min = min(vecs[:,0] - 1)\n",
    "        x_max = max(vecs[:,0] + 1)\n",
    "        y_min = min(vecs[:,1] - 1)\n",
    "        y_max = max(vecs[:,1]+ 1)\n",
    "        x_range = (x_min, x_max)\n",
    "        y_range = (y_min, y_max)\n",
    "        \n",
    "\n",
    "        fig, ax = plt.subplots(figsize=(6, 6))\n",
    "        # Set the axes through the origin\n",
    "        for spine in ['left', 'bottom']:\n",
    "            ax.spines[spine].set_position('zero')\n",
    "        for spine in ['right', 'top']:\n",
    "            ax.spines[spine].set_color('none')\n",
    "\n",
    "        ax.set(xlim=x_range, ylim=y_range)\n",
    "        ax.grid()    \n",
    "        for v in vecs:\n",
    "            ax.annotate('', xy=v, xytext=(0, 0),\n",
    "                        arrowprops=dict(facecolor='red',\n",
    "                        shrink=0,\n",
    "                        alpha=0.7,\n",
    "                        width=0.5))\n",
    "            ax.text(1.1 * v[0], 1.1 * v[1], str(v))\n",
    "        plt.show()"
   ]
  },
  {
   "cell_type": "code",
   "execution_count": 90,
   "metadata": {},
   "outputs": [
    {
     "ename": "TypeError",
     "evalue": "tuple indices must be integers or slices, not tuple",
     "output_type": "error",
     "traceback": [
      "\u001b[0;31m---------------------------------------------------------------------------\u001b[0m",
      "\u001b[0;31mTypeError\u001b[0m                                 Traceback (most recent call last)",
      "\u001b[0;32m<ipython-input-90-59f68ff14540>\u001b[0m in \u001b[0;36m<module>\u001b[0;34m()\u001b[0m\n\u001b[1;32m      1\u001b[0m \u001b[0mvecs\u001b[0m \u001b[0;34m=\u001b[0m \u001b[0;34m(\u001b[0m\u001b[0;36m2\u001b[0m\u001b[0;34m,\u001b[0m\u001b[0;36m1\u001b[0m\u001b[0;34m)\u001b[0m\u001b[0;34m\u001b[0m\u001b[0m\n\u001b[0;32m----> 2\u001b[0;31m \u001b[0mVectors\u001b[0m\u001b[0;34m.\u001b[0m\u001b[0mplotVectorsOrigin\u001b[0m\u001b[0;34m(\u001b[0m\u001b[0;34m(\u001b[0m\u001b[0mvecs\u001b[0m\u001b[0;34m)\u001b[0m\u001b[0;34m)\u001b[0m\u001b[0;34m\u001b[0m\u001b[0m\n\u001b[0m",
      "\u001b[0;32m<ipython-input-86-764c009abf7d>\u001b[0m in \u001b[0;36mplotVectorsOrigin\u001b[0;34m(vecs)\u001b[0m\n\u001b[1;32m      6\u001b[0m         \u001b[0;34m\"\"\"Plots all vectors set to origin\"\"\"\u001b[0m\u001b[0;34m\u001b[0m\u001b[0m\n\u001b[1;32m      7\u001b[0m         \u001b[0;31m# Get min/max x/y values for all vectors.\u001b[0m\u001b[0;34m\u001b[0m\u001b[0;34m\u001b[0m\u001b[0m\n\u001b[0;32m----> 8\u001b[0;31m         \u001b[0mx_min\u001b[0m \u001b[0;34m=\u001b[0m \u001b[0mmin\u001b[0m\u001b[0;34m(\u001b[0m\u001b[0mvecs\u001b[0m\u001b[0;34m[\u001b[0m\u001b[0;34m:\u001b[0m\u001b[0;34m,\u001b[0m\u001b[0;36m0\u001b[0m\u001b[0;34m]\u001b[0m \u001b[0;34m-\u001b[0m \u001b[0;36m1\u001b[0m\u001b[0;34m)\u001b[0m\u001b[0;34m\u001b[0m\u001b[0m\n\u001b[0m\u001b[1;32m      9\u001b[0m         \u001b[0mx_max\u001b[0m \u001b[0;34m=\u001b[0m \u001b[0mmax\u001b[0m\u001b[0;34m(\u001b[0m\u001b[0mvecs\u001b[0m\u001b[0;34m[\u001b[0m\u001b[0;34m:\u001b[0m\u001b[0;34m,\u001b[0m\u001b[0;36m0\u001b[0m\u001b[0;34m]\u001b[0m \u001b[0;34m+\u001b[0m \u001b[0;36m1\u001b[0m\u001b[0;34m)\u001b[0m\u001b[0;34m\u001b[0m\u001b[0m\n\u001b[1;32m     10\u001b[0m         \u001b[0my_min\u001b[0m \u001b[0;34m=\u001b[0m \u001b[0mmin\u001b[0m\u001b[0;34m(\u001b[0m\u001b[0mvecs\u001b[0m\u001b[0;34m[\u001b[0m\u001b[0;34m:\u001b[0m\u001b[0;34m,\u001b[0m\u001b[0;36m1\u001b[0m\u001b[0;34m]\u001b[0m \u001b[0;34m-\u001b[0m \u001b[0;36m1\u001b[0m\u001b[0;34m)\u001b[0m\u001b[0;34m\u001b[0m\u001b[0m\n",
      "\u001b[0;31mTypeError\u001b[0m: tuple indices must be integers or slices, not tuple"
     ]
    }
   ],
   "source": [
    "vecs = (2,1)\n",
    "Vectors.plotVectorsOrigin((vecs))"
   ]
  },
  {
   "cell_type": "code",
   "execution_count": null,
   "metadata": {},
   "outputs": [],
   "source": []
  }
 ],
 "metadata": {
  "kernelspec": {
   "display_name": "Python 3",
   "language": "python",
   "name": "python3"
  },
  "language_info": {
   "codemirror_mode": {
    "name": "ipython",
    "version": 3
   },
   "file_extension": ".py",
   "mimetype": "text/x-python",
   "name": "python",
   "nbconvert_exporter": "python",
   "pygments_lexer": "ipython3",
   "version": "3.6.2"
  }
 },
 "nbformat": 4,
 "nbformat_minor": 2
}
